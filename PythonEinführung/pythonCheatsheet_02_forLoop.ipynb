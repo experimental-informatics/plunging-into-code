{
 "cells": [
  {
   "cell_type": "markdown",
   "metadata": {},
   "source": [
    "# Python Cheatsheet - Loop\n",
    "\n",
    "For loop is a sturcture to ask computer to do the same thing multiple times."
   ]
  },
  {
   "cell_type": "markdown",
   "metadata": {},
   "source": [
    "## For Loop "
   ]
  },
  {
   "cell_type": "code",
   "execution_count": null,
   "metadata": {},
   "outputs": [],
   "source": [
    "# one-dimension for-loop\n",
    "for i in range(5):\n",
    "    print(i)"
   ]
  },
  {
   "cell_type": "code",
   "execution_count": null,
   "metadata": {},
   "outputs": [],
   "source": [
    "# nest for-loop\n",
    "for i in range(5):\n",
    "    print()\n",
    "    for i in range(i,5):\n",
    "        print('*',end='')"
   ]
  },
  {
   "cell_type": "markdown",
   "metadata": {},
   "source": [
    "## List and for loop\n",
    "\n",
    "### traverse through list without specifing index"
   ]
  },
  {
   "cell_type": "code",
   "execution_count": 3,
   "metadata": {},
   "outputs": [],
   "source": [
    "alphabets = ['a','b','c','d','e','f','g','h']\n",
    "\n",
    "for a in alphabets:\n",
    "    print(a,end=' ')"
   ]
  },
  {
   "cell_type": "markdown",
   "metadata": {},
   "source": [
    "### traverse through list with index"
   ]
  },
  {
   "cell_type": "code",
   "execution_count": 4,
   "metadata": {},
   "outputs": [
    {
     "name": "stdout",
     "output_type": "stream",
     "text": [
      "a b c d e f g h "
     ]
    }
   ],
   "source": [
    "alphabets = ['a','b','c','d','e','f','g','h']\n",
    "\n",
    "for a in range(len(alphabets)):\n",
    "    print(alphabets[a],end=' ')"
   ]
  },
  {
   "cell_type": "code",
   "execution_count": 5,
   "metadata": {},
   "outputs": [
    {
     "name": "stdout",
     "output_type": "stream",
     "text": [
      "0 : a\n",
      "1 : b\n",
      "2 : c\n",
      "3 : d\n",
      "4 : e\n",
      "5 : f\n",
      "6 : g\n"
     ]
    }
   ],
   "source": [
    "#using enumerate function for accessing both index and element\n",
    "\n",
    "alphabets = ['a','b','c','d','e','f','g']\n",
    "\n",
    "for index, element in enumerate(alphabets):\n",
    "    print(index, ':', element)"
   ]
  },
  {
   "cell_type": "markdown",
   "metadata": {},
   "source": [
    "## Sorting \n",
    "\n",
    "Selection Sort and Bubble Sort as a example for traversing through list"
   ]
  },
  {
   "cell_type": "code",
   "execution_count": 8,
   "metadata": {},
   "outputs": [
    {
     "name": "stdout",
     "output_type": "stream",
     "text": [
      "Sorted array is: \n",
      "10\n",
      "11\n",
      "12\n",
      "18\n",
      "22\n",
      "25\n",
      "30\n",
      "64\n"
     ]
    }
   ],
   "source": [
    "# Python program for Selection Sort\n",
    "l = [10, 30, 18, 64, 25, 12, 22, 11]\n",
    "  \n",
    "# Traverse through all array elements\n",
    "for i in range(len(l)):\n",
    "      \n",
    "    # Find the minimum element in remaining \n",
    "    # unsorted array\n",
    "    min_idx = i\n",
    "    for j in range(i+1, len(l)):\n",
    "        if l[min_idx] > l[j]:\n",
    "            min_idx = j\n",
    "              \n",
    "    # Swap the found minimum element with \n",
    "    # the first element        \n",
    "    l[i], l[min_idx] = l[min_idx], l[i]\n",
    "\n",
    "print (\"Sorted array is: \")\n",
    "for i in range(len(l)):\n",
    "    print(l[i])"
   ]
  },
  {
   "cell_type": "code",
   "execution_count": 10,
   "metadata": {},
   "outputs": [
    {
     "name": "stdout",
     "output_type": "stream",
     "text": [
      "Sorted array is: \n",
      "10\n",
      "11\n",
      "12\n",
      "18\n",
      "22\n",
      "25\n",
      "30\n",
      "64\n"
     ]
    }
   ],
   "source": [
    "# Python program for Bubble Sort\n",
    "\n",
    "l = [10, 30, 18, 64, 25, 12, 22, 11]\n",
    "n = len(l)\n",
    "\n",
    "# Traverse through all array elements\n",
    "for i in range(n-1):\n",
    "# range(n) also work but outer loop will repeat one time more than needed.\n",
    "\n",
    "    # Last i elements are already in place\n",
    "    for j in range(0, n-i-1):\n",
    "\n",
    "        # traverse the array from 0 to n-i-1\n",
    "        # Swap if the element found is greater than the next element\n",
    "        if l[j] > l[j + 1] :\n",
    "            l[j], l[j + 1] = l[j + 1], l[j]\n",
    "\n",
    "print (\"Sorted array is: \")\n",
    "for i in range(len(l)):\n",
    "    print (l[i])"
   ]
  },
  {
   "cell_type": "code",
   "execution_count": null,
   "metadata": {},
   "outputs": [],
   "source": []
  }
 ],
 "metadata": {
  "kernelspec": {
   "display_name": "Python 3",
   "language": "python",
   "name": "python3"
  },
  "language_info": {
   "codemirror_mode": {
    "name": "ipython",
    "version": 3
   },
   "file_extension": ".py",
   "mimetype": "text/x-python",
   "name": "python",
   "nbconvert_exporter": "python",
   "pygments_lexer": "ipython3",
   "version": "3.8.3"
  }
 },
 "nbformat": 4,
 "nbformat_minor": 4
}
