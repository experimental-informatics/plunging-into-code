{
 "cells": [
  {
   "cell_type": "markdown",
   "metadata": {},
   "source": [
    "# Markov Chain in Class/Object\n",
    "\n",
    "We learn how to work with markov chain, it will be easier to use if we make it into a class.\n",
    "Here is an example of coding markov chain as object."
   ]
  },
  {
   "cell_type": "code",
   "execution_count": 1,
   "metadata": {},
   "outputs": [],
   "source": [
    "class Markov():\n",
    "    '''Generate a text with a simple one-word based markov chain.'''\n",
    "    def __init__(self, txt):\n",
    "        self.txt = txt # Holds the text corpora"
   ]
  },
  {
   "cell_type": "code",
   "execution_count": 2,
   "metadata": {},
   "outputs": [],
   "source": [
    "txt = '''The quick brown fox jumps over the lazy dog. The lazy programmer jumps over the fire fox.'''\n",
    "\n",
    "m = Markov(txt)"
   ]
  },
  {
   "cell_type": "code",
   "execution_count": 3,
   "metadata": {},
   "outputs": [
    {
     "name": "stdout",
     "output_type": "stream",
     "text": [
      "The quick brown fox jumps over the lazy dog. The lazy programmer jumps over the fire fox.\n"
     ]
    }
   ],
   "source": [
    "# Check that the text is available:\n",
    "print(m.txt)"
   ]
  },
  {
   "cell_type": "markdown",
   "metadata": {},
   "source": [
    "## Define a Markov Class"
   ]
  },
  {
   "cell_type": "code",
   "execution_count": 4,
   "metadata": {},
   "outputs": [],
   "source": [
    "class Markov():\n",
    "    '''Generate a text with a simple one-word based markov chain.'''\n",
    "    def __init__(self, txt):\n",
    "        self.txt = txt # Holds the text corpora.\n",
    "        self.dictionary = {} # Holds the dictionary for probabilities."
   ]
  },
  {
   "cell_type": "markdown",
   "metadata": {},
   "source": [
    "Then we need a method to create that dictionary based on the text corpora:"
   ]
  },
  {
   "cell_type": "markdown",
   "metadata": {},
   "source": [
    "## Adding function create dictioanry"
   ]
  },
  {
   "cell_type": "code",
   "execution_count": 5,
   "metadata": {},
   "outputs": [],
   "source": [
    "class Markov():\n",
    "    '''Generate a text with a simple one-token word markov chain.'''\n",
    "    def __init__(self, txt, order):\n",
    "        self.txt = txt\n",
    "        self.dictionary = {} # Holds the dictionary for probabilities.\n",
    "        self.order = order\n",
    "\n",
    "    def create_dictionary(self):\n",
    "        # Split txt into a list:\n",
    "        self.txt = self.txt.lower().split()\n",
    "        \n",
    "        for i in range(len(self.txt) -self.order):\n",
    "            key = tuple(self.txt[i:i+self.order])\n",
    "            value = self.txt[i+self.order]\n",
    "            # Check if the key exists.\n",
    "            if key in self.dictionary.keys():\n",
    "                # If yes, append the value.\n",
    "                self.dictionary[key].append(value)\n",
    "            # Else insert a new key + value.\n",
    "            else:\n",
    "                self.dictionary[key] = [value]\n",
    "\n",
    "        ''' Calculate the probability. '''\n",
    "\n",
    "        for key, value in self.dictionary.items():\n",
    "            length = len(self.dictionary[key])\n",
    "            temporary_dic = {}\n",
    "            for char in value:\n",
    "                if(char not in temporary_dic.keys()):\n",
    "                    temporary_dic[char] = 1\n",
    "                else:\n",
    "                    temporary_dic[char] += 1   \n",
    "\n",
    "            for _keys,amount in temporary_dic.items():\n",
    "                temporary_dic[_keys] = (amount/length)\n",
    "            self.dictionary[key] = temporary_dic\n"
   ]
  },
  {
   "cell_type": "code",
   "execution_count": 6,
   "metadata": {},
   "outputs": [
    {
     "data": {
      "text/plain": [
       "{('the', 'quick'): {'brown': 1.0},\n",
       " ('quick', 'brown'): {'fox': 1.0},\n",
       " ('brown', 'fox'): {'jumps': 1.0},\n",
       " ('fox', 'jumps'): {'over': 1.0},\n",
       " ('jumps', 'over'): {'the': 1.0},\n",
       " ('over', 'the'): {'lazy': 0.5, 'fire': 0.5},\n",
       " ('the', 'lazy'): {'dog.': 0.5, 'programmer': 0.5},\n",
       " ('lazy', 'dog.'): {'the': 1.0},\n",
       " ('dog.', 'the'): {'lazy': 1.0},\n",
       " ('lazy', 'programmer'): {'jumps': 1.0},\n",
       " ('programmer', 'jumps'): {'over': 1.0},\n",
       " ('the', 'fire'): {'fox.': 1.0}}"
      ]
     },
     "execution_count": 6,
     "metadata": {},
     "output_type": "execute_result"
    }
   ],
   "source": [
    "m = Markov(txt,2)\n",
    "m.create_dictionary()\n",
    "m.dictionary"
   ]
  },
  {
   "cell_type": "markdown",
   "metadata": {},
   "source": [
    "## Adding Generation\n",
    "\n",
    "The last part is a method to generate a sentence:"
   ]
  },
  {
   "cell_type": "code",
   "execution_count": 7,
   "metadata": {},
   "outputs": [],
   "source": [
    "class Markov():\n",
    "    '''Generate a text with a simple one-word based markov chain.'''\n",
    "        \n",
    "    def __init__(self, txt, order):    \n",
    "        self.txt = txt # Holds the text corpora.\n",
    "        self.dictionary = {} # Holds the dictionary for probabilities.\n",
    "        self.order = order\n",
    "\n",
    "    def create_dictionary(self):\n",
    "        self.txt = self.txt.lower().split()\n",
    "        \n",
    "        for i in range(len(self.txt) -self.order):\n",
    "            key = tuple(self.txt[i:i+self.order])\n",
    "            value = self.txt[i+self.order]\n",
    "            # Check if the key exists.\n",
    "            if key in self.dictionary.keys():\n",
    "                # If yes, append the value.\n",
    "                self.dictionary[key].append(value)\n",
    "            # Else insert a new key + value.\n",
    "            else:\n",
    "                self.dictionary[key] = [value]\n",
    "\n",
    "        ''' Calculate the probability. '''\n",
    "\n",
    "        for key, value in self.dictionary.items():\n",
    "            length = len(self.dictionary[key])\n",
    "            temporary_dic = {}\n",
    "            for char in value:\n",
    "                if(char not in temporary_dic.keys()):\n",
    "                    temporary_dic[char] = 1\n",
    "                else:\n",
    "                    temporary_dic[char] += 1   \n",
    "\n",
    "            for _keys,amount in temporary_dic.items():\n",
    "                temporary_dic[_keys] = (amount/length)\n",
    "            self.dictionary[key] = temporary_dic\n",
    "                \n",
    "    def generate_token(self, initial_key):\n",
    "        import random\n",
    "        key = initial_key[-self.order:]\n",
    "         \n",
    "        \n",
    "        # Check if key is included in the vocabulary.\n",
    "        if not key in  self.dictionary.keys():\n",
    "            # If not, pick a random key from the vocabulary.\n",
    "            key = random.choice(list( self.dictionary.keys()))\n",
    "\n",
    "        # Otherwise we'll use the key given as argument.\n",
    "\n",
    "        # Return the next token for the key.\n",
    "        # The [0] in the end is because the random choice based on probability returns a list.\n",
    "        initial_key += ' '\n",
    "        initial_key += random.choices(list( self.dictionary[key].keys()), weights= self.dictionary[key].values())[0]\n",
    "       \n",
    "        return initial_key\n"
   ]
  },
  {
   "cell_type": "markdown",
   "metadata": {},
   "source": [
    "## Usage "
   ]
  },
  {
   "cell_type": "code",
   "execution_count": 8,
   "metadata": {},
   "outputs": [
    {
     "name": "stdout",
     "output_type": "stream",
     "text": [
      "The jumps\n"
     ]
    }
   ],
   "source": [
    "m = Markov(txt,2)\n",
    "m.create_dictionary()\n",
    "new_text = m.generate_token('The')\n",
    "print(new_text)"
   ]
  },
  {
   "cell_type": "code",
   "execution_count": 9,
   "metadata": {},
   "outputs": [
    {
     "name": "stdout",
     "output_type": "stream",
     "text": [
      "The jumps\n",
      "The jumps jumps\n",
      "The jumps jumps fox.\n",
      "The jumps jumps fox. lazy\n",
      "The jumps jumps fox. lazy fire\n",
      "The jumps jumps fox. lazy fire dog.\n",
      "The jumps jumps fox. lazy fire dog. dog.\n",
      "The jumps jumps fox. lazy fire dog. dog. brown\n",
      "The jumps jumps fox. lazy fire dog. dog. brown lazy\n",
      "The jumps jumps fox. lazy fire dog. dog. brown lazy lazy\n"
     ]
    }
   ],
   "source": [
    "initial_text = 'The'\n",
    "for i in range(10):\n",
    "    initial_text = m.generate_token(initial_text)\n",
    "    print(initial_text)"
   ]
  }
 ],
 "metadata": {
  "kernelspec": {
   "display_name": "Python 3",
   "language": "python",
   "name": "python3"
  },
  "language_info": {
   "codemirror_mode": {
    "name": "ipython",
    "version": 3
   },
   "file_extension": ".py",
   "mimetype": "text/x-python",
   "name": "python",
   "nbconvert_exporter": "python",
   "pygments_lexer": "ipython3",
   "version": "3.8.3"
  }
 },
 "nbformat": 4,
 "nbformat_minor": 5
}
