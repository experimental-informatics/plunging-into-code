{
 "cells": [
  {
   "cell_type": "markdown",
   "metadata": {},
   "source": [
    "# Data cleaning and Parsing\n",
    "\n",
    "Data cleaning and parsing are crucial parts of working with text. Here are some basic methods of cleaning and parsing text into data. \n",
    "Our goal here is to start with a long String text or txt file, tokenizing it, and in the end, turn them into a list of words. "
   ]
  },
  {
   "cell_type": "markdown",
   "metadata": {},
   "source": [
    "## String as data\n",
    "\n",
    "String is a data type in python for a long list of Characters. "
   ]
  },
  {
   "cell_type": "code",
   "execution_count": 1,
   "metadata": {},
   "outputs": [
    {
     "name": "stdout",
     "output_type": "stream",
     "text": [
      "\n",
      "Rose is a rose is a rose is a rose\n",
      "\n"
     ]
    }
   ],
   "source": [
    "text = '''\n",
    "Rose is a rose is a rose is a rose\n",
    "'''\n",
    "\n",
    "print(text)"
   ]
  },
  {
   "cell_type": "markdown",
   "metadata": {},
   "source": [
    "## .txt file as data\n",
    "\n",
    "As we previously learnt, it is also possible to read a txt file, and turn them into String for futher usage."
   ]
  },
  {
   "cell_type": "code",
   "execution_count": 2,
   "metadata": {},
   "outputs": [
    {
     "name": "stdout",
     "output_type": "stream",
     "text": [
      "Rose is a rose is a rose is a rose\n"
     ]
    }
   ],
   "source": [
    "with open('data/rose.txt', 'r') as f:\n",
    "    text = f.read()\n",
    "    \n",
    "print(text)"
   ]
  },
  {
   "cell_type": "markdown",
   "metadata": {},
   "source": [
    "## .pdf file as data\n",
    "\n",
    "reading pdf as text require some external support.\n",
    "\n",
    "We are using pdfplumber \n",
    "https://pypi.org/project/pdfplumber/"
   ]
  },
  {
   "cell_type": "code",
   "execution_count": 3,
   "metadata": {},
   "outputs": [
    {
     "name": "stdout",
     "output_type": "stream",
     "text": [
      "Requirement already satisfied: pdfplumber in /Users/AprilCoffee/opt/anaconda3/lib/python3.8/site-packages (0.6.0)\n",
      "Requirement already satisfied: Pillow>=8.4 in /Users/AprilCoffee/opt/anaconda3/lib/python3.8/site-packages (from pdfplumber) (9.0.1)\n",
      "Requirement already satisfied: Wand>=0.6.7 in /Users/AprilCoffee/opt/anaconda3/lib/python3.8/site-packages (from pdfplumber) (0.6.7)\n",
      "Requirement already satisfied: pdfminer.six==20211012 in /Users/AprilCoffee/opt/anaconda3/lib/python3.8/site-packages (from pdfplumber) (20211012)\n",
      "Requirement already satisfied: chardet in /Users/AprilCoffee/opt/anaconda3/lib/python3.8/site-packages (from pdfminer.six==20211012->pdfplumber) (3.0.4)\n",
      "Requirement already satisfied: cryptography in /Users/AprilCoffee/opt/anaconda3/lib/python3.8/site-packages (from pdfminer.six==20211012->pdfplumber) (2.9.2)\n",
      "Requirement already satisfied: cffi!=1.11.3,>=1.8 in /Users/AprilCoffee/opt/anaconda3/lib/python3.8/site-packages (from cryptography->pdfminer.six==20211012->pdfplumber) (1.14.0)\n",
      "Requirement already satisfied: six>=1.4.1 in /Users/AprilCoffee/opt/anaconda3/lib/python3.8/site-packages (from cryptography->pdfminer.six==20211012->pdfplumber) (1.15.0)\n",
      "Requirement already satisfied: pycparser in /Users/AprilCoffee/opt/anaconda3/lib/python3.8/site-packages (from cffi!=1.11.3,>=1.8->cryptography->pdfminer.six==20211012->pdfplumber) (2.20)\n",
      "\u001b[33mWARNING: You are using pip version 21.1.2; however, version 22.0.2 is available.\n",
      "You should consider upgrading via the '/Users/AprilCoffee/opt/anaconda3/bin/python -m pip install --upgrade pip' command.\u001b[0m\n"
     ]
    }
   ],
   "source": [
    "!pip install pdfplumber"
   ]
  },
  {
   "cell_type": "code",
   "execution_count": 4,
   "metadata": {},
   "outputs": [
    {
     "name": "stdout",
     "output_type": "stream",
     "text": [
      "81\n",
      "Lehrveranstaltungen im  \n",
      "Sommersemester 2022\n"
     ]
    }
   ],
   "source": [
    "# importing required modules\n",
    "import pdfplumber\n",
    " \n",
    "with pdfplumber.open(\"data/vorlesungsverzeichnis.pdf\") as pdf:\n",
    "    print(len(pdf.pages))\n",
    "    \n",
    "    first_page = pdf.pages[0]\n",
    "    print(first_page.extract_text())\n"
   ]
  },
  {
   "cell_type": "code",
   "execution_count": 5,
   "metadata": {},
   "outputs": [],
   "source": [
    "# get all data from every page\n",
    "\n",
    "full_text = [] \n",
    "\n",
    "with pdfplumber.open(\"data/vorlesungsverzeichnis.pdf\") as pdf:\n",
    "    for page_num in range(len(pdf.pages)):\n",
    "        page = pdf.pages[page_num]\n",
    "        \n",
    "        txt = page.extract_text()\n",
    "        full_text.append(txt)"
   ]
  },
  {
   "cell_type": "code",
   "execution_count": 6,
   "metadata": {},
   "outputs": [
    {
     "name": "stdout",
     "output_type": "stream",
     "text": [
      "Lehrveranstaltungen im  \n",
      "Sommersemester 2022 Grundlagenseminar\n",
      "Prof.PeterFriedrichStephan,JacquelineHen\n",
      "Beginnlosigkeit\n",
      "GrundlagenseminarMultimedialeGestaltung\n",
      "Kompaktseminar\n",
      "Semester SoSe22\n",
      "Zielgruppe Grundstudium\n",
      "Ort&Termine\n",
      "Mo,30.05.2022-Fr,03.06.2022\n",
      "Filzengraben8-10,exMediaLab4.03\n",
      "WirerkundengrundlegendePhänomenederanalogenunddigitalenGestaltung.DazugehörenFarbe\n",
      "undLicht,FormundRaum,RhythmusundStruktur,DynamikundInteraktion.\n",
      "Diese Bereiche werden aus den Perspektiven von Kunst, Wissenschaft\n"
     ]
    }
   ],
   "source": [
    "# transform full_text from list to string with space between each page\n",
    "full_text = ' '.join(full_text)\n",
    "print(full_text[:500])"
   ]
  },
  {
   "cell_type": "markdown",
   "metadata": {},
   "source": [
    "## Data Cleaning\n"
   ]
  },
  {
   "cell_type": "code",
   "execution_count": 7,
   "metadata": {},
   "outputs": [
    {
     "name": "stdout",
     "output_type": "stream",
     "text": [
      "roese is a rose is  rose\n"
     ]
    }
   ],
   "source": [
    "import string\n",
    "\n",
    "text = 'Röse is a Rose, is 1 rose!?'\n",
    "\n",
    "text=text.replace(\"\\n\",\" \").replace(\"ä\",\"ae\").replace(\"Ä\",\"Ae\").replace(\"ö\",\"oe\").replace(\"Ö\",\"oe\").replace(\"ü\",\"ue\").replace(\"Ü\",\"ue\")\n",
    "\n",
    "text = text.lower()\n",
    "\n",
    "remove_digits = str.maketrans('', '', '0123456789!')\n",
    "text = text.translate(remove_digits)\n",
    "\n",
    "text = text.translate(str.maketrans('','',string.punctuation))\n",
    "\n",
    "\n",
    "print(text)"
   ]
  },
  {
   "cell_type": "markdown",
   "metadata": {},
   "source": [
    "# Merge and split text\n",
    "\n",
    "## Spliting text"
   ]
  },
  {
   "cell_type": "code",
   "execution_count": 8,
   "metadata": {},
   "outputs": [
    {
     "name": "stdout",
     "output_type": "stream",
     "text": [
      "['rose is  ', ' a rose is a rose']\n",
      "['rose', 'is', '', ',', 'a', 'rose', 'is', 'a', 'rose']\n",
      "['rose', 'is', ',', 'a', 'rose', 'is', 'a', 'rose']\n"
     ]
    }
   ],
   "source": [
    "text = 'rose is  , a rose is a rose'\n",
    "\n",
    "#split by comma\n",
    "token = text.split(',')\n",
    "print(token)\n",
    "\n",
    "#split by blank\n",
    "token = text.split(' ')\n",
    "print(token)\n",
    "\n",
    "corpus = [x for x in token if x]\n",
    "print(corpus)"
   ]
  },
  {
   "cell_type": "markdown",
   "metadata": {},
   "source": [
    "## Merging text\n",
    "\n",
    "join is the function to combine `list` of words into `string`"
   ]
  },
  {
   "cell_type": "code",
   "execution_count": 9,
   "metadata": {},
   "outputs": [
    {
     "name": "stdout",
     "output_type": "stream",
     "text": [
      "roseisaroseisarose\n",
      "rose, is, a, rose, is, a, rose\n",
      "rose is a rose is a rose\n"
     ]
    }
   ],
   "source": [
    "words = ['rose', 'is', 'a', 'rose', 'is', 'a', 'rose']\n",
    "\n",
    "#join without null\n",
    "print(''.join(words))\n",
    "\n",
    "#join with comma\n",
    "print(', '.join(words))\n",
    "\n",
    "#join with space\n",
    "print(' '.join(words))\n"
   ]
  },
  {
   "cell_type": "code",
   "execution_count": null,
   "metadata": {},
   "outputs": [],
   "source": []
  }
 ],
 "metadata": {
  "kernelspec": {
   "display_name": "Python 3",
   "language": "python",
   "name": "python3"
  },
  "language_info": {
   "codemirror_mode": {
    "name": "ipython",
    "version": 3
   },
   "file_extension": ".py",
   "mimetype": "text/x-python",
   "name": "python",
   "nbconvert_exporter": "python",
   "pygments_lexer": "ipython3",
   "version": "3.8.3"
  }
 },
 "nbformat": 4,
 "nbformat_minor": 4
}
