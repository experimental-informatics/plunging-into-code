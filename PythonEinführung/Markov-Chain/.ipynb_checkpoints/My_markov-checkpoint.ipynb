{
 "cells": [
  {
   "cell_type": "markdown",
   "id": "dfc072b4",
   "metadata": {},
   "source": [
    "# Markov Models\n",
    "\n"
   ]
  },
  {
   "cell_type": "code",
   "execution_count": 82,
   "id": "03d54d83-ca3d-4afe-8971-61944d7deabb",
   "metadata": {},
   "outputs": [
    {
     "name": "stdout",
     "output_type": "stream",
     "text": [
      "Requirement already satisfied: markovify in /Users/georgtrogemann/opt/anaconda3/lib/python3.9/site-packages (0.9.3)\n",
      "Requirement already satisfied: unidecode in /Users/georgtrogemann/opt/anaconda3/lib/python3.9/site-packages (from markovify) (1.2.0)\n"
     ]
    }
   ],
   "source": [
    "# look at https://github.com/jsvine/markovify\n",
    "!pip install markovify"
   ]
  },
  {
   "cell_type": "code",
   "execution_count": 92,
   "id": "eb235ec1-ce2f-4736-afb3-90691321e700",
   "metadata": {},
   "outputs": [
    {
     "name": "stdout",
     "output_type": "stream",
     "text": [
      "Bei allem, was wir wissenschaftlich über die physikalische Realität nach unseren Zielen verändern.\n",
      "\n",
      "Was wir aber eigentlich anstreben, ist nicht nur die ganze Selbstbezüglichkeit des Unterfangens, sondern auch die besondere Rolle der Sprache.\n",
      "\n",
      "Eine auf ein Ziel hin gedacht und hergestellt, d. h., der Möglichkeitsraum hat selbst eine zeitliche Struktur.\n",
      "\n",
      "Technik ist als ganzheitliches zentrales Vermögen des Menschen und einen enormen Zuwachs an Verantwortung.\n",
      "\n",
      "Diese Wirklichkeit des Stofflichen lässt sich nicht begreifen, indem wir sie in Fächer aufteilen.\n",
      "\n",
      "Eines der größten Missverständnisse im Bezug auf die Steigerung der gesellschaftlichen Produktivkräfte eine unglaubliche Erfolgsgeschichte.\n",
      "\n",
      "Selbst wenn wir den positiven Fall annehmen, dass wir uns dessen immer bewusst wären.\n",
      "\n",
      "Bei allem, was wir wissenschaftlich über die physikalische Realität nach unseren Zielen verändern.\n",
      "\n",
      "Diese Wirklichkeit des Stofflichen lässt sich nicht begreifen, indem wir sie in Fächer aufteilen.\n",
      "\n",
      "Der Wettbewerb zwingt nicht nur Unternehmen dazu, ständig effizienter zu werden und sie im Sinne der Anarchie, wo immer möglich, zu unterlaufen.\n",
      "\n"
     ]
    }
   ],
   "source": [
    "import markovify\n",
    "\n",
    "with open(\"data/Reenacting_Poiesis.txt\") as f:\n",
    "    text = f.read()\n",
    "    \n",
    "text_model = markovify.Text(text, state_size=3)\n",
    "\n",
    "for i in range(10):\n",
    "    print(text_model.make_sentence(max_overlap_ratio=0.7, tries=100), end='\\n\\n')\n"
   ]
  },
  {
   "cell_type": "code",
   "execution_count": 94,
   "id": "badf3b5e-a2c5-4357-a5c1-677d7f0e7e60",
   "metadata": {},
   "outputs": [
    {
     "name": "stdout",
     "output_type": "stream",
     "text": [
      "\u001b[91m\u001b[1mSome long sentences:\u001b[0m\n",
      "Da Technik gleichzeitig alle Bereiche des Lebens durchdringt und nicht nur die Vorstellung die Wirklichkeit überschreitet, sondern auch die besondere Rolle der Sprache.\n",
      "\n",
      "Da Technik gleichzeitig alle Bereiche des Lebens durchdringt und nicht nur über das allgemeine Geschehen, sondern auch die besondere Rolle der Sprache.\n",
      "\n",
      "Was wir aber eigentlich anstreben, ist nicht nur die Vorstellung die Wirklichkeit überschreitet, sondern auch die besondere Rolle der Sprache.\n",
      "\n",
      "Im Hinblick auf das Eingangszitat von Burroughs stellt sich unter anderem die Frage, ob die Zukunft insgesamt vorhersagbarer wird, je mehr technische Apparate und Maschinen wären nur dazu da, uns ein einfacheres Leben zu gewährleisten.\n",
      "\n",
      "Da Technik gleichzeitig alle Bereiche des Lebens durchdringt und nicht nur über das allgemeine Geschehen, sondern auch die besondere Rolle der Sprache.\n",
      "\n",
      "None\n",
      "\n",
      "Da Technik gleichzeitig alle Bereiche des Lebens durchdringt und nicht nur über das allgemeine Geschehen, sondern auch die besondere Rolle der Sprache.\n",
      "\n",
      "\u001b[91m\u001b[1mSome short sentences:\u001b[0m\n",
      "Selbst wenn wir den positiven Fall annehmen, dass wir uns dessen immer bewusst wären.\n",
      "\n",
      "Sie versuchen nicht nur die Vorstellung die Wirklichkeit überschreitet, sondern auch die besondere Rolle der Sprache.\n",
      "\n",
      "Diese Wirklichkeit des Stofflichen lässt sich nicht begreifen, indem wir sie in Fächer aufteilen.\n",
      "\n"
     ]
    }
   ],
   "source": [
    "# Methoden: \n",
    "#    markovify.Text\n",
    "#    make_sentence(tries=10)\n",
    "#    make_short_sentence(280, tries=100) /make a short sentence not longer then 280 characters\n",
    "\n",
    "# The default rule is to suppress any generated sentences that exactly overlaps the original text \n",
    "# by 15 words or 70% of the sentence's word count.\n",
    "# With max_overlap_ratio, max_overlap_total you can overwrite the standard values.\n",
    "\n",
    "\n",
    "class bold_color:\n",
    "   PURPLE = '\\033[95m'\n",
    "   CYAN = '\\033[96m'\n",
    "   DARKCYAN = '\\033[36m'\n",
    "   BLUE = '\\033[94m'\n",
    "   GREEN = '\\033[92m'\n",
    "   YELLOW = '\\033[93m'\n",
    "   RED = '\\033[91m'\n",
    "   BOLD = '\\033[1m'\n",
    "   UNDERLINE = '\\033[4m'\n",
    "   END = '\\033[0m'\n",
    "color = bold_color()\n",
    "\n",
    "\n",
    "# Get raw text as string.\n",
    "with open(\"data/Reenacting_Poiesis.txt\") as f:\n",
    "    text = f.read()\n",
    "\n",
    "# Build the model.\n",
    "text_model = markovify.Text(text, state_size=3)\n",
    "#text_model = markovify.Text(text)\n",
    "\n",
    "# Print five randomly-generated sentences\n",
    "print(color.RED + color.BOLD + 'Some long sentences:' + color.END)\n",
    "for i in range(7):\n",
    "    print(text_model.make_sentence(max_overlap_ratio=0.5, tries=1000), end='\\n\\n')\n",
    "\n",
    "# Print three randomly-generated sentences of no more than 280 characters\n",
    "print(color.RED + color.BOLD + 'Some short sentences:' + color.END)\n",
    "for i in range(3):\n",
    "    print(text_model.make_short_sentence(280, max_overlap_total=10, tries=100), end='\\n\\n')\n"
   ]
  },
  {
   "cell_type": "code",
   "execution_count": null,
   "id": "49daf4aa",
   "metadata": {},
   "outputs": [],
   "source": []
  },
  {
   "cell_type": "code",
   "execution_count": null,
   "id": "67352ad2-3be2-422c-823b-65e9818a7d72",
   "metadata": {},
   "outputs": [],
   "source": []
  }
 ],
 "metadata": {
  "kernelspec": {
   "display_name": "Python 3 (ipykernel)",
   "language": "python",
   "name": "python3"
  },
  "language_info": {
   "codemirror_mode": {
    "name": "ipython",
    "version": 3
   },
   "file_extension": ".py",
   "mimetype": "text/x-python",
   "name": "python",
   "nbconvert_exporter": "python",
   "pygments_lexer": "ipython3",
   "version": "3.9.7"
  }
 },
 "nbformat": 4,
 "nbformat_minor": 5
}
