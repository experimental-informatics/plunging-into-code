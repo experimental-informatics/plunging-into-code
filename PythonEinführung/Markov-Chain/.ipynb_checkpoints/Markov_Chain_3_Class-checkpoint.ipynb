{
 "cells": [
  {
   "cell_type": "markdown",
   "metadata": {},
   "source": [
    "# Markov Chain in Class/Object"
   ]
  },
  {
   "cell_type": "code",
   "execution_count": 1,
   "metadata": {},
   "outputs": [],
   "source": [
    "class Markov():\n",
    "    '''Generate a text with a simple one-word based markov chain.'''\n",
    "    def __init__(self, txt):\n",
    "        self.txt = txt # Holds the text corpora"
   ]
  },
  {
   "cell_type": "code",
   "execution_count": 2,
   "metadata": {},
   "outputs": [],
   "source": [
    "txt = '''The quick brown fox jumps over the lazy dog. The lazy programmer jumps over the fire fox.'''\n",
    "\n",
    "m = Markov(txt)"
   ]
  },
  {
   "cell_type": "code",
   "execution_count": 3,
   "metadata": {},
   "outputs": [
    {
     "name": "stdout",
     "output_type": "stream",
     "text": [
      "The quick brown fox jumps over the lazy dog. The lazy programmer jumps over the fire fox.\n"
     ]
    }
   ],
   "source": [
    "# Check that the text is available:\n",
    "print(m.txt)"
   ]
  },
  {
   "cell_type": "markdown",
   "metadata": {},
   "source": [
    "Next the class needs a dictionary to hold the probabilities. This results in a clean and organized program, because we don't have to deal with the dictionary outside of the functionality of the Markov chain.<br>\n",
    "The dictionary will be created internally, so we don't need to insert a parameter for that into `__init__`:"
   ]
  },
  {
   "cell_type": "code",
   "execution_count": 4,
   "metadata": {},
   "outputs": [],
   "source": [
    "class Markov():\n",
    "    '''Generate a text with a simple one-word based markov chain.'''\n",
    "    def __init__(self, txt):\n",
    "        self.txt = txt # Holds the text corpora.\n",
    "        self.dictionary = {} # Holds the dictionary for probabilities."
   ]
  },
  {
   "cell_type": "markdown",
   "metadata": {},
   "source": [
    "Then we need a method to create that dictionary based on the text corpora:"
   ]
  },
  {
   "cell_type": "code",
   "execution_count": 5,
   "metadata": {},
   "outputs": [],
   "source": [
    "class Markov():\n",
    "    '''Generate a text with a simple one-token word markov chain.'''\n",
    "    def __init__(self, txt, txt_lower=False):\n",
    "        self.txt = txt.lower() if txt_lower else txt # Holds the text corpora.\n",
    "        self.dictionary = {} # Holds the dictionary for probabilities.\n",
    "        \n",
    "    def create_dictionary(self):\n",
    "        # Split txt into a list:\n",
    "        txt = self.txt.lower().split()\n",
    "        \n",
    "        self.dictionary = {}\n",
    "        \n",
    "        for i in range(len(txt)-1):\n",
    "            \n",
    "            # The current token (i) and the next tokens (i+n) are key.\n",
    "            key = txt[i]\n",
    "\n",
    "            # The next token after the last token of key is the corresponding value.\n",
    "            value = txt[i+1]\n",
    "            \n",
    "            # First check if the key exists in the dictionary already.\n",
    "            if key in self.dictionary.keys():\n",
    "                # If yes, append the value to the list.\n",
    "                self.dictionary[key].append(value)\n",
    "\n",
    "            # Else insert the new key + the value in form of a [list].\n",
    "            else:\n",
    "                self.dictionary[key] = [value]"
   ]
  },
  {
   "cell_type": "code",
   "execution_count": 6,
   "metadata": {},
   "outputs": [
    {
     "data": {
      "text/plain": [
       "{'the': ['quick', 'lazy', 'lazy', 'fire'],\n",
       " 'quick': ['brown'],\n",
       " 'brown': ['fox'],\n",
       " 'fox': ['jumps'],\n",
       " 'jumps': ['over', 'over'],\n",
       " 'over': ['the', 'the'],\n",
       " 'lazy': ['dog.', 'programmer'],\n",
       " 'dog.': ['the'],\n",
       " 'programmer': ['jumps'],\n",
       " 'fire': ['fox.']}"
      ]
     },
     "execution_count": 6,
     "metadata": {},
     "output_type": "execute_result"
    }
   ],
   "source": [
    "m = Markov(txt)\n",
    "m.create_dictionary()\n",
    "m.dictionary"
   ]
  },
  {
   "cell_type": "markdown",
   "metadata": {},
   "source": [
    "The last part is a method to generate a sentence:"
   ]
  },
  {
   "cell_type": "code",
   "execution_count": 7,
   "metadata": {},
   "outputs": [],
   "source": [
    "class Markov():\n",
    "    '''Generate a text with a simple one-word based markov chain.'''\n",
    "        \n",
    "    def __init__(self, txt, txt_lower=False):    \n",
    "        self.txt = txt.lower() if txt_lower else txt # Holds the text corpora.\n",
    "        self.dictionary = {} # Holds the dictionary for probabilities.\n",
    "        \n",
    "    def create_dictionary(self):\n",
    "        # Split txt into a list:\n",
    "        txt = self.txt.lower().split()\n",
    "        \n",
    "        self.dictionary = {}\n",
    "        \n",
    "        for i in range(len(txt)-1):\n",
    "            \n",
    "            # The current token (i) and the next tokens (i+n) are key.\n",
    "            key = txt[i]\n",
    "\n",
    "            # The next token after the last token of key is the corresponding value.\n",
    "            value = txt[i+1]\n",
    "            \n",
    "            # First check if the key exists in the dictionary already.\n",
    "            if key in self.dictionary.keys():\n",
    "                # If yes, append the value to the list.\n",
    "                self.dictionary[key].append(value)\n",
    "\n",
    "            # Else insert the new key + the value in form of a [list].\n",
    "            else:\n",
    "                self.dictionary[key] = [value]\n",
    "                \n",
    "    def generate_sentence(self, inp_):\n",
    "        import random\n",
    "        # Transform input into a list\n",
    "        gen_txt = inp_.split()\n",
    "        \n",
    "        while not gen_txt[-1].endswith('.'):\n",
    "            new_token = random.choice(self.dictionary[gen_txt[-1].lower()])\n",
    "            gen_txt.append(new_token)\n",
    "            \n",
    "        # Return generated text as string:\n",
    "        return ' '.join(gen_txt)"
   ]
  },
  {
   "cell_type": "code",
   "execution_count": 8,
   "metadata": {},
   "outputs": [
    {
     "name": "stdout",
     "output_type": "stream",
     "text": [
      "The lazy programmer jumps over the quick brown fox jumps over the fire fox.\n"
     ]
    }
   ],
   "source": [
    "m = Markov(txt)\n",
    "m.create_dictionary()\n",
    "new_text = m.generate_sentence('The')\n",
    "print(new_text)"
   ]
  },
  {
   "cell_type": "code",
   "execution_count": 9,
   "metadata": {},
   "outputs": [
    {
     "name": "stdout",
     "output_type": "stream",
     "text": [
      "The fire fox.\n",
      "The lazy programmer jumps over the lazy dog.\n",
      "The quick brown fox jumps over the lazy programmer jumps over the fire fox.\n"
     ]
    }
   ],
   "source": [
    "for i in range(3):\n",
    "    print(m.generate_sentence('The'))"
   ]
  }
 ],
 "metadata": {
  "kernelspec": {
   "display_name": "Python 3",
   "language": "python",
   "name": "python3"
  },
  "language_info": {
   "codemirror_mode": {
    "name": "ipython",
    "version": 3
   },
   "file_extension": ".py",
   "mimetype": "text/x-python",
   "name": "python",
   "nbconvert_exporter": "python",
   "pygments_lexer": "ipython3",
   "version": "3.8.3"
  }
 },
 "nbformat": 4,
 "nbformat_minor": 5
}
