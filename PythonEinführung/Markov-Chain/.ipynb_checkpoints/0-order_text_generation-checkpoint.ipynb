{
 "cells": [
  {
   "cell_type": "markdown",
   "metadata": {},
   "source": [
    "# 0-order text generation \n",
    "\n",
    "<br>\n",
    "This notebook shows how 0-order (Random) text generation works. "
   ]
  },
  {
   "cell_type": "code",
   "execution_count": 1,
   "metadata": {},
   "outputs": [],
   "source": [
    "import random"
   ]
  },
  {
   "cell_type": "markdown",
   "metadata": {},
   "source": [
    "[Random](https://docs.python.org/3/library/random.html) is a basic module from python, it implements pseudo-random number generators (RNG) for various distributions. As we learn from the lesson of [Loops](https://github.com/experimental-informatics/how-to-make-human-machine-readable/blob/master/00_General-introductions/python_loops_lists.ipynb). Numbers traverse from 0 to our desire limits. \n",
    "In the case of `randint(0,2)`, it generates randomly from integers 0 and 1.\n",
    "</br>\n",
    "Since computers are not capable of generating real random number. (The question could also be can human generate true random numbers?) There are multiple algorithm for random number generators. Check for more details on [Random](https://docs.python.org/3/library/random.html) "
   ]
  },
  {
   "cell_type": "code",
   "execution_count": 2,
   "metadata": {},
   "outputs": [
    {
     "data": {
      "text/plain": [
       "0"
      ]
     },
     "execution_count": 2,
     "metadata": {},
     "output_type": "execute_result"
    }
   ],
   "source": [
    "random.randint(0,2)"
   ]
  },
  {
   "cell_type": "code",
   "execution_count": 3,
   "metadata": {},
   "outputs": [
    {
     "data": {
      "text/plain": [
       "'one'"
      ]
     },
     "execution_count": 3,
     "metadata": {},
     "output_type": "execute_result"
    }
   ],
   "source": [
    "random.choice(['one','three',5,'seven','9'])"
   ]
  },
  {
   "cell_type": "markdown",
   "metadata": {},
   "source": [
    "It's also possible to choose a random element based on the given weights, we will get back to this afterwards."
   ]
  },
  {
   "cell_type": "code",
   "execution_count": 4,
   "metadata": {},
   "outputs": [
    {
     "data": {
      "text/plain": [
       "['cherry', 'cherry', 'cherry', 'cherry', 'cherry']"
      ]
     },
     "execution_count": 4,
     "metadata": {},
     "output_type": "execute_result"
    }
   ],
   "source": [
    "mylist = [\"apple\", \"banana\", \"cherry\"]\n",
    "\n",
    "random.choices(mylist, weights = [1, 1, 5], k = 5)"
   ]
  },
  {
   "cell_type": "markdown",
   "metadata": {},
   "source": [
    "### Task \n",
    "Is it possible to generate random numbers from 0 - 100 but only with odd numbers?(1,3,5,7,9)"
   ]
  },
  {
   "cell_type": "code",
   "execution_count": 5,
   "metadata": {},
   "outputs": [
    {
     "data": {
      "text/plain": [
       "0"
      ]
     },
     "execution_count": 5,
     "metadata": {},
     "output_type": "execute_result"
    }
   ],
   "source": [
    "random.randint(0,0)"
   ]
  },
  {
   "cell_type": "markdown",
   "metadata": {},
   "source": [
    "## Zero-Order text generation\n",
    "\n",
    "Every random character is choosen by the same probabilty. No text is used as a base.\n",
    "\n",
    "### Creating Vocabulary"
   ]
  },
  {
   "cell_type": "code",
   "execution_count": 6,
   "metadata": {},
   "outputs": [
    {
     "name": "stdout",
     "output_type": "stream",
     "text": [
      "['A', 'B', 'C', 'D', 'E', 'F', 'G', 'H', 'I', 'J', 'K', 'L', 'M', 'N', 'O', 'P', 'Q', 'R', 'S', 'T', 'U', 'V', 'W', 'X', 'Y', 'Z']\n"
     ]
    }
   ],
   "source": [
    "''' Create a list of all characters between A and Z. '''\n",
    "vocab = [chr(c) for c in range(ord('A'), ord('Z') + 1)]\n",
    "print(vocab)"
   ]
  },
  {
   "cell_type": "markdown",
   "metadata": {},
   "source": [
    "`ord()` is a function returns an integer representing the Unicode character. As opposed to `chr()` returns a character from it's integer.\n",
    "\n",
    "Below is an Ascii table.\n",
    "[<img src=\"images/ascii_table.png\" width=\"500x\"/>](image.png)\n"
   ]
  },
  {
   "cell_type": "code",
   "execution_count": 7,
   "metadata": {},
   "outputs": [
    {
     "name": "stdout",
     "output_type": "stream",
     "text": [
      "['A', 'B', 'C', 'D', 'E', 'F', 'G', 'H', 'I', 'J', 'K', 'L', 'M', 'N', 'O', 'P', 'Q', 'R', 'S', 'T', 'U', 'V', 'W', 'X', 'Y', 'Z', ',', '.', '!', '?', ' ']\n"
     ]
    }
   ],
   "source": [
    "''' Append punctuation and a space. '''\n",
    "for punct in [',', '.', '!', '?', ' ']:\n",
    "    vocab.append(punct)\n",
    "\n",
    "print(vocab)"
   ]
  },
  {
   "cell_type": "markdown",
   "metadata": {},
   "source": [
    "### Pick a random token from the vocabulary"
   ]
  },
  {
   "cell_type": "code",
   "execution_count": 8,
   "metadata": {},
   "outputs": [
    {
     "name": "stdout",
     "output_type": "stream",
     "text": [
      "24\n"
     ]
    },
    {
     "data": {
      "text/plain": [
       "'Y'"
      ]
     },
     "execution_count": 8,
     "metadata": {},
     "output_type": "execute_result"
    }
   ],
   "source": [
    "index = random.randint(0, len(vocab) -1)\n",
    "print(index)\n",
    "vocab[index]"
   ]
  },
  {
   "cell_type": "markdown",
   "metadata": {},
   "source": [
    "### Zero-Order text generation\n",
    "\n",
    "Generate Multiple tokens from vocabulary"
   ]
  },
  {
   "cell_type": "code",
   "execution_count": 9,
   "metadata": {},
   "outputs": [
    {
     "name": "stdout",
     "output_type": "stream",
     "text": [
      " IYVC,UEDVMRFNS.WM?FF,RKBCGNLNT.OFEJY!YZEL?CDTSXWPQ.QBX!CKUH\n"
     ]
    }
   ],
   "source": [
    "generated_text = '' # Variable to store our generated text.\n",
    "\n",
    "for i in range(60):\n",
    "    # Get a random index.\n",
    "    index = random.randint(0, len(vocab) - 1)\n",
    "    \n",
    "    # Get the corresponding token.\n",
    "    token = vocab[index]\n",
    "    \n",
    "    # Append it to our generated text.\n",
    "    generated_text += token\n",
    "\n",
    "# Print the generated text after the loop has ended.\n",
    "print(generated_text)"
   ]
  }
 ],
 "metadata": {
  "kernelspec": {
   "display_name": "Python 3",
   "language": "python",
   "name": "python3"
  },
  "language_info": {
   "codemirror_mode": {
    "name": "ipython",
    "version": 3
   },
   "file_extension": ".py",
   "mimetype": "text/x-python",
   "name": "python",
   "nbconvert_exporter": "python",
   "pygments_lexer": "ipython3",
   "version": "3.8.3"
  }
 },
 "nbformat": 4,
 "nbformat_minor": 4
}
