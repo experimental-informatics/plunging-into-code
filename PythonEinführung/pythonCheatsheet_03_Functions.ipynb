{
 "cells": [
  {
   "cell_type": "markdown",
   "metadata": {},
   "source": [
    "# Python Cheatsheet - Functions\n",
    "\n",
    "`function` is, in mathematics, an expression, rule, or law that defines a relationship between one variable (the independent variable) and another variable (the dependent variable). For example `𝑓(𝑥)= 𝑥+2`, with the input x, the out put will be x+2.\n",
    "\n",
    "The same sturcture is used in programming language, in which the functions execute a pile of code after an input and returns something as results (output)."
   ]
  },
  {
   "cell_type": "markdown",
   "metadata": {},
   "source": [
    "## Build-in functions\n",
    "\n",
    "Built-in functions are the functions that are native in python, we have already used a lot of them already. For example `print(\"hello world!\")` is a built-in function, with one input and no output."
   ]
  },
  {
   "cell_type": "code",
   "execution_count": 1,
   "metadata": {},
   "outputs": [
    {
     "name": "stdout",
     "output_type": "stream",
     "text": [
      "hello world!\n"
     ]
    }
   ],
   "source": [
    "print(\"hello world!\")"
   ]
  },
  {
   "cell_type": "markdown",
   "metadata": {},
   "source": [
    "abs is also a built-in function, which output a absolute number as output."
   ]
  },
  {
   "cell_type": "code",
   "execution_count": 2,
   "metadata": {},
   "outputs": [
    {
     "name": "stdout",
     "output_type": "stream",
     "text": [
      "1\n"
     ]
    }
   ],
   "source": [
    "print(abs(-1))"
   ]
  },
  {
   "cell_type": "markdown",
   "metadata": {},
   "source": [
    "## Defining a function\n",
    "\n",
    "The keyword to **define** a function is `def`, followed by a name of our choice, which we will then use to call the function.\n",
    "\n",
    "<div class=\"alert alert-box alert-success\">\n",
    "    The name of our function is followed by two `()`. It defines the area for input data. With variable names of our choice we can access this data inside the function.\n",
    "</div>\n",
    "\n",
    "One of the main reason we define a function, is that some code might need to go multiple times, and it is simple to have a functions that tidy the code without needing to copy-paste everything."
   ]
  },
  {
   "cell_type": "code",
   "execution_count": 39,
   "metadata": {},
   "outputs": [],
   "source": [
    "#define a simple function with no input and return one output\n",
    "\n",
    "import random \n",
    "\n",
    "def rollDice():\n",
    "    return random.randint(1,6)"
   ]
  },
  {
   "cell_type": "code",
   "execution_count": 38,
   "metadata": {},
   "outputs": [
    {
     "data": {
      "text/plain": [
       "1"
      ]
     },
     "execution_count": 38,
     "metadata": {},
     "output_type": "execute_result"
    }
   ],
   "source": [
    "rollDice()"
   ]
  },
  {
   "cell_type": "code",
   "execution_count": 19,
   "metadata": {},
   "outputs": [],
   "source": [
    "# define a function which returns the larger number\n",
    "def findLargerNumber(num1,num2):\n",
    "    if(num1 > num2):\n",
    "        return num1\n",
    "    elif(num2 > num1):\n",
    "        return num2\n",
    "    else:\n",
    "        return num1"
   ]
  },
  {
   "cell_type": "code",
   "execution_count": 6,
   "metadata": {},
   "outputs": [
    {
     "data": {
      "text/plain": [
       "5"
      ]
     },
     "execution_count": 6,
     "metadata": {},
     "output_type": "execute_result"
    }
   ],
   "source": [
    "findLargerNumber(5,3)"
   ]
  },
  {
   "cell_type": "markdown",
   "metadata": {},
   "source": [
    "## Parameters and Arguments\n",
    "\n",
    "The variable defined in functions are called parameters, and the input we placed in is called "
   ]
  },
  {
   "cell_type": "code",
   "execution_count": 40,
   "metadata": {},
   "outputs": [
    {
     "name": "stdout",
     "output_type": "stream",
     "text": [
      "hi\n"
     ]
    }
   ],
   "source": [
    "def example(parameter):\n",
    "    print(parameter)\n",
    "\n",
    "argument = 'hi';\n",
    "example(argument);"
   ]
  },
  {
   "cell_type": "markdown",
   "metadata": {},
   "source": [
    "# Recursion\n",
    "\n",
    "Recursion is a classical algorithm, which a huge topic on its own and this is only a brief introduction. Functions can be **recursive** which means that they can call themselve from inside themselve.\n",
    "\n",
    "Basically it is calling a function inside of a function.\n",
    "\n",
    "Fractal or L-system are also one of the application of recursion.\n",
    "![l-system](https://seresk.com/assets/img/l_fractal.png)\n"
   ]
  },
  {
   "cell_type": "code",
   "execution_count": 45,
   "metadata": {},
   "outputs": [
    {
     "name": "stdout",
     "output_type": "stream",
     "text": [
      "1\n",
      "1\n",
      "2\n",
      "3\n",
      "5\n",
      "8\n",
      "13\n",
      "21\n",
      "34\n",
      "55\n"
     ]
    }
   ],
   "source": [
    "# Fibonacci sequence \n",
    "\n",
    "def Fibonacci(a):\n",
    "    if(a == 0 or a == 1):\n",
    "        return 1\n",
    "    return Fibonacci(a-1)+Fibonacci(a-2)\n",
    "\n",
    "\n",
    "for i in range(10):\n",
    "    print(Fibonacci(i))"
   ]
  }
 ],
 "metadata": {
  "kernelspec": {
   "display_name": "Python 3",
   "language": "python",
   "name": "python3"
  },
  "language_info": {
   "codemirror_mode": {
    "name": "ipython",
    "version": 3
   },
   "file_extension": ".py",
   "mimetype": "text/x-python",
   "name": "python",
   "nbconvert_exporter": "python",
   "pygments_lexer": "ipython3",
   "version": "3.8.3"
  }
 },
 "nbformat": 4,
 "nbformat_minor": 4
}
