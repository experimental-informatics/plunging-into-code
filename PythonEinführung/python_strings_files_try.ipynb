{
 "cells": [
  {
   "cell_type": "markdown",
   "metadata": {},
   "source": [
    "# Python: Strings, Files, Try & Except"
   ]
  },
  {
   "cell_type": "markdown",
   "metadata": {},
   "source": [
    "## Strings"
   ]
  },
  {
   "cell_type": "code",
   "execution_count": 50,
   "metadata": {},
   "outputs": [
    {
     "name": "stdout",
     "output_type": "stream",
     "text": [
      "57\n"
     ]
    }
   ],
   "source": [
    "a = '5'\n",
    "b = \"7\"\n",
    "print(a + b)"
   ]
  },
  {
   "cell_type": "markdown",
   "metadata": {},
   "source": [
    "Numbers inside apostrohes are strings, not numbers.<br>\n",
    "Using a `+` as operator between two strings will join them together. This is called **concatenation** of two strings. We can create a sequence of text through concatenating several strings."
   ]
  },
  {
   "cell_type": "code",
   "execution_count": 1,
   "metadata": {},
   "outputs": [
    {
     "name": "stdout",
     "output_type": "stream",
     "text": [
      "Rose\n",
      " is a rose\n",
      "Rose is a rose\n"
     ]
    }
   ],
   "source": [
    "seq1 = 'Rose'\n",
    "seq2 = ' ' + \"is\" + ''' a rose'''\n",
    "print(seq1)\n",
    "print(seq2)\n",
    "print(seq1 + seq2)"
   ]
  },
  {
   "cell_type": "markdown",
   "metadata": {},
   "source": [
    "We can't subtract or divide a string, but we can multiply it:"
   ]
  },
  {
   "cell_type": "code",
   "execution_count": 2,
   "metadata": {},
   "outputs": [
    {
     "name": "stdout",
     "output_type": "stream",
     "text": [
      "Rose is a rose is a rose\n"
     ]
    }
   ],
   "source": [
    "sequence = seq1 + 2 * seq2\n",
    "print(sequence)"
   ]
  },
  {
   "cell_type": "markdown",
   "metadata": {},
   "source": [
    "<div class=\"alert alert-info alert-success\">\n",
    "    Internally Python stores strings in form of arrays (something like a list), so in fact strings consist of sequences of single characters.<br>\n",
    "Thus we can access them likewise:\n",
    "    </div>"
   ]
  },
  {
   "cell_type": "code",
   "execution_count": 55,
   "metadata": {},
   "outputs": [
    {
     "name": "stdout",
     "output_type": "stream",
     "text": [
      "e\n"
     ]
    }
   ],
   "source": [
    "print(sequence[3])"
   ]
  },
  {
   "cell_type": "code",
   "execution_count": 57,
   "metadata": {},
   "outputs": [
    {
     "name": "stdout",
     "output_type": "stream",
     "text": [
      "rose \n"
     ]
    }
   ],
   "source": [
    "print(sequence[10:15])"
   ]
  },
  {
   "cell_type": "markdown",
   "metadata": {},
   "source": [
    "<div class=\"alert alert-box alert-info\">\n",
    "    Task: Write a for-loop, iterate over the sequence called <code>sequence</code> and print each character in a new line.\n",
    "</div>"
   ]
  },
  {
   "cell_type": "code",
   "execution_count": 3,
   "metadata": {
    "tags": [
     "hide-input"
    ]
   },
   "outputs": [
    {
     "name": "stdout",
     "output_type": "stream",
     "text": [
      "R\n",
      "o\n",
      "s\n",
      "e\n",
      " \n",
      "i\n",
      "s\n",
      " \n",
      "a\n",
      " \n",
      "r\n",
      "o\n",
      "s\n",
      "e\n",
      " \n",
      "i\n",
      "s\n",
      " \n",
      "a\n",
      " \n",
      "r\n",
      "o\n",
      "s\n",
      "e\n"
     ]
    }
   ],
   "source": [
    "for c in sequence:\n",
    "    print(c)"
   ]
  },
  {
   "cell_type": "code",
   "execution_count": null,
   "metadata": {},
   "outputs": [],
   "source": []
  },
  {
   "cell_type": "markdown",
   "metadata": {},
   "source": [
    "Same as with lists, we can get the length of a string with `len()`:"
   ]
  },
  {
   "cell_type": "code",
   "execution_count": 58,
   "metadata": {},
   "outputs": [
    {
     "name": "stdout",
     "output_type": "stream",
     "text": [
      "24\n"
     ]
    }
   ],
   "source": [
    "print(len(sequence))"
   ]
  },
  {
   "cell_type": "markdown",
   "metadata": {},
   "source": [
    "### Intermezzo: New casting methods\n",
    "\n",
    "The casting methods\n",
    "\n",
    "```python\n",
    "int()\n",
    "float()\n",
    "str()\n",
    "```\n",
    "are already known.<br>\n",
    "<br>\n",
    "Furthermore we can cast between characters and their corresponding [ASCII](https://www.asciitable.com/) value in both directions with\n",
    "```python\n",
    "ord() # Character -> ASCII value.\n",
    "\n",
    "# and\n",
    "\n",
    "chr() # ASCII value to character.\n",
    "```"
   ]
  },
  {
   "cell_type": "code",
   "execution_count": 1,
   "metadata": {},
   "outputs": [
    {
     "data": {
      "text/plain": [
       "97"
      ]
     },
     "execution_count": 1,
     "metadata": {},
     "output_type": "execute_result"
    }
   ],
   "source": [
    "ord('a')"
   ]
  },
  {
   "cell_type": "code",
   "execution_count": 2,
   "metadata": {},
   "outputs": [
    {
     "data": {
      "text/plain": [
       "'a'"
      ]
     },
     "execution_count": 2,
     "metadata": {},
     "output_type": "execute_result"
    }
   ],
   "source": [
    "chr(97)"
   ]
  },
  {
   "cell_type": "code",
   "execution_count": 8,
   "metadata": {},
   "outputs": [
    {
     "name": "stdout",
     "output_type": "stream",
     "text": [
      "a b c d e f g h i j k l m n o p q r s t u v w x y z "
     ]
    }
   ],
   "source": [
    "for i in range(97, 97+26):\n",
    "    print(chr(i), end=' ')"
   ]
  },
  {
   "cell_type": "markdown",
   "metadata": {},
   "source": [
    "### String methods\n",
    "\n",
    "We can get a list of built-in methods with\n",
    "```python\n",
    "help(str)\n",
    "```"
   ]
  },
  {
   "cell_type": "code",
   "execution_count": 61,
   "metadata": {},
   "outputs": [
    {
     "name": "stdout",
     "output_type": "stream",
     "text": [
      "Rose was a rose was a rose\n",
      "Rose is a rose is a rose\n"
     ]
    }
   ],
   "source": [
    "print(sequence.replace('is', 'was'))\n",
    "print(sequence)"
   ]
  },
  {
   "cell_type": "markdown",
   "metadata": {},
   "source": [
    "<div class=\"alert alert-box alert-success\">\n",
    "    Important: Most methods performed on a list modify the list <b>in place</b>. In contrast, the methods of str return a new string. If we want to modify a string permanently, we have to override it.\n",
    "</div>"
   ]
  },
  {
   "cell_type": "code",
   "execution_count": 62,
   "metadata": {},
   "outputs": [
    {
     "name": "stdout",
     "output_type": "stream",
     "text": [
      "ROSE IS A ROSE IS A ROSE\n"
     ]
    }
   ],
   "source": [
    "# Override sequence:\n",
    "sequence = sequence.upper()\n",
    "print(sequence)"
   ]
  },
  {
   "cell_type": "code",
   "execution_count": 63,
   "metadata": {},
   "outputs": [
    {
     "name": "stdout",
     "output_type": "stream",
     "text": [
      "rose is a rose is a rose\n"
     ]
    }
   ],
   "source": [
    "sequence = sequence.lower()\n",
    "print(sequence)"
   ]
  },
  {
   "cell_type": "code",
   "execution_count": 64,
   "metadata": {},
   "outputs": [
    {
     "name": "stdout",
     "output_type": "stream",
     "text": [
      "Rose is a rose is a rose\n"
     ]
    }
   ],
   "source": [
    "sequence = sequence.capitalize()\n",
    "print(sequence)"
   ]
  },
  {
   "cell_type": "markdown",
   "metadata": {},
   "source": [
    "#### Return the index (start) of a substring"
   ]
  },
  {
   "cell_type": "code",
   "execution_count": 4,
   "metadata": {},
   "outputs": [
    {
     "name": "stdout",
     "output_type": "stream",
     "text": [
      "7\n",
      "23\n"
     ]
    }
   ],
   "source": [
    "filepath = 'path_to/generated_books/book1.py'\n",
    "print(filepath.find('/'))\n",
    "print(filepath.rfind('/')) # rfind searches from the end."
   ]
  },
  {
   "cell_type": "markdown",
   "metadata": {},
   "source": [
    "<div class=\"alert alert-box alert-info\">\n",
    "    Task: Extract the filename ('books1.py') with slicing.\n",
    "</div>"
   ]
  },
  {
   "cell_type": "code",
   "execution_count": 6,
   "metadata": {},
   "outputs": [
    {
     "name": "stdout",
     "output_type": "stream",
     "text": [
      "book1.py\n"
     ]
    }
   ],
   "source": [
    "filename = filepath[filepath.rfind('/')+1:]\n",
    "print(filename)"
   ]
  },
  {
   "cell_type": "markdown",
   "metadata": {},
   "source": [
    "### Split a string\n",
    "\n",
    "If we `split` a string into substrings, we'll receive a **list** of these substrings."
   ]
  },
  {
   "cell_type": "code",
   "execution_count": 67,
   "metadata": {},
   "outputs": [
    {
     "name": "stdout",
     "output_type": "stream",
     "text": [
      "<class 'str'>\n"
     ]
    }
   ],
   "source": [
    "sequence = 'Rose is a rose is a rose'\n",
    "print(type(sequence))"
   ]
  },
  {
   "cell_type": "code",
   "execution_count": 68,
   "metadata": {},
   "outputs": [
    {
     "name": "stdout",
     "output_type": "stream",
     "text": [
      "<class 'list'>\n",
      "['Rose', 'is', 'a', 'rose', 'is', 'a', 'rose']\n"
     ]
    }
   ],
   "source": [
    "sequence = sequence.split()\n",
    "print(type(sequence))\n",
    "print(sequence)"
   ]
  },
  {
   "cell_type": "markdown",
   "metadata": {},
   "source": [
    "The method `split()` without argument splits at every whitespace. These **separators** / **delimiters** are not included into the result.<br>"
   ]
  },
  {
   "cell_type": "markdown",
   "metadata": {},
   "source": [
    "Split a string of multiple lines into a list of single lines:"
   ]
  },
  {
   "cell_type": "code",
   "execution_count": 25,
   "metadata": {},
   "outputs": [
    {
     "name": "stdout",
     "output_type": "stream",
     "text": [
      "Rose is a rose is a rose\n",
      "Rose is a rose is a rose\n",
      "Rose is a rose is a rose\n",
      "\n",
      "['Rose is a rose is a rose', 'Rose is a rose is a rose', 'Rose is a rose is a rose']\n"
     ]
    }
   ],
   "source": [
    "sequence = 'Rose is a rose is a rose'\n",
    "lines = (sequence+'\\n')*3\n",
    "print(lines)\n",
    "lines = lines.splitlines() # same as lines.split('\\n')\n",
    "print(lines)"
   ]
  },
  {
   "cell_type": "markdown",
   "metadata": {},
   "source": [
    "### Join a list to a string\n",
    "\n",
    "We can use the string method `join()` to join the elements of a list into one string back again. As it is a method of the class `str`, we have to call it on a string. This string (in the following example `' '` (a whitespace) is inserted in between all elements of the list."
   ]
  },
  {
   "cell_type": "code",
   "execution_count": 26,
   "metadata": {},
   "outputs": [
    {
     "name": "stdout",
     "output_type": "stream",
     "text": [
      "Rose is a rose is a rose\n",
      "<class 'list'>\n",
      "['Rose', 'is', 'a', 'rose', 'is', 'a', 'rose']\n",
      "Rose is a rose is a rose\n",
      "<class 'str'>\n"
     ]
    }
   ],
   "source": [
    "print(sequence)\n",
    "sequence = sequence.split()\n",
    "print(type(sequence))\n",
    "print(sequence)\n",
    "\n",
    "sequence = ' '.join(sequence)\n",
    "print(sequence)\n",
    "print(type(sequence))"
   ]
  },
  {
   "cell_type": "markdown",
   "metadata": {},
   "source": [
    "<div class=\"alert alert-box alert-info\">\n",
    "    Task: Split the string <code>Rose is a rose is a rose</code> with a choosen separator into a list.<br>\n",
    "    Then join this list with a choosen separator back into a sequence, so that the result is <code>Rose is a rose is a rose</code> back again.\n",
    "</div>"
   ]
  },
  {
   "cell_type": "code",
   "execution_count": null,
   "metadata": {},
   "outputs": [],
   "source": []
  },
  {
   "cell_type": "markdown",
   "metadata": {},
   "source": [
    "### String conditions"
   ]
  },
  {
   "cell_type": "code",
   "execution_count": 39,
   "metadata": {},
   "outputs": [
    {
     "data": {
      "text/plain": [
       "True"
      ]
     },
     "execution_count": 39,
     "metadata": {},
     "output_type": "execute_result"
    }
   ],
   "source": [
    "a = 'elephant'\n",
    "a.endswith('ant')"
   ]
  },
  {
   "cell_type": "code",
   "execution_count": 40,
   "metadata": {},
   "outputs": [
    {
     "data": {
      "text/plain": [
       "True"
      ]
     },
     "execution_count": 40,
     "metadata": {},
     "output_type": "execute_result"
    }
   ],
   "source": [
    "a = 'elephant'\n",
    "a.startswith('eleph')"
   ]
  },
  {
   "cell_type": "code",
   "execution_count": 31,
   "metadata": {},
   "outputs": [
    {
     "data": {
      "text/plain": [
       "True"
      ]
     },
     "execution_count": 31,
     "metadata": {},
     "output_type": "execute_result"
    }
   ],
   "source": [
    "a = 'elephant'\n",
    "a.isalnum()"
   ]
  },
  {
   "cell_type": "code",
   "execution_count": 32,
   "metadata": {},
   "outputs": [
    {
     "name": "stdout",
     "output_type": "stream",
     "text": [
      "True\n"
     ]
    }
   ],
   "source": [
    "a = 'elephant'\n",
    "print(a.isalpha())"
   ]
  },
  {
   "cell_type": "code",
   "execution_count": 74,
   "metadata": {},
   "outputs": [
    {
     "name": "stdout",
     "output_type": "stream",
     "text": [
      "True\n"
     ]
    }
   ],
   "source": [
    "a = '123'\n",
    "print(a.isdigit())"
   ]
  },
  {
   "cell_type": "code",
   "execution_count": 75,
   "metadata": {},
   "outputs": [
    {
     "name": "stdout",
     "output_type": "stream",
     "text": [
      "False\n"
     ]
    }
   ],
   "source": [
    "a = '0.123'\n",
    "print(a.isdecimal())"
   ]
  },
  {
   "cell_type": "code",
   "execution_count": 76,
   "metadata": {},
   "outputs": [
    {
     "name": "stdout",
     "output_type": "stream",
     "text": [
      "False\n"
     ]
    }
   ],
   "source": [
    "a = '10e-4'\n",
    "print(a.isnumeric())"
   ]
  },
  {
   "cell_type": "markdown",
   "metadata": {},
   "source": [
    "### Substrings"
   ]
  },
  {
   "cell_type": "code",
   "execution_count": 77,
   "metadata": {},
   "outputs": [
    {
     "data": {
      "text/plain": [
       "True"
      ]
     },
     "execution_count": 77,
     "metadata": {},
     "output_type": "execute_result"
    }
   ],
   "source": [
    "a = 'elephant'\n",
    "'ant' in a"
   ]
  },
  {
   "cell_type": "code",
   "execution_count": 78,
   "metadata": {},
   "outputs": [
    {
     "data": {
      "text/plain": [
       "3"
      ]
     },
     "execution_count": 78,
     "metadata": {},
     "output_type": "execute_result"
    }
   ],
   "source": [
    "sequence = 'Rose is a rose is a rose'\n",
    "sequence.count('ose')"
   ]
  },
  {
   "cell_type": "code",
   "execution_count": 1,
   "metadata": {},
   "outputs": [
    {
     "name": "stdout",
     "output_type": "stream",
     "text": [
      "ro.jpgses\n"
     ]
    }
   ],
   "source": [
    "filename = 'ro.jpgses.jpg'\n",
    "print(filename.removesuffix('.jpg')) # This method is new to Python 3.9 and does not work with older versions!"
   ]
  },
  {
   "cell_type": "code",
   "execution_count": 80,
   "metadata": {},
   "outputs": [
    {
     "data": {
      "text/plain": [
       "'roses'"
      ]
     },
     "execution_count": 80,
     "metadata": {},
     "output_type": "execute_result"
    }
   ],
   "source": [
    "filename = 'ro.jpgses.jpg'\n",
    "filename.replace('.jpg', '') # will replace both "
   ]
  },
  {
   "cell_type": "markdown",
   "metadata": {},
   "source": [
    "### String formatting\n",
    "\n",
    "%-operator style"
   ]
  },
  {
   "cell_type": "code",
   "execution_count": 3,
   "metadata": {},
   "outputs": [
    {
     "name": "stdout",
     "output_type": "stream",
     "text": [
      "Hello, 🐍\n"
     ]
    }
   ],
   "source": [
    "name = '🐍'\n",
    "print('Hello, %s' % name)"
   ]
  },
  {
   "cell_type": "markdown",
   "metadata": {},
   "source": [
    "<br>\n",
    ".format style"
   ]
  },
  {
   "cell_type": "code",
   "execution_count": 11,
   "metadata": {},
   "outputs": [
    {
     "name": "stdout",
     "output_type": "stream",
     "text": [
      "Hello, 🐍\n",
      "A rose is a rose is a hose\n",
      "A Rose is a rose is a 🌷\n"
     ]
    }
   ],
   "source": [
    "name = '🐍'\n",
    "print('Hello, {}'.format(name))\n",
    "\n",
    "print('A rose is a {} is a {}'.format('rose', 'hose'))\n",
    "\n",
    "print('A Rose is a {val1} is a {val2}'.format(val1='rose', val2='🌷'))"
   ]
  },
  {
   "cell_type": "markdown",
   "metadata": {},
   "source": [
    "<br>\n",
    "literal string interpolation (Python 3.6+)"
   ]
  },
  {
   "cell_type": "code",
   "execution_count": 14,
   "metadata": {},
   "outputs": [
    {
     "name": "stdout",
     "output_type": "stream",
     "text": [
      "Hello, 🐍!\n",
      "A Rose is a rose is a rose.\n"
     ]
    }
   ],
   "source": [
    "print(f'Hello, {name}!')\n",
    "\n",
    "# it's possible to embedd Python expressions\n",
    "a = ' is a rose'\n",
    "print(f'A Rose{a * 2}.')"
   ]
  },
  {
   "cell_type": "markdown",
   "metadata": {},
   "source": [
    "## Reading and writing files\n",
    "\n",
    "First we'll download a text file from the web with a library/ module called `requests`. [Documentation](https://docs.python-requests.org/en/latest/)."
   ]
  },
  {
   "cell_type": "code",
   "execution_count": 1,
   "metadata": {},
   "outputs": [],
   "source": [
    "import requests"
   ]
  },
  {
   "cell_type": "markdown",
   "metadata": {},
   "source": [
    "If it's not installed, install it in your activated conda environment with:\n",
    "```shell\n",
    "conda install requests\n",
    "```\n",
    "<br>"
   ]
  },
  {
   "cell_type": "code",
   "execution_count": 2,
   "metadata": {},
   "outputs": [],
   "source": [
    "# Request web source.\n",
    "url = 'https://loremipsum.de/downloads/original.txt'\n",
    "r = requests.get(url)\n",
    "\n",
    "# Store text content in a variable called txt.\n",
    "txt = r.text"
   ]
  },
  {
   "cell_type": "code",
   "execution_count": 3,
   "metadata": {},
   "outputs": [
    {
     "name": "stdout",
     "output_type": "stream",
     "text": [
      "<class 'str'>\n",
      "3971 characters\n"
     ]
    }
   ],
   "source": [
    "# Inspect txt.\n",
    "print(type(txt))\n",
    "print(len(txt), 'characters')"
   ]
  },
  {
   "cell_type": "code",
   "execution_count": 86,
   "metadata": {},
   "outputs": [
    {
     "name": "stdout",
     "output_type": "stream",
     "text": [
      "Lorem ipsum dolor sit amet, consetetur sadipscing elitr,  sed diam nonumy eirmod tempor invidunt ut \n"
     ]
    }
   ],
   "source": [
    "# Print first 100 characters.\n",
    "print(txt[:100])"
   ]
  },
  {
   "cell_type": "markdown",
   "metadata": {},
   "source": [
    "### Writing a file to disk\n",
    "\n",
    "Writing and reading files is done with a **context manager**, called via the keyword `with`.<br>\n",
    "Syntax:<br>\n",
    "```python\n",
    "with open('path_to_file', 'mode') as file_object:\n",
    "    file_object.write(content)\n",
    "```\n",
    "<br>\n",
    "Modes (copied from <code>help(open)</code>):"
   ]
  },
  {
   "cell_type": "raw",
   "metadata": {},
   "source": [
    "    Character Meaning\n",
    "    --------- ---------------------------------------------------------------\n",
    "    'r'       open for reading (default)\n",
    "    'w'       open for writing, truncating the file first\n",
    "    'x'       create a new file and open it for writing\n",
    "    'a'       open for writing, appending to the end of the file if it exists\n",
    "    'b'       binary mode\n",
    "    't'       text mode (default)\n",
    "    '+'       open a disk file for updating (reading and writing)\n",
    "    'U'       universal newline mode (deprecated)"
   ]
  },
  {
   "cell_type": "markdown",
   "metadata": {},
   "source": [
    "Probably you will use `'r'` (read) and `'w'` (write) most of the time."
   ]
  },
  {
   "cell_type": "code",
   "execution_count": 36,
   "metadata": {},
   "outputs": [],
   "source": [
    "# Open text file.\n",
    "with open('lorem.txt', 'w') as f:\n",
    "    # Write content of txt to file.\n",
    "    f.write(txt)"
   ]
  },
  {
   "cell_type": "markdown",
   "metadata": {},
   "source": [
    "Sometimes when writing text files it is necessary to specify the `encoding` parameter of `open()`. (For example if the `write()` function returns an `UnicodeEncodeError`.)"
   ]
  },
  {
   "cell_type": "code",
   "execution_count": 4,
   "metadata": {},
   "outputs": [],
   "source": [
    "with open('lorem.txt', 'w', encoding='utf-8') as f:\n",
    "    f.write(txt)"
   ]
  },
  {
   "cell_type": "markdown",
   "metadata": {},
   "source": [
    "### Reading a file from disk"
   ]
  },
  {
   "cell_type": "code",
   "execution_count": 37,
   "metadata": {},
   "outputs": [],
   "source": [
    "# Open text file in reading mode.\n",
    "with open('lorem.txt', 'r') as f:\n",
    "    # Read content into variable.\n",
    "    lorem = f.read()"
   ]
  },
  {
   "cell_type": "code",
   "execution_count": 38,
   "metadata": {},
   "outputs": [
    {
     "name": "stdout",
     "output_type": "stream",
     "text": [
      "Lorem ipsum dolor sit amet, consetetur sadipscing elitr,  sed diam nonumy eirmod tempor invidunt ut \n"
     ]
    }
   ],
   "source": [
    "print(lorem[:100])"
   ]
  },
  {
   "cell_type": "code",
   "execution_count": 90,
   "metadata": {},
   "outputs": [
    {
     "name": "stdout",
     "output_type": "stream",
     "text": [
      "<class 'str'>\n"
     ]
    }
   ],
   "source": [
    "print(type(lorem))"
   ]
  },
  {
   "cell_type": "markdown",
   "metadata": {},
   "source": [
    "Sometimes it is better to store a text line by line in a list. This is possible with `.readlines()`."
   ]
  },
  {
   "cell_type": "code",
   "execution_count": 93,
   "metadata": {},
   "outputs": [],
   "source": [
    "with open('lorem.txt', 'r') as f:\n",
    "    lorem = f.readlines()"
   ]
  },
  {
   "cell_type": "code",
   "execution_count": 94,
   "metadata": {},
   "outputs": [
    {
     "name": "stdout",
     "output_type": "stream",
     "text": [
      "<class 'list'>\n",
      "7\n"
     ]
    }
   ],
   "source": [
    "# Inspect variable:\n",
    "print(type(lorem))\n",
    "print(len(lorem))"
   ]
  },
  {
   "cell_type": "code",
   "execution_count": 95,
   "metadata": {},
   "outputs": [
    {
     "name": "stdout",
     "output_type": "stream",
     "text": [
      "Lorem ipsum dolor sit amet, consetetur sadipscing elitr,  sed diam nonumy eirmod tempor invidunt ut labore et dolore magna aliquyam erat, sed diam voluptua. At vero eos et accusam et justo duo dolores et ea rebum. Stet clita kasd gubergren, no sea takimata sanctus est Lorem ipsum dolor sit amet. Lorem ipsum dolor sit amet, consetetur sadipscing elitr,  sed diam nonumy eirmod tempor invidunt ut labore et dolore magna aliquyam erat, sed diam voluptua. At vero eos et accusam et justo duo dolores et ea rebum. Stet clita kasd gubergren, no sea takimata sanctus est Lorem ipsum dolor sit amet. Lorem ipsum dolor sit amet, consetetur sadipscing elitr,  sed diam nonumy eirmod tempor invidunt ut labore et dolore magna aliquyam erat, sed diam voluptua. At vero eos et accusam et justo duo dolores et ea rebum. Stet clita kasd gubergren, no sea takimata sanctus est Lorem ipsum dolor sit amet.\n",
      "\n"
     ]
    }
   ],
   "source": [
    "print(lorem[0])"
   ]
  },
  {
   "cell_type": "markdown",
   "metadata": {},
   "source": [
    "### Intermezzo: Removing multiple whitespaces"
   ]
  },
  {
   "cell_type": "markdown",
   "metadata": {},
   "source": [
    "The text contains multiple whitespaces (between \"elitr,\" and \"sed\" for example). We can remove multiple whitespaces with the following code:"
   ]
  },
  {
   "cell_type": "code",
   "execution_count": 96,
   "metadata": {},
   "outputs": [],
   "source": [
    "# Iterate over lines of lorem:\n",
    "for index, line in enumerate(lorem):\n",
    "    # Remove multiple whitespaces.\n",
    "    cleaned_line = ' '.join(line.split())\n",
    "    # Override the current element in the list lorem:\n",
    "    lorem[index] = cleaned_line"
   ]
  },
  {
   "cell_type": "code",
   "execution_count": 97,
   "metadata": {},
   "outputs": [
    {
     "name": "stdout",
     "output_type": "stream",
     "text": [
      "Lorem ipsum dolor sit amet, consetetur sadipscing elitr, sed diam nonumy eirmod tempor invidunt ut labore et dolore magna aliquyam erat, sed diam voluptua. At vero eos et accusam et justo duo dolores et ea rebum. Stet clita kasd gubergren, no sea takimata sanctus est Lorem ipsum dolor sit amet. Lorem ipsum dolor sit amet, consetetur sadipscing elitr, sed diam nonumy eirmod tempor invidunt ut labore et dolore magna aliquyam erat, sed diam voluptua. At vero eos et accusam et justo duo dolores et ea rebum. Stet clita kasd gubergren, no sea takimata sanctus est Lorem ipsum dolor sit amet. Lorem ipsum dolor sit amet, consetetur sadipscing elitr, sed diam nonumy eirmod tempor invidunt ut labore et dolore magna aliquyam erat, sed diam voluptua. At vero eos et accusam et justo duo dolores et ea rebum. Stet clita kasd gubergren, no sea takimata sanctus est Lorem ipsum dolor sit amet.\n"
     ]
    }
   ],
   "source": [
    "print(lorem[0])"
   ]
  },
  {
   "cell_type": "markdown",
   "metadata": {},
   "source": [
    "<br>\n",
    "How does it work?<br>\n",
    "<code>.split()</code> without any argument splits at every whitespace (including tabs and newline characters) and removes them from the returned list.<br>\n",
    "After that, all elements are joined together with a normal whitespace (<code>' '</code>) in between them."
   ]
  },
  {
   "cell_type": "code",
   "execution_count": 98,
   "metadata": {},
   "outputs": [],
   "source": [
    "s = 'A string with some regular and  some    irregular  whitespaces.'"
   ]
  },
  {
   "cell_type": "code",
   "execution_count": 99,
   "metadata": {},
   "outputs": [
    {
     "name": "stdout",
     "output_type": "stream",
     "text": [
      "['A', 'string', 'with', 'some', 'regular', 'and', 'some', 'irregular', 'whitespaces.']\n"
     ]
    }
   ],
   "source": [
    "s_list = s.split()\n",
    "print(s_list)"
   ]
  },
  {
   "cell_type": "code",
   "execution_count": 100,
   "metadata": {},
   "outputs": [
    {
     "name": "stdout",
     "output_type": "stream",
     "text": [
      "A string with some regular and some irregular whitespaces.\n"
     ]
    }
   ],
   "source": [
    "s = ' '.join(s_list)\n",
    "print(s)"
   ]
  },
  {
   "cell_type": "markdown",
   "metadata": {},
   "source": [
    "Another method is using **regex expressions**. (This is slightly complicated/ cryptic, so we won't deal with that here. Helpful for figuring out expressions: [pythex](https://pythex.org/) or [regex101](https://regex101.com/).)"
   ]
  },
  {
   "cell_type": "code",
   "execution_count": 102,
   "metadata": {},
   "outputs": [
    {
     "name": "stdout",
     "output_type": "stream",
     "text": [
      "A string with some regular and  some    irregular  whitespaces.\n",
      "A string with some regular and some irregular whitespaces.\n"
     ]
    }
   ],
   "source": [
    "import re # regex module\n",
    "\n",
    "s = 'A string with some regular and  some    irregular  whitespaces.'\n",
    "print(s)\n",
    "\n",
    "# Substitute whitespaces of any length with single whitespaces.\n",
    "s = re.sub(' +', ' ', s)\n",
    "\n",
    "print(s)"
   ]
  },
  {
   "cell_type": "markdown",
   "metadata": {},
   "source": [
    "#### Inserting whitespaces"
   ]
  },
  {
   "cell_type": "code",
   "execution_count": 16,
   "metadata": {},
   "outputs": [
    {
     "name": "stdout",
     "output_type": "stream",
     "text": [
      "Rose is a rose is a rose          \n",
      "     Rose is a rose is a rose     \n",
      "          Rose is a rose is a rose\n"
     ]
    }
   ],
   "source": [
    "sequence = 'Rose is a rose is a rose'\n",
    "l = len(sequence)\n",
    "\n",
    "print(sequence.ljust(l+10))\n",
    "print(sequence.center(l+10))\n",
    "print(sequence.rjust(l+10))"
   ]
  },
  {
   "cell_type": "markdown",
   "metadata": {},
   "source": [
    "### Overriding a file on disk"
   ]
  },
  {
   "cell_type": "code",
   "execution_count": 104,
   "metadata": {},
   "outputs": [
    {
     "ename": "TypeError",
     "evalue": "write() argument must be str, not list",
     "output_type": "error",
     "traceback": [
      "\u001b[0;31m---------------------------------------------------------------------------\u001b[0m",
      "\u001b[0;31mTypeError\u001b[0m                                 Traceback (most recent call last)",
      "\u001b[0;32m/tmp/ipykernel_7265/2282925405.py\u001b[0m in \u001b[0;36m<module>\u001b[0;34m\u001b[0m\n\u001b[1;32m      1\u001b[0m \u001b[0;32mwith\u001b[0m \u001b[0mopen\u001b[0m\u001b[0;34m(\u001b[0m\u001b[0;34m'lorem.txt'\u001b[0m\u001b[0;34m,\u001b[0m \u001b[0;34m'w'\u001b[0m\u001b[0;34m)\u001b[0m \u001b[0;32mas\u001b[0m \u001b[0mf\u001b[0m\u001b[0;34m:\u001b[0m\u001b[0;34m\u001b[0m\u001b[0;34m\u001b[0m\u001b[0m\n\u001b[0;32m----> 2\u001b[0;31m     \u001b[0mf\u001b[0m\u001b[0;34m.\u001b[0m\u001b[0mwrite\u001b[0m\u001b[0;34m(\u001b[0m\u001b[0mlorem\u001b[0m\u001b[0;34m)\u001b[0m\u001b[0;34m\u001b[0m\u001b[0;34m\u001b[0m\u001b[0m\n\u001b[0m",
      "\u001b[0;31mTypeError\u001b[0m: write() argument must be str, not list"
     ]
    }
   ],
   "source": [
    "with open('lorem.txt', 'w') as f:\n",
    "    f.write(lorem)"
   ]
  },
  {
   "cell_type": "markdown",
   "metadata": {},
   "source": [
    "<br>\n",
    "The variable <code>lorem</code> is still of type <code>list</code>, which we can't write to a file. We have to join it to a <code>str</code>, before we can write it to disk."
   ]
  },
  {
   "cell_type": "code",
   "execution_count": 105,
   "metadata": {},
   "outputs": [
    {
     "name": "stdout",
     "output_type": "stream",
     "text": [
      "<class 'list'>\n"
     ]
    }
   ],
   "source": [
    "print(type(lorem))"
   ]
  },
  {
   "cell_type": "code",
   "execution_count": 106,
   "metadata": {},
   "outputs": [],
   "source": [
    "# Join list to one string.\n",
    "lorem = '\\n'.join(lorem) # Insert newline characters between paragraphs.\n",
    "\n",
    "# If we use 'w' as argument with open on an existing file,\n",
    "# we will override it.\n",
    "with open('lorem.txt', 'w') as f:\n",
    "    f.write(lorem)"
   ]
  },
  {
   "cell_type": "markdown",
   "metadata": {},
   "source": [
    "### Append to a file\n",
    "\n",
    "With the argument <code>'a'</code> we can append content to an existing file. If it does not exist yet, it will be created."
   ]
  },
  {
   "cell_type": "code",
   "execution_count": 107,
   "metadata": {},
   "outputs": [],
   "source": [
    "# Create a new file and write one line into it.\n",
    "with open('looped_text.txt', 'w') as f:\n",
    "    f.write('First line of a new text.\\n') # See the \\n at the end to move to the next line."
   ]
  },
  {
   "cell_type": "code",
   "execution_count": 108,
   "metadata": {},
   "outputs": [],
   "source": [
    "with open('looped_text.txt', 'a') as f:\n",
    "    for e in s.split():\n",
    "        f.write(e+'\\n')"
   ]
  },
  {
   "cell_type": "markdown",
   "metadata": {},
   "source": [
    "<div class=\"alert alert-box alert-info\">\n",
    "    Task: Create a for-loop which inserts some new lines to the file.\n",
    "</div>"
   ]
  },
  {
   "cell_type": "code",
   "execution_count": null,
   "metadata": {},
   "outputs": [],
   "source": []
  },
  {
   "cell_type": "markdown",
   "metadata": {},
   "source": [
    "<div class=\"alert alert-box alert-info\">\n",
    "    Task: Read the new file (line by line) in a new variable.\n",
    "</div>"
   ]
  },
  {
   "cell_type": "code",
   "execution_count": null,
   "metadata": {},
   "outputs": [],
   "source": []
  },
  {
   "cell_type": "markdown",
   "metadata": {},
   "source": [
    "### Remove a file"
   ]
  },
  {
   "cell_type": "code",
   "execution_count": 109,
   "metadata": {},
   "outputs": [],
   "source": [
    "# To remove a file we can use the module os:\n",
    "import os\n",
    "os.remove('looped_text.txt')"
   ]
  },
  {
   "cell_type": "markdown",
   "metadata": {},
   "source": [
    "If we execute the code again, it will raise an error, because the file does not exist:"
   ]
  },
  {
   "cell_type": "code",
   "execution_count": 110,
   "metadata": {},
   "outputs": [
    {
     "ename": "FileNotFoundError",
     "evalue": "[Errno 2] No such file or directory: 'looped_text.txt'",
     "output_type": "error",
     "traceback": [
      "\u001b[0;31m---------------------------------------------------------------------------\u001b[0m",
      "\u001b[0;31mFileNotFoundError\u001b[0m                         Traceback (most recent call last)",
      "\u001b[0;32m/tmp/ipykernel_7265/338987451.py\u001b[0m in \u001b[0;36m<module>\u001b[0;34m\u001b[0m\n\u001b[1;32m      1\u001b[0m \u001b[0;31m# To remove a file we can use the module os:\u001b[0m\u001b[0;34m\u001b[0m\u001b[0;34m\u001b[0m\u001b[0m\n\u001b[1;32m      2\u001b[0m \u001b[0;32mimport\u001b[0m \u001b[0mos\u001b[0m\u001b[0;34m\u001b[0m\u001b[0;34m\u001b[0m\u001b[0m\n\u001b[0;32m----> 3\u001b[0;31m \u001b[0mos\u001b[0m\u001b[0;34m.\u001b[0m\u001b[0mremove\u001b[0m\u001b[0;34m(\u001b[0m\u001b[0;34m'looped_text.txt'\u001b[0m\u001b[0;34m)\u001b[0m\u001b[0;34m\u001b[0m\u001b[0;34m\u001b[0m\u001b[0m\n\u001b[0m",
      "\u001b[0;31mFileNotFoundError\u001b[0m: [Errno 2] No such file or directory: 'looped_text.txt'"
     ]
    }
   ],
   "source": [
    "# To remove a file we can use the module os:\n",
    "import os\n",
    "os.remove('looped_text.txt')"
   ]
  },
  {
   "cell_type": "markdown",
   "metadata": {},
   "source": [
    "## Try ... except\n",
    "\n",
    "For these kind of operations it's good practice to create a try ... except statement. Then the Python interpreter will try to execute code and do something else (defined by you) if it's not possible (= if an exception appeared). The advantage is that it will not cause your program to halt.<br>\n",
    "<br>\n",
    "Syntax:<br>\n",
    "```python\n",
    "try:\n",
    "    # Task.\n",
    "except Exception:\n",
    "    # Do this if the task is not possible.\n",
    "```\n",
    "<br>\n",
    "There are some built-in Exceptions like the <code>FileNotFoundError</code> (from above) that we can use, furthermore it's possible to leave the exception empty, which will catch all undefined errors."
   ]
  },
  {
   "cell_type": "code",
   "execution_count": 111,
   "metadata": {},
   "outputs": [
    {
     "name": "stdout",
     "output_type": "stream",
     "text": [
      "Exception: The file does not exist.\n"
     ]
    }
   ],
   "source": [
    "try:\n",
    "    os.remove('looped_text.txt')\n",
    "except FileNotFoundError:\n",
    "    print('Exception: The file does not exist.')\n",
    "except:\n",
    "    print('An unknown error occured.')"
   ]
  },
  {
   "cell_type": "markdown",
   "metadata": {},
   "source": [
    "In addition we can optionally define a `finally` statement, which is executed after the `try` and `except` statements are executed:"
   ]
  },
  {
   "cell_type": "code",
   "execution_count": 112,
   "metadata": {},
   "outputs": [
    {
     "name": "stdout",
     "output_type": "stream",
     "text": [
      "Exception: The file does not exist.\n",
      "Operation finished\n"
     ]
    }
   ],
   "source": [
    "try:\n",
    "    os.remove('looped_text.txt')\n",
    "except FileNotFoundError:\n",
    "    print('Exception: The file does not exist.')\n",
    "except:\n",
    "    print('An unknown error occured.')\n",
    "finally:\n",
    "    print('Operation finished')"
   ]
  },
  {
   "cell_type": "markdown",
   "metadata": {},
   "source": [
    "For more on exceptions see [this chapter](https://pythonbasics.org/try-except/) on pythonbasics.org."
   ]
  }
 ],
 "metadata": {
  "kernelspec": {
   "display_name": "Python 3",
   "language": "python",
   "name": "python3"
  },
  "language_info": {
   "codemirror_mode": {
    "name": "ipython",
    "version": 3
   },
   "file_extension": ".py",
   "mimetype": "text/x-python",
   "name": "python",
   "nbconvert_exporter": "python",
   "pygments_lexer": "ipython3",
   "version": "3.9.7"
  }
 },
 "nbformat": 4,
 "nbformat_minor": 4
}
