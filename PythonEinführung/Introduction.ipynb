{
 "cells": [
  {
   "cell_type": "markdown",
   "metadata": {
    "slideshow": {
     "slide_type": "slide"
    }
   },
   "source": [
    "# Introduction to Jupyter Notebooks\n",
    "\n",
    "- [0. Install Anaconda to run and execute the Notebooks on your Computer locally](#0)\n",
    "- [1. Jupyter Notebook Introduction](#1)\n",
    "- [2. Virtual environment](#2)\n",
    "- [3. some little help-functions...](#3)"
   ]
  },
  {
   "cell_type": "markdown",
   "metadata": {
    "slideshow": {
     "slide_type": "fragment"
    }
   },
   "source": [
    "All the *Jupyter Notebooks* in this [Github-Repostory](https://github.com/experimental-informatics/how-to-make-human-machine-readable):\n",
    "* you can either run them in your Browser, if you click the button below: [![Binder](https://mybinder.org/badge_logo.svg)](https://mybinder.org/v2/gh/experimental-informatics/how-to-make-human-machine-readable/HEAD)\n",
    "* or you can download this Repository via the *Clone or Download*-Button, see:\n",
    "\n",
    "![](https://www.stevejgordon.co.uk/wp-content/uploads/2018/01/CloneOrDownloadGitHub.png)\n",
    "\n",
    "* and after run it locally on your device."
   ]
  },
  {
   "cell_type": "markdown",
   "metadata": {
    "slideshow": {
     "slide_type": "skip"
    }
   },
   "source": [
    "<a class=\"anchor\" id=\"0\"></a>"
   ]
  },
  {
   "cell_type": "markdown",
   "metadata": {
    "slideshow": {
     "slide_type": "slide"
    }
   },
   "source": [
    "## 0. Install Anaconda to run and execute the Notebooks on your Computer locally\n",
    "for doing that,\n",
    "1. please download Anaconda for your operating system: https://www.anaconda.com/products/individual#Downloads\n",
    "2. install Anaconda (like any other software) on your computers. Instructions can be found here: https://docs.anaconda.com/anaconda/install/"
   ]
  },
  {
   "cell_type": "markdown",
   "metadata": {
    "slideshow": {
     "slide_type": "fragment"
    }
   },
   "source": [
    "### Alternativly you can also install and run Miniconda on your machine\n",
    "\n",
    "Just download and install Miniconda. Miniconda is a small, bootstrap version of Anaconda, a distribution for programming in Python and R, especially in scientific computing (data science, machine learning applications, large-scale data processing, predictive analytics, etc.).\n",
    "\n",
    "Miniconda is Free Software and it includes the basic needs for our purposes, like the package manager conda, Python, the packages they depend on, and only a small number of other useful packages.\n",
    "\n",
    "You can download Minconda for your OS and get the install instructions »[here](https://docs.conda.io/en/latest/miniconda.html)«.\n",
    "\n",
    "---"
   ]
  },
  {
   "cell_type": "markdown",
   "metadata": {
    "slideshow": {
     "slide_type": "skip"
    }
   },
   "source": [
    "<a class=\"anchor\" id=\"1\"></a>"
   ]
  },
  {
   "cell_type": "markdown",
   "metadata": {
    "slideshow": {
     "slide_type": "slide"
    }
   },
   "source": [
    "## 1. Jupyter Notebook Introduction "
   ]
  },
  {
   "cell_type": "markdown",
   "metadata": {
    "slideshow": {
     "slide_type": "fragment"
    }
   },
   "source": [
    "[Python](https://www.python.org/) is an easy to write general purpose programming language, meaning it can be used for a variety of different applications."
   ]
  },
  {
   "cell_type": "markdown",
   "metadata": {
    "slideshow": {
     "slide_type": "fragment"
    }
   },
   "source": [
    "[Jupyter Notebook](https://jupyter-notebook.readthedocs.io/en/stable/) is part of the [Jupyter Project](https://jupyter.readthedocs.io/en/latest/), a nonprofit organization created to *\"develop open-source software, open-standards, and services for interactive computing across different programming languages\"* (Python, R, Julia)."
   ]
  },
  {
   "cell_type": "markdown",
   "metadata": {
    "slideshow": {
     "slide_type": "fragment"
    }
   },
   "source": [
    "Beside of the *Notebook*. Project Jupyter has developed and supported more interactive computing products, like [JupyterHub](https://jupyterhub.readthedocs.io/en/latest/), [JupyterLab](https://jupyterlab.readthedocs.io/en/stable/) or [Jupyter{Book}](https://jupyterbook.org/intro.html). Also [Binder](https://jupyter.org/binder), the service you are using if you click here: [![Binder](https://mybinder.org/badge_logo.svg)](https://mybinder.org/v2/gh/experimental-informatics/how-to-make-human-machine-readable/HEAD) is part of the *Jupyter Project*."
   ]
  },
  {
   "cell_type": "markdown",
   "metadata": {
    "slideshow": {
     "slide_type": "fragment"
    }
   },
   "source": [
    "[Binder](https://jupyter.org/binder) is meant for interactive and ephemeral interactive coding, meaning that it is ideally suited for relatively short sessions. Binder will automatically shut down user sessions that have more than 10 minutes of inactivity (if you leave your window open, this will be counted as “activity”). If your session times out, first try selecting `Kernel > Reconnect` in the above menu. If that doesn’t work, you’ll have to select `Kernel > Restart`."
   ]
  },
  {
   "cell_type": "markdown",
   "metadata": {
    "slideshow": {
     "slide_type": "subslide"
    }
   },
   "source": [
    "[Jupyter Notebooks](https://jupyter-notebook.readthedocs.io/en/stable/) are a great way to combine Python code and its output with documentary text and images all in one document. It's also great for developing code, as you can execute blocks of code and see/ visualize the result inside the notebook. An [Jupyter Notebook](https://jupyter-notebook.readthedocs.io/en/stable/) consists of a number of \"cells,\" stacked on the page from top to bottom. Cells can have text or code in them. You can change a cell's type using the \"Cell\" menu at the top of the page; go to `Cell > Cell Type` and select either `Code` for Python code or `Markdown` for text. (You can also change this for the current cell using the drop-down menu in the toolbar.)"
   ]
  },
  {
   "cell_type": "markdown",
   "metadata": {
    "slideshow": {
     "slide_type": "fragment"
    }
   },
   "source": [
    "### Text cells\n",
    "\n",
    "Make a new cell, change its type to `Markdown`, type some stuff and press `Ctrl-Enter`. Jupyter Notebook will \"render\" the text and display it on the page in rendered format. You can hit `Enter` or click in the cell to edit its contents again. Text in `Markdown` cells is rendered according to a set of conventions called Markdown. Markdown is a simple language for marking up text with basic text formatting information (such as bold, italics, hyperlinks, tables, etc.).\n",
    "\n",
    "see also our Notebook: [Markdown-basics.ipynb](https://github.com/experimental-informatics/how-to-make-human-machine-readable/blob/master/00_General-introductions/Markdown-basics.ipynb)."
   ]
  },
  {
   "cell_type": "markdown",
   "metadata": {
    "slideshow": {
     "slide_type": "subslide"
    }
   },
   "source": [
    "### Code cells\n",
    "\n",
    "You can also press `Alt-Enter` to render the current cell and create a new cell. \n",
    "\n",
    "New cells will by default be `Code` cells, as follows:"
   ]
  },
  {
   "cell_type": "code",
   "execution_count": 3,
   "metadata": {
    "slideshow": {
     "slide_type": "fragment"
    }
   },
   "outputs": [
    {
     "name": "stdout",
     "output_type": "stream",
     "text": [
      "This is a code cell.\n",
      "\n",
      "Any Python code you type in this cell will be run when you press the 'Run' button,\n",
      "or when you press Ctrl-Enter.\n",
      "\n",
      "If the code evaluates to something, or if it produces output, that output will be\n",
      "shown beneath the cell after you run it.\n"
     ]
    }
   ],
   "source": [
    "print(\"This is a code cell.\")\n",
    "print(\"\")\n",
    "print(\"Any Python code you type in this cell will be run when you press the 'Run' button,\")\n",
    "print(\"or when you press Ctrl-Enter.\")\n",
    "print(\"\")\n",
    "print(\"If the code evaluates to something, or if it produces output, that output will be\")\n",
    "print(\"shown beneath the cell after you run it.\")"
   ]
  },
  {
   "cell_type": "code",
   "execution_count": 4,
   "metadata": {
    "slideshow": {
     "slide_type": "subslide"
    }
   },
   "outputs": [
    {
     "name": "stdout",
     "output_type": "stream",
     "text": [
      "If your Python code generates an error, the error will be displayed in addition\n",
      "to any output already produced.\n"
     ]
    },
    {
     "ename": "ZeroDivisionError",
     "evalue": "division by zero",
     "output_type": "error",
     "traceback": [
      "\u001b[0;31m--------------------------------------------------------\u001b[0m",
      "\u001b[0;31mZeroDivisionError\u001b[0m      Traceback (most recent call last)",
      "\u001b[0;32m<ipython-input-4-1ebad54fe81d>\u001b[0m in \u001b[0;36m<module>\u001b[0;34m\u001b[0m\n\u001b[1;32m      2\u001b[0m \u001b[0mprint\u001b[0m\u001b[0;34m(\u001b[0m\u001b[0;34m\"to any output already produced.\"\u001b[0m\u001b[0;34m)\u001b[0m\u001b[0;34m\u001b[0m\u001b[0;34m\u001b[0m\u001b[0m\n\u001b[1;32m      3\u001b[0m \u001b[0;34m\u001b[0m\u001b[0m\n\u001b[0;32m----> 4\u001b[0;31m \u001b[0;36m1\u001b[0m \u001b[0;34m/\u001b[0m \u001b[0;36m0\u001b[0m\u001b[0;34m\u001b[0m\u001b[0;34m\u001b[0m\u001b[0m\n\u001b[0m",
      "\u001b[0;31mZeroDivisionError\u001b[0m: division by zero"
     ]
    }
   ],
   "source": [
    "print(\"If your Python code generates an error, the error will be displayed in addition\")\n",
    "print(\"to any output already produced.\")\n",
    "\n",
    "1 / 0"
   ]
  },
  {
   "cell_type": "markdown",
   "metadata": {
    "slideshow": {
     "slide_type": "subslide"
    }
   },
   "source": [
    "##### Keyboard shortcuts\n",
    "\n",
    "As mentioned above, `Ctrl-Enter` runs the current cell; `Alt-Enter` runs the current cell and then creates a new cell. `Enter` will start editing whichever cell is currently selected. To quit editing a cell, hit `Esc`. If the cursor isn't currently active in any cell (i.e., after you've hit `Esc`), a number of other keyboard shortcuts are available to you:\n",
    "\n",
    "* `m` converts the selected cell to a Markdown cell\n",
    "* `b` inserts a new cell below the selected one\n",
    "* `x` \"cuts\" the selected cell; `c` \"copies\" the selected cell; `v` pastes a previously cut cell below the selected cell\n",
    "* `h` brings up a help screen with many more shortcuts."
   ]
  },
  {
   "cell_type": "markdown",
   "metadata": {
    "slideshow": {
     "slide_type": "subslide"
    }
   },
   "source": [
    "### Saving your work\n",
    "\n",
    "Please note. If you use *Binder*, none of the changes you make in *Binder* will be saved. If you do make changes or notes, you will need to download the notebook to your own computer by clicking `File > Download as` > `Notebook.ipynb`.\n",
    "\n",
    "If you run *Jupyter Notebook* locally, then just hit `Cmd-S` at any time to save your notebook. Jupyter Notebook also automatically saves occasionally. Make sure to give your notebook a descriptive title by clicking on \"Untitled0\" at the top of the page and replacing the text accordingly. Notebooks you save will be available on your server whenever you log in again, from wherever you log into the server."
   ]
  },
  {
   "cell_type": "markdown",
   "metadata": {},
   "source": [
    "---\n",
    "<a class=\"anchor\" id=\"2\"></a>"
   ]
  },
  {
   "cell_type": "markdown",
   "metadata": {
    "slideshow": {
     "slide_type": "slide"
    }
   },
   "source": [
    "## 2. Virtual environment"
   ]
  },
  {
   "cell_type": "markdown",
   "metadata": {},
   "source": [
    "It is recommended to create a virtual environment for your project/ setup. All the libraries and dependencies installed for this project are isolated and won't conflict other libraries and their dependencies. The easiest way to create a virtual environment may be with **conda**, but other options like **pipenv** are also possible.\n",
    "\n",
    "Open the [command line](https://exmediawiki.khm.de/index.php/Einf%C3%BChrung_in_das_Arbeiten_mit_der_Command_Line) of your operating system (see help for [Linux](https://www.wikihow.com/Open-a-Terminal-Window-in-Ubuntu), [Mac](https://www.wikihow.com/Open-a-Terminal-Window-in-Mac), ([Windows](https://www.wikihow.com/Open-Terminal-in-Windows)) (for Windows users: open \"Anaconda Prompt\") and create a new environment. Type the following line by line and press <code>Enter</code> after each line.\n",
    "\n",
    "``` shell\n",
    "# check if conda is installed\n",
    "$ conda --version\n",
    "```\n",
    "### Create a new environment\n",
    "\n",
    "Change the name `my_environment` in the code below to a name of your choice. This is the name of your environment and you have to type it when you start it later on, so make sure it's not too long and easy to remember.\n",
    "\n",
    "``` shell\n",
    "# create a new environment\n",
    "$ conda create --name my_environment -y\n",
    "\n",
    "# create a new environment with specific python version\n",
    "$ conda create --name my_environment python=3.9 -y\n",
    "```\n",
    "\n",
    "You can see all environments created by you with the following command:\n",
    "\n",
    "```shell\n",
    "# list available environments\n",
    "$ conda env list\n",
    "```\n",
    "\n",
    "Next we can activate our newly created environment. (Of course you have to insert your environments name in the place of `my_environment`.)\n",
    "\n",
    "```shell\n",
    "# activate your environment\n",
    "$ conda activate my_environment\n",
    "```\n",
    "\n",
    "### Install external packages with conda\n",
    "\n",
    "External packages (libraries) are installed in an activated environment with the command <code>conda install packagename</code>. Install the packages jupyter and jupyterlab:\n",
    "\n",
    "```shell\n",
    "# conda install packagename\n",
    "$ conda install jupyter\n",
    "$ conda install jupyterlab\n",
    "\n",
    "# you can combine multiple packages in one line, separated by a space\n",
    "$ conda install jupyter jupyterlab -y\n",
    "```\n",
    "\n",
    "### Install external packages with pip\n",
    "\n",
    "Some libraries (external packages) are not available through conda's package manager. We can use pythons package installer **pip**. Conda does not work seamlessly with pip, but the following instructions ([from this post on stackoverflow](https://stackoverflow.com/a/43729857)) should work.\n",
    "\n",
    "First install pip within your conda environment:\n",
    "\n",
    "```shell\n",
    "$ conda activate name_of_your_environment\n",
    "$ conda install pip\n",
    "```\n",
    "\n",
    "Next we will explicitly use this pip version to install the required library:\n",
    "\n",
    "```shell\n",
    "# Get the location of your environment:\n",
    "$ conda env list\n",
    "```\n",
    "\n",
    "This returns for example:\n",
    "\n",
    "```shell\n",
    "base                     /home/username/miniconda3\n",
    "pbwp                  *  /home/username/miniconda3/envs/pbwp\n",
    "```\n",
    "\n",
    "The environment with * is the active environment.\n",
    "\n",
    "To call pip inside this environment, we have to add `/bin/pip` to the path.\n",
    "\n",
    "The command looks like this:\n",
    "\n",
    "```shell\n",
    "$ miniconda3/envs/pbwp/bin/pip install packagename\n",
    "```\n",
    "\n",
    "### Run Jupyter Lab\n",
    "\n",
    "After we have installed Jupyter Lab, we can run it from within our **activated** environment with the command:\n",
    "\n",
    "```shell\n",
    "# run jupyter lab\n",
    "# (activate the environment first)\n",
    "$ jupyter-lab\n",
    "```\n",
    "\n",
    "Depending on your needs there are some additional arguments like:\n",
    "\n",
    "```shell\n",
    "$ jupyter-lab --browser = False\n",
    "```\n",
    "\n",
    "This will not open Jupyter Lab automatically in a browser. Instead it will print a URL to the terminal, which we can paste into a browser of our choice.\n",
    "\n",
    "``` shell\n",
    "$ jupyter-lab --notebook-dir = D:/\n",
    "```\n",
    "\n",
    "Define the directory in which you want to launch Jupyter Lab. For e.g. if you're working on Windows and have your installation on C and your files on D.\n",
    "\n",
    "### Deactivate conda\n",
    "\n",
    "When we've finished our work, we can deactivate the environment with:\n",
    "\n",
    "```shell\n",
    "# deactivate environment\n",
    "$ conda deactivate\n",
    "```"
   ]
  },
  {
   "cell_type": "markdown",
   "metadata": {
    "slideshow": {
     "slide_type": "skip"
    }
   },
   "source": [
    "---\n",
    "<a class=\"anchor\" id=\"3\"></a>"
   ]
  },
  {
   "cell_type": "markdown",
   "metadata": {
    "slideshow": {
     "slide_type": "slide"
    }
   },
   "source": [
    "## 3. some little help-functions...\n",
    "The interactive interpreter has all kinds of nuggets to help you program in Python. The first one worth mentioning is the help() function. \n",
    "\n",
    "Pass any function or method as a parameter to help() and you'll get a handy description of the method or function and what it does:"
   ]
  },
  {
   "cell_type": "code",
   "execution_count": 10,
   "metadata": {
    "slideshow": {
     "slide_type": "fragment"
    }
   },
   "outputs": [
    {
     "name": "stdout",
     "output_type": "stream",
     "text": [
      "Help on built-in function len in module builtins:\n",
      "\n",
      "len(obj, /)\n",
      "    Return the number of items in a container.\n",
      "\n"
     ]
    }
   ],
   "source": [
    "help(len)"
   ]
  },
  {
   "cell_type": "markdown",
   "metadata": {
    "slideshow": {
     "slide_type": "subslide"
    }
   },
   "source": [
    "---\n",
    "if you f.ex. ask yourself what kind of *methodes* you can use to work on certain types of value...\n",
    "\n",
    "Sometimes it's helpful to be reminded of exactly which methods an object supports. \n",
    "\n",
    "You can find this out right in the interactive interpreter without having to look it up in the documentation using the `dir()` built-in function. \n",
    "\n",
    "Just pass the value (in this case the string \"hello world\") that you want to know more about to `dir()`.\n",
    "\n",
    "then you will get a list on all of the methods that the string type supports. For now, please ignore anything that begins with two underscores (__) those are special built-in methods that aren't very useful to call on their own.)\n"
   ]
  },
  {
   "cell_type": "code",
   "execution_count": 43,
   "metadata": {
    "slideshow": {
     "slide_type": "fragment"
    }
   },
   "outputs": [
    {
     "data": {
      "text/plain": [
       "['__add__',\n",
       " '__class__',\n",
       " '__contains__',\n",
       " '__delattr__',\n",
       " '__dir__',\n",
       " '__doc__',\n",
       " '__eq__',\n",
       " '__format__',\n",
       " '__ge__',\n",
       " '__getattribute__',\n",
       " '__getitem__',\n",
       " '__getnewargs__',\n",
       " '__gt__',\n",
       " '__hash__',\n",
       " '__init__',\n",
       " '__init_subclass__',\n",
       " '__iter__',\n",
       " '__le__',\n",
       " '__len__',\n",
       " '__lt__',\n",
       " '__mod__',\n",
       " '__mul__',\n",
       " '__ne__',\n",
       " '__new__',\n",
       " '__reduce__',\n",
       " '__reduce_ex__',\n",
       " '__repr__',\n",
       " '__rmod__',\n",
       " '__rmul__',\n",
       " '__setattr__',\n",
       " '__sizeof__',\n",
       " '__str__',\n",
       " '__subclasshook__',\n",
       " 'capitalize',\n",
       " 'casefold',\n",
       " 'center',\n",
       " 'count',\n",
       " 'encode',\n",
       " 'endswith',\n",
       " 'expandtabs',\n",
       " 'find',\n",
       " 'format',\n",
       " 'format_map',\n",
       " 'index',\n",
       " 'isalnum',\n",
       " 'isalpha',\n",
       " 'isascii',\n",
       " 'isdecimal',\n",
       " 'isdigit',\n",
       " 'isidentifier',\n",
       " 'islower',\n",
       " 'isnumeric',\n",
       " 'isprintable',\n",
       " 'isspace',\n",
       " 'istitle',\n",
       " 'isupper',\n",
       " 'join',\n",
       " 'ljust',\n",
       " 'lower',\n",
       " 'lstrip',\n",
       " 'maketrans',\n",
       " 'partition',\n",
       " 'replace',\n",
       " 'rfind',\n",
       " 'rindex',\n",
       " 'rjust',\n",
       " 'rpartition',\n",
       " 'rsplit',\n",
       " 'rstrip',\n",
       " 'split',\n",
       " 'splitlines',\n",
       " 'startswith',\n",
       " 'strip',\n",
       " 'swapcase',\n",
       " 'title',\n",
       " 'translate',\n",
       " 'upper',\n",
       " 'zfill']"
      ]
     },
     "execution_count": 43,
     "metadata": {},
     "output_type": "execute_result"
    }
   ],
   "source": [
    "dir(\"hello world\")"
   ]
  },
  {
   "cell_type": "markdown",
   "metadata": {
    "slideshow": {
     "slide_type": "subslide"
    }
   },
   "source": [
    "---\n",
    "If you want to know more about one method in particular, you can type this:"
   ]
  },
  {
   "cell_type": "code",
   "execution_count": 33,
   "metadata": {
    "slideshow": {
     "slide_type": "fragment"
    }
   },
   "outputs": [
    {
     "name": "stdout",
     "output_type": "stream",
     "text": [
      "Help on built-in function swapcase:\n",
      "\n",
      "swapcase() method of builtins.str instance\n",
      "    Convert uppercase characters to lowercase and lowercase characters to uppercase.\n",
      "\n"
     ]
    },
    {
     "data": {
      "text/plain": [
       "'hELLO wORLD'"
      ]
     },
     "execution_count": 33,
     "metadata": {},
     "output_type": "execute_result"
    }
   ],
   "source": [
    "help(\"\".swapcase)\n",
    "\"Hello World\".swapcase()"
   ]
  },
  {
   "cell_type": "markdown",
   "metadata": {
    "slideshow": {
     "slide_type": "subslide"
    }
   },
   "source": [
    "---\n",
    "You can look up how f.ex. the `range` function is defined and what options it provides by going to the `?` documentation:"
   ]
  },
  {
   "cell_type": "code",
   "execution_count": 37,
   "metadata": {
    "slideshow": {
     "slide_type": "fragment"
    }
   },
   "outputs": [
    {
     "name": "stdout",
     "output_type": "stream",
     "text": [
      "0\n",
      "1\n",
      "2\n",
      "3\n"
     ]
    }
   ],
   "source": [
    "range?\n",
    "for i in range(4):\n",
    "    print(i)"
   ]
  }
 ],
 "metadata": {
  "kernelspec": {
   "display_name": "Python 3",
   "language": "python",
   "name": "python3"
  },
  "language_info": {
   "codemirror_mode": {
    "name": "ipython",
    "version": 3
   },
   "file_extension": ".py",
   "mimetype": "text/x-python",
   "name": "python",
   "nbconvert_exporter": "python",
   "pygments_lexer": "ipython3",
   "version": "3.8.3"
  },
  "toc": {
   "base_numbering": 1,
   "nav_menu": {},
   "number_sections": true,
   "sideBar": true,
   "skip_h1_title": false,
   "title_cell": "Table of Contents",
   "title_sidebar": "Contents",
   "toc_cell": false,
   "toc_position": {},
   "toc_section_display": true,
   "toc_window_display": true
  }
 },
 "nbformat": 4,
 "nbformat_minor": 4
}
