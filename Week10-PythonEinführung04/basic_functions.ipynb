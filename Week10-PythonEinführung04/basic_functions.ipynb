{
 "cells": [
  {
   "cell_type": "markdown",
   "metadata": {},
   "source": [
    "# Introduction to Functions in Python\n",
    "A function is a block of code that performs a specific task. Functions allow you to reuse code, making your programs more modular and easier to read and maintain. `function` is, in mathematics, an expression, rule, or law that defines a relationship between one variable (the independent variable) and another variable (the dependent variable). For example `𝑓(𝑥)= 𝑥+2`, with the input x, the out put will be x+2. The same sturcture is used in programming language, in which the functions execute a pile of code after an input and returns something as results (output).\n",
    "\n",
    "In Python, you can define a function using the `def` keyword, followed by the function name and a set of parentheses that may include parameters. The code block within the function starts with a colon (`:`) and is indented."
   ]
  },
  {
   "cell_type": "markdown",
   "metadata": {},
   "source": [
    "## Build-in functions\n",
    "\n",
    "In Python, a built-in function is a function that is available to you without the need to import any additional modules. These functions are part of the Python language and are always available to you.\n",
    "we have already used a lot of them already. For example `print(\"hello world!\")` is a built-in function, with one input and no output. "
   ]
  },
  {
   "cell_type": "code",
   "execution_count": 1,
   "metadata": {},
   "outputs": [
    {
     "name": "stdout",
     "output_type": "stream",
     "text": [
      "hello world!\n"
     ]
    }
   ],
   "source": [
    "print(\"hello world!\")"
   ]
  },
  {
   "cell_type": "markdown",
   "metadata": {},
   "source": [
    "`abs` is also a built-in function, which output a absolute number as output."
   ]
  },
  {
   "cell_type": "code",
   "execution_count": 2,
   "metadata": {},
   "outputs": [
    {
     "name": "stdout",
     "output_type": "stream",
     "text": [
      "1\n"
     ]
    }
   ],
   "source": [
    "print(abs(-1))"
   ]
  },
  {
   "cell_type": "markdown",
   "metadata": {},
   "source": [
    "Here are some examples of built-in functions in Python:\n",
    "\n",
    "- abs(): returns the absolute value of a number\n",
    "- bin(): returns the binary representation of an integer\n",
    "- bool(): returns the boolean value of an expression\n",
    "- enumerate(): returns an iterator that produces tuples containing the index and the value of each element of an iterable\n",
    "- float(): returns a floating point number constructed from a number or string\n",
    "- int(): returns an integer constructed from a number or string\n",
    "- len(): returns the length of an object\n",
    "- max(): returns the maximum value of an iterable\n",
    "- min(): returns the minimum value of an iterable\n",
    "- sorted(): returns a new sorted list from an iterable\n",
    "- str(): returns a string representation of an object\n",
    "- sum(): returns the sum of an iterable"
   ]
  },
  {
   "cell_type": "markdown",
   "metadata": {},
   "source": [
    "## Defining a function\n",
    "\n",
    "The keyword to **define** a function is `def`, followed by a name of our choice, which we will then use to call the function.\n",
    "\n",
    "<div class=\"alert alert-box alert-success\">\n",
    "    The name of our function is followed by two `()`. It defines the area for input data. With variable names of our choice we can access this data inside the function.\n",
    "</div>\n",
    "\n",
    "One of the main reason we define a function, is that some code might need to go multiple times, and it is simple to have a functions that tidy the code without needing to copy-paste everything. Here is a simple example of a function that takes in a parameter and returns the square of that number:\n"
   ]
  },
  {
   "cell_type": "code",
   "execution_count": 3,
   "metadata": {},
   "outputs": [
    {
     "name": "stdout",
     "output_type": "stream",
     "text": [
      "4\n",
      "9\n"
     ]
    }
   ],
   "source": [
    "def square(x):\n",
    "    return x**2\n",
    "\n",
    "print(square(2)) # prints 4\n",
    "print(square(3)) # prints 9"
   ]
  },
  {
   "cell_type": "markdown",
   "metadata": {},
   "source": [
    "## Parameters and Arguments\n",
    "\n",
    "The variable defined in functions are called parameters, and the input we placed in is called "
   ]
  },
  {
   "cell_type": "code",
   "execution_count": 8,
   "metadata": {},
   "outputs": [
    {
     "name": "stdout",
     "output_type": "stream",
     "text": [
      "hi\n"
     ]
    }
   ],
   "source": [
    "def example(parameter):\n",
    "    print(parameter)\n",
    "\n",
    "argument = 'hi';\n",
    "example(argument);"
   ]
  },
  {
   "cell_type": "markdown",
   "metadata": {},
   "source": [
    "## Functions examples\n",
    "here are example of the usage of function, which helps us repeat certain task."
   ]
  },
  {
   "cell_type": "code",
   "execution_count": 1,
   "metadata": {},
   "outputs": [],
   "source": [
    "#define a simple function with no input and return one output\n",
    "\n",
    "import random \n",
    "\n",
    "def rollDice():\n",
    "    return random.randint(1,6)"
   ]
  },
  {
   "cell_type": "code",
   "execution_count": 2,
   "metadata": {},
   "outputs": [
    {
     "data": {
      "text/plain": [
       "3"
      ]
     },
     "execution_count": 2,
     "metadata": {},
     "output_type": "execute_result"
    }
   ],
   "source": [
    "rollDice()"
   ]
  },
  {
   "cell_type": "code",
   "execution_count": 3,
   "metadata": {},
   "outputs": [
    {
     "data": {
      "text/plain": [
       "5"
      ]
     },
     "execution_count": 3,
     "metadata": {},
     "output_type": "execute_result"
    }
   ],
   "source": [
    "# define a function which returns the larger number\n",
    "def findLargerNumber(num1,num2):\n",
    "    if(num1 > num2):\n",
    "        return num1\n",
    "    elif(num2 > num1):\n",
    "        return num2\n",
    "    else:\n",
    "        return num1\n",
    "    \n",
    "findLargerNumber(5,3)"
   ]
  },
  {
   "cell_type": "markdown",
   "metadata": {},
   "source": [
    "you can define functions that return multiple values by separating the values with a comma. These values will be packed into a tuple."
   ]
  },
  {
   "cell_type": "code",
   "execution_count": 4,
   "metadata": {},
   "outputs": [
    {
     "name": "stdout",
     "output_type": "stream",
     "text": [
      "Minimum value: 1\n",
      "Maximum value: 5\n"
     ]
    }
   ],
   "source": [
    "def min_max(numbers):\n",
    "    return min(numbers), max(numbers)\n",
    "\n",
    "nums = [1, 2, 3, 4, 5]\n",
    "min_val, max_val = min_max(nums)\n",
    "print(f\"Minimum value: {min_val}\") # prints \"Minimum value: 1\"\n",
    "print(f\"Maximum value: {max_val}\") # prints \"Maximum value: 5\""
   ]
  },
  {
   "cell_type": "code",
   "execution_count": null,
   "metadata": {},
   "outputs": [],
   "source": []
  },
  {
   "cell_type": "code",
   "execution_count": null,
   "metadata": {},
   "outputs": [],
   "source": []
  }
 ],
 "metadata": {
  "kernelspec": {
   "display_name": "Python 3",
   "language": "python",
   "name": "python3"
  },
  "language_info": {
   "codemirror_mode": {
    "name": "ipython",
    "version": 3
   },
   "file_extension": ".py",
   "mimetype": "text/x-python",
   "name": "python",
   "nbconvert_exporter": "python",
   "pygments_lexer": "ipython3",
   "version": "3.8.3"
  }
 },
 "nbformat": 4,
 "nbformat_minor": 4
}
