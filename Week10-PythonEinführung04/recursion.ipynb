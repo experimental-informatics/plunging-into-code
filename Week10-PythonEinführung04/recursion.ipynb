{
 "cells": [
  {
   "cell_type": "markdown",
   "metadata": {},
   "source": [
    "# Recursion\n",
    "\n",
    "Recursion is a classical algorithm, which a huge topic on its own and this is only a brief introduction. In programming, a recursive function is a function that calls itself as part of its execution. Recursion can be a useful technique for solving problems that can be divided into smaller, similar subproblems, as it allows you to break down a large, complex problem into simpler pieces and solve each piece separately. Functions can be **recursive** which means that they can call themselve from inside themselve.\n",
    "\n",
    "Fractal or L-system are also one of the application of recursion.\n",
    "![l-system](https://seresk.com/assets/img/l_fractal.png)\n",
    "\n",
    "Here is a simple example of a recursive function in Python that calculates the factorial of a number:"
   ]
  },
  {
   "cell_type": "code",
   "execution_count": 9,
   "metadata": {},
   "outputs": [
    {
     "name": "stdout",
     "output_type": "stream",
     "text": [
      "120\n"
     ]
    }
   ],
   "source": [
    "def factorial(n):\n",
    "    if n == 1:\n",
    "        return 1\n",
    "    else:\n",
    "        return n * factorial(n-1)\n",
    "\n",
    "print(factorial(5)) # prints 120 (5 x 4 x 3 x 2 x 1)"
   ]
  },
  {
   "cell_type": "markdown",
   "metadata": {},
   "source": [
    "In this example, the `factorial()` function calls itself with a value for `n` that is one less than the current value of `n`. This process continues until n is equal to `1`, at which point the function returns `1` and the recursive calls start returning their results, working their way back up the call chain.\n",
    "\n",
    "It's important to include a base case in a recursive function, like the `if n == 1` check in the example above, to prevent the function from entering an infinite loop. Without a base case, the function would continue calling itself indefinitely."
   ]
  },
  {
   "cell_type": "markdown",
   "metadata": {},
   "source": [
    "Here is an example of a recursive function in Python that calculates the nth number in the Fibonacci sequence:"
   ]
  },
  {
   "cell_type": "code",
   "execution_count": 10,
   "metadata": {},
   "outputs": [
    {
     "name": "stdout",
     "output_type": "stream",
     "text": [
      "0\n",
      "1\n",
      "1\n",
      "2\n",
      "3\n",
      "5\n"
     ]
    }
   ],
   "source": [
    "# Fibonacci sequence \n",
    "def fibonacci(n):\n",
    "    if n == 0:\n",
    "        return 0\n",
    "    elif n == 1:\n",
    "        return 1\n",
    "    else:\n",
    "        return fibonacci(n-1) + fibonacci(n-2)\n",
    "\n",
    "print(fibonacci(0)) # prints 0\n",
    "print(fibonacci(1)) # prints 1\n",
    "print(fibonacci(2)) # prints 1\n",
    "print(fibonacci(3)) # prints 2\n",
    "print(fibonacci(4)) # prints 3\n",
    "print(fibonacci(5)) # prints 5"
   ]
  },
  {
   "cell_type": "code",
   "execution_count": 11,
   "metadata": {},
   "outputs": [
    {
     "name": "stdout",
     "output_type": "stream",
     "text": [
      "0\n",
      "1\n",
      "1\n",
      "2\n",
      "3\n",
      "5\n",
      "8\n",
      "13\n",
      "21\n",
      "34\n"
     ]
    }
   ],
   "source": [
    "for i in range(10):\n",
    "    print(fibonacci(i))"
   ]
  },
  {
   "cell_type": "markdown",
   "metadata": {},
   "source": [
    "In this example, the `fibonacci()` function calls itself with values for `n` that are one and two less than the current value of `n`. This process continues until `n` is equal to 0 or 1, at which point the function returns 0 or 1, respectively. The recursive calls then start returning their results, working their way back up the call chain, and the final result is the sum of the two most recent results.\n",
    "\n",
    "The Fibonacci sequence is a series of numbers in which each number is the sum of the two preceding ones, usually starting with 0 and 1. The first few numbers of the Fibonacci sequence are 0, 1, 1, 2, 3, 5, 8, 13, 21, 34, and so on."
   ]
  },
  {
   "cell_type": "markdown",
   "metadata": {},
   "source": [
    "## Binary Search \n",
    "\n",
    "Binary search is an algorithm that is used to search for a specific value in a **sorted list**. It works by dividing the list in half and comparing the value to the element at the midpoint of the list. If the value is greater than the element at the midpoint, the algorithm searches the right half of the list. If the value is less than the element at the midpoint, the algorithm searches the left half of the list. This process is repeated until the value is found or it is determined that the value is not in the list.\n",
    "\n",
    "Binary search is an efficient algorithm for searching large lists because it reduces the search space by half at each step. This means that the worst-case time complexity of binary search is **O(log n)**, where n is the size of the list. This is much faster than a linear search, which has a worst-case time complexity of **O(n)**.\n",
    "\n",
    "To use binary search, **the list must be sorted** in ascending order. If the list is not sorted, it must be sorted before binary search can be used.\n",
    "\n",
    "- Example of time complexity based on `sequential search` and `binary search`\n",
    "\n",
    "![](data/binary-search.gif)\n",
    "\n",
    "Here is an example of a binary search function that uses recursion to search for a specific value in a sorted list:"
   ]
  },
  {
   "cell_type": "code",
   "execution_count": 4,
   "metadata": {},
   "outputs": [
    {
     "name": "stdout",
     "output_type": "stream",
     "text": [
      "low: 0\t high6\n",
      "low: 0\t high2\n",
      "low: 2\t high2\n",
      "2\n",
      "low: 0\t high6\n",
      "low: 4\t high6\n",
      "low: 4\t high4\n",
      "None\n",
      "low: 0\t high6\n",
      "low: 4\t high6\n",
      "low: 6\t high6\n",
      "6\n"
     ]
    }
   ],
   "source": [
    "def binary_search(lst, value, low=0, high=None):\n",
    "    # Set the initial high index\n",
    "    if high is None:\n",
    "        high = len(lst) - 1\n",
    "    \n",
    "    # Check if the value is not in the list\n",
    "    if low > high:\n",
    "        return None\n",
    "    \n",
    "    # Calculate the midpoint of the list\n",
    "    mid = (low + high) // 2\n",
    "    print(f\"low: {low}\\t high{high}\")\n",
    "\n",
    "    # Check if the value is at the midpoint\n",
    "    if lst[mid] == value:\n",
    "        return mid    \n",
    "    # Recursively search the left or right half of the list\n",
    "    elif lst[mid] > value:\n",
    "        # Search the left half\n",
    "        new_high = mid - 1\n",
    "        return binary_search(lst, value, low, new_high)\n",
    "    else:\n",
    "        # Search the right half\n",
    "        new_low = mid + 1\n",
    "        return binary_search(lst, value, new_low, high)\n",
    "\n",
    "# Test the binary search function\n",
    "lst = [1, 3, 4, 6, 8, 9, 11]\n",
    "print(binary_search(lst, 4)) # Output: 2\n",
    "print(binary_search(lst, 7)) # Output: None\n",
    "print(binary_search(lst, 11)) # Output: 6"
   ]
  },
  {
   "cell_type": "markdown",
   "metadata": {},
   "source": [
    "### Binary Sort\n",
    "\n",
    "once we've learned how binary search works, it's also possible to do binary sort.\n"
   ]
  },
  {
   "cell_type": "code",
   "execution_count": null,
   "metadata": {},
   "outputs": [],
   "source": [
    "def binary_search(lst, value,low=0,high=None):\n",
    "    if high = None:\n",
    "        high = len(lst)-1\n",
    "    if low > high:\n",
    "        #do stuff#\n",
    "    \n",
    "    mid = (low+high) // 2\n",
    "    \n",
    "    if(lst[mid] > value):\n",
    "        new_high = mid - 1\n",
    "        return binary_search(lst,value,low,new_high)\n",
    "    elif(lst[mid] < value):\n",
    "        new_low = mid + 1\n",
    "        return binary_search(lst,value,new_low,high)\n",
    "    \n",
    "    \n",
    "lst = [3,6,1,7,10,11,1,4]\n",
    "sorted_lst = binary_sort(lst)\n",
    "print(sorted_lst)"
   ]
  },
  {
   "cell_type": "markdown",
   "metadata": {},
   "source": [
    "## Fractal (Sierpinski triangle)\n",
    "\n",
    "The Sierpinski triangle is a fractal pattern that was first described by mathematician Wacław Sierpiński in 1915. It is named after him.\n",
    "\n",
    "Sierpiński was a Polish mathematician who is known for his work on set theory, number theory, and geometry. He is particularly famous for his contributions to the study of fractals, which are self-similar geometric shapes that can be divided into smaller copies of themselves. The Sierpinski triangle is one of the simplest and most well-known examples of a fractal.\n",
    "\n",
    "The Sierpinski triangle can be created by starting with a single equilateral triangle and recursively removing the inner triangles formed by connecting the midpoints of the sides. This process can be repeated indefinitely, resulting in a pattern with an infinite number of triangles of decreasing size. The resulting pattern is known as a Sierpinski triangle.\n",
    "\n",
    "\n",
    "Here is a simple example of how you can use the Python Imaging Library (PIL) to draw a fractal pattern, in this case a Sierpinski triangle:\n"
   ]
  },
  {
   "cell_type": "code",
   "execution_count": 12,
   "metadata": {},
   "outputs": [
    {
     "data": {
      "image/png": "[encoded data removed]",
      "text/plain": [
       "<PIL.Image.Image image mode=RGB size=600x600 at 0x7FFCB00BB2E0>"
      ]
     },
     "metadata": {},
     "output_type": "display_data"
    }
   ],
   "source": [
    "from PIL import Image, ImageDraw\n",
    "\n",
    "def draw_triangle(draw, points, level):\n",
    "  # Base case: draw a triangle using the given points\n",
    "  if level == 0:\n",
    "    draw.polygon(points, fill=(255, 255, 255))\n",
    "  # Recursive case: draw three smaller triangles\n",
    "  else:\n",
    "    # Calculate the midpoints of the sides of the triangle\n",
    "    mid_top = ((points[0][0] + points[1][0]) // 2, (points[0][1] + points[1][1]) // 2)\n",
    "    mid_left = ((points[1][0] + points[2][0]) // 2, (points[1][1] + points[2][1]) // 2)\n",
    "    mid_right = ((points[2][0] + points[0][0]) // 2, (points[2][1] + points[0][1]) // 2)\n",
    "    # Recursively draw the three smaller triangles\n",
    "    draw_triangle(draw, [points[0], mid_top, mid_right], level - 1) #top triangle\n",
    "    draw_triangle(draw, [mid_top, points[1], mid_left], level - 1) #left triangle\n",
    "    draw_triangle(draw, [mid_right, mid_left, points[2]], level - 1) #right triangle\n",
    "\n",
    "# Create a blank image and a drawing object\n",
    "img = Image.new(\"RGB\", (600, 600), \"black\")\n",
    "draw = ImageDraw.Draw(img)\n",
    "\n",
    "# Set the initial points and recursion level for the Sierpinski triangle\n",
    "points = [(100, 100), (500, 100), (300, 400)]\n",
    "level = 5\n",
    "\n",
    "# Draw the Sierpinski triangle\n",
    "draw_triangle(draw, points, level)\n",
    "\n",
    "# Save the image\n",
    "#img.save(\"sierpinski_triangle.png\")\n",
    "display(img)"
   ]
  },
  {
   "cell_type": "markdown",
   "metadata": {},
   "source": [
    "This code defines a function called draw_triangle() that uses a recursive algorithm to draw a Sierpinski triangle using a PIL drawing object, a list of points representing the vertices of the triangle, and a recursion level. The function works by defining a base case and a recursive case: the base case simply draws a triangle using the given points, and the recursive case calculates the midpoints of the sides of the triangle and then recursively calls itself to draw three smaller triangles using these midpoints as the vertices."
   ]
  }
 ],
 "metadata": {
  "kernelspec": {
   "display_name": "Python 3",
   "language": "python",
   "name": "python3"
  },
  "language_info": {
   "codemirror_mode": {
    "name": "ipython",
    "version": 3
   },
   "file_extension": ".py",
   "mimetype": "text/x-python",
   "name": "python",
   "nbconvert_exporter": "python",
   "pygments_lexer": "ipython3",
   "version": "3.8.3"
  }
 },
 "nbformat": 4,
 "nbformat_minor": 4
}
