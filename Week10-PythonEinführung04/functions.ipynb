{
 "cells": [
  {
   "cell_type": "markdown",
   "metadata": {},
   "source": [
    "# Introduction to Functions in Python\n",
    "A function is a block of code that performs a specific task. Functions allow you to reuse code, making your programs more modular and easier to read and maintain. `function` is, in mathematics, an expression, rule, or law that defines a relationship between one variable (the independent variable) and another variable (the dependent variable). For example `𝑓(𝑥)= 𝑥+2`, with the input x, the out put will be x+2. The same sturcture is used in programming language, in which the functions execute a pile of code after an input and returns something as results (output).\n",
    "\n",
    "In Python, you can define a function using the `def` keyword, followed by the function name and a set of parentheses that may include parameters. The code block within the function starts with a colon (`:`) and is indented."
   ]
  },
  {
   "cell_type": "markdown",
   "metadata": {},
   "source": [
    "## Build-in functions\n",
    "\n",
    "In Python, a built-in function is a function that is available to you without the need to import any additional modules. These functions are part of the Python language and are always available to you.\n",
    "we have already used a lot of them already. For example `print(\"hello world!\")` is a built-in function, with one input and no output. "
   ]
  },
  {
   "cell_type": "code",
   "execution_count": 1,
   "metadata": {},
   "outputs": [
    {
     "name": "stdout",
     "output_type": "stream",
     "text": [
      "hello world!\n"
     ]
    }
   ],
   "source": [
    "print(\"hello world!\")"
   ]
  },
  {
   "cell_type": "markdown",
   "metadata": {},
   "source": [
    "`abs` is also a built-in function, which output a absolute number as output."
   ]
  },
  {
   "cell_type": "code",
   "execution_count": 2,
   "metadata": {},
   "outputs": [
    {
     "name": "stdout",
     "output_type": "stream",
     "text": [
      "1\n"
     ]
    }
   ],
   "source": [
    "print(abs(-1))"
   ]
  },
  {
   "cell_type": "markdown",
   "metadata": {},
   "source": [
    "Here are some examples of built-in functions in Python:\n",
    "\n",
    "- abs(): returns the absolute value of a number\n",
    "- bin(): returns the binary representation of an integer\n",
    "- bool(): returns the boolean value of an expression\n",
    "- enumerate(): returns an iterator that produces tuples containing the index and the value of each element of an iterable\n",
    "- float(): returns a floating point number constructed from a number or string\n",
    "- int(): returns an integer constructed from a number or string\n",
    "- len(): returns the length of an object\n",
    "- max(): returns the maximum value of an iterable\n",
    "- min(): returns the minimum value of an iterable\n",
    "- sorted(): returns a new sorted list from an iterable\n",
    "- str(): returns a string representation of an object\n",
    "- sum(): returns the sum of an iterable"
   ]
  },
  {
   "cell_type": "markdown",
   "metadata": {},
   "source": [
    "## Defining a function\n",
    "\n",
    "The keyword to **define** a function is `def`, followed by a name of our choice, which we will then use to call the function.\n",
    "\n",
    "<div class=\"alert alert-box alert-success\">\n",
    "    The name of our function is followed by two `()`. It defines the area for input data. With variable names of our choice we can access this data inside the function.\n",
    "</div>\n",
    "\n",
    "One of the main reason we define a function, is that some code might need to go multiple times, and it is simple to have a functions that tidy the code without needing to copy-paste everything. Here is a simple example of a function that takes in a parameter and returns the square of that number:\n"
   ]
  },
  {
   "cell_type": "code",
   "execution_count": 3,
   "metadata": {},
   "outputs": [
    {
     "name": "stdout",
     "output_type": "stream",
     "text": [
      "4\n",
      "9\n"
     ]
    }
   ],
   "source": [
    "def square(x):\n",
    "    return x**2\n",
    "\n",
    "print(square(2)) # prints 4\n",
    "print(square(3)) # prints 9"
   ]
  },
  {
   "cell_type": "code",
   "execution_count": 4,
   "metadata": {},
   "outputs": [
    {
     "data": {
      "text/plain": [
       "5"
      ]
     },
     "execution_count": 4,
     "metadata": {},
     "output_type": "execute_result"
    }
   ],
   "source": [
    "# define a function which returns the larger number\n",
    "def findLargerNumber(num1,num2):\n",
    "    if(num1 > num2):\n",
    "        return num1\n",
    "    elif(num2 > num1):\n",
    "        return num2\n",
    "    else:\n",
    "        return num1\n",
    "    \n",
    "findLargerNumber(5,3)"
   ]
  },
  {
   "cell_type": "markdown",
   "metadata": {},
   "source": [
    "you can define functions that return multiple values by separating the values with a comma. These values will be packed into a tuple."
   ]
  },
  {
   "cell_type": "code",
   "execution_count": 5,
   "metadata": {},
   "outputs": [
    {
     "name": "stdout",
     "output_type": "stream",
     "text": [
      "Minimum value: 1\n",
      "Maximum value: 5\n"
     ]
    }
   ],
   "source": [
    "def min_max(numbers):\n",
    "    return min(numbers), max(numbers)\n",
    "\n",
    "nums = [1, 2, 3, 4, 5]\n",
    "min_val, max_val = min_max(nums)\n",
    "print(f\"Minimum value: {min_val}\") # prints \"Minimum value: 1\"\n",
    "print(f\"Maximum value: {max_val}\") # prints \"Maximum value: 5\""
   ]
  },
  {
   "cell_type": "code",
   "execution_count": 6,
   "metadata": {},
   "outputs": [],
   "source": [
    "#define a simple function with no input and return one output\n",
    "\n",
    "import random \n",
    "\n",
    "def rollDice():\n",
    "    return random.randint(1,6)"
   ]
  },
  {
   "cell_type": "code",
   "execution_count": 7,
   "metadata": {},
   "outputs": [
    {
     "data": {
      "text/plain": [
       "3"
      ]
     },
     "execution_count": 7,
     "metadata": {},
     "output_type": "execute_result"
    }
   ],
   "source": [
    "rollDice()"
   ]
  },
  {
   "cell_type": "markdown",
   "metadata": {},
   "source": [
    "## Parameters and Arguments\n",
    "\n",
    "The variable defined in functions are called parameters, and the input we placed in is called "
   ]
  },
  {
   "cell_type": "code",
   "execution_count": 8,
   "metadata": {},
   "outputs": [
    {
     "name": "stdout",
     "output_type": "stream",
     "text": [
      "hi\n"
     ]
    }
   ],
   "source": [
    "def example(parameter):\n",
    "    print(parameter)\n",
    "\n",
    "argument = 'hi';\n",
    "example(argument);"
   ]
  },
  {
   "cell_type": "markdown",
   "metadata": {},
   "source": [
    "# Recursion\n",
    "\n",
    "Recursion is a classical algorithm, which a huge topic on its own and this is only a brief introduction. In programming, a recursive function is a function that calls itself as part of its execution. Recursion can be a useful technique for solving problems that can be divided into smaller, similar subproblems, as it allows you to break down a large, complex problem into simpler pieces and solve each piece separately. Functions can be **recursive** which means that they can call themselve from inside themselve.\n",
    "\n",
    "Fractal or L-system are also one of the application of recursion.\n",
    "![l-system](https://seresk.com/assets/img/l_fractal.png)\n",
    "\n",
    "Here is a simple example of a recursive function in Python that calculates the factorial of a number:"
   ]
  },
  {
   "cell_type": "code",
   "execution_count": 9,
   "metadata": {},
   "outputs": [
    {
     "name": "stdout",
     "output_type": "stream",
     "text": [
      "120\n"
     ]
    }
   ],
   "source": [
    "def factorial(n):\n",
    "    if n == 1:\n",
    "        return 1\n",
    "    else:\n",
    "        return n * factorial(n-1)\n",
    "\n",
    "print(factorial(5)) # prints 120 (5 x 4 x 3 x 2 x 1)"
   ]
  },
  {
   "cell_type": "markdown",
   "metadata": {},
   "source": [
    "In this example, the `factorial()` function calls itself with a value for `n` that is one less than the current value of `n`. This process continues until n is equal to `1`, at which point the function returns `1` and the recursive calls start returning their results, working their way back up the call chain.\n",
    "\n",
    "It's important to include a base case in a recursive function, like the `if n == 1` check in the example above, to prevent the function from entering an infinite loop. Without a base case, the function would continue calling itself indefinitely."
   ]
  },
  {
   "cell_type": "markdown",
   "metadata": {},
   "source": [
    "Here is an example of a recursive function in Python that calculates the nth number in the Fibonacci sequence:"
   ]
  },
  {
   "cell_type": "code",
   "execution_count": 10,
   "metadata": {},
   "outputs": [
    {
     "name": "stdout",
     "output_type": "stream",
     "text": [
      "0\n",
      "1\n",
      "1\n",
      "2\n",
      "3\n",
      "5\n"
     ]
    }
   ],
   "source": [
    "# Fibonacci sequence \n",
    "def fibonacci(n):\n",
    "    if n == 0:\n",
    "        return 0\n",
    "    elif n == 1:\n",
    "        return 1\n",
    "    else:\n",
    "        return fibonacci(n-1) + fibonacci(n-2)\n",
    "\n",
    "print(fibonacci(0)) # prints 0\n",
    "print(fibonacci(1)) # prints 1\n",
    "print(fibonacci(2)) # prints 1\n",
    "print(fibonacci(3)) # prints 2\n",
    "print(fibonacci(4)) # prints 3\n",
    "print(fibonacci(5)) # prints 5"
   ]
  },
  {
   "cell_type": "code",
   "execution_count": 11,
   "metadata": {},
   "outputs": [
    {
     "name": "stdout",
     "output_type": "stream",
     "text": [
      "0\n",
      "1\n",
      "1\n",
      "2\n",
      "3\n",
      "5\n",
      "8\n",
      "13\n",
      "21\n",
      "34\n"
     ]
    }
   ],
   "source": [
    "for i in range(10):\n",
    "    print(fibonacci(i))"
   ]
  },
  {
   "cell_type": "markdown",
   "metadata": {},
   "source": [
    "In this example, the `fibonacci()` function calls itself with values for `n` that are one and two less than the current value of `n`. This process continues until `n` is equal to 0 or 1, at which point the function returns 0 or 1, respectively. The recursive calls then start returning their results, working their way back up the call chain, and the final result is the sum of the two most recent results.\n",
    "\n",
    "The Fibonacci sequence is a series of numbers in which each number is the sum of the two preceding ones, usually starting with 0 and 1. The first few numbers of the Fibonacci sequence are 0, 1, 1, 2, 3, 5, 8, 13, 21, 34, and so on."
   ]
  },
  {
   "cell_type": "markdown",
   "metadata": {},
   "source": [
    "# Fractal (Sierpinski triangle)\n",
    "\n",
    "Here is a simple example of how you can use the Python Imaging Library (PIL) to draw a fractal pattern, in this case a Sierpinski triangle:\n"
   ]
  },
  {
   "cell_type": "code",
   "execution_count": 13,
   "metadata": {},
   "outputs": [
    {
     "data": {
      "image/png": "[encoded data removed]",
      "text/plain": [
       "<PIL.Image.Image image mode=RGB size=600x600 at 0x7FC9504C3220>"
      ]
     },
     "metadata": {},
     "output_type": "display_data"
    }
   ],
   "source": [
    "from PIL import Image, ImageDraw\n",
    "\n",
    "def draw_triangle(draw, points, level):\n",
    "  # Base case: draw a triangle using the given points\n",
    "  if level == 0:\n",
    "    draw.polygon(points, fill=(255, 255, 255))\n",
    "  # Recursive case: draw three smaller triangles\n",
    "  else:\n",
    "    # Calculate the midpoints of the sides of the triangle\n",
    "    mid_top = ((points[0][0] + points[1][0]) // 2, (points[0][1] + points[1][1]) // 2)\n",
    "    mid_left = ((points[1][0] + points[2][0]) // 2, (points[1][1] + points[2][1]) // 2)\n",
    "    mid_right = ((points[2][0] + points[0][0]) // 2, (points[2][1] + points[0][1]) // 2)\n",
    "    # Recursively draw the three smaller triangles\n",
    "    draw_triangle(draw, [points[0], mid_top, mid_right], level - 1) #top triangle\n",
    "    draw_triangle(draw, [mid_top, points[1], mid_left], level - 1) #left triangle\n",
    "    draw_triangle(draw, [mid_right, mid_left, points[2]], level - 1) #right triangle\n",
    "\n",
    "# Create a blank image and a drawing object\n",
    "img = Image.new(\"RGB\", (600, 600), \"black\")\n",
    "draw = ImageDraw.Draw(img)\n",
    "\n",
    "# Set the initial points and recursion level for the Sierpinski triangle\n",
    "points = [(100, 100), (500, 100), (300, 400)]\n",
    "level = 5\n",
    "\n",
    "# Draw the Sierpinski triangle\n",
    "draw_triangle(draw, points, level)\n",
    "\n",
    "# Save the image\n",
    "#img.save(\"sierpinski_triangle.png\")\n",
    "display(img)"
   ]
  },
  {
   "cell_type": "markdown",
   "metadata": {},
   "source": [
    "This code defines a function called draw_triangle() that uses a recursive algorithm to draw a Sierpinski triangle using a PIL drawing object, a list of points representing the vertices of the triangle, and a recursion level. The function works by defining a base case and a recursive case: the base case simply draws a triangle using the given points, and the recursive case calculates the midpoints of the sides of the triangle and then recursively calls itself to draw three smaller triangles using these midpoints as the vertices."
   ]
  },
  {
   "cell_type": "code",
   "execution_count": null,
   "metadata": {},
   "outputs": [],
   "source": []
  }
 ],
 "metadata": {
  "kernelspec": {
   "display_name": "Python 3",
   "language": "python",
   "name": "python3"
  },
  "language_info": {
   "codemirror_mode": {
    "name": "ipython",
    "version": 3
   },
   "file_extension": ".py",
   "mimetype": "text/x-python",
   "name": "python",
   "nbconvert_exporter": "python",
   "pygments_lexer": "ipython3",
   "version": "3.8.3"
  }
 },
 "nbformat": 4,
 "nbformat_minor": 4
}
