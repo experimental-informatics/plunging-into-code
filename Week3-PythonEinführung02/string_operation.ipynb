{
 "cells": [
  {
   "cell_type": "markdown",
   "metadata": {},
   "source": [
    "# Python: Strings"
   ]
  },
  {
   "cell_type": "markdown",
   "metadata": {},
   "source": [
    "### String\n",
    "\n",
    "`String`. A series of characters.\n",
    "For example, `\"aaabbbccc\"`, `\"48Dfua@~!0H\"`, `\"m\"`, `\"How are you?\"`</br>\n",
    "<li>The length of a string is the number of characters. A special case is an empty string: \n",
    "    a string with no characters, a string of zero length. It is usually marked as Ø.</li>\n",
    "\n",
    "### Character\n",
    "\n",
    "`Character`. The basic unit of a string.\n",
    "\n",
    "For example, the characters of the string `\"How are you?\"` are in the following order: `H`, `o`, `w`, ` `, `a`, `r`, `e`, ` `, `y`, `o`, `u`, `?` . The first character is `H`, the fourth character is a blank symbol, and the last character is a question mark `?` \n",
    "\n",
    "For example, the second character of the string `\"你好嗎？\"` the second character is `\"好\"` and the fourth character is the full form question mark `？`.\n",
    "\n",
    "The ASCII Table specifies the basic 128 characters in a computer, including upper and lower case letters, punctuation, Arabic numbers, mathematical operators, and miscellaneous symbols.\n",
    "\n",
    "### Substring\n",
    "\n",
    "`Substring`. A string within a string.\n",
    "\n",
    "For example, the substrings of `algo` are `Ø`, `a`, `l`, `g`, `o`, `al`, `lg`, `go`, `alg`, `lgo`, `algo`.\n",
    "\n",
    "### Prefix\n",
    "\n",
    "`Prefix`. A string that starts with a piece of string.\n",
    "\n",
    "For example, the prefixes of `algo` are `Ø`, `a`, `al`, `alg`, `algo`.\n",
    "\n",
    "### Suffix ###\n",
    "\n",
    "`Suffix`. The string at the end of a string.\n",
    "\n",
    "For example, the suffixes of `algo` are `Ø`, `o`, `go`, `lgo`, `algo`.\n",
    "\n",
    "### Sequence ###\n",
    "\n",
    "`Sequence`. A series of characters.\n",
    "\n",
    "For example, `aaabbbccc`, `48Dfua@~!0H`, `m`, How are you?\n",
    "\n",
    "A character is actually a number in a computer. A string is actually a series of numbers in a computer.\n",
    "\n",
    "The only difference between a string and a number series is that a string has **a finite number of characters** and a series has **an infinite number of numbers**. Without this difference, strings and series are identical.\n",
    "\n",
    "\n",
    "### Subsequence ###\n",
    "\n",
    "`Subsequence`. A string of characters that is formed by picking characters from left to right.\n",
    "\n",
    "For example, the subsequences of `algo` are `Ø`, `a`, `l`, `g`, `o`, `al`, `ag`, `ao`, `lg`, `lo`, `go`, `alg`, `alo`, `ago`, `lgo`, `algo.`\n",
    "\n"
   ]
  },
  {
   "cell_type": "code",
   "execution_count": 1,
   "metadata": {},
   "outputs": [
    {
     "name": "stdout",
     "output_type": "stream",
     "text": [
      "57\n"
     ]
    }
   ],
   "source": [
    "a = '5'\n",
    "b = \"7\"\n",
    "print(a + b)"
   ]
  },
  {
   "cell_type": "markdown",
   "metadata": {},
   "source": [
    "Numbers inside apostrohes are strings, not numbers.<br>\n",
    "Using a `+` as operator between two strings will join them together. This is called **concatenation** of two strings. We can create a sequence of text through concatenating several strings."
   ]
  },
  {
   "cell_type": "code",
   "execution_count": 2,
   "metadata": {},
   "outputs": [
    {
     "name": "stdout",
     "output_type": "stream",
     "text": [
      "Rose\n",
      " is a rose\n",
      "Rose is a rose\n"
     ]
    }
   ],
   "source": [
    "seq1 = 'Rose'\n",
    "seq2 = ' ' + \"is\" + ''' a rose'''\n",
    "print(seq1)\n",
    "print(seq2)\n",
    "print(seq1 + seq2)"
   ]
  },
  {
   "cell_type": "markdown",
   "metadata": {},
   "source": [
    "We can't subtract or divide a string, but we can multiply it:"
   ]
  },
  {
   "cell_type": "code",
   "execution_count": 3,
   "metadata": {},
   "outputs": [
    {
     "name": "stdout",
     "output_type": "stream",
     "text": [
      "Rose is a rose is a rose\n"
     ]
    }
   ],
   "source": [
    "sequence = seq1 + 2 * seq2\n",
    "print(sequence)"
   ]
  },
  {
   "cell_type": "markdown",
   "metadata": {},
   "source": [
    "<div class=\"alert alert-info alert-success\">\n",
    "    Internally Python stores strings in form of arrays (something like a list), so in fact strings consist of sequences of single characters.<br>\n",
    "Thus we can access them likewise:\n",
    "    </div>"
   ]
  },
  {
   "cell_type": "code",
   "execution_count": 4,
   "metadata": {},
   "outputs": [
    {
     "name": "stdout",
     "output_type": "stream",
     "text": [
      "e\n"
     ]
    }
   ],
   "source": [
    "print(sequence[3])"
   ]
  },
  {
   "cell_type": "code",
   "execution_count": 5,
   "metadata": {},
   "outputs": [
    {
     "name": "stdout",
     "output_type": "stream",
     "text": [
      "rose \n"
     ]
    }
   ],
   "source": [
    "print(sequence[10:15])"
   ]
  },
  {
   "cell_type": "markdown",
   "metadata": {},
   "source": [
    "<div class=\"alert alert-box alert-info\">\n",
    "    Task: Write a for-loop, iterate over the sequence called <code>sequence</code> and print each character in a new line.\n",
    "</div>"
   ]
  },
  {
   "cell_type": "code",
   "execution_count": 6,
   "metadata": {
    "tags": [
     "hide-input"
    ]
   },
   "outputs": [
    {
     "name": "stdout",
     "output_type": "stream",
     "text": [
      "R\n",
      "o\n",
      "s\n",
      "e\n",
      " \n",
      "i\n",
      "s\n",
      " \n",
      "a\n",
      " \n",
      "r\n",
      "o\n",
      "s\n",
      "e\n",
      " \n",
      "i\n",
      "s\n",
      " \n",
      "a\n",
      " \n",
      "r\n",
      "o\n",
      "s\n",
      "e\n"
     ]
    }
   ],
   "source": [
    "for c in sequence:\n",
    "    print(c)"
   ]
  },
  {
   "cell_type": "markdown",
   "metadata": {},
   "source": [
    "Same as with lists, we can get the length of a string with `len()`:"
   ]
  },
  {
   "cell_type": "code",
   "execution_count": 7,
   "metadata": {},
   "outputs": [
    {
     "name": "stdout",
     "output_type": "stream",
     "text": [
      "24\n"
     ]
    }
   ],
   "source": [
    "print(len(sequence))"
   ]
  },
  {
   "cell_type": "markdown",
   "metadata": {},
   "source": [
    "### Intermezzo: New casting methods\n",
    "\n",
    "The casting methods\n",
    "\n",
    "```python\n",
    "int()\n",
    "float()\n",
    "str()\n",
    "```\n",
    "are already known.<br>\n",
    "<br>\n",
    "Furthermore we can cast between characters and their corresponding [ASCII](https://www.asciitable.com/) value in both directions with\n",
    "```python\n",
    "ord() # Character -> ASCII value.\n",
    "\n",
    "# and\n",
    "\n",
    "chr() # ASCII value to character.\n",
    "```"
   ]
  },
  {
   "cell_type": "code",
   "execution_count": 8,
   "metadata": {},
   "outputs": [
    {
     "name": "stdout",
     "output_type": "stream",
     "text": [
      "97\n",
      "252\n",
      "25105\n"
     ]
    }
   ],
   "source": [
    "print(ord('a'))\n",
    "print(ord('ü'))\n",
    "print(ord('我'))"
   ]
  },
  {
   "cell_type": "code",
   "execution_count": 9,
   "metadata": {},
   "outputs": [
    {
     "data": {
      "text/plain": [
       "'a'"
      ]
     },
     "execution_count": 9,
     "metadata": {},
     "output_type": "execute_result"
    }
   ],
   "source": [
    "chr(97)"
   ]
  },
  {
   "cell_type": "code",
   "execution_count": 10,
   "metadata": {},
   "outputs": [
    {
     "name": "stdout",
     "output_type": "stream",
     "text": [
      "a b c d e f g h i j k l m n o p q r s t u v w x y z "
     ]
    }
   ],
   "source": [
    "# printing out every character\n",
    "for i in range(97, 97+26):\n",
    "    print(chr(i), end=' ')"
   ]
  },
  {
   "cell_type": "markdown",
   "metadata": {},
   "source": [
    "### String methods\n",
    "\n",
    "We can get a list of built-in methods with\n",
    "```python\n",
    "help(str)\n",
    "```"
   ]
  },
  {
   "cell_type": "code",
   "execution_count": 11,
   "metadata": {},
   "outputs": [
    {
     "name": "stdout",
     "output_type": "stream",
     "text": [
      "Rose was a rose was a rose\n",
      "Rose is a rose is a rose\n"
     ]
    }
   ],
   "source": [
    "print(sequence.replace('is', 'was'))\n",
    "print(sequence)"
   ]
  },
  {
   "cell_type": "code",
   "execution_count": 12,
   "metadata": {},
   "outputs": [
    {
     "name": "stdout",
     "output_type": "stream",
     "text": [
      "ROSE IS A ROSE IS A ROSE\n"
     ]
    }
   ],
   "source": [
    "# Override sequence:\n",
    "sequence = sequence.upper()\n",
    "print(sequence)"
   ]
  },
  {
   "cell_type": "code",
   "execution_count": 13,
   "metadata": {},
   "outputs": [
    {
     "name": "stdout",
     "output_type": "stream",
     "text": [
      "rose is a rose is a rose\n"
     ]
    }
   ],
   "source": [
    "sequence = sequence.lower()\n",
    "print(sequence)"
   ]
  },
  {
   "cell_type": "code",
   "execution_count": 14,
   "metadata": {},
   "outputs": [
    {
     "name": "stdout",
     "output_type": "stream",
     "text": [
      "Rose is a rose is a rose\n"
     ]
    }
   ],
   "source": [
    "sequence = sequence.capitalize()\n",
    "print(sequence)"
   ]
  },
  {
   "cell_type": "markdown",
   "metadata": {},
   "source": [
    "#### Return the index (start) of a substring"
   ]
  },
  {
   "cell_type": "code",
   "execution_count": 15,
   "metadata": {},
   "outputs": [
    {
     "name": "stdout",
     "output_type": "stream",
     "text": [
      "4\n",
      "4\n"
     ]
    }
   ],
   "source": [
    "filepath = 'data/wiki_selection.txt'\n",
    "print(filepath.find('/'))\n",
    "print(filepath.rfind('/')) # rfind searches from the end."
   ]
  },
  {
   "cell_type": "markdown",
   "metadata": {},
   "source": [
    "### Split a string\n",
    "\n",
    "If we `split` a string into substrings, we'll receive a **list** of these substrings."
   ]
  },
  {
   "cell_type": "code",
   "execution_count": 16,
   "metadata": {},
   "outputs": [
    {
     "name": "stdout",
     "output_type": "stream",
     "text": [
      "<class 'str'>\n"
     ]
    }
   ],
   "source": [
    "sequence = 'Rose is a rose is a rose'\n",
    "print(type(sequence))"
   ]
  },
  {
   "cell_type": "code",
   "execution_count": 17,
   "metadata": {},
   "outputs": [
    {
     "name": "stdout",
     "output_type": "stream",
     "text": [
      "<class 'list'>\n",
      "['Rose', 'is', 'a', 'rose', 'is', 'a', 'rose']\n"
     ]
    }
   ],
   "source": [
    "sequence = sequence.split()\n",
    "print(type(sequence))\n",
    "print(sequence)"
   ]
  },
  {
   "cell_type": "markdown",
   "metadata": {},
   "source": [
    "The method `split()` without argument splits at every whitespace. These **separators** / **delimiters** are not included into the result.<br>"
   ]
  },
  {
   "cell_type": "markdown",
   "metadata": {},
   "source": [
    "Split a string of multiple lines into a list of single lines:"
   ]
  },
  {
   "cell_type": "code",
   "execution_count": 18,
   "metadata": {},
   "outputs": [
    {
     "name": "stdout",
     "output_type": "stream",
     "text": [
      "Rose is a rose is a rose\n",
      "Rose is a rose is a rose\n",
      "Rose is a rose is a rose\n",
      "\n",
      "['Rose is a rose is a rose', 'Rose is a rose is a rose', 'Rose is a rose is a rose']\n"
     ]
    }
   ],
   "source": [
    "sequence = 'Rose is a rose is a rose'\n",
    "lines = (sequence+'\\n')*3\n",
    "print(lines)\n",
    "lines = lines.splitlines() # same as lines.split('\\n')\n",
    "print(lines)"
   ]
  },
  {
   "cell_type": "markdown",
   "metadata": {},
   "source": [
    "### Join a list to a string\n",
    "\n",
    "We can use the string method `join()` to join the elements of a list into one string back again. As it is a method of the class `str`, we have to call it on a string. This string (in the following example `' '` (a whitespace) is inserted in between all elements of the list."
   ]
  },
  {
   "cell_type": "code",
   "execution_count": 19,
   "metadata": {},
   "outputs": [
    {
     "name": "stdout",
     "output_type": "stream",
     "text": [
      "Rose is a rose is a rose\n",
      "<class 'list'>\n",
      "['Rose', 'is', 'a', 'rose', 'is', 'a', 'rose']\n",
      "Rose is a rose is a rose\n",
      "<class 'str'>\n"
     ]
    }
   ],
   "source": [
    "print(sequence)\n",
    "sequence = sequence.split()\n",
    "print(type(sequence))\n",
    "print(sequence)\n",
    "\n",
    "sequence = ' '.join(sequence)\n",
    "print(sequence)\n",
    "print(type(sequence))"
   ]
  },
  {
   "cell_type": "markdown",
   "metadata": {},
   "source": [
    "<div class=\"alert alert-box alert-info\">\n",
    "    Task: Split the string <code>Rose is a rose is a rose</code> with a choosen separator into a list.<br>\n",
    "    Then join this list with a choosen separator back into a sequence, so that the result is <code>Rose is a rose is a rose</code> back again.\n",
    "</div>"
   ]
  },
  {
   "cell_type": "markdown",
   "metadata": {},
   "source": [
    "### String conditions"
   ]
  },
  {
   "cell_type": "code",
   "execution_count": 20,
   "metadata": {},
   "outputs": [
    {
     "data": {
      "text/plain": [
       "True"
      ]
     },
     "execution_count": 20,
     "metadata": {},
     "output_type": "execute_result"
    }
   ],
   "source": [
    "a = 'elephant'\n",
    "a.endswith('ant')"
   ]
  },
  {
   "cell_type": "code",
   "execution_count": 21,
   "metadata": {},
   "outputs": [
    {
     "data": {
      "text/plain": [
       "True"
      ]
     },
     "execution_count": 21,
     "metadata": {},
     "output_type": "execute_result"
    }
   ],
   "source": [
    "a = 'elephant'\n",
    "a.startswith('eleph')"
   ]
  },
  {
   "cell_type": "code",
   "execution_count": 22,
   "metadata": {},
   "outputs": [
    {
     "data": {
      "text/plain": [
       "True"
      ]
     },
     "execution_count": 22,
     "metadata": {},
     "output_type": "execute_result"
    }
   ],
   "source": [
    "a = 'elephant'\n",
    "a.isalnum()"
   ]
  },
  {
   "cell_type": "code",
   "execution_count": 23,
   "metadata": {},
   "outputs": [
    {
     "name": "stdout",
     "output_type": "stream",
     "text": [
      "True\n"
     ]
    }
   ],
   "source": [
    "a = 'elephant'\n",
    "print(a.isalpha())"
   ]
  },
  {
   "cell_type": "code",
   "execution_count": 24,
   "metadata": {},
   "outputs": [
    {
     "name": "stdout",
     "output_type": "stream",
     "text": [
      "True\n"
     ]
    }
   ],
   "source": [
    "a = '123'\n",
    "print(a.isdigit())"
   ]
  },
  {
   "cell_type": "code",
   "execution_count": 25,
   "metadata": {},
   "outputs": [
    {
     "name": "stdout",
     "output_type": "stream",
     "text": [
      "False\n"
     ]
    }
   ],
   "source": [
    "a = '0.123'\n",
    "print(a.isdecimal())"
   ]
  },
  {
   "cell_type": "code",
   "execution_count": 26,
   "metadata": {},
   "outputs": [
    {
     "name": "stdout",
     "output_type": "stream",
     "text": [
      "False\n"
     ]
    }
   ],
   "source": [
    "a = '10e-4'\n",
    "print(a.isnumeric())"
   ]
  },
  {
   "cell_type": "markdown",
   "metadata": {},
   "source": [
    "### Substrings"
   ]
  },
  {
   "cell_type": "code",
   "execution_count": 27,
   "metadata": {},
   "outputs": [
    {
     "data": {
      "text/plain": [
       "True"
      ]
     },
     "execution_count": 27,
     "metadata": {},
     "output_type": "execute_result"
    }
   ],
   "source": [
    "a = 'elephant'\n",
    "'ant' in a"
   ]
  },
  {
   "cell_type": "code",
   "execution_count": 28,
   "metadata": {},
   "outputs": [
    {
     "data": {
      "text/plain": [
       "3"
      ]
     },
     "execution_count": 28,
     "metadata": {},
     "output_type": "execute_result"
    }
   ],
   "source": [
    "sequence = 'Rose is a rose is a rose'\n",
    "sequence.count('ose')"
   ]
  },
  {
   "cell_type": "code",
   "execution_count": 29,
   "metadata": {},
   "outputs": [
    {
     "ename": "AttributeError",
     "evalue": "'str' object has no attribute 'removesuffix'",
     "output_type": "error",
     "traceback": [
      "\u001b[0;31m---------------------------------------------------------------------------\u001b[0m",
      "\u001b[0;31mAttributeError\u001b[0m                            Traceback (most recent call last)",
      "\u001b[0;32m<ipython-input-29-8595f58f392c>\u001b[0m in \u001b[0;36m<module>\u001b[0;34m\u001b[0m\n\u001b[1;32m      1\u001b[0m \u001b[0mfilename\u001b[0m \u001b[0;34m=\u001b[0m \u001b[0;34m'ro.jpgses.jpg'\u001b[0m\u001b[0;34m\u001b[0m\u001b[0;34m\u001b[0m\u001b[0m\n\u001b[0;32m----> 2\u001b[0;31m \u001b[0mprint\u001b[0m\u001b[0;34m(\u001b[0m\u001b[0mfilename\u001b[0m\u001b[0;34m.\u001b[0m\u001b[0mremovesuffix\u001b[0m\u001b[0;34m(\u001b[0m\u001b[0;34m'.jpg'\u001b[0m\u001b[0;34m)\u001b[0m\u001b[0;34m)\u001b[0m \u001b[0;31m# This method is new to Python 3.9 and does not work with older versions!\u001b[0m\u001b[0;34m\u001b[0m\u001b[0;34m\u001b[0m\u001b[0m\n\u001b[0m",
      "\u001b[0;31mAttributeError\u001b[0m: 'str' object has no attribute 'removesuffix'"
     ]
    }
   ],
   "source": [
    "filename = 'ro.jpgses.jpg'\n",
    "print(filename.removesuffix('.jpg')) # This method is new to Python 3.9 and does not work with older versions!"
   ]
  },
  {
   "cell_type": "code",
   "execution_count": null,
   "metadata": {},
   "outputs": [],
   "source": [
    "filename = 'ro.jpgses.jpg'\n",
    "filename.replace('.jpg', '') # will replace both "
   ]
  },
  {
   "cell_type": "markdown",
   "metadata": {},
   "source": [
    "### String formatting\n",
    "\n",
    "%-operator style"
   ]
  },
  {
   "cell_type": "code",
   "execution_count": null,
   "metadata": {},
   "outputs": [],
   "source": [
    "name = '🐍'\n",
    "print('Hello, %s' % name)"
   ]
  },
  {
   "cell_type": "markdown",
   "metadata": {},
   "source": [
    "<br>\n",
    ".format style"
   ]
  },
  {
   "cell_type": "code",
   "execution_count": null,
   "metadata": {},
   "outputs": [],
   "source": [
    "name = '🐍'\n",
    "print('Hello, {}'.format(name))\n",
    "\n",
    "print('A rose is a {} is a {}'.format('rose', 'hose'))\n",
    "\n",
    "print('A Rose is a {val1} is a {val2}'.format(val1='rose', val2='🌷'))"
   ]
  },
  {
   "cell_type": "markdown",
   "metadata": {},
   "source": [
    "<br>\n",
    "literal string interpolation (Python 3.6+)"
   ]
  },
  {
   "cell_type": "code",
   "execution_count": null,
   "metadata": {},
   "outputs": [],
   "source": [
    "print(f'Hello, {name}!')\n",
    "\n",
    "# it's possible to embedd Python expressions\n",
    "a = ' is a rose'\n",
    "print(f'A Rose{a * 2}.')"
   ]
  },
  {
   "cell_type": "code",
   "execution_count": null,
   "metadata": {},
   "outputs": [],
   "source": []
  }
 ],
 "metadata": {
  "kernelspec": {
   "display_name": "Python 3",
   "language": "python",
   "name": "python3"
  },
  "language_info": {
   "codemirror_mode": {
    "name": "ipython",
    "version": 3
   },
   "file_extension": ".py",
   "mimetype": "text/x-python",
   "name": "python",
   "nbconvert_exporter": "python",
   "pygments_lexer": "ipython3",
   "version": "3.8.8"
  }
 },
 "nbformat": 4,
 "nbformat_minor": 4
}
