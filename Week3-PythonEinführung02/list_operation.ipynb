{
 "cells": [
  {
   "cell_type": "markdown",
   "metadata": {},
   "source": [
    "# Python: Lists"
   ]
  },
  {
   "cell_type": "markdown",
   "metadata": {},
   "source": [
    "## Lists\n",
    "\n",
    "We have seen spatial dimensions of variables.<br>\n",
    "The data itself also has a spatial dimension. So far we have used mainly single values like a number stored in a variable, but most data is stored in sequences:<br>\n",
    "        <li>a word is a sequence of characters</li>\n",
    "        <li>a image is a sequence of numbers</li>\n",
    "        <li>a video is a sequence of sequences of numbers</li>\n",
    " "
   ]
  },
  {
   "cell_type": "markdown",
   "metadata": {},
   "source": [
    "We can store a sequence of data in a data type called **list**. The syntax for a list are square brackets: <code>[ ]</code>. The items of the sequence are placed *inside* the square brackets, **separated** by <code>,</code>.<br>\n",
    "\n",
    "<img src=\"https://imgur.com/ljqtx7F.png\" width=\"500\">\n",
    "\n",
    "List is also able to add or delete new element inside\n",
    "\n",
    "`append` Add new element to the end of the list\n",
    "\n",
    "`remove` Remove the first item from the list, which value is equal to 'x'\n",
    "\n",
    "`insert` Add item into specific index\n",
    "\n",
    "`pop` Remove element from specific index\n",
    "\n",
    "`del` Delete certain elements in list"
   ]
  },
  {
   "cell_type": "code",
   "execution_count": 1,
   "metadata": {},
   "outputs": [
    {
     "name": "stdout",
     "output_type": "stream",
     "text": [
      "[1, 5, 734, 25, 84, 101]\n",
      "<class 'list'>\n"
     ]
    }
   ],
   "source": [
    "numbers = [1, 5, 734, 25, 84, 101]\n",
    "print(numbers)\n",
    "print(type(numbers))"
   ]
  },
  {
   "cell_type": "markdown",
   "metadata": {},
   "source": [
    "We can get the length (= number of items) of a list with the built-in function `len()`. (We can use it to get the length of serveral other objects as well.)"
   ]
  },
  {
   "cell_type": "code",
   "execution_count": 2,
   "metadata": {},
   "outputs": [
    {
     "data": {
      "text/plain": [
       "6"
      ]
     },
     "execution_count": 2,
     "metadata": {},
     "output_type": "execute_result"
    }
   ],
   "source": [
    "len(numbers)"
   ]
  },
  {
   "cell_type": "code",
   "execution_count": 3,
   "metadata": {},
   "outputs": [],
   "source": [
    "# syntax: name_of_variable = [item1, item2, item3]\n",
    "advent_calendar = ['apple', 'beer', 'cherry', 'date']"
   ]
  },
  {
   "cell_type": "code",
   "execution_count": 4,
   "metadata": {},
   "outputs": [
    {
     "data": {
      "text/plain": [
       "4"
      ]
     },
     "execution_count": 4,
     "metadata": {},
     "output_type": "execute_result"
    }
   ],
   "source": [
    "len(advent_calendar)"
   ]
  },
  {
   "cell_type": "code",
   "execution_count": 5,
   "metadata": {},
   "outputs": [
    {
     "name": "stdout",
     "output_type": "stream",
     "text": [
      "['apple', 'beer', 'cherry', 'date']\n"
     ]
    }
   ],
   "source": [
    "print(advent_calendar)"
   ]
  },
  {
   "cell_type": "markdown",
   "metadata": {},
   "source": [
    "### Accessing elements of a list\n",
    "\n",
    "All items in a list have an **index**, through which we can access items individually. Access elements of a list with the following syntax:<br>\n",
    "``` python\n",
    "name_of_list[index] # index is an integer\n",
    "```"
   ]
  },
  {
   "cell_type": "code",
   "execution_count": 6,
   "metadata": {},
   "outputs": [
    {
     "name": "stdout",
     "output_type": "stream",
     "text": [
      "cherry\n"
     ]
    }
   ],
   "source": [
    "item_2 = advent_calendar[2]\n",
    "print(item_2)"
   ]
  },
  {
   "cell_type": "markdown",
   "metadata": {},
   "source": [
    "Remember that **counting starts from 0**, not from 1.<br>\n",
    "This also means that the last item has the length of the list - 1.<br>"
   ]
  },
  {
   "cell_type": "code",
   "execution_count": 7,
   "metadata": {},
   "outputs": [
    {
     "name": "stdout",
     "output_type": "stream",
     "text": [
      "4\n",
      "date\n"
     ]
    }
   ],
   "source": [
    "print(len(advent_calendar))\n",
    "\n",
    "last_item = advent_calendar[len(advent_calendar) - 1]\n",
    "print(last_item)"
   ]
  },
  {
   "cell_type": "markdown",
   "metadata": {},
   "source": [
    "As you see we can use methods and mathematical expressions *inside* the square brackets.<br>\n",
    "But we have to make sure that the result is an integer."
   ]
  },
  {
   "cell_type": "code",
   "execution_count": 8,
   "metadata": {},
   "outputs": [
    {
     "ename": "TypeError",
     "evalue": "list indices must be integers or slices, not float",
     "output_type": "error",
     "traceback": [
      "\u001b[0;31m---------------------------------------------------------------------------\u001b[0m",
      "\u001b[0;31mTypeError\u001b[0m                                 Traceback (most recent call last)",
      "\u001b[0;32m<ipython-input-8-dc66ace92344>\u001b[0m in \u001b[0;36m<module>\u001b[0;34m\u001b[0m\n\u001b[0;32m----> 1\u001b[0;31m \u001b[0msome_item\u001b[0m \u001b[0;34m=\u001b[0m \u001b[0madvent_calendar\u001b[0m\u001b[0;34m[\u001b[0m\u001b[0mlen\u001b[0m\u001b[0;34m(\u001b[0m\u001b[0madvent_calendar\u001b[0m\u001b[0;34m)\u001b[0m \u001b[0;34m/\u001b[0m \u001b[0;36m2\u001b[0m\u001b[0;34m]\u001b[0m\u001b[0;34m\u001b[0m\u001b[0;34m\u001b[0m\u001b[0m\n\u001b[0m\u001b[1;32m      2\u001b[0m \u001b[0mprint\u001b[0m\u001b[0;34m(\u001b[0m\u001b[0msome_item\u001b[0m\u001b[0;34m)\u001b[0m\u001b[0;34m\u001b[0m\u001b[0;34m\u001b[0m\u001b[0m\n",
      "\u001b[0;31mTypeError\u001b[0m: list indices must be integers or slices, not float"
     ]
    }
   ],
   "source": [
    "some_item = advent_calendar[len(advent_calendar) / 2]\n",
    "print(some_item)"
   ]
  },
  {
   "cell_type": "markdown",
   "metadata": {},
   "source": [
    "<div class=\"alert alert-box alert-info\">\n",
    "    Task: Modify the code from above so that the mathematical expression works.\n",
    "</div>"
   ]
  },
  {
   "cell_type": "code",
   "execution_count": null,
   "metadata": {
    "tags": [
     "hide-input"
    ]
   },
   "outputs": [],
   "source": [
    "some_item = advent_calendar[int(len(advent_calendar) / 2)]\n",
    "print(some_item)"
   ]
  },
  {
   "cell_type": "markdown",
   "metadata": {},
   "source": [
    "We can access values from the end of a list. For that we have to use a negative index."
   ]
  },
  {
   "cell_type": "code",
   "execution_count": null,
   "metadata": {},
   "outputs": [],
   "source": [
    "print(advent_calendar)\n",
    "print(advent_calendar[-1]) # Counting from the end starts at -1, not -0!"
   ]
  },
  {
   "cell_type": "code",
   "execution_count": null,
   "metadata": {},
   "outputs": [],
   "source": [
    "print(advent_calendar)\n",
    "print(advent_calendar[-2])"
   ]
  },
  {
   "cell_type": "markdown",
   "metadata": {},
   "source": [
    "We can access a range (**slice**) of elements:"
   ]
  },
  {
   "cell_type": "code",
   "execution_count": null,
   "metadata": {},
   "outputs": [],
   "source": [
    "print(advent_calendar)\n",
    "print(advent_calendar[1:3]) # Start at index 1, stop at 3 (3 not included)."
   ]
  },
  {
   "cell_type": "code",
   "execution_count": null,
   "metadata": {},
   "outputs": [],
   "source": [
    "print(advent_calendar)\n",
    "print(advent_calendar[:3]) # No start value = start at 0, stop at 3 (not included)."
   ]
  },
  {
   "cell_type": "code",
   "execution_count": null,
   "metadata": {},
   "outputs": [],
   "source": [
    "print(advent_calendar)\n",
    "print(advent_calendar[2:]) # No stop value = stop at end (inclusive)."
   ]
  },
  {
   "cell_type": "markdown",
   "metadata": {},
   "source": [
    "![list_slicing.jpg](data/list_slicing.jpg)"
   ]
  },
  {
   "cell_type": "markdown",
   "metadata": {},
   "source": [
    "### Built-in methods of data type list"
   ]
  },
  {
   "cell_type": "markdown",
   "metadata": {},
   "source": [
    "#### Adding values\n",
    "\n",
    "`append()` adds one element at the end of the list."
   ]
  },
  {
   "cell_type": "code",
   "execution_count": null,
   "metadata": {},
   "outputs": [],
   "source": [
    "advent_calendar.append('elephant') # list.append(element)\n",
    "print(advent_calendar)"
   ]
  },
  {
   "cell_type": "markdown",
   "metadata": {},
   "source": [
    "#### Removing values\n",
    "\n",
    "With `remove()` we can remove a specific element from the list. (This removes only the first occurence of that element.)"
   ]
  },
  {
   "cell_type": "code",
   "execution_count": null,
   "metadata": {},
   "outputs": [],
   "source": [
    "print(advent_calendar)\n",
    "advent_calendar.remove('beer') # list.remove(element)\n",
    "print(advent_calendar)"
   ]
  },
  {
   "cell_type": "markdown",
   "metadata": {},
   "source": [
    "The method `pop()` **returns** and removes the last item."
   ]
  },
  {
   "cell_type": "code",
   "execution_count": null,
   "metadata": {},
   "outputs": [],
   "source": [
    "# Get and delete the last item.\n",
    "print(advent_calendar)\n",
    "print(advent_calendar.pop())\n",
    "print(advent_calendar)"
   ]
  },
  {
   "cell_type": "markdown",
   "metadata": {},
   "source": [
    "If we use an integer as argument for `pop()`, the item of this index is returned and removed."
   ]
  },
  {
   "cell_type": "code",
   "execution_count": null,
   "metadata": {},
   "outputs": [],
   "source": [
    "# Get and delete an item by index\n",
    "print(advent_calendar)\n",
    "advent_calendar.pop(1)\n",
    "print(advent_calendar)"
   ]
  },
  {
   "cell_type": "markdown",
   "metadata": {},
   "source": [
    "#### Inserting values\n",
    "\n",
    "Instead of appending an element at the end we can specify a index with `insert()`."
   ]
  },
  {
   "cell_type": "code",
   "execution_count": null,
   "metadata": {},
   "outputs": [],
   "source": [
    "print(advent_calendar)\n",
    "advent_calendar.insert(1, 'banana') # list.insert(index, value)\n",
    "print(advent_calendar)"
   ]
  },
  {
   "cell_type": "markdown",
   "metadata": {},
   "source": [
    "#### Replacing values"
   ]
  },
  {
   "cell_type": "code",
   "execution_count": null,
   "metadata": {},
   "outputs": [],
   "source": [
    "print(advent_calendar)\n",
    "advent_calendar[1] = 'berry' # list[index] = value\n",
    "print(advent_calendar)"
   ]
  },
  {
   "cell_type": "markdown",
   "metadata": {},
   "source": [
    "#### Combining lists"
   ]
  },
  {
   "cell_type": "code",
   "execution_count": null,
   "metadata": {},
   "outputs": [],
   "source": [
    "additional_elements = ['mango', 'firebird', 'eel']\n",
    "advent_calendar += additional_elements # list + list\n",
    "print(advent_calendar)"
   ]
  },
  {
   "cell_type": "markdown",
   "metadata": {},
   "source": [
    "#### Sorting lists\n",
    "\n",
    "Sorting is done \"in place\". This means that the list itself is modified (elements inside the list are sorted) and no new list is returned."
   ]
  },
  {
   "cell_type": "code",
   "execution_count": null,
   "metadata": {},
   "outputs": [],
   "source": [
    "advent_calendar.sort() # No argument = ascending order.\n",
    "print(advent_calendar)"
   ]
  },
  {
   "cell_type": "code",
   "execution_count": null,
   "metadata": {},
   "outputs": [],
   "source": [
    "advent_calendar.sort(reverse=True)\n",
    "print(advent_calendar)"
   ]
  },
  {
   "cell_type": "code",
   "execution_count": null,
   "metadata": {},
   "outputs": [],
   "source": [
    "advent_calendar.sort(key=len)\n",
    "print(advent_calendar)"
   ]
  },
  {
   "cell_type": "code",
   "execution_count": null,
   "metadata": {},
   "outputs": [],
   "source": [
    "advent_calendar.sort(key=len, reverse=True)\n",
    "print(advent_calendar)"
   ]
  },
  {
   "cell_type": "markdown",
   "metadata": {},
   "source": [
    "With `.reverse()` we reverse a list, but this method does not sort it."
   ]
  },
  {
   "cell_type": "code",
   "execution_count": null,
   "metadata": {},
   "outputs": [],
   "source": [
    "advent_calendar.reverse()\n",
    "print(advent_calendar)"
   ]
  },
  {
   "cell_type": "markdown",
   "metadata": {},
   "source": [
    "## Random selection of the text"
   ]
  },
  {
   "cell_type": "code",
   "execution_count": null,
   "metadata": {},
   "outputs": [],
   "source": [
    "subjects = ['I','she','you','he','they','we','it']\n",
    "verbs = ['eat','drink','draw','paint']\n",
    "objects = ['apple','cherry','banana','peach','pineapple']"
   ]
  },
  {
   "cell_type": "code",
   "execution_count": null,
   "metadata": {},
   "outputs": [],
   "source": [
    "import random #import library to support RANDOM generator"
   ]
  },
  {
   "cell_type": "code",
   "execution_count": null,
   "metadata": {},
   "outputs": [],
   "source": [
    "sentence = random.choice(subjects) + ' ' + random.choice(verbs) + ' ' + random.choice(objects)\n",
    "print (sentence)"
   ]
  }
 ],
 "metadata": {
  "kernelspec": {
   "display_name": "Python 3",
   "language": "python",
   "name": "python3"
  },
  "language_info": {
   "codemirror_mode": {
    "name": "ipython",
    "version": 3
   },
   "file_extension": ".py",
   "mimetype": "text/x-python",
   "name": "python",
   "nbconvert_exporter": "python",
   "pygments_lexer": "ipython3",
   "version": "3.8.3"
  }
 },
 "nbformat": 4,
 "nbformat_minor": 4
}
