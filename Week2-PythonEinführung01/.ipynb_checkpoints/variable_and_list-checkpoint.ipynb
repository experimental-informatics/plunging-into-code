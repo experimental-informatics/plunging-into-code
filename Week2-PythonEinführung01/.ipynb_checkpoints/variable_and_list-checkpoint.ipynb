{
 "cells": [
  {
   "cell_type": "markdown",
   "metadata": {},
   "source": [
    "# Python Cheatsheet - Data structure\n",
    "\n",
    "this is a notebook for quick review on python langauge in the context of NLP"
   ]
  },
  {
   "cell_type": "markdown",
   "metadata": {},
   "source": [
    "## Variable\n",
    "\n",
    "In python there no need to declare the type of variable, for check which type it is, use the function type()."
   ]
  },
  {
   "cell_type": "code",
   "execution_count": 1,
   "metadata": {},
   "outputs": [
    {
     "data": {
      "text/plain": [
       "str"
      ]
     },
     "execution_count": 1,
     "metadata": {},
     "output_type": "execute_result"
    }
   ],
   "source": [
    "i = 0\n",
    "f = 0.1\n",
    "w = 'word'\n",
    "s = '''sentence'''\n",
    "b = True\n",
    "\n",
    "type(s)"
   ]
  },
  {
   "cell_type": "markdown",
   "metadata": {},
   "source": [
    "## Swap"
   ]
  },
  {
   "cell_type": "code",
   "execution_count": 2,
   "metadata": {},
   "outputs": [
    {
     "name": "stdout",
     "output_type": "stream",
     "text": [
      "5\n",
      "6\n"
     ]
    }
   ],
   "source": [
    "a = 6\n",
    "b = 5\n",
    "\n",
    "a,b = b,a\n",
    "\n",
    "print(a)\n",
    "print(b)"
   ]
  },
  {
   "cell_type": "markdown",
   "metadata": {},
   "source": [
    "## Condition (if/elif/else)\n",
    "\n",
    "leapyear problem as example"
   ]
  },
  {
   "cell_type": "code",
   "execution_count": 3,
   "metadata": {},
   "outputs": [
    {
     "name": "stdout",
     "output_type": "stream",
     "text": [
      "1900 is not a leap year\n"
     ]
    }
   ],
   "source": [
    "# check if year is a leap year or not\n",
    "\n",
    "year = 1900\n",
    "\n",
    "# every 400 year is a leap year\n",
    "if (year % 400 == 0):\n",
    "    print(\"{0} is a leap year\".format(year))\n",
    "\n",
    "# and is equivalent as && in other programming language\n",
    "elif (year % 4 ==0) and (year % 100 != 0):\n",
    "    print(\"{0} is a leap year\".format(year))\n",
    "\n",
    "# not leap year\n",
    "else:\n",
    "    print(\"{0} is not a leap year\".format(year))"
   ]
  },
  {
   "cell_type": "markdown",
   "metadata": {},
   "source": [
    "## Data Structure (list)\n",
    "\n",
    "list is a combination of array, stack, deque in python.\n",
    "\n",
    "it's possible to work with pop, push, top functions in list\n",
    "\n",
    "the number inside the list is called `index`, and the content inside ``\n"
   ]
  },
  {
   "cell_type": "code",
   "execution_count": 4,
   "metadata": {},
   "outputs": [
    {
     "name": "stdout",
     "output_type": "stream",
     "text": [
      "1\n",
      "a\n",
      "5\n",
      "<class 'str'>\n"
     ]
    }
   ],
   "source": [
    "l = [1,3,5,3,1,'a','5','a sentence',True]\n",
    "\n",
    "#print the first element of the list\n",
    "print(l[0])\n",
    "print(l[5])\n",
    "\n",
    "print(l[6])\n",
    "print(type(l[6]))"
   ]
  },
  {
   "cell_type": "code",
   "execution_count": 5,
   "metadata": {},
   "outputs": [
    {
     "name": "stdout",
     "output_type": "stream",
     "text": [
      "[1, 3, 5]\n",
      "True\n"
     ]
    }
   ],
   "source": [
    "# use : as indicator for printing different index\n",
    "print(l[:3])\n",
    "print(l[-1])"
   ]
  },
  {
   "cell_type": "markdown",
   "metadata": {},
   "source": [
    "### Functions for list\n",
    "`remove()` ,`append()` ,`remove()` ,`sort()` These are some basic functions to use when adding, removing data from a list"
   ]
  },
  {
   "cell_type": "code",
   "execution_count": 6,
   "metadata": {},
   "outputs": [
    {
     "name": "stdout",
     "output_type": "stream",
     "text": [
      "['cherry', 'apple', 'banana', 'chair']\n",
      "['apple', 'banana', 'chair', 'cherry']\n"
     ]
    }
   ],
   "source": [
    "l = ['cherry','apple','banana','chair']\n",
    "print(l)\n",
    "\n",
    "l.sort()\n",
    "print(l)"
   ]
  },
  {
   "cell_type": "code",
   "execution_count": 7,
   "metadata": {},
   "outputs": [
    {
     "name": "stdout",
     "output_type": "stream",
     "text": [
      "['cherry', 'chair', 'banana', 'apple']\n"
     ]
    }
   ],
   "source": [
    "# sort with the argument \"reverse\" sorts the list in reverse\n",
    "l.sort(reverse=True)\n",
    "print(l)"
   ]
  },
  {
   "cell_type": "code",
   "execution_count": 8,
   "metadata": {},
   "outputs": [
    {
     "name": "stdout",
     "output_type": "stream",
     "text": [
      "['cherry', 'chair', 'banana', 'apple', 'watermelon']\n"
     ]
    }
   ],
   "source": [
    "# append adds an element at the end of the list\n",
    "l.append('watermelon')\n",
    "print(l)"
   ]
  },
  {
   "cell_type": "code",
   "execution_count": 9,
   "metadata": {},
   "outputs": [
    {
     "name": "stdout",
     "output_type": "stream",
     "text": [
      "['cherry', 'chair', 'banana', 'watermelon']\n"
     ]
    }
   ],
   "source": [
    "# \"remove\" removes the element from specified elements\n",
    "l.remove(\"apple\")\n",
    "print(l)"
   ]
  }
 ],
 "metadata": {
  "kernelspec": {
   "display_name": "Python 3",
   "language": "python",
   "name": "python3"
  },
  "language_info": {
   "codemirror_mode": {
    "name": "ipython",
    "version": 3
   },
   "file_extension": ".py",
   "mimetype": "text/x-python",
   "name": "python",
   "nbconvert_exporter": "python",
   "pygments_lexer": "ipython3",
   "version": "3.8.3"
  }
 },
 "nbformat": 4,
 "nbformat_minor": 4
}
