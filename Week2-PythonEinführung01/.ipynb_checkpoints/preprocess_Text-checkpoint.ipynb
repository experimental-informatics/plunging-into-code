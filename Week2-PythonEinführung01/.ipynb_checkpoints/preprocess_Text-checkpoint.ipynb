{
 "cells": [
  {
   "cell_type": "markdown",
   "metadata": {},
   "source": [
    "# preprocess Text"
   ]
  },
  {
   "cell_type": "code",
   "execution_count": 1,
   "metadata": {},
   "outputs": [],
   "source": [
    "#Preprocessing text\n",
    "#input a String as text, than output a list of words as corpus\n",
    "\n",
    "#This function is suited for standard German and English.\n",
    "#For more language, change the character for exchangement.\n",
    "import re\n",
    "\n",
    "def preprocess(text):\n",
    "    text=text.replace(\"ä\",\"ae\").replace(\"Ä\",\"Ae\").replace(\"ö\",\"oe\").replace(\"Ö\",\"oe\").replace(\"ü\",\"ue\").replace(\"Ü\",\"ue\")\n",
    "    remove_digits = str.maketrans('', '', '0123456789_-!?:\\\"\\'')\n",
    "    text = text.translate(remove_digits)\n",
    "    text = re.sub(r'[^\\w\\s]','',text)\n",
    "    word = text.split()\n",
    "    return word\n"
   ]
  },
  {
   "cell_type": "code",
   "execution_count": null,
   "metadata": {},
   "outputs": [],
   "source": []
  }
 ],
 "metadata": {
  "kernelspec": {
   "display_name": "Python 3",
   "language": "python",
   "name": "python3"
  },
  "language_info": {
   "codemirror_mode": {
    "name": "ipython",
    "version": 3
   },
   "file_extension": ".py",
   "mimetype": "text/x-python",
   "name": "python",
   "nbconvert_exporter": "python",
   "pygments_lexer": "ipython3",
   "version": "3.8.3"
  }
 },
 "nbformat": 4,
 "nbformat_minor": 4
}
