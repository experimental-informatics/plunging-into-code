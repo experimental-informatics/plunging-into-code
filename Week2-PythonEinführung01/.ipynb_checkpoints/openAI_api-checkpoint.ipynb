{
 "cells": [
  {
   "cell_type": "markdown",
   "metadata": {},
   "source": [
    "# GPT-3 Prompting with openAI api"
   ]
  },
  {
   "cell_type": "code",
   "execution_count": 1,
   "metadata": {},
   "outputs": [],
   "source": [
    "subjects = ['I','she','you','he','they','we','it']\n",
    "verbs = ['eat','drink','draw','paint']\n",
    "objects = ['apple','cherry','banana','peach','pineapple']"
   ]
  },
  {
   "cell_type": "code",
   "execution_count": 2,
   "metadata": {},
   "outputs": [],
   "source": [
    "import random #import library to support RANDOM generator"
   ]
  },
  {
   "cell_type": "code",
   "execution_count": 3,
   "metadata": {},
   "outputs": [
    {
     "name": "stdout",
     "output_type": "stream",
     "text": [
      "he eat peach\n"
     ]
    }
   ],
   "source": [
    "sentence = random.choice(subjects) + ' ' + random.choice(verbs) + ' ' + random.choice(objects)\n",
    "print (sentence)"
   ]
  },
  {
   "cell_type": "code",
   "execution_count": 8,
   "metadata": {},
   "outputs": [],
   "source": [
    "import openai\n",
    "openai.api_key = \"enter your own gpt-3 api key\""
   ]
  },
  {
   "cell_type": "markdown",
   "metadata": {},
   "source": [
    "\n",
    "### Parameters used in GPT-3\n",
    "\n",
    "* **Temperature**: entropy (proxy for creativity, lack of predictability). \n",
    "    * Low: Say the first thing that comes to mind. Good for classification - one specific answer\n",
    "    * High: Say anything that could possibly fit. Predict something creative.\n",
    "    \n",
    "* **Top-p**: distribution of probably of common tokens\n",
    "    * 1.0 - use all tokens in vocabulary\n",
    "    * 0.5 - use only 50% of the common tokens\n",
    "\n",
    "* **Stop sequence** - words to stop the generation.\n",
    "\n",
    "* **Frequency** - Repeating \n",
    "* **Presence** - Changing topic"
   ]
  },
  {
   "cell_type": "code",
   "execution_count": 5,
   "metadata": {},
   "outputs": [
    {
     "name": "stdout",
     "output_type": "stream",
     "text": [
      "\n",
      "\n",
      "My favorite fruit is an apple.\n"
     ]
    }
   ],
   "source": [
    "a = \"apple\"\n",
    "response = openai.Completion.create(\n",
    "  engine=\"text-davinci-002\",\n",
    "  prompt=\"write a sentence about \"+ a,\n",
    "  temperature=0.7,\n",
    "  max_tokens=100,\n",
    "  top_p=1,\n",
    "  frequency_penalty=0.0,\n",
    "  presence_penalty=0.0,\n",
    "  stop=['\\n\\n\\n'])\n",
    "\n",
    "print (response.choices[0].text)"
   ]
  },
  {
   "cell_type": "code",
   "execution_count": 6,
   "metadata": {},
   "outputs": [
    {
     "name": "stdout",
     "output_type": "stream",
     "text": [
      "\n",
      "\n",
      "I\n",
      "\n",
      "Drink in the sweetness of peaches\n",
      "\n",
      "They're like nectar from the gods\n",
      "\n",
      "I can't get enough, I need more\n",
      "\n",
      "More of this delicious fruit\n",
      "\n",
      "I can't get enough, I must have more\n",
      "\n",
      "Peaches are the perfect drink\n",
      "\n",
      "For a hot summer day\n",
      "\n",
      "I can't get enough, I crave more\n",
      "\n",
      "Peaches are the perfect food\n",
      "\n",
      "For a sweet tooth like me\n"
     ]
    }
   ],
   "source": [
    "subjects = ['I','she','you','he','they','we','it']\n",
    "verbs = ['eat','drink','draw','paint']\n",
    "objects = ['apple','cherry','banana','peach','pineapple']\n",
    "\n",
    "response = openai.Completion.create(\n",
    "  engine=\"text-davinci-002\",\n",
    "  prompt=\"write a poem with the following elements\" + random.choice(subjects) + ',' + random.choice(verbs) + ',' + random.choice(objects) + \":\",\n",
    "  temperature=0.7,\n",
    "  max_tokens=100,\n",
    "  top_p=1,\n",
    "  frequency_penalty=0.0,\n",
    "  presence_penalty=0.0,\n",
    "  stop=['\\n\\n\\n'])\n",
    "\n",
    "print (response.choices[0].text)"
   ]
  },
  {
   "cell_type": "code",
   "execution_count": 7,
   "metadata": {},
   "outputs": [],
   "source": [
    "# Prompting as functions\n",
    "def prompting(input_text):\n",
    "    response = openai.Completion.create(\n",
    "      engine=\"text-davinci-002\",\n",
    "      prompt=input_text,\n",
    "      temperature=0.7,\n",
    "      max_tokens=100,\n",
    "      top_p=1,\n",
    "      frequency_penalty=0.0,\n",
    "      presence_penalty=0.0,\n",
    "      stop=['\\n\\n\\n']\n",
    "    )\n",
    "    return response.choices[0].text"
   ]
  },
  {
   "cell_type": "code",
   "execution_count": null,
   "metadata": {},
   "outputs": [],
   "source": []
  }
 ],
 "metadata": {
  "kernelspec": {
   "display_name": "Python 3",
   "language": "python",
   "name": "python3"
  },
  "language_info": {
   "codemirror_mode": {
    "name": "ipython",
    "version": 3
   },
   "file_extension": ".py",
   "mimetype": "text/x-python",
   "name": "python",
   "nbconvert_exporter": "python",
   "pygments_lexer": "ipython3",
   "version": "3.8.3"
  }
 },
 "nbformat": 4,
 "nbformat_minor": 4
}
