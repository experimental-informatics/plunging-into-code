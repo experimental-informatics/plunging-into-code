{
 "cells": [
  {
   "cell_type": "markdown",
   "metadata": {
    "slideshow": {
     "slide_type": "slide"
    }
   },
   "source": [
    "# Introduction to Jupyter Notebooks\n",
    "\n",
    "- [0. Install Anaconda to run and execute the Notebooks on your Computer locally](#0)\n",
    "- [1. Jupyter Notebook Introduction](#1)\n",
    "- [2. Virtual environment](#2)\n",
    "- [3. some little help-functions...](#3)"
   ]
  },
  {
   "cell_type": "markdown",
   "metadata": {
    "slideshow": {
     "slide_type": "fragment"
    }
   },
   "source": [
    "## All the *Jupyter Notebooks* in the Github Repo [Plunging into Code](https://github.com/experimental-informatics/plunging-into-code)...:\n",
    "\n",
    "### you can run them either in your Browser, \n",
    "\n",
    "by clicking »[here](https://dev.ground-zero.khm.de/jupyter-hub/)« you will be reffered to the *ground zero JupyterHub*.\n",
    "\n",
    "there you can Login to your account\n",
    "\n",
    "To get (and upgrade) the Notebooks in this repositroy:\n",
    "1. go to button `[New]` on the upper right and select `Terminal` \n",
    "3. to clone the repo into your JupyterHab Account, type in Terminal: `git clone https://github.com/experimental-informatics/plunging-into-code.git` \n",
    "\n",
    "### or you can run them locally\n",
    "in cloning the repo with `git` or `github-desktop`: https://desktop.github.com/\n",
    "\n",
    "or downloading this Repository via the *Clone or Download*-Button, see:\n",
    "\n",
    "![](https://www.stevejgordon.co.uk/wp-content/uploads/2018/01/CloneOrDownloadGitHub.png)\n",
    "\n",
    "* after that, you can run the Jupyter Notebooks locally on your device.\n",
    "\n",
    "*to run the Notebooks locally plz follow instructions in the following* **chapter 0**:"
   ]
  },
  {
   "cell_type": "markdown",
   "metadata": {
    "slideshow": {
     "slide_type": "skip"
    }
   },
   "source": [
    "<a class=\"anchor\" id=\"0\"></a>"
   ]
  },
  {
   "cell_type": "markdown",
   "metadata": {
    "slideshow": {
     "slide_type": "slide"
    }
   },
   "source": [
    "## 0. Install Anaconda to run and execute the Notebooks on your Computer locally\n",
    "for doing that,\n",
    "1. please download Anaconda for your operating system: https://www.anaconda.com/products/individual#Downloads\n",
    "2. install Anaconda (like any other software) on your computers. Instructions can be found here: https://docs.anaconda.com/anaconda/install/"
   ]
  },
  {
   "cell_type": "markdown",
   "metadata": {
    "slideshow": {
     "slide_type": "fragment"
    }
   },
   "source": [
    "### Alternativly you can also install and run Miniconda on your machine\n",
    "\n",
    "Just download and install Miniconda. Miniconda is a small, bootstrap version of Anaconda, a distribution for programming in Python and R, especially in scientific computing (data science, machine learning applications, large-scale data processing, predictive analytics, etc.).\n",
    "\n",
    "Miniconda is Free Software and it includes the basic needs for our purposes, like the package manager conda, Python, the packages they depend on, and only a small number of other useful packages.\n",
    "\n",
    "You can download Minconda for your OS and get the install instructions »[here](https://docs.conda.io/en/latest/miniconda.html)«.\n",
    "\n",
    "---"
   ]
  },
  {
   "cell_type": "markdown",
   "metadata": {
    "slideshow": {
     "slide_type": "skip"
    }
   },
   "source": [
    "<a class=\"anchor\" id=\"1\"></a>"
   ]
  },
  {
   "cell_type": "markdown",
   "metadata": {
    "slideshow": {
     "slide_type": "slide"
    }
   },
   "source": [
    "## 1. Jupyter Notebook Introduction "
   ]
  },
  {
   "cell_type": "markdown",
   "metadata": {
    "slideshow": {
     "slide_type": "fragment"
    }
   },
   "source": [
    "[Python](https://www.python.org/) is an easy to write general purpose programming language, meaning it can be used for a variety of different applications.\n",
    "\n",
    "*Read the guiding principles by long time Pythoneer Tim Peters by typing `import this`*:"
   ]
  },
  {
   "cell_type": "code",
   "execution_count": 1,
   "metadata": {
    "scrolled": true
   },
   "outputs": [
    {
     "name": "stdout",
     "output_type": "stream",
     "text": [
      "The Zen of Python, by Tim Peters\n",
      "\n",
      "Beautiful is better than ugly.\n",
      "Explicit is better than implicit.\n",
      "Simple is better than complex.\n",
      "Complex is better than complicated.\n",
      "Flat is better than nested.\n",
      "Sparse is better than dense.\n",
      "Readability counts.\n",
      "Special cases aren't special enough to break the rules.\n",
      "Although practicality beats purity.\n",
      "Errors should never pass silently.\n",
      "Unless explicitly silenced.\n",
      "In the face of ambiguity, refuse the temptation to guess.\n",
      "There should be one-- and preferably only one --obvious way to do it.\n",
      "Although that way may not be obvious at first unless you're Dutch.\n",
      "Now is better than never.\n",
      "Although never is often better than *right* now.\n",
      "If the implementation is hard to explain, it's a bad idea.\n",
      "If the implementation is easy to explain, it may be a good idea.\n",
      "Namespaces are one honking great idea -- let's do more of those!\n"
     ]
    }
   ],
   "source": [
    "import this"
   ]
  },
  {
   "cell_type": "markdown",
   "metadata": {
    "slideshow": {
     "slide_type": "fragment"
    }
   },
   "source": [
    "[Jupyter Notebook](https://jupyter-notebook.readthedocs.io/en/stable/) is part of the [Jupyter Project](https://jupyter.readthedocs.io/en/latest/), a nonprofit organization created to *\"develop open-source software, open-standards, and services for interactive computing across different programming languages\"* (Python, R, Julia)."
   ]
  },
  {
   "cell_type": "markdown",
   "metadata": {
    "slideshow": {
     "slide_type": "fragment"
    }
   },
   "source": [
    "Beside of the *Notebook*. Project Jupyter has developed and supported some more interactive computing products, like\n",
    "- **[JupyterHub](https://jupyterhub.readthedocs.io/en/latest/) a Multi-User-Server for Jupyter-Notebooks** \n",
    "-- http://167.235.56.3/user/YOURUSERNAME/tree?\n",
    "- **[JupyterLab](https://jupyterlab.readthedocs.io/en/stable/) a newer Interface with a more easy way of file-navigation**\n",
    "-- http://167.235.56.3/user/YOURUSERNAME/lab\n",
    "- **[Jupyter{Book}](https://jupyterbook.org/intro.html) to build executable books** \n",
    "-- executable artistic research paper by julia, ting, mattis, tiago, christian: [_ell_ Worl_!](https://dev.ground-zero.khm.de/ell-worl-paper/1rule-author.html)\n",
    "- **[Binder](https://jupyter.org/binder) another way to share and work collaborativley with jupyter Notebooks**\n",
    "-- Binderpage from latest basic seminar in ground zero: [![Binder](https://mybinder.org/badge_logo.svg)](https://mybinder.org/v2/gh/experimental-informatics/how-to-make-human-machine-readable/HEAD)"
   ]
  },
  {
   "cell_type": "markdown",
   "metadata": {
    "slideshow": {
     "slide_type": "subslide"
    }
   },
   "source": [
    "[Jupyter Notebooks](https://jupyter-notebook.readthedocs.io/en/stable/) are a great way to combine Python code and its output with documentary text and images all in one document. It's also great for developing code, as you can execute blocks of code and see/ visualize the result inside the notebook. An [Jupyter Notebook](https://jupyter-notebook.readthedocs.io/en/stable/) consists of a number of \"cells,\" stacked on the page from top to bottom. Cells can have text or code in them. You can change a cell's type using the \"Cell\" menu at the top of the page; go to `Cell > Cell Type` and select either `Code` for Python code or `Markdown` for text. (You can also change this for the current cell using the drop-down menu in the toolbar.)"
   ]
  },
  {
   "cell_type": "markdown",
   "metadata": {
    "slideshow": {
     "slide_type": "fragment"
    }
   },
   "source": [
    "### Text cells\n",
    "\n",
    "Make a new cell, change its type to `Markdown`, type some stuff and press `Ctrl-Enter`. Jupyter Notebook will \"render\" the text and display it on the page in rendered format. You can hit `Enter` or click in the cell to edit its contents again. Text in `Markdown` cells is rendered according to a set of conventions called Markdown. Markdown is a simple language for marking up text with basic text formatting information (such as bold, italics, hyperlinks, tables, etc.).\n",
    "\n",
    "see also our Notebook: [Markdown-basics.ipynb](https://github.com/experimental-informatics/how-to-make-human-machine-readable/blob/master/00_General-introductions/Markdown-basics.ipynb)."
   ]
  },
  {
   "cell_type": "markdown",
   "metadata": {
    "slideshow": {
     "slide_type": "subslide"
    }
   },
   "source": [
    "### Code cells\n",
    "\n",
    "You can also press `Alt-Enter` to render the current cell and create a new cell. \n",
    "\n",
    "New cells will by default be `Code` cells, as follows:"
   ]
  },
  {
   "cell_type": "code",
   "execution_count": 2,
   "metadata": {
    "slideshow": {
     "slide_type": "fragment"
    }
   },
   "outputs": [
    {
     "name": "stdout",
     "output_type": "stream",
     "text": [
      "This is a code cell.\n",
      "\n",
      "Any Python code you type in this cell will be run when you press the 'Run' button,\n",
      "or when you press Ctrl-Enter.\n",
      "\n",
      "If the code evaluates to something, or if it produces output, that output will be\n",
      "shown beneath the cell after you run it.\n"
     ]
    }
   ],
   "source": [
    "print(\"This is a code cell.\")\n",
    "print(\"\")\n",
    "print(\"Any Python code you type in this cell will be run when you press the 'Run' button,\")\n",
    "print(\"or when you press Ctrl-Enter.\")\n",
    "print(\"\")\n",
    "print(\"If the code evaluates to something, or if it produces output, that output will be\")\n",
    "print(\"shown beneath the cell after you run it.\")"
   ]
  },
  {
   "cell_type": "code",
   "execution_count": 3,
   "metadata": {
    "slideshow": {
     "slide_type": "subslide"
    }
   },
   "outputs": [
    {
     "name": "stdout",
     "output_type": "stream",
     "text": [
      "If your Python code generates an error, the error will be displayed in addition\n",
      "to any output already produced.\n"
     ]
    },
    {
     "ename": "ZeroDivisionError",
     "evalue": "division by zero",
     "output_type": "error",
     "traceback": [
      "\u001b[0;31m---------------------------------------------------------------------------\u001b[0m",
      "\u001b[0;31mZeroDivisionError\u001b[0m                         Traceback (most recent call last)",
      "Input \u001b[0;32mIn [3]\u001b[0m, in \u001b[0;36m<cell line: 4>\u001b[0;34m()\u001b[0m\n\u001b[1;32m      1\u001b[0m \u001b[38;5;28mprint\u001b[39m(\u001b[38;5;124m\"\u001b[39m\u001b[38;5;124mIf your Python code generates an error, the error will be displayed in addition\u001b[39m\u001b[38;5;124m\"\u001b[39m)\n\u001b[1;32m      2\u001b[0m \u001b[38;5;28mprint\u001b[39m(\u001b[38;5;124m\"\u001b[39m\u001b[38;5;124mto any output already produced.\u001b[39m\u001b[38;5;124m\"\u001b[39m)\n\u001b[0;32m----> 4\u001b[0m \u001b[38;5;241;43m1\u001b[39;49m\u001b[43m \u001b[49m\u001b[38;5;241;43m/\u001b[39;49m\u001b[43m \u001b[49m\u001b[38;5;241;43m0\u001b[39;49m\n",
      "\u001b[0;31mZeroDivisionError\u001b[0m: division by zero"
     ]
    }
   ],
   "source": [
    "print(\"If your Python code generates an error, the error will be displayed in addition\")\n",
    "print(\"to any output already produced.\")\n",
    "\n",
    "1 / 0"
   ]
  },
  {
   "cell_type": "markdown",
   "metadata": {
    "slideshow": {
     "slide_type": "subslide"
    }
   },
   "source": [
    "##### Keyboard shortcuts\n",
    "\n",
    "As mentioned above, `Ctrl-Enter` runs the current cell; `Alt-Enter` runs the current cell and then creates a new cell. `Enter` will start editing whichever cell is currently selected. To quit editing a cell, hit `Esc`. If the cursor isn't currently active in any cell (i.e., after you've hit `Esc`), a number of other keyboard shortcuts are available to you:\n",
    "\n",
    "* `m` converts the selected cell to a Markdown cell\n",
    "* `b` inserts a new cell below the selected one\n",
    "* `x` \"cuts\" the selected cell; `c` \"copies\" the selected cell; `v` pastes a previously cut cell below the selected cell\n",
    "* `h` brings up a help screen with many more shortcuts."
   ]
  },
  {
   "cell_type": "markdown",
   "metadata": {
    "slideshow": {
     "slide_type": "subslide"
    }
   },
   "source": [
    "### Saving your work\n",
    "\n",
    "If you are working on JupyterHub you can download the notebook to your own computer by clicking `File > Download as` > `Notebook.ipynb`.\n",
    "\n",
    "If you run *Jupyter Notebook* locally, then just hit `Cmd-S` at any time to save your notebook. Jupyter Notebook also automatically saves occasionally. Make sure to give your notebook a descriptive title by clicking on \"Untitled0\" at the top of the page and replacing the text accordingly. Notebooks you save will be available on your server whenever you log in again, from wherever you log into the server."
   ]
  },
  {
   "cell_type": "markdown",
   "metadata": {},
   "source": [
    "---\n",
    "<a class=\"anchor\" id=\"2\"></a>"
   ]
  },
  {
   "cell_type": "markdown",
   "metadata": {
    "slideshow": {
     "slide_type": "slide"
    }
   },
   "source": [
    "## 2. Virtual environment"
   ]
  },
  {
   "cell_type": "markdown",
   "metadata": {},
   "source": [
    "It is recommended to create a virtual environment for your project/ setup. All the libraries and dependencies installed for this project are isolated and won't conflict other libraries and their dependencies. The easiest way to create a virtual environment may be with **conda**, but other options like **pipenv** are also possible.\n",
    "\n",
    "Open the [command line](https://exmediawiki.khm.de/index.php/Einf%C3%BChrung_in_das_Arbeiten_mit_der_Command_Line) of your operating system (see help for [Linux](https://www.wikihow.com/Open-a-Terminal-Window-in-Ubuntu), [Mac](https://www.wikihow.com/Open-a-Terminal-Window-in-Mac), ([Windows](https://www.wikihow.com/Open-Terminal-in-Windows)) (for Windows users: open \"Anaconda Prompt\") and create a new environment. Type the following line by line and press <code>Enter</code> after each line.\n",
    "\n",
    "``` shell\n",
    "# check if conda is installed\n",
    "$ conda --version\n",
    "```\n",
    "### Create a new environment\n",
    "\n",
    "Change the name `my_environment` in the code below to a name of your choice. This is the name of your environment and you have to type it when you start it later on, so make sure it's not too long and easy to remember.\n",
    "\n",
    "``` shell\n",
    "# create a new environment\n",
    "$ conda create --name my_environment -y\n",
    "\n",
    "# create a new environment with specific python version\n",
    "$ conda create --name my_environment python=3.9 -y\n",
    "```\n",
    "\n",
    "You can see all environments created by you with the following command:\n",
    "\n",
    "```shell\n",
    "# list available environments\n",
    "$ conda env list\n",
    "```\n",
    "\n",
    "Next we can activate our newly created environment. (Of course you have to insert your environments name in the place of `my_environment`.)\n",
    "\n",
    "```shell\n",
    "# activate your environment\n",
    "$ conda activate my_environment\n",
    "```\n",
    "\n",
    "### Install external packages with conda\n",
    "\n",
    "External packages (libraries) are installed in an activated environment with the command <code>conda install packagename</code>. Install the packages jupyter and jupyterlab:\n",
    "\n",
    "```shell\n",
    "# conda install packagename\n",
    "$ conda install jupyter\n",
    "$ conda install jupyterlab\n",
    "\n",
    "# you can combine multiple packages in one line, separated by a space\n",
    "$ conda install jupyter jupyterlab -y\n",
    "```\n",
    "\n",
    "### Install external packages with pip\n",
    "\n",
    "Some libraries (external packages) are not available through conda's package manager. We can use pythons package installer **pip**. Conda does not work seamlessly with pip, but the following instructions ([from this post on stackoverflow](https://stackoverflow.com/a/43729857)) should work.\n",
    "\n",
    "First install pip within your conda environment:\n",
    "\n",
    "```shell\n",
    "$ conda activate name_of_your_environment\n",
    "$ conda install pip\n",
    "```\n",
    "\n",
    "Next we will explicitly use this pip version to install the required library:\n",
    "\n",
    "```shell\n",
    "# Get the location of your environment:\n",
    "$ conda env list\n",
    "```\n",
    "\n",
    "This returns for example:\n",
    "\n",
    "```shell\n",
    "base                     /home/username/miniconda3\n",
    "pbwp                  *  /home/username/miniconda3/envs/pbwp\n",
    "```\n",
    "\n",
    "The environment with * is the active environment.\n",
    "\n",
    "To call pip inside this environment, we have to add `/bin/pip` to the path.\n",
    "\n",
    "The command looks like this:\n",
    "\n",
    "```shell\n",
    "$ miniconda3/envs/pbwp/bin/pip install packagename\n",
    "```\n",
    "\n",
    "### Run Jupyter Lab\n",
    "\n",
    "After we have installed Jupyter Lab, we can run it from within our **activated** environment with the command:\n",
    "\n",
    "```shell\n",
    "# run jupyter lab\n",
    "# (activate the environment first)\n",
    "$ jupyter-lab\n",
    "```\n",
    "\n",
    "Depending on your needs there are some additional arguments like:\n",
    "\n",
    "```shell\n",
    "$ jupyter-lab --browser = False\n",
    "```\n",
    "\n",
    "This will not open Jupyter Lab automatically in a browser. Instead it will print a URL to the terminal, which we can paste into a browser of our choice.\n",
    "\n",
    "``` shell\n",
    "$ jupyter-lab --notebook-dir = D:/\n",
    "```\n",
    "\n",
    "Define the directory in which you want to launch Jupyter Lab. For e.g. if you're working on Windows and have your installation on C and your files on D.\n",
    "\n",
    "### Deactivate conda\n",
    "\n",
    "When we've finished our work, we can deactivate the environment with:\n",
    "\n",
    "```shell\n",
    "# deactivate environment\n",
    "$ conda deactivate\n",
    "```"
   ]
  },
  {
   "cell_type": "markdown",
   "metadata": {
    "slideshow": {
     "slide_type": "skip"
    }
   },
   "source": [
    "---\n",
    "<a class=\"anchor\" id=\"3\"></a>"
   ]
  },
  {
   "cell_type": "markdown",
   "metadata": {
    "slideshow": {
     "slide_type": "slide"
    }
   },
   "source": [
    "## 3. some little help-functions...\n",
    "\n",
    "### help function\n",
    "The interactive interpreter has all kinds of nuggets to help you program in Python. The first one worth mentioning is the help() function. \n",
    "\n",
    "Pass any function or method as a parameter to help() and you'll get a handy description of the method or function and what it does:"
   ]
  },
  {
   "cell_type": "code",
   "execution_count": 4,
   "metadata": {
    "slideshow": {
     "slide_type": "fragment"
    }
   },
   "outputs": [
    {
     "name": "stdout",
     "output_type": "stream",
     "text": [
      "Help on built-in function len in module builtins:\n",
      "\n",
      "len(obj, /)\n",
      "    Return the number of items in a container.\n",
      "\n"
     ]
    }
   ],
   "source": [
    "help(len)"
   ]
  },
  {
   "cell_type": "code",
   "execution_count": 5,
   "metadata": {},
   "outputs": [
    {
     "name": "stdout",
     "output_type": "stream",
     "text": [
      "Help on built-in function swapcase:\n",
      "\n",
      "swapcase() method of builtins.str instance\n",
      "    Convert uppercase characters to lowercase and lowercase characters to uppercase.\n",
      "\n"
     ]
    },
    {
     "data": {
      "text/plain": [
       "'hELLO wORLD'"
      ]
     },
     "execution_count": 5,
     "metadata": {},
     "output_type": "execute_result"
    }
   ],
   "source": [
    "help(\"\".swapcase)\n",
    "\"Hello World\".swapcase()"
   ]
  },
  {
   "cell_type": "markdown",
   "metadata": {},
   "source": [
    "---\n",
    "You can look up how f.ex. the `range` function is defined and what options it provides by going to the `?` documentation:"
   ]
  },
  {
   "cell_type": "code",
   "execution_count": 6,
   "metadata": {},
   "outputs": [],
   "source": [
    "range?\n",
    "#for i in range(4):\n",
    "#    print(i)"
   ]
  },
  {
   "cell_type": "markdown",
   "metadata": {},
   "source": [
    "### Magic functions"
   ]
  },
  {
   "cell_type": "code",
   "execution_count": 7,
   "metadata": {},
   "outputs": [
    {
     "data": {
      "application/json": {
       "cell": {
        "!": "OSMagics",
        "HTML": "Other",
        "SVG": "Other",
        "bash": "Other",
        "capture": "ExecutionMagics",
        "debug": "ExecutionMagics",
        "file": "Other",
        "html": "DisplayMagics",
        "javascript": "DisplayMagics",
        "js": "DisplayMagics",
        "latex": "DisplayMagics",
        "markdown": "DisplayMagics",
        "perl": "Other",
        "prun": "ExecutionMagics",
        "pypy": "Other",
        "python": "Other",
        "python2": "Other",
        "python3": "Other",
        "ruby": "Other",
        "script": "ScriptMagics",
        "sh": "Other",
        "svg": "DisplayMagics",
        "sx": "OSMagics",
        "system": "OSMagics",
        "time": "ExecutionMagics",
        "timeit": "ExecutionMagics",
        "writefile": "OSMagics"
       },
       "line": {
        "alias": "OSMagics",
        "alias_magic": "BasicMagics",
        "autoawait": "AsyncMagics",
        "autocall": "AutoMagics",
        "automagic": "AutoMagics",
        "autosave": "KernelMagics",
        "bookmark": "OSMagics",
        "cat": "Other",
        "cd": "OSMagics",
        "clear": "KernelMagics",
        "colors": "BasicMagics",
        "conda": "PackagingMagics",
        "config": "ConfigMagics",
        "connect_info": "KernelMagics",
        "cp": "Other",
        "debug": "ExecutionMagics",
        "dhist": "OSMagics",
        "dirs": "OSMagics",
        "doctest_mode": "BasicMagics",
        "ed": "Other",
        "edit": "KernelMagics",
        "env": "OSMagics",
        "gui": "BasicMagics",
        "hist": "Other",
        "history": "HistoryMagics",
        "killbgscripts": "ScriptMagics",
        "ldir": "Other",
        "less": "KernelMagics",
        "lf": "Other",
        "lk": "Other",
        "ll": "Other",
        "load": "CodeMagics",
        "load_ext": "ExtensionMagics",
        "loadpy": "CodeMagics",
        "logoff": "LoggingMagics",
        "logon": "LoggingMagics",
        "logstart": "LoggingMagics",
        "logstate": "LoggingMagics",
        "logstop": "LoggingMagics",
        "ls": "Other",
        "lsmagic": "BasicMagics",
        "lx": "Other",
        "macro": "ExecutionMagics",
        "magic": "BasicMagics",
        "man": "KernelMagics",
        "matplotlib": "PylabMagics",
        "mkdir": "Other",
        "more": "KernelMagics",
        "mv": "Other",
        "notebook": "BasicMagics",
        "page": "BasicMagics",
        "pastebin": "CodeMagics",
        "pdb": "ExecutionMagics",
        "pdef": "NamespaceMagics",
        "pdoc": "NamespaceMagics",
        "pfile": "NamespaceMagics",
        "pinfo": "NamespaceMagics",
        "pinfo2": "NamespaceMagics",
        "pip": "PackagingMagics",
        "popd": "OSMagics",
        "pprint": "BasicMagics",
        "precision": "BasicMagics",
        "prun": "ExecutionMagics",
        "psearch": "NamespaceMagics",
        "psource": "NamespaceMagics",
        "pushd": "OSMagics",
        "pwd": "OSMagics",
        "pycat": "OSMagics",
        "pylab": "PylabMagics",
        "qtconsole": "KernelMagics",
        "quickref": "BasicMagics",
        "recall": "HistoryMagics",
        "rehashx": "OSMagics",
        "reload_ext": "ExtensionMagics",
        "rep": "Other",
        "rerun": "HistoryMagics",
        "reset": "NamespaceMagics",
        "reset_selective": "NamespaceMagics",
        "rm": "Other",
        "rmdir": "Other",
        "run": "ExecutionMagics",
        "save": "CodeMagics",
        "sc": "OSMagics",
        "set_env": "OSMagics",
        "store": "StoreMagics",
        "sx": "OSMagics",
        "system": "OSMagics",
        "tb": "ExecutionMagics",
        "time": "ExecutionMagics",
        "timeit": "ExecutionMagics",
        "unalias": "OSMagics",
        "unload_ext": "ExtensionMagics",
        "who": "NamespaceMagics",
        "who_ls": "NamespaceMagics",
        "whos": "NamespaceMagics",
        "xdel": "NamespaceMagics",
        "xmode": "BasicMagics"
       }
      },
      "text/plain": [
       "Available line magics:\n",
       "%alias  %alias_magic  %autoawait  %autocall  %automagic  %autosave  %bookmark  %cat  %cd  %clear  %colors  %conda  %config  %connect_info  %cp  %debug  %dhist  %dirs  %doctest_mode  %ed  %edit  %env  %gui  %hist  %history  %killbgscripts  %ldir  %less  %lf  %lk  %ll  %load  %load_ext  %loadpy  %logoff  %logon  %logstart  %logstate  %logstop  %ls  %lsmagic  %lx  %macro  %magic  %man  %matplotlib  %mkdir  %more  %mv  %notebook  %page  %pastebin  %pdb  %pdef  %pdoc  %pfile  %pinfo  %pinfo2  %pip  %popd  %pprint  %precision  %prun  %psearch  %psource  %pushd  %pwd  %pycat  %pylab  %qtconsole  %quickref  %recall  %rehashx  %reload_ext  %rep  %rerun  %reset  %reset_selective  %rm  %rmdir  %run  %save  %sc  %set_env  %store  %sx  %system  %tb  %time  %timeit  %unalias  %unload_ext  %who  %who_ls  %whos  %xdel  %xmode\n",
       "\n",
       "Available cell magics:\n",
       "%%!  %%HTML  %%SVG  %%bash  %%capture  %%debug  %%file  %%html  %%javascript  %%js  %%latex  %%markdown  %%perl  %%prun  %%pypy  %%python  %%python2  %%python3  %%ruby  %%script  %%sh  %%svg  %%sx  %%system  %%time  %%timeit  %%writefile\n",
       "\n",
       "Automagic is ON, % prefix IS NOT needed for line magics."
      ]
     },
     "execution_count": 7,
     "metadata": {},
     "output_type": "execute_result"
    }
   ],
   "source": [
    "# list available magic functions\n",
    "%lsmagic"
   ]
  },
  {
   "cell_type": "code",
   "execution_count": 8,
   "metadata": {},
   "outputs": [
    {
     "name": "stdout",
     "output_type": "stream",
     "text": [
      "/home/jupyter-christian\n"
     ]
    }
   ],
   "source": [
    "# type system (shell) commands via '!'\n",
    "!pwd"
   ]
  },
  {
   "cell_type": "code",
   "execution_count": 9,
   "metadata": {},
   "outputs": [],
   "source": [
    "%man pwd"
   ]
  },
  {
   "cell_type": "code",
   "execution_count": 10,
   "metadata": {},
   "outputs": [
    {
     "name": "stdout",
     "output_type": "stream",
     "text": [
      "Introduction.ipynb             \u001b[0m\u001b[01;34mplunging-into-code\u001b[0m/\n",
      "Introduction-to-jupyter.ipynb  Untitled.ipynb\n"
     ]
    }
   ],
   "source": [
    "%ls"
   ]
  },
  {
   "cell_type": "code",
   "execution_count": 11,
   "metadata": {},
   "outputs": [
    {
     "data": {
      "text/html": [
       "<img src=\"https://ground-zero.khm.de/wp-content/uploads/sites/25/2020/12/logo_extended_transparent_320x64.png\">\n",
       "<p>Poetics of technics and cognition</p>\n"
      ],
      "text/plain": [
       "<IPython.core.display.HTML object>"
      ]
     },
     "metadata": {},
     "output_type": "display_data"
    }
   ],
   "source": [
    "%%HTML\n",
    "<img src=\"https://ground-zero.khm.de/wp-content/uploads/sites/25/2020/12/logo_extended_transparent_320x64.png\">\n",
    "<p>Poetics of technics and cognition</p>"
   ]
  },
  {
   "cell_type": "markdown",
   "metadata": {},
   "source": [
    "### User interaction with IPyWidgets\n",
    "...see some examples here: http://buildandteach.com/jupyter-notebook-tutorials/using-ipywidgets-ui-controls-for-the-jupyter-notebook/"
   ]
  },
  {
   "cell_type": "code",
   "execution_count": 12,
   "metadata": {},
   "outputs": [],
   "source": [
    "# Importing the ipywidgets library and IPython display module\n",
    "import ipywidgets as widgets\n",
    "from IPython.display import display"
   ]
  },
  {
   "cell_type": "code",
   "execution_count": 13,
   "metadata": {},
   "outputs": [
    {
     "data": {
      "application/vnd.jupyter.widget-view+json": {
       "model_id": "1a6926e9b68045c8b4e8e0629b65f52b",
       "version_major": 2,
       "version_minor": 0
      },
      "text/plain": [
       "IntSlider(value=50)"
      ]
     },
     "metadata": {},
     "output_type": "display_data"
    }
   ],
   "source": [
    "# simple slider:\n",
    "slider=widgets.IntSlider(value=50,\n",
    "                  min=0,\n",
    "                  max=100)\n",
    "slider"
   ]
  },
  {
   "cell_type": "code",
   "execution_count": 14,
   "metadata": {},
   "outputs": [
    {
     "name": "stdout",
     "output_type": "stream",
     "text": [
      "50\n"
     ]
    }
   ],
   "source": [
    "val = slider.value\n",
    "print(val)"
   ]
  },
  {
   "cell_type": "code",
   "execution_count": 15,
   "metadata": {},
   "outputs": [
    {
     "data": {
      "application/vnd.jupyter.widget-view+json": {
       "model_id": "e640847c095d4e1493f73ec556fdcc6e",
       "version_major": 2,
       "version_minor": 0
      },
      "text/plain": [
       "Dropdown(description='Number:', options=('1', '2', '3'), value='1')"
      ]
     },
     "metadata": {},
     "output_type": "display_data"
    }
   ],
   "source": [
    "#Dropdown:\n",
    "widgets.Dropdown(\n",
    "    options=['1', '2', '3'],\n",
    "    value='1',\n",
    "    description='Number:',\n",
    ")"
   ]
  },
  {
   "cell_type": "markdown",
   "metadata": {},
   "source": [
    "### the display system"
   ]
  },
  {
   "cell_type": "code",
   "execution_count": 16,
   "metadata": {},
   "outputs": [
    {
     "data": {
      "text/html": [
       "<img src=\"https://ground-zero.khm.de/wp-content/uploads/sites/25/2020/12/logo_extended_transparent_320x64.png\"/>"
      ],
      "text/plain": [
       "<IPython.core.display.Image object>"
      ]
     },
     "execution_count": 16,
     "metadata": {},
     "output_type": "execute_result"
    }
   ],
   "source": [
    "#images\n",
    "from IPython.display import display, Image\n",
    "Image(url='https://ground-zero.khm.de/wp-content/uploads/sites/25/2020/12/logo_extended_transparent_320x64.png')"
   ]
  },
  {
   "cell_type": "code",
   "execution_count": 17,
   "metadata": {},
   "outputs": [
    {
     "data": {
      "image/jpeg": "[encoded data removed]",
      "text/html": [
       "\n",
       "        <iframe\n",
       "            width=\"400\"\n",
       "            height=\"300\"\n",
       "            src=\"https://www.youtube.com/embed/3jZYC9rGrNg\"\n",
       "            frameborder=\"0\"\n",
       "            allowfullscreen\n",
       "            \n",
       "        ></iframe>\n",
       "        "
      ],
      "text/plain": [
       "<IPython.lib.display.YouTubeVideo at 0x7f42900764f0>"
      ]
     },
     "execution_count": 17,
     "metadata": {},
     "output_type": "execute_result"
    }
   ],
   "source": [
    "#videos (youtube)\n",
    "from IPython.display import YouTubeVideo\n",
    "YouTubeVideo(\"3jZYC9rGrNg\")"
   ]
  },
  {
   "cell_type": "markdown",
   "metadata": {},
   "source": [
    "### Export Notebooks\n",
    "\n",
    "jupyter nbconvert --to html jupyter-notebook.ipynb\n",
    "\n",
    "jupyter nbconvert --to pdf jupyter-notebook.ipynb\n"
   ]
  },
  {
   "cell_type": "markdown",
   "metadata": {},
   "source": [
    "### Licensing your work (or use work from others)...\n",
    "In order for others to be able to use your code, it should be given a license that describe the terms of use. Otherwise it is likely to be protected by copyright. Authors are those who originally contributed to the software. If a software is to be relicensed, the consent of all persons who can claim authorship is required.\n",
    "\n",
    "The 4 freedoms:\n",
    "- The freedom to run the program as you wish, for any purpose (freedom 0).\n",
    "- The freedom to study how the program works, and change it so it does your computing as you wish (freedom 1). Access to the source code is a precondition for this.\n",
    "- The freedom to redistribute copies so you can help your neighbor (freedom 2).\n",
    "- The freedom to distribute copies of your modified versions to others (freedom 3). By doing this you can give the whole community a chance to benefit from your changes. Access to the source code is a precondition for this.\n",
    "\n",
    "#### Proprietary Software Licenses \n",
    "Proprietary software licenses are rarely standardized; they can be commercial, shareware or freeware.\n",
    "\n",
    "#### Free and Open Source Software (FOSS) \n",
    "They are defined by the Free Software Foundation (FSF) and the Open Source Initiative (OSI) . Essentially, a distinction can be made between copyleft, permissive and public domain licenses.\n",
    "\n",
    "##### Copyleft licenses \n",
    "Copyleft licenses oblige licensees to license any derivative work of the software under the original work. This is to prevent restrictions on the use of the software. The best-known copyleft license is the `GNU General Public License (GPL)`. The copyleft of the GPL is seen as very strong, while that of the Mozilla Public License is seen as very weak.\n",
    "\n",
    "##### Permissive Open Source Licenses \n",
    "Permissive or permissive open source licenses allow for broader reuse than copyleft licenses. Derivatives and copies of the source code may be distributed under terms that are fundamentally different from those of the original license. The best known examples of such licenses are the `MIT license` and the `BSD license`.\n",
    "\n",
    "### licensing cultural works\n",
    "\n",
    "#### free cultural works... how to define?\n",
    "Licenses are legal instruments through which the owner of certain legal rights may transfer these rights to third parties. Free Culture Licenses do not take any rights away -- they are always optional to accept, and if accepted, they grant freedoms which copyright law alone does not provide. When accepted, they never limit or reduce existing exemptions in copyright laws.\n",
    "\n",
    "In order to be recognized as \"free\" under this definition, a license must grant the following freedoms without limitation:\n",
    "\n",
    "- The freedom to use and perform the work: The licensee must be allowed to make any use, private or public, of the work. For kinds of works where it is relevant, this freedom should include all derived uses (\"related rights\") such as performing or interpreting the work. There must be no exception regarding, for example, political or religious considerations.\n",
    "- The freedom to study the work and apply the information: The licensee must be allowed to examine the work and to use the knowledge gained from the work in any way. The license may not, for example, restrict \"reverse engineering\".\n",
    "- The freedom to redistribute copies: Copies may be sold, swapped or given away for free, as part of a larger work, a collection, or independently. There must be no limit on the amount of information that can be copied. There must also not be any limit on who can copy the information or on where the information can be copied.\n",
    "- The freedom to distribute derivative works: In order to give everyone the ability to improve upon a work, the license must not limit the freedom to distribute a modified version (or, for physical works, a work somehow derived from the original), regardless of the intent and purpose of such modifications. However, some restrictions may be applied to protect these essential freedoms or the attribution of authors (see below).\n",
    "\n",
    "#### Example1:  Creative Commons\n",
    "https://creativecommons.org/\n",
    "\n",
    "CC-licenses are open licenses used all kind of (digital) cultural works. \n",
    "\n",
    "#### Example2: Free Art License\n",
    "https://artlibre.org/licence/lal/en/\n",
    "\n",
    "The Free Art License is a copyleft license that grants the right to freely copy, distribute, and transform creative works."
   ]
  }
 ],
 "metadata": {
  "kernelspec": {
   "display_name": "Python 3",
   "language": "python",
   "name": "python3"
  },
  "language_info": {
   "codemirror_mode": {
    "name": "ipython",
    "version": 3
   },
   "file_extension": ".py",
   "mimetype": "text/x-python",
   "name": "python",
   "nbconvert_exporter": "python",
   "pygments_lexer": "ipython3",
   "version": "3.8.3"
  },
  "toc": {
   "base_numbering": 1,
   "nav_menu": {},
   "number_sections": true,
   "sideBar": true,
   "skip_h1_title": false,
   "title_cell": "Table of Contents",
   "title_sidebar": "Contents",
   "toc_cell": false,
   "toc_position": {},
   "toc_section_display": true,
   "toc_window_display": true
  }
 },
 "nbformat": 4,
 "nbformat_minor": 4
}
