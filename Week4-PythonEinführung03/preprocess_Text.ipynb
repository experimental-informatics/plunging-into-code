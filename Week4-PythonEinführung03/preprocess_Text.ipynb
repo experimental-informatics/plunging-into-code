{
 "cells": [
  {
   "cell_type": "markdown",
   "metadata": {},
   "source": [
    "# Preprocess Text"
   ]
  },
  {
   "cell_type": "code",
   "execution_count": 2,
   "metadata": {},
   "outputs": [],
   "source": [
    "#Preprocessing text\n",
    "#input a String as text, than output a list of words as corpus\n",
    "\n",
    "#This function is suited for standard German and English.\n",
    "#For more language, change the character for exchangement.\n",
    "import re\n",
    "\n",
    "def preprocess(text):\n",
    "    text=text.replace(\"ä\",\"ae\").replace(\"Ä\",\"Ae\").replace(\"ö\",\"oe\").replace(\"Ö\",\"oe\").replace(\"ü\",\"ue\").replace(\"Ü\",\"ue\")\n",
    "    remove_digits = str.maketrans('', '', '0123456789_-!?:\\\"\\'')\n",
    "    text = text.translate(remove_digits)\n",
    "    text = re.sub(r'[^\\w\\s]','',text)\n",
    "    word = text.split()\n",
    "    return word"
   ]
  },
  {
   "cell_type": "code",
   "execution_count": 8,
   "metadata": {},
   "outputs": [],
   "source": [
    "# Open text file in reading mode.\n",
    "with open('lorem.txt', 'r') as f:\n",
    "    # Read content into variable.\n",
    "    lorem = f.read()"
   ]
  },
  {
   "cell_type": "code",
   "execution_count": 9,
   "metadata": {},
   "outputs": [],
   "source": [
    "lorem = preprocess(txt)"
   ]
  },
  {
   "cell_type": "code",
   "execution_count": 11,
   "metadata": {},
   "outputs": [
    {
     "name": "stdout",
     "output_type": "stream",
     "text": [
      "['Lorem', 'ipsum', 'dolor', 'sit', 'amet', 'consetetur', 'sadipscing', 'elitr', 'sed', 'diam']\n",
      "650\n"
     ]
    }
   ],
   "source": [
    "# Print the first ten element of the text and the len\n",
    "print(l[:10])\n",
    "print(len(l))"
   ]
  },
  {
   "cell_type": "markdown",
   "metadata": {},
   "source": [
    "# First Order Markov Generator"
   ]
  },
  {
   "cell_type": "code",
   "execution_count": 15,
   "metadata": {},
   "outputs": [
    {
     "name": "stdout",
     "output_type": "stream",
     "text": [
      "Lorem sit consequat sadipscing sed nulla facilisis amet dolore accusam ut aliquam delenit kasd dolor dolore vel dolor sadipscing et ipsum voluptua gubergren et esse no ut ea no esse ea at duo kasd voluptua dolor eos kasd eum ut At kasd magna elitr eos dolore consectetuer exerci diam clita tation eirmod At facilisis nonummy et sadipscing voluptua et sed et iusto dolores doming sit et justo dolor duo gubergren et ut rebum voluptua dolore eum nonumy diam sit commodo no blandit sit sed dolor labore voluptua ea accumsan illum eirmod exerci ea et amet magna in invidunt Lorem dolore "
     ]
    }
   ],
   "source": [
    "import random \n",
    "\n",
    "for i in range(100):\n",
    "    print(random.choice(l), end=' ')"
   ]
  },
  {
   "cell_type": "code",
   "execution_count": null,
   "metadata": {},
   "outputs": [],
   "source": []
  }
 ],
 "metadata": {
  "kernelspec": {
   "display_name": "Python 3",
   "language": "python",
   "name": "python3"
  },
  "language_info": {
   "codemirror_mode": {
    "name": "ipython",
    "version": 3
   },
   "file_extension": ".py",
   "mimetype": "text/x-python",
   "name": "python",
   "nbconvert_exporter": "python",
   "pygments_lexer": "ipython3",
   "version": "3.8.8"
  }
 },
 "nbformat": 4,
 "nbformat_minor": 4
}
