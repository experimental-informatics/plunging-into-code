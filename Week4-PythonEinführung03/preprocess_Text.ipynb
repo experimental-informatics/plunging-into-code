{
 "cells": [
  {
   "cell_type": "markdown",
   "metadata": {},
   "source": [
    "# preprocess Text"
   ]
  },
  {
   "cell_type": "code",
   "execution_count": 2,
   "metadata": {},
   "outputs": [],
   "source": [
    "#Preprocessing text\n",
    "#input a String as text, than output a list of words as corpus\n",
    "\n",
    "#This function is suited for standard German and English.\n",
    "#For more language, change the character for exchangement.\n",
    "import re\n",
    "\n",
    "def preprocess(text):\n",
    "    text=text.replace(\"ä\",\"ae\").replace(\"Ä\",\"Ae\").replace(\"ö\",\"oe\").replace(\"Ö\",\"oe\").replace(\"ü\",\"ue\").replace(\"Ü\",\"ue\")\n",
    "    remove_digits = str.maketrans('', '', '0123456789_-!?:\\\"\\'')\n",
    "    text = text.translate(remove_digits)\n",
    "    text = re.sub(r'[^\\w\\s]','',text)\n",
    "    word = text.split()\n",
    "    return word\n"
   ]
  },
  {
   "cell_type": "code",
   "execution_count": 3,
   "metadata": {},
   "outputs": [],
   "source": [
    "import requests\n",
    "# Request web source.\n",
    "url = 'https://loremipsum.de/downloads/original.txt'\n",
    "r = requests.get(url)\n",
    "\n",
    "# Store text content in a variable called txt.\n",
    "txt = r.text"
   ]
  },
  {
   "cell_type": "code",
   "execution_count": 4,
   "metadata": {},
   "outputs": [],
   "source": [
    "l = preprocess(txt)"
   ]
  },
  {
   "cell_type": "code",
   "execution_count": 7,
   "metadata": {},
   "outputs": [
    {
     "name": "stdout",
     "output_type": "stream",
     "text": [
      "['Lorem', 'ipsum', 'dolor', 'sit', 'amet', 'consetetur', 'sadipscing', 'elitr', 'sed', 'diam']\n"
     ]
    }
   ],
   "source": [
    "# Print the first ten element of the text\n",
    "print(l[:10])"
   ]
  },
  {
   "cell_type": "code",
   "execution_count": null,
   "metadata": {},
   "outputs": [],
   "source": []
  }
 ],
 "metadata": {
  "kernelspec": {
   "display_name": "Python 3",
   "language": "python",
   "name": "python3"
  },
  "language_info": {
   "codemirror_mode": {
    "name": "ipython",
    "version": 3
   },
   "file_extension": ".py",
   "mimetype": "text/x-python",
   "name": "python",
   "nbconvert_exporter": "python",
   "pygments_lexer": "ipython3",
   "version": "3.8.3"
  }
 },
 "nbformat": 4,
 "nbformat_minor": 4
}
