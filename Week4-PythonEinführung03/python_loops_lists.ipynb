{
 "cells": [
  {
   "cell_type": "markdown",
   "metadata": {},
   "source": [
    "# Python: Loops & Lists"
   ]
  },
  {
   "cell_type": "markdown",
   "metadata": {},
   "source": [
    "## For-Loop\n",
    "\n",
    "A basic principle of programming is a sequence of iterations: doing things multiple times. This is called a **loop**.<br>\n",
    "There are basically two methods of loops:<br>\n",
    "- for-loop\n",
    "- while-loop\n",
    "\n",
    "For now we focus on the for-loop.<br>\n",
    "\n",
    "We can use it if we wan't to execute a **block of code** n times. For that we'll use the build-in method `range()`:"
   ]
  },
  {
   "cell_type": "code",
   "execution_count": 1,
   "metadata": {},
   "outputs": [
    {
     "name": "stdout",
     "output_type": "stream",
     "text": [
      "one iteration\n",
      "~ ~ ~ ~ ~ ~ ~ \n",
      "one iteration\n",
      "~ ~ ~ ~ ~ ~ ~ \n",
      "one iteration\n",
      "~ ~ ~ ~ ~ ~ ~ \n"
     ]
    }
   ],
   "source": [
    "for i in range(3):\n",
    "    # do something n times \n",
    "    print('one iteration')\n",
    "    print('~ '* 7)"
   ]
  },
  {
   "cell_type": "code",
   "execution_count": 2,
   "metadata": {},
   "outputs": [
    {
     "name": "stdout",
     "output_type": "stream",
     "text": [
      "0\n",
      "1\n",
      "2\n",
      "3\n"
     ]
    }
   ],
   "source": [
    "for i in range(4):\n",
    "    print(i)"
   ]
  },
  {
   "cell_type": "markdown",
   "metadata": {
    "tags": []
   },
   "source": [
    "### Syntax\n",
    "\n",
    "A for loop is indicated by the keyword **for**, followed by a variable (name of your choice) and another keyword **in**, followed by an **iterable object**. Behind that we have to insert a `:`.<br>\n",
    "<div class=\"alert alert-box alert-success\">\n",
    "    Everything <i>inside</i> a loop is <i>indent</i> by one tab. This <i>block of code</i> is repeated for every iteration over the iterable object.<br>\n",
    "    The first line of code without that extra indent is the first line that is not part of the loop.\n",
    "</div>\n",
    "<br>    "
   ]
  },
  {
   "cell_type": "code",
   "execution_count": 3,
   "metadata": {},
   "outputs": [
    {
     "name": "stdout",
     "output_type": "stream",
     "text": [
      "🦜\n",
      "🦜🦜\n",
      "🦜🦜🦜\n",
      "🦜🦜🦜🦜\n",
      "🦜🦜🦜🦜🦜\n",
      "🌵\n",
      "☕☕\n"
     ]
    }
   ],
   "source": [
    "for i in range(5):\n",
    "\n",
    "    print('🦜' * (i+1))\n",
    "    \n",
    "print('🌵')\n",
    "print(2*'☕')"
   ]
  },
  {
   "cell_type": "markdown",
   "metadata": {},
   "source": [
    "As you see we can use the variable `i` **inside** the loop. Its value changes with every iteration. Notice that counting starts from 0 in programming languages!"
   ]
  },
  {
   "cell_type": "code",
   "execution_count": 4,
   "metadata": {},
   "outputs": [
    {
     "name": "stdout",
     "output_type": "stream",
     "text": [
      "2\n",
      "3\n",
      "4\n",
      "5\n",
      "6\n",
      "7\n",
      "8\n",
      "9\n",
      "10\n"
     ]
    }
   ],
   "source": [
    "# We can specify a start value inside the range function:\n",
    "for i in range(2,11):\n",
    "    print(i)"
   ]
  },
  {
   "cell_type": "code",
   "execution_count": 5,
   "metadata": {},
   "outputs": [
    {
     "name": "stdout",
     "output_type": "stream",
     "text": [
      "12\n",
      "14\n",
      "16\n",
      "18\n",
      "20\n",
      "22\n"
     ]
    }
   ],
   "source": [
    "# Furthermore we can specify the steps between two values:\n",
    "for i in range(12, 24, 2):\n",
    "    print(i)"
   ]
  },
  {
   "cell_type": "markdown",
   "metadata": {},
   "source": [
    "## Nest For-Loop (MultiDimension For-Loop)\n",
    "\n",
    "Nest loop is the based on the actual \"Nest\", which iterate into different layer. It essential for processing multidimensional data for example, Image, Sound... etc.\n"
   ]
  },
  {
   "cell_type": "code",
   "execution_count": 6,
   "metadata": {},
   "outputs": [
    {
     "name": "stdout",
     "output_type": "stream",
     "text": [
      "**********\n",
      "**********\n",
      "**********\n",
      "**********\n",
      "**********\n",
      "**********\n",
      "**********\n",
      "**********\n",
      "**********\n",
      "**********\n"
     ]
    }
   ],
   "source": [
    "# Basic Nest For-Loop sturcture to print a square.\n",
    "\n",
    "# notice the indentation here\n",
    "# each indentation means different layers of loop\n",
    "for i in range(10):\n",
    "    for j in range(10):\n",
    "        print('*',end='')\n",
    "    print() "
   ]
  },
  {
   "cell_type": "markdown",
   "metadata": {},
   "source": [
    "The `i` in side the loop is also a variable\n",
    "which is possible to change, and create different effect.\n",
    "\n",
    "![Triangle](images/triangle.png)"
   ]
  },
  {
   "cell_type": "code",
   "execution_count": 7,
   "metadata": {},
   "outputs": [
    {
     "name": "stdout",
     "output_type": "stream",
     "text": [
      "@@@@@\n",
      "@@@@\n",
      "@@@\n",
      "@@\n",
      "@\n"
     ]
    }
   ],
   "source": [
    "# nest for-loop\n",
    "for i in range(5):\n",
    "    for j in range(i,5):\n",
    "        print('@',end='')\n",
    "    print()"
   ]
  },
  {
   "cell_type": "markdown",
   "metadata": {},
   "source": [
    "### Additional Information\n",
    "\n",
    "Nest loop is the basis of running multilayer data, it's the foundation of pixel based image."
   ]
  },
  {
   "cell_type": "code",
   "execution_count": 8,
   "metadata": {},
   "outputs": [
    {
     "name": "stdout",
     "output_type": "stream",
     "text": [
      "(0,0) (1,0) (2,0) (3,0) (4,0) (5,0) (6,0) (7,0) (8,0) (9,0) \n",
      "(0,1) (1,1) (2,1) (3,1) (4,1) (5,1) (6,1) (7,1) (8,1) (9,1) \n",
      "(0,2) (1,2) (2,2) (3,2) (4,2) (5,2) (6,2) (7,2) (8,2) (9,2) \n",
      "(0,3) (1,3) (2,3) (3,3) (4,3) (5,3) (6,3) (7,3) (8,3) (9,3) \n",
      "(0,4) (1,4) (2,4) (3,4) (4,4) (5,4) (6,4) (7,4) (8,4) (9,4) \n",
      "(0,5) (1,5) (2,5) (3,5) (4,5) (5,5) (6,5) (7,5) (8,5) (9,5) \n",
      "(0,6) (1,6) (2,6) (3,6) (4,6) (5,6) (6,6) (7,6) (8,6) (9,6) \n",
      "(0,7) (1,7) (2,7) (3,7) (4,7) (5,7) (6,7) (7,7) (8,7) (9,7) \n",
      "(0,8) (1,8) (2,8) (3,8) (4,8) (5,8) (6,8) (7,8) (8,8) (9,8) \n",
      "(0,9) (1,9) (2,9) (3,9) (4,9) (5,9) (6,9) (7,9) (8,9) (9,9) \n"
     ]
    }
   ],
   "source": [
    "for y in range(10):\n",
    "    for x in range(10):\n",
    "        print('(' + str(x) + ',' + str(y) +')',end=' ')\n",
    "    print()"
   ]
  },
  {
   "cell_type": "markdown",
   "metadata": {},
   "source": [
    "## Lists\n",
    "\n",
    "<div class=\"alert alert-box alert-success\">\n",
    "    We have seen spatial dimensions of variables.<br>\n",
    "The data itself also has a spatial dimension. So far we have used mainly single values like a number stored in a variable, but most data is stored in sequences:<br>\n",
    "    <ul>\n",
    "        <li>a word is a sequence of characters</li>\n",
    "        <li>a image is a sequence of numbers</li>\n",
    "        <li>a video is a sequence of sequences of numbers</li>\n",
    "    </ul>\n",
    "</div>"
   ]
  },
  {
   "cell_type": "markdown",
   "metadata": {},
   "source": [
    "We can store a sequence of data in a data type called **list**. The syntax for a list are square brackets: <code>[ ]</code>. The items of the sequence are placed *inside* the square brackets, **separated** by <code>,</code>.<br>"
   ]
  },
  {
   "cell_type": "code",
   "execution_count": 9,
   "metadata": {},
   "outputs": [
    {
     "name": "stdout",
     "output_type": "stream",
     "text": [
      "[1, 5, 734, 25, 84, 101]\n",
      "<class 'list'>\n"
     ]
    }
   ],
   "source": [
    "numbers = [1, 5, 734, 25, 84, 101]\n",
    "print(numbers)\n",
    "print(type(numbers))"
   ]
  },
  {
   "cell_type": "markdown",
   "metadata": {},
   "source": [
    "We can get the length (= number of items) of a list with the built-in function `len()`. (We can use it to get the length of serveral other objects as well.)"
   ]
  },
  {
   "cell_type": "code",
   "execution_count": 10,
   "metadata": {},
   "outputs": [
    {
     "data": {
      "text/plain": [
       "6"
      ]
     },
     "execution_count": 10,
     "metadata": {},
     "output_type": "execute_result"
    }
   ],
   "source": [
    "len(numbers)"
   ]
  },
  {
   "cell_type": "markdown",
   "metadata": {},
   "source": [
    "<div class=\"alert alert-box alert-success\">\n",
    "    You can imagine a list for e.g. as an advent calendar. Each space in the sequence contains data and we can access each one independently.\n",
    "</div>\n",
    "\n",
    "![calendar](images/calendar.jpg) [Source](https://sunshineandholly.com/easy-diy-advent-calendar/)"
   ]
  },
  {
   "cell_type": "code",
   "execution_count": 17,
   "metadata": {},
   "outputs": [],
   "source": [
    "# syntax: name_of_variable = [item1, item2, item3]\n",
    "items = ['apple', 'beer', 'cherry', 'date']"
   ]
  },
  {
   "cell_type": "code",
   "execution_count": 18,
   "metadata": {},
   "outputs": [
    {
     "data": {
      "text/plain": [
       "4"
      ]
     },
     "execution_count": 18,
     "metadata": {},
     "output_type": "execute_result"
    }
   ],
   "source": [
    "len(items)"
   ]
  },
  {
   "cell_type": "code",
   "execution_count": 19,
   "metadata": {},
   "outputs": [
    {
     "name": "stdout",
     "output_type": "stream",
     "text": [
      "['apple', 'beer', 'cherry', 'date']\n"
     ]
    }
   ],
   "source": [
    "print(items)"
   ]
  },
  {
   "cell_type": "markdown",
   "metadata": {},
   "source": [
    "### Accessing elements of a list\n",
    "\n",
    "All items in a list have an **index**, through which we can access items individually. Access elements of a list with the following syntax:<br>\n",
    "``` python\n",
    "name_of_list[index] # index is an integer\n",
    "```"
   ]
  },
  {
   "cell_type": "code",
   "execution_count": 14,
   "metadata": {},
   "outputs": [
    {
     "name": "stdout",
     "output_type": "stream",
     "text": [
      "cherry\n"
     ]
    }
   ],
   "source": [
    "item_2 = advent_calendar[2]\n",
    "print(item_2)"
   ]
  },
  {
   "cell_type": "markdown",
   "metadata": {},
   "source": [
    "We expected to get a beer, but got a cherry.<br>\n",
    "<div class=\"alert alert-box alert-info\">\n",
    "    Task: Get the beer.\n",
    "</div>"
   ]
  },
  {
   "cell_type": "code",
   "execution_count": null,
   "metadata": {},
   "outputs": [],
   "source": []
  },
  {
   "cell_type": "markdown",
   "metadata": {},
   "source": [
    "Remember that **counting starts from 0**, not from 1.<br>\n",
    "This also means that the last item has the length of the list - 1.<br>"
   ]
  },
  {
   "cell_type": "code",
   "execution_count": 20,
   "metadata": {},
   "outputs": [
    {
     "name": "stdout",
     "output_type": "stream",
     "text": [
      "4\n",
      "date\n"
     ]
    }
   ],
   "source": [
    "print(len(advent_calendar))\n",
    "\n",
    "last_item = advent_calendar[len(advent_calendar) - 1]\n",
    "print(last_item)"
   ]
  },
  {
   "cell_type": "markdown",
   "metadata": {},
   "source": [
    "As you see we can use methods and mathematical expressions *inside* the square brackets.<br>\n",
    "But we have to make sure that the result is an integer."
   ]
  },
  {
   "cell_type": "code",
   "execution_count": 21,
   "metadata": {},
   "outputs": [
    {
     "ename": "TypeError",
     "evalue": "list indices must be integers or slices, not float",
     "output_type": "error",
     "traceback": [
      "\u001b[0;31m---------------------------------------------------------------------------\u001b[0m",
      "\u001b[0;31mTypeError\u001b[0m                                 Traceback (most recent call last)",
      "\u001b[0;32m<ipython-input-21-dc66ace92344>\u001b[0m in \u001b[0;36m<module>\u001b[0;34m\u001b[0m\n\u001b[0;32m----> 1\u001b[0;31m \u001b[0msome_item\u001b[0m \u001b[0;34m=\u001b[0m \u001b[0madvent_calendar\u001b[0m\u001b[0;34m[\u001b[0m\u001b[0mlen\u001b[0m\u001b[0;34m(\u001b[0m\u001b[0madvent_calendar\u001b[0m\u001b[0;34m)\u001b[0m \u001b[0;34m/\u001b[0m \u001b[0;36m2\u001b[0m\u001b[0;34m]\u001b[0m\u001b[0;34m\u001b[0m\u001b[0;34m\u001b[0m\u001b[0m\n\u001b[0m\u001b[1;32m      2\u001b[0m \u001b[0mprint\u001b[0m\u001b[0;34m(\u001b[0m\u001b[0msome_item\u001b[0m\u001b[0;34m)\u001b[0m\u001b[0;34m\u001b[0m\u001b[0;34m\u001b[0m\u001b[0m\n",
      "\u001b[0;31mTypeError\u001b[0m: list indices must be integers or slices, not float"
     ]
    }
   ],
   "source": [
    "some_item = advent_calendar[len(advent_calendar) / 2]\n",
    "print(some_item)"
   ]
  },
  {
   "cell_type": "markdown",
   "metadata": {},
   "source": [
    "<div class=\"alert alert-box alert-info\">\n",
    "    Task: Modify the code from above so that the mathematical expression works.\n",
    "</div>"
   ]
  },
  {
   "cell_type": "code",
   "execution_count": 22,
   "metadata": {
    "tags": [
     "hide-input"
    ]
   },
   "outputs": [
    {
     "name": "stdout",
     "output_type": "stream",
     "text": [
      "cherry\n"
     ]
    }
   ],
   "source": [
    "some_item = advent_calendar[int(len(advent_calendar) / 2)]\n",
    "print(some_item)"
   ]
  },
  {
   "cell_type": "markdown",
   "metadata": {},
   "source": [
    "We can access values from the end of a list. For that we have to use a negative index."
   ]
  },
  {
   "cell_type": "code",
   "execution_count": 23,
   "metadata": {},
   "outputs": [
    {
     "name": "stdout",
     "output_type": "stream",
     "text": [
      "['apple', 'beer', 'cherry', 'date']\n",
      "date\n"
     ]
    }
   ],
   "source": [
    "print(advent_calendar)\n",
    "print(advent_calendar[-1]) # Counting from the end starts at -1, not -0!"
   ]
  },
  {
   "cell_type": "code",
   "execution_count": 24,
   "metadata": {},
   "outputs": [
    {
     "name": "stdout",
     "output_type": "stream",
     "text": [
      "['apple', 'beer', 'cherry', 'date']\n",
      "cherry\n"
     ]
    }
   ],
   "source": [
    "print(advent_calendar)\n",
    "print(advent_calendar[-2])"
   ]
  },
  {
   "cell_type": "markdown",
   "metadata": {},
   "source": [
    "We can access a range (**slice**) of elements:"
   ]
  },
  {
   "cell_type": "code",
   "execution_count": 25,
   "metadata": {},
   "outputs": [
    {
     "name": "stdout",
     "output_type": "stream",
     "text": [
      "['apple', 'beer', 'cherry', 'date']\n",
      "['beer', 'cherry']\n"
     ]
    }
   ],
   "source": [
    "print(advent_calendar)\n",
    "print(advent_calendar[1:3]) # Start at index 1, stop at 3 (3 not included)."
   ]
  },
  {
   "cell_type": "code",
   "execution_count": 26,
   "metadata": {},
   "outputs": [
    {
     "name": "stdout",
     "output_type": "stream",
     "text": [
      "['apple', 'beer', 'cherry', 'date']\n",
      "['apple', 'beer', 'cherry']\n"
     ]
    }
   ],
   "source": [
    "print(advent_calendar)\n",
    "print(advent_calendar[:3]) # No start value = start at 0, stop at 3 (not included)."
   ]
  },
  {
   "cell_type": "code",
   "execution_count": 27,
   "metadata": {},
   "outputs": [
    {
     "name": "stdout",
     "output_type": "stream",
     "text": [
      "['apple', 'beer', 'cherry', 'date']\n",
      "['cherry', 'date']\n"
     ]
    }
   ],
   "source": [
    "print(advent_calendar)\n",
    "print(advent_calendar[2:]) # No stop value = stop at end (inclusive)."
   ]
  },
  {
   "cell_type": "markdown",
   "metadata": {},
   "source": [
    "![list_slicing.jpg](images/list_slicing.jpg)"
   ]
  },
  {
   "cell_type": "markdown",
   "metadata": {},
   "source": [
    "\n",
    "There are several types of data structures used in computer languages (`Array`, `Stack`, `Queue`, `Tree`, `Object` and so on)\n",
    "\n",
    "Some of them are interchangable, and language specific. \n",
    "\n",
    "![](https://img-blog.csdnimg.cn/20190910131153958.jpg) a example of data structre `Stack`\n",
    "\n"
   ]
  },
  {
   "cell_type": "markdown",
   "metadata": {},
   "source": [
    "### Built-in methods of data type list"
   ]
  },
  {
   "cell_type": "markdown",
   "metadata": {},
   "source": [
    "#### Adding values\n",
    "\n",
    "`append()` adds one element at the end of the list."
   ]
  },
  {
   "cell_type": "code",
   "execution_count": 28,
   "metadata": {},
   "outputs": [
    {
     "name": "stdout",
     "output_type": "stream",
     "text": [
      "['apple', 'beer', 'cherry', 'date', 'elephant']\n"
     ]
    }
   ],
   "source": [
    "advent_calendar.append('elephant') # list.append(element)\n",
    "print(advent_calendar)"
   ]
  },
  {
   "cell_type": "markdown",
   "metadata": {},
   "source": [
    "#### Removing values\n",
    "\n",
    "With `remove()` we can remove a specific element from the list. (This removes only the first occurence of that element.)"
   ]
  },
  {
   "cell_type": "code",
   "execution_count": 29,
   "metadata": {},
   "outputs": [
    {
     "name": "stdout",
     "output_type": "stream",
     "text": [
      "['apple', 'beer', 'cherry', 'date', 'elephant']\n",
      "['apple', 'cherry', 'date', 'elephant']\n"
     ]
    }
   ],
   "source": [
    "print(advent_calendar)\n",
    "advent_calendar.remove('beer') # list.remove(element)\n",
    "print(advent_calendar)"
   ]
  },
  {
   "cell_type": "markdown",
   "metadata": {},
   "source": [
    "The method `pop()` **returns** and removes the last item."
   ]
  },
  {
   "cell_type": "code",
   "execution_count": 30,
   "metadata": {},
   "outputs": [
    {
     "name": "stdout",
     "output_type": "stream",
     "text": [
      "['apple', 'cherry', 'date', 'elephant']\n",
      "elephant\n",
      "['apple', 'cherry', 'date']\n"
     ]
    }
   ],
   "source": [
    "# Get and delete the last item.\n",
    "print(advent_calendar)\n",
    "print(advent_calendar.pop())\n",
    "print(advent_calendar)"
   ]
  },
  {
   "cell_type": "markdown",
   "metadata": {},
   "source": [
    "If we use an integer as argument for `pop()`, the item of this index is returned and removed."
   ]
  },
  {
   "cell_type": "code",
   "execution_count": 31,
   "metadata": {},
   "outputs": [
    {
     "name": "stdout",
     "output_type": "stream",
     "text": [
      "['apple', 'cherry', 'date']\n",
      "['apple', 'date']\n"
     ]
    }
   ],
   "source": [
    "# Get and delete an item by index\n",
    "print(advent_calendar)\n",
    "advent_calendar.pop(1)\n",
    "print(advent_calendar)"
   ]
  },
  {
   "cell_type": "markdown",
   "metadata": {},
   "source": [
    "#### Inserting values\n",
    "\n",
    "Instead of appending an element at the end we can specify a index with `insert()`."
   ]
  },
  {
   "cell_type": "code",
   "execution_count": 32,
   "metadata": {},
   "outputs": [
    {
     "name": "stdout",
     "output_type": "stream",
     "text": [
      "['apple', 'date']\n",
      "['apple', 'banana', 'date']\n"
     ]
    }
   ],
   "source": [
    "print(advent_calendar)\n",
    "advent_calendar.insert(1, 'banana') # list.insert(index, value)\n",
    "print(advent_calendar)"
   ]
  },
  {
   "cell_type": "markdown",
   "metadata": {},
   "source": [
    "#### Replacing values"
   ]
  },
  {
   "cell_type": "code",
   "execution_count": 33,
   "metadata": {},
   "outputs": [
    {
     "name": "stdout",
     "output_type": "stream",
     "text": [
      "['apple', 'banana', 'date']\n",
      "['apple', 'berry', 'date']\n"
     ]
    }
   ],
   "source": [
    "print(advent_calendar)\n",
    "advent_calendar[1] = 'berry' # list[index] = value\n",
    "print(advent_calendar)"
   ]
  },
  {
   "cell_type": "markdown",
   "metadata": {},
   "source": [
    "#### Combining lists"
   ]
  },
  {
   "cell_type": "code",
   "execution_count": 34,
   "metadata": {},
   "outputs": [
    {
     "name": "stdout",
     "output_type": "stream",
     "text": [
      "['apple', 'berry', 'date', 'mango', 'firebird', 'eel']\n"
     ]
    }
   ],
   "source": [
    "additional_elements = ['mango', 'firebird', 'eel']\n",
    "advent_calendar += additional_elements # list + list\n",
    "print(advent_calendar)"
   ]
  },
  {
   "cell_type": "markdown",
   "metadata": {},
   "source": [
    "#### Sorting lists\n",
    "\n",
    "Sorting is done \"in place\". This means that the list itself is modified (elements inside the list are sorted) and no new list is returned."
   ]
  },
  {
   "cell_type": "code",
   "execution_count": 35,
   "metadata": {},
   "outputs": [
    {
     "name": "stdout",
     "output_type": "stream",
     "text": [
      "['apple', 'berry', 'date', 'eel', 'firebird', 'mango']\n"
     ]
    }
   ],
   "source": [
    "advent_calendar.sort() # No argument = ascending order.\n",
    "print(advent_calendar)"
   ]
  },
  {
   "cell_type": "code",
   "execution_count": 36,
   "metadata": {},
   "outputs": [
    {
     "name": "stdout",
     "output_type": "stream",
     "text": [
      "['mango', 'firebird', 'eel', 'date', 'berry', 'apple']\n"
     ]
    }
   ],
   "source": [
    "advent_calendar.sort(reverse=True)\n",
    "print(advent_calendar)"
   ]
  },
  {
   "cell_type": "code",
   "execution_count": 37,
   "metadata": {},
   "outputs": [
    {
     "name": "stdout",
     "output_type": "stream",
     "text": [
      "['eel', 'date', 'mango', 'berry', 'apple', 'firebird']\n"
     ]
    }
   ],
   "source": [
    "advent_calendar.sort(key=len)\n",
    "print(advent_calendar)"
   ]
  },
  {
   "cell_type": "code",
   "execution_count": 38,
   "metadata": {},
   "outputs": [
    {
     "name": "stdout",
     "output_type": "stream",
     "text": [
      "['firebird', 'mango', 'berry', 'apple', 'date', 'eel']\n"
     ]
    }
   ],
   "source": [
    "advent_calendar.sort(key=len, reverse=True)\n",
    "print(advent_calendar)"
   ]
  },
  {
   "cell_type": "markdown",
   "metadata": {},
   "source": [
    "With `.reverse()` we reverse a list, but this method does not sort it."
   ]
  },
  {
   "cell_type": "code",
   "execution_count": 39,
   "metadata": {},
   "outputs": [
    {
     "name": "stdout",
     "output_type": "stream",
     "text": [
      "['eel', 'date', 'apple', 'berry', 'mango', 'firebird']\n"
     ]
    }
   ],
   "source": [
    "advent_calendar.reverse()\n",
    "print(advent_calendar)"
   ]
  },
  {
   "cell_type": "markdown",
   "metadata": {},
   "source": [
    "## Iterating over a list with a for-loop\n",
    "\n",
    "So far we have used a for-loop in combination with the iterable object `range`."
   ]
  },
  {
   "cell_type": "code",
   "execution_count": 40,
   "metadata": {},
   "outputs": [
    {
     "name": "stdout",
     "output_type": "stream",
     "text": [
      "0\n",
      "1\n",
      "2\n"
     ]
    }
   ],
   "source": [
    "for i in range(3):\n",
    "    print(i)"
   ]
  },
  {
   "cell_type": "markdown",
   "metadata": {},
   "source": [
    "In fact range produces a list of items and iterates over these items.<br>\n",
    "<br>\n",
    "So we can use a for-loop to iterate over a list of items directly. For each item in the sequence, the code inside the loop is executed once."
   ]
  },
  {
   "cell_type": "code",
   "execution_count": 41,
   "metadata": {},
   "outputs": [
    {
     "name": "stdout",
     "output_type": "stream",
     "text": [
      "apple\n",
      "beer\n",
      "cherry\n",
      "date\n"
     ]
    }
   ],
   "source": [
    "advent_calendar = ['apple', 'beer', 'cherry', 'date']\n",
    "\n",
    "for surprise in advent_calendar:\n",
    "    print(surprise)"
   ]
  },
  {
   "cell_type": "markdown",
   "metadata": {},
   "source": [
    "![loop_list.jpg](images/loop_list.jpg)"
   ]
  },
  {
   "cell_type": "markdown",
   "metadata": {},
   "source": [
    "If you need the index of each item, it's easier with the built-in function `enumerate()`, which returns the index and the value of the item.<br>"
   ]
  },
  {
   "cell_type": "code",
   "execution_count": 42,
   "metadata": {},
   "outputs": [
    {
     "name": "stdout",
     "output_type": "stream",
     "text": [
      "0 : 🐢\n",
      "1 : 🦓\n",
      "2 : 🐫\n",
      "3 : 🐼\n",
      "4 : 🐤\n",
      "5 : 🦜\n",
      "6 : 🐊\n",
      "7 : 🐢\n",
      "8 : 🦎\n",
      "9 : 🐉\n",
      "10 : 🐍\n",
      "11 : 🐲\n",
      "12 : 🦟\n",
      "13 : 🦖\n",
      "14 : 🦚\n"
     ]
    }
   ],
   "source": [
    "animals = ['🐢', '🦓', '🐫', '🐼', '🐤']\n",
    "animals_green = ['🦜', '🐊', '🐢', '🦎', '🐉', '🐍', '🐲','🦟', '🦖','🦚']\n",
    "\n",
    "for index, animal in enumerate(animals+animals_green):\n",
    "    print(index, ':', animal)"
   ]
  },
  {
   "cell_type": "markdown",
   "metadata": {},
   "source": [
    "`index` and `value` are variables, so we can name them as we like. For this example, we could for example use\n",
    "```python\n",
    "for i, surprise in enumerate(advent_calendar):\n",
    "    print(i, ':', surprise)\n",
    "```"
   ]
  },
  {
   "cell_type": "markdown",
   "metadata": {},
   "source": [
    "On the other hand we can use `range()` to generate elements for a list:"
   ]
  },
  {
   "cell_type": "code",
   "execution_count": 43,
   "metadata": {},
   "outputs": [
    {
     "name": "stdout",
     "output_type": "stream",
     "text": [
      "5\n",
      "6\n",
      "7\n",
      "8\n",
      "9\n"
     ]
    }
   ],
   "source": [
    "for n in range(5, 10):\n",
    "    print(n)"
   ]
  },
  {
   "cell_type": "code",
   "execution_count": 44,
   "metadata": {},
   "outputs": [
    {
     "name": "stdout",
     "output_type": "stream",
     "text": [
      "[5, 6, 7, 8, 9]\n"
     ]
    }
   ],
   "source": [
    "numbers = [n for n in range(5, 10)]\n",
    "print(numbers)"
   ]
  },
  {
   "cell_type": "markdown",
   "metadata": {},
   "source": [
    "We create a new variable and use square brackets on the right side of the equal sign. Then we execute a for-loop with `range()` *inside* the square brackets. The variable before the `for` keyword indicates that the element will be included into the list."
   ]
  },
  {
   "cell_type": "code",
   "execution_count": 45,
   "metadata": {},
   "outputs": [
    {
     "name": "stdout",
     "output_type": "stream",
     "text": [
      "[2.5, 3.0, 3.5, 4.0, 4.5]\n"
     ]
    }
   ],
   "source": [
    "numbers = [n/2 for n in range(5, 10)]\n",
    "print(numbers)"
   ]
  },
  {
   "cell_type": "markdown",
   "metadata": {},
   "source": [
    "### Data types inside a list\n",
    "\n",
    "A list can contain any other python object.<br>\n",
    "For example we could store coordinates in three separate objects, but we can store them as one object of data type list:\n",
    "\n",
    "![list_init.jpg](images/list_init.jpg)"
   ]
  },
  {
   "cell_type": "code",
   "execution_count": 46,
   "metadata": {},
   "outputs": [],
   "source": [
    "x, y, z = 10, 12, 9 # Three objects.\n",
    "coordinates = [10, 12, 9] # One object of type list."
   ]
  },
  {
   "cell_type": "code",
   "execution_count": 47,
   "metadata": {},
   "outputs": [
    {
     "name": "stdout",
     "output_type": "stream",
     "text": [
      "[10, 12, 9]\n"
     ]
    }
   ],
   "source": [
    "print(coordinates)"
   ]
  },
  {
   "cell_type": "markdown",
   "metadata": {},
   "source": [
    "As lists can contain any other objects they can contain other lists as well.\n",
    "\n",
    "![list_lists.jpg](images/list_lists.jpg)"
   ]
  },
  {
   "cell_type": "markdown",
   "metadata": {},
   "source": [
    "Furthermore a list can contain items of different data types!"
   ]
  },
  {
   "cell_type": "code",
   "execution_count": 48,
   "metadata": {},
   "outputs": [
    {
     "name": "stdout",
     "output_type": "stream",
     "text": [
      "0 🐍 <class 'int'>\n",
      "some words 🐍 <class 'str'>\n",
      "3.13 🐍 <class 'float'>\n",
      "-4.24e-13 🐍 <class 'float'>\n",
      "[0, -2, -4, -6] 🐍 <class 'list'>\n"
     ]
    }
   ],
   "source": [
    "num_list = [num for num in range(0, -7, -2)]\n",
    "\n",
    "mixed_type_list = [0, 'some words', 3.13, -4.24e-13, num_list]\n",
    "\n",
    "for item in mixed_type_list:\n",
    "    print(item, '🐍', type(item))"
   ]
  },
  {
   "cell_type": "markdown",
   "metadata": {},
   "source": [
    "## Additional Information - Sorting\n",
    "\n",
    "Selection Sort and Bubble Sort as a example for traversing through list"
   ]
  },
  {
   "cell_type": "code",
   "execution_count": 49,
   "metadata": {},
   "outputs": [
    {
     "name": "stdout",
     "output_type": "stream",
     "text": [
      "Sorted array is: \n",
      "10\n",
      "11\n",
      "12\n",
      "18\n",
      "22\n",
      "25\n",
      "30\n",
      "64\n"
     ]
    }
   ],
   "source": [
    "# Python program for Selection Sort\n",
    "l = [10, 30, 18, 64, 25, 12, 22, 11]\n",
    "  \n",
    "# Traverse through all array elements\n",
    "for i in range(len(l)):\n",
    "      \n",
    "    # Find the minimum element in remaining \n",
    "    # unsorted array\n",
    "    min_idx = i\n",
    "    for j in range(i+1, len(l)):\n",
    "        if l[min_idx] > l[j]:\n",
    "            min_idx = j\n",
    "              \n",
    "    # Swap the found minimum element with \n",
    "    # the first element        \n",
    "    l[i], l[min_idx] = l[min_idx], l[i]\n",
    "\n",
    "print (\"Sorted array is: \")\n",
    "for i in range(len(l)):\n",
    "    print(l[i])"
   ]
  },
  {
   "cell_type": "code",
   "execution_count": 50,
   "metadata": {},
   "outputs": [
    {
     "name": "stdout",
     "output_type": "stream",
     "text": [
      "Sorted array is: \n",
      "10\n",
      "11\n",
      "12\n",
      "18\n",
      "22\n",
      "25\n",
      "30\n",
      "64\n"
     ]
    }
   ],
   "source": [
    "# Python program for Bubble Sort\n",
    "\n",
    "l = [10, 30, 18, 64, 25, 12, 22, 11]\n",
    "n = len(l)\n",
    "\n",
    "# Traverse through all array elements\n",
    "for i in range(n-1):\n",
    "# range(n) also work but outer loop will repeat one time more than needed.\n",
    "\n",
    "    # Last i elements are already in place\n",
    "    for j in range(0, n-i-1):\n",
    "\n",
    "        # traverse the array from 0 to n-i-1\n",
    "        # Swap if the element found is greater than the next element\n",
    "        if l[j] > l[j + 1] :\n",
    "            l[j], l[j + 1] = l[j + 1], l[j]\n",
    "\n",
    "print (\"Sorted array is: \")\n",
    "for i in range(len(l)):\n",
    "    print (l[i])"
   ]
  },
  {
   "cell_type": "markdown",
   "metadata": {},
   "source": [
    "### Step-By-Step Selection Sort"
   ]
  },
  {
   "cell_type": "code",
   "execution_count": 49,
   "metadata": {},
   "outputs": [
    {
     "name": "stdout",
     "output_type": "stream",
     "text": [
      "original\n",
      "10 30 18 64 25 12 22 11 \n",
      "\n",
      "step 0\n",
      "\u001b[32m10\u001b[0m \u001b[31m30\u001b[0m 18 64 25 12 22 11  Smallest: 10\n",
      "\u001b[32m10\u001b[0m 30 \u001b[31m18\u001b[0m 64 25 12 22 11  Smallest: 10\n",
      "\u001b[32m10\u001b[0m 30 18 \u001b[31m64\u001b[0m 25 12 22 11  Smallest: 10\n",
      "\u001b[32m10\u001b[0m 30 18 64 \u001b[31m25\u001b[0m 12 22 11  Smallest: 10\n",
      "\u001b[32m10\u001b[0m 30 18 64 25 \u001b[31m12\u001b[0m 22 11  Smallest: 10\n",
      "\u001b[32m10\u001b[0m 30 18 64 25 12 \u001b[31m22\u001b[0m 11  Smallest: 10\n",
      "\u001b[32m10\u001b[0m 30 18 64 25 12 22 \u001b[31m11\u001b[0m  Smallest: 10\n",
      "step 1\n",
      "10 \u001b[32m30\u001b[0m \u001b[31m18\u001b[0m 64 25 12 22 11  Smallest: 18\n",
      "10 \u001b[32m30\u001b[0m 18 \u001b[31m64\u001b[0m 25 12 22 11  Smallest: 18\n",
      "10 \u001b[32m30\u001b[0m 18 64 \u001b[31m25\u001b[0m 12 22 11  Smallest: 18\n",
      "10 \u001b[32m30\u001b[0m 18 64 25 \u001b[31m12\u001b[0m 22 11  Smallest: 12\n",
      "10 \u001b[32m30\u001b[0m 18 64 25 12 \u001b[31m22\u001b[0m 11  Smallest: 12\n",
      "10 \u001b[32m30\u001b[0m 18 64 25 12 22 \u001b[31m11\u001b[0m  Smallest: 11\n",
      "step 2\n",
      "10 11 \u001b[32m18\u001b[0m \u001b[31m64\u001b[0m 25 12 22 30  Smallest: 18\n",
      "10 11 \u001b[32m18\u001b[0m 64 \u001b[31m25\u001b[0m 12 22 30  Smallest: 18\n",
      "10 11 \u001b[32m18\u001b[0m 64 25 \u001b[31m12\u001b[0m 22 30  Smallest: 12\n",
      "10 11 \u001b[32m18\u001b[0m 64 25 12 \u001b[31m22\u001b[0m 30  Smallest: 12\n",
      "10 11 \u001b[32m18\u001b[0m 64 25 12 22 \u001b[31m30\u001b[0m  Smallest: 12\n",
      "step 3\n",
      "10 11 12 \u001b[32m64\u001b[0m \u001b[31m25\u001b[0m 18 22 30  Smallest: 25\n",
      "10 11 12 \u001b[32m64\u001b[0m 25 \u001b[31m18\u001b[0m 22 30  Smallest: 18\n",
      "10 11 12 \u001b[32m64\u001b[0m 25 18 \u001b[31m22\u001b[0m 30  Smallest: 18\n",
      "10 11 12 \u001b[32m64\u001b[0m 25 18 22 \u001b[31m30\u001b[0m  Smallest: 18\n",
      "step 4\n",
      "10 11 12 18 \u001b[32m25\u001b[0m \u001b[31m64\u001b[0m 22 30  Smallest: 25\n",
      "10 11 12 18 \u001b[32m25\u001b[0m 64 \u001b[31m22\u001b[0m 30  Smallest: 22\n",
      "10 11 12 18 \u001b[32m25\u001b[0m 64 22 \u001b[31m30\u001b[0m  Smallest: 22\n",
      "step 5\n",
      "10 11 12 18 22 \u001b[32m64\u001b[0m \u001b[31m25\u001b[0m 30  Smallest: 25\n",
      "10 11 12 18 22 \u001b[32m64\u001b[0m 25 \u001b[31m30\u001b[0m  Smallest: 25\n",
      "step 6\n",
      "10 11 12 18 22 25 \u001b[32m64\u001b[0m \u001b[31m30\u001b[0m  Smallest: 30\n",
      "step 7\n",
      "\n",
      "Sorted array is: \n",
      "10\n",
      "11\n",
      "12\n",
      "18\n",
      "22\n",
      "25\n",
      "30\n",
      "64\n"
     ]
    }
   ],
   "source": [
    "from colorama import Fore, Back, Style\n",
    "from termcolor import colored\n",
    "\n",
    "# Python program for Selection Sort\n",
    "l = [10, 30, 18, 64, 25, 12, 22, 11]\n",
    "print('original')\n",
    "for i in l:\n",
    "    print(i,end=' ')\n",
    "print('\\n')\n",
    "for i in range(len(l)):      \n",
    "    print('step '+str(i))\n",
    "    min_idx = i\n",
    "    \n",
    "    for j in range(i+1, len(l)):\n",
    "        swaping = False\n",
    "      \n",
    "        if l[min_idx] > l[j]:\n",
    "            min_idx = j\n",
    "            swaping = True \n",
    "            \n",
    "        for k in range(i):\n",
    "            print(l[k],end=' ')\n",
    "            \n",
    "        print(colored(l[i], 'green'),end=' ')\n",
    "        for k in range(i+1,j):\n",
    "            print(l[k],end=' ')\n",
    "\n",
    "        print(colored(l[j], 'red'),end=' ')\n",
    "\n",
    "        for k in range(j+1,len(l)):\n",
    "            print(l[k],end=' ')\n",
    "            \n",
    "        print(' Smallest: '+str(l[min_idx]),end='')\n",
    "        print()   \n",
    "        \n",
    "    l[i], l[min_idx] = l[min_idx], l[i]\n",
    "    \n",
    "print (\"\\nSorted array is: \")\n",
    "for i in range(len(l)):\n",
    "    print(l[i])"
   ]
  },
  {
   "cell_type": "code",
   "execution_count": 50,
   "metadata": {},
   "outputs": [
    {
     "name": "stdout",
     "output_type": "stream",
     "text": [
      "original\n",
      "10 30 18 64 25 12 22 11 \n",
      "\n",
      "\u001b[32m10\u001b[0m \u001b[31m30\u001b[0m 18 64 25 12 22 11 \n",
      "10 \u001b[32m30\u001b[0m \u001b[31m18\u001b[0m 64 25 12 22 11 swapped\n",
      "\n",
      "10 18 \u001b[32m30\u001b[0m \u001b[31m64\u001b[0m 25 12 22 11 \n",
      "10 18 30 \u001b[32m64\u001b[0m \u001b[31m25\u001b[0m 12 22 11 swapped\n",
      "\n",
      "10 18 30 25 \u001b[32m64\u001b[0m \u001b[31m12\u001b[0m 22 11 swapped\n",
      "\n",
      "10 18 30 25 12 \u001b[32m64\u001b[0m \u001b[31m22\u001b[0m 11 swapped\n",
      "\n",
      "10 18 30 25 12 22 \u001b[32m64\u001b[0m \u001b[31m11\u001b[0m swapped\n",
      "\n",
      "\u001b[32m10\u001b[0m \u001b[31m18\u001b[0m 30 25 12 22 11 64 \n",
      "10 \u001b[32m18\u001b[0m \u001b[31m30\u001b[0m 25 12 22 11 64 \n",
      "10 18 \u001b[32m30\u001b[0m \u001b[31m25\u001b[0m 12 22 11 64 swapped\n",
      "\n",
      "10 18 25 \u001b[32m30\u001b[0m \u001b[31m12\u001b[0m 22 11 64 swapped\n",
      "\n",
      "10 18 25 12 \u001b[32m30\u001b[0m \u001b[31m22\u001b[0m 11 64 swapped\n",
      "\n",
      "10 18 25 12 22 \u001b[32m30\u001b[0m \u001b[31m11\u001b[0m 64 swapped\n",
      "\n",
      "\u001b[32m10\u001b[0m \u001b[31m18\u001b[0m 25 12 22 11 30 64 \n",
      "10 \u001b[32m18\u001b[0m \u001b[31m25\u001b[0m 12 22 11 30 64 \n",
      "10 18 \u001b[32m25\u001b[0m \u001b[31m12\u001b[0m 22 11 30 64 swapped\n",
      "\n",
      "10 18 12 \u001b[32m25\u001b[0m \u001b[31m22\u001b[0m 11 30 64 swapped\n",
      "\n",
      "10 18 12 22 \u001b[32m25\u001b[0m \u001b[31m11\u001b[0m 30 64 swapped\n",
      "\n",
      "\u001b[32m10\u001b[0m \u001b[31m18\u001b[0m 12 22 11 25 30 64 \n",
      "10 \u001b[32m18\u001b[0m \u001b[31m12\u001b[0m 22 11 25 30 64 swapped\n",
      "\n",
      "10 12 \u001b[32m18\u001b[0m \u001b[31m22\u001b[0m 11 25 30 64 \n",
      "10 12 18 \u001b[32m22\u001b[0m \u001b[31m11\u001b[0m 25 30 64 swapped\n",
      "\n",
      "\u001b[32m10\u001b[0m \u001b[31m12\u001b[0m 18 11 22 25 30 64 \n",
      "10 \u001b[32m12\u001b[0m \u001b[31m18\u001b[0m 11 22 25 30 64 \n",
      "10 12 \u001b[32m18\u001b[0m \u001b[31m11\u001b[0m 22 25 30 64 swapped\n",
      "\n",
      "\u001b[32m10\u001b[0m \u001b[31m12\u001b[0m 11 18 22 25 30 64 \n",
      "10 \u001b[32m12\u001b[0m \u001b[31m11\u001b[0m 18 22 25 30 64 swapped\n",
      "\n",
      "\u001b[32m10\u001b[0m \u001b[31m11\u001b[0m 12 18 22 25 30 64 \n",
      "Sorted array is: \n",
      "10\n",
      "11\n",
      "12\n",
      "18\n",
      "22\n",
      "25\n",
      "30\n",
      "64\n"
     ]
    }
   ],
   "source": [
    "# Python program for Bubble Sort\n",
    "\n",
    "l = [10, 30, 18, 64, 25, 12, 22, 11]\n",
    "n = len(l)\n",
    "print('original')\n",
    "for i in l:\n",
    "    print(i,end=' ')\n",
    "print('\\n')\n",
    "# Traverse through all array elements\n",
    "for i in range(n-1):\n",
    "# range(n) also work but outer loop will repeat one time more than needed.\n",
    "\n",
    "    # Last i elements are already in place\n",
    "    for j in range(0, n-i-1):\n",
    "        \n",
    "        for k in range(j):\n",
    "            print(l[k],end=' ')\n",
    "            \n",
    "        print(colored(l[j], 'green'),end=' ')\n",
    "\n",
    "        print(colored(l[j+1], 'red'),end=' ')\n",
    "\n",
    "        for k in range(j+2,len(l)):\n",
    "            print(l[k],end=' ')\n",
    "        \n",
    "        if l[j] > l[j + 1] :\n",
    "            l[j], l[j + 1] = l[j + 1], l[j]\n",
    "            print('swapped')\n",
    "        \n",
    "        print('')\n",
    "\n",
    "\n",
    "print (\"Sorted array is: \")\n",
    "for i in range(len(l)):\n",
    "    print (l[i])"
   ]
  },
  {
   "cell_type": "code",
   "execution_count": null,
   "metadata": {},
   "outputs": [],
   "source": []
  }
 ],
 "metadata": {
  "kernelspec": {
   "display_name": "Python 3",
   "language": "python",
   "name": "python3"
  },
  "language_info": {
   "codemirror_mode": {
    "name": "ipython",
    "version": 3
   },
   "file_extension": ".py",
   "mimetype": "text/x-python",
   "name": "python",
   "nbconvert_exporter": "python",
   "pygments_lexer": "ipython3",
   "version": "3.8.3"
  }
 },
 "nbformat": 4,
 "nbformat_minor": 4
}
