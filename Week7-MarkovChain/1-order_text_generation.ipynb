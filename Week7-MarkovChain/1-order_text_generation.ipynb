{
 "cells": [
  {
   "cell_type": "markdown",
   "metadata": {},
   "source": [
    "# First-Order text generation\n",
    "\n",
    "Probabilities are drawn from a text analysis. Characters that appear more often in the text will have a higher probability to be chosen. \n",
    "\n",
    "The easiest method is to simply store all characters in a list. Characters that appear often in the text are more often stored in the list and thus picked more often."
   ]
  },
  {
   "cell_type": "code",
   "execution_count": 1,
   "metadata": {},
   "outputs": [
    {
     "name": "stdout",
     "output_type": "stream",
     "text": [
      "characters: ['r', 'o', 's', 'e', ' ', 'i', 's', ' ', 'a', ' ', 'r', 'o', 's', 'e', ' ', 'i', 's', ' ', 'a', ' ', 'r', 'o', 's', 'e', '!'] \n",
      "\n",
      "a o s a s o i o   o i s r o i s e   r ! "
     ]
    }
   ],
   "source": [
    "import random \n",
    "\n",
    "txt = 'rose is a rose is a rose!'\n",
    "\n",
    "char = [c for c in txt]\n",
    "print('characters:', char, '\\n')\n",
    "\n",
    "\n",
    "for i in range(20):\n",
    "    print(random.choice(char), end=' ')"
   ]
  },
  {
   "cell_type": "markdown",
   "metadata": {},
   "source": [
    "## Probability \n",
    "\n",
    "In the first example, the probability of certain character is already implied by the amount in the sentence. Let us count how many characters that are inside a sentence."
   ]
  },
  {
   "cell_type": "code",
   "execution_count": 2,
   "metadata": {},
   "outputs": [
    {
     "name": "stdout",
     "output_type": "stream",
     "text": [
      "there are 3 r in the sentence rose is a rose is a rose!\n"
     ]
    }
   ],
   "source": [
    "# counting how many 'r's that are in the sentence\n",
    "\n",
    "count = 0 \n",
    "for i in txt:\n",
    "    if(i == 'r'):\n",
    "        count += 1\n",
    "print(\"there are \"+str(count)+\" r in the sentence \"+txt)"
   ]
  },
  {
   "cell_type": "markdown",
   "metadata": {},
   "source": [
    "The next example is using dictionary to store the current value as key, and the countings of it as item.\n",
    "But before that, let's have an example of showing what could we do without having learning Dictionary and key."
   ]
  },
  {
   "cell_type": "code",
   "execution_count": 3,
   "metadata": {},
   "outputs": [
    {
     "name": "stdout",
     "output_type": "stream",
     "text": [
      "a : 3\n",
      "b : 0\n",
      "c : 0\n",
      "d : 0\n",
      "e : 4\n",
      "f : 0\n",
      "g : 0\n",
      "h : 0\n",
      "i : 3\n",
      "j : 0\n",
      "k : 0\n",
      "l : 0\n",
      "m : 0\n",
      "n : 0\n",
      "o : 4\n",
      "p : 0\n",
      "q : 0\n",
      "r : 4\n",
      "s : 7\n",
      "t : 0\n",
      "u : 0\n",
      "v : 0\n",
      "w : 0\n",
      "x : 0\n",
      "y : 0\n",
      "z : 0\n"
     ]
    }
   ],
   "source": [
    "# counting the amount of every characters that are in the sentence\n",
    "text = '''rose is a rose is a rose is a rose'''\n",
    "\n",
    "# initialize all counter#\n",
    "dic = [0 for i in range(26)]\n",
    "\n",
    "# save each character to the respected ascii code with a bit compression.\n",
    "# for example 'a' as 0, as well as 'b' as 1\n",
    "# ord('a')-'a' equals to 97 - 97 = 0\n",
    "\n",
    "for c in text:\n",
    "    if(c==' '):\n",
    "        continue\n",
    "    dic[(ord(c)-ord('a'))]+=1\n",
    "        \n",
    "\n",
    "for c in range(len(dic)):\n",
    "    print(str(chr(c+97))+' : '+str(dic[c]))\n",
    "    "
   ]
  },
  {
   "cell_type": "markdown",
   "metadata": {},
   "source": [
    "Now the following is the example as dictionary, which is a data structure specifically in python"
   ]
  },
  {
   "cell_type": "code",
   "execution_count": 4,
   "metadata": {},
   "outputs": [
    {
     "name": "stdout",
     "output_type": "stream",
     "text": [
      "r 4 0.11764705882352941\n",
      "o 4 0.11764705882352941\n",
      "s 7 0.20588235294117646\n",
      "e 4 0.11764705882352941\n",
      "  9 0.2647058823529412\n",
      "i 3 0.08823529411764706\n",
      "a 3 0.08823529411764706\n",
      "\n",
      "0.10%\n",
      "\n",
      "r 4 11.76%\n",
      "o 4 11.76%\n",
      "s 7 20.59%\n",
      "e 4 11.76%\n",
      "  9 26.47%\n",
      "i 3 8.82%\n",
      "a 3 8.82%\n"
     ]
    }
   ],
   "source": [
    "# counting the amount of every characters that are in the sentence\n",
    "text = '''rose is a rose is a rose is a rose'''\n",
    "\n",
    "dic = {}\n",
    "for c in text:\n",
    "    if c not in dic.keys():\n",
    "        dic[c] =1\n",
    "    else:\n",
    "        dic[c] +=1\n",
    "        \n",
    "#traverse through list of keys and calculate the average number\n",
    "for index,value in dic.items():\n",
    "    print (index,value,value/len(text))\n",
    "    \n",
    "print()\n",
    "    \n",
    "#we could format the number as percentage with the following line\n",
    "print(\"{:.2%}\".format(0.001))\n",
    "\n",
    "#so the correct way will be\n",
    "print()\n",
    "for index,value in dic.items():\n",
    "    print (index,value,\"{:.2%}\".format(value/len(text)))\n",
    "    "
   ]
  },
  {
   "cell_type": "markdown",
   "metadata": {},
   "source": [
    "## Calculating the probability of words"
   ]
  },
  {
   "cell_type": "code",
   "execution_count": 5,
   "metadata": {},
   "outputs": [
    {
     "name": "stdout",
     "output_type": "stream",
     "text": [
      "rose 4 40.00%\n",
      "is 3 30.00%\n",
      "a 3 30.00%\n"
     ]
    }
   ],
   "source": [
    "# counting the amount of every characters that are in the sentence\n",
    "text = '''rose is a rose is a rose is a rose'''\n",
    "\n",
    "text = text.split()\n",
    "\n",
    "dic = {}\n",
    "for c in text:\n",
    "    if c not in dic.keys():\n",
    "        dic[c] =1\n",
    "    else:\n",
    "        dic[c] +=1\n",
    "        \n",
    "for index,value in dic.items():\n",
    "    print (index,value,\"{:.2%}\".format(value/len(text)))"
   ]
  },
  {
   "cell_type": "markdown",
   "metadata": {},
   "source": [
    "## Probability from a text file\n",
    "\n",
    "now we impliment the data cleaning we learnt, and try to calculate the probability of characters, so that we can work on first-order text generation."
   ]
  },
  {
   "cell_type": "code",
   "execution_count": 6,
   "metadata": {},
   "outputs": [
    {
     "name": "stdout",
     "output_type": "stream",
     "text": [
      "d 48 4.13%\n",
      "i 76 6.55%\n",
      "e 200 17.23%\n",
      "  178 15.33%\n",
      "g 27 2.33%\n",
      "s 33 2.84%\n",
      "c 38 3.27%\n",
      "h 48 4.13%\n",
      "t 65 5.60%\n",
      "n 100 8.61%\n",
      "r 62 5.34%\n",
      "z 11 0.95%\n",
      "a 83 7.15%\n",
      "l 21 1.81%\n",
      "m 33 2.84%\n",
      "w 31 2.67%\n",
      "u 45 3.88%\n",
      "o 10 0.86%\n",
      "b 14 1.21%\n",
      "k 7 0.60%\n",
      "’ 2 0.17%\n",
      "p 12 1.03%\n",
      "f 10 0.86%\n",
      "ß 3 0.26%\n",
      "v 3 0.26%\n",
      "… 1 0.09%\n"
     ]
    }
   ],
   "source": [
    "import string \n",
    "\n",
    "with open('data/alles-macht-weiter.txt', 'r') as f:\n",
    "    text = f.read()\n",
    "\n",
    "    \n",
    "text=text.replace(\"\\n\",\" \").replace(\"ä\",\"ae\").replace(\"Ä\",\"Ae\").replace(\"ö\",\"oe\").replace(\"Ö\",\"oe\").replace(\"ü\",\"ue\").replace(\"Ü\",\"ue\")\n",
    "text = text.lower()\n",
    "remove_digits = str.maketrans('', '', '0123456789')\n",
    "text = text.translate(remove_digits)\n",
    "text = text.translate(str.maketrans('','',string.punctuation))\n",
    "\n",
    "#doing the split will resulted in countering only word.\n",
    "#doing without the split will be running in characters.\n",
    "#text.split()\n",
    "\n",
    "dic = {}\n",
    "for c in text:\n",
    "    if c not in dic.keys():\n",
    "        dic[c] =1\n",
    "    else:\n",
    "        dic[c] +=1\n",
    "        \n",
    "for index,value in dic.items():\n",
    "    print (index,value,\"{:.2%}\".format(value/len(text)))"
   ]
  },
  {
   "cell_type": "markdown",
   "metadata": {},
   "source": [
    "## Sorting \n",
    "\n",
    "Sorting is a huge topic for basic algorithm and data structure, it is also the first algorithm to learn while learing programming. Multiple methods and algorithms are capable of performing sorting, having different time complexity repectfully.\n",
    "\n",
    "Here we will use the template from python which is a variant of quick sort."
   ]
  },
  {
   "cell_type": "code",
   "execution_count": 7,
   "metadata": {},
   "outputs": [
    {
     "name": "stdout",
     "output_type": "stream",
     "text": [
      "[11, 6, 3, 3, 2, 1, 1]\n"
     ]
    }
   ],
   "source": [
    "# sorting a list of numbers\n",
    "counts = [1,3,1,2,6,11,3]\n",
    "result = sorted(counts,reverse=True)\n",
    "print(result)"
   ]
  },
  {
   "cell_type": "code",
   "execution_count": 8,
   "metadata": {},
   "outputs": [
    {
     "data": {
      "text/plain": [
       "[(' ', 178),\n",
       " ('a', 83),\n",
       " ('b', 14),\n",
       " ('c', 38),\n",
       " ('d', 48),\n",
       " ('e', 200),\n",
       " ('f', 10),\n",
       " ('g', 27),\n",
       " ('h', 48),\n",
       " ('i', 76),\n",
       " ('k', 7),\n",
       " ('l', 21),\n",
       " ('m', 33),\n",
       " ('n', 100),\n",
       " ('o', 10),\n",
       " ('p', 12),\n",
       " ('r', 62),\n",
       " ('s', 33),\n",
       " ('t', 65),\n",
       " ('u', 45),\n",
       " ('v', 3),\n",
       " ('w', 31),\n",
       " ('z', 11),\n",
       " ('ß', 3),\n",
       " ('’', 2),\n",
       " ('…', 1)]"
      ]
     },
     "execution_count": 8,
     "metadata": {},
     "output_type": "execute_result"
    }
   ],
   "source": [
    "# sorting a dictionary based on keys\n",
    "sorted(dic.items())"
   ]
  },
  {
   "cell_type": "code",
   "execution_count": 9,
   "metadata": {},
   "outputs": [
    {
     "data": {
      "text/plain": [
       "[('e', 200),\n",
       " (' ', 178),\n",
       " ('n', 100),\n",
       " ('a', 83),\n",
       " ('i', 76),\n",
       " ('t', 65),\n",
       " ('r', 62),\n",
       " ('d', 48),\n",
       " ('h', 48),\n",
       " ('u', 45),\n",
       " ('c', 38),\n",
       " ('s', 33),\n",
       " ('m', 33),\n",
       " ('w', 31),\n",
       " ('g', 27),\n",
       " ('l', 21),\n",
       " ('b', 14),\n",
       " ('p', 12),\n",
       " ('z', 11),\n",
       " ('o', 10),\n",
       " ('f', 10),\n",
       " ('k', 7),\n",
       " ('ß', 3),\n",
       " ('v', 3),\n",
       " ('’', 2),\n",
       " ('…', 1)]"
      ]
     },
     "execution_count": 9,
     "metadata": {},
     "output_type": "execute_result"
    }
   ],
   "source": [
    "# sorting a dictionary based on item\n",
    "sorted(dic.items(), key=lambda x: x[1],reverse=True)"
   ]
  },
  {
   "cell_type": "markdown",
   "metadata": {},
   "source": [
    "# 1-order text generation based on weight."
   ]
  },
  {
   "cell_type": "code",
   "execution_count": 10,
   "metadata": {},
   "outputs": [
    {
     "data": {
      "text/plain": [
       "['c', 'c', 'b', 'b', 'c', 'a', 'b', 'a', 'c', 'a']"
      ]
     },
     "execution_count": 10,
     "metadata": {},
     "output_type": "execute_result"
    }
   ],
   "source": [
    "# random with weight\n",
    "random.choices(\n",
    "    ['a','b','c'],\n",
    "    [0.2, 0.2, 0.6],\n",
    "    k=10)\n"
   ]
  },
  {
   "cell_type": "code",
   "execution_count": 11,
   "metadata": {},
   "outputs": [
    {
     "data": {
      "text/plain": [
       "['r', 'e', 'a', 'l', 'n', 'c', 'a', 'r', 'm', 'd']"
      ]
     },
     "execution_count": 11,
     "metadata": {},
     "output_type": "execute_result"
    }
   ],
   "source": [
    "# random text with weight\n",
    "random.choices(\n",
    "    [k for k in dic.keys()],\n",
    "    [v for v in dic.values()],\n",
    "    k=10)"
   ]
  }
 ],
 "metadata": {
  "kernelspec": {
   "display_name": "Python 3",
   "language": "python",
   "name": "python3"
  },
  "language_info": {
   "codemirror_mode": {
    "name": "ipython",
    "version": 3
   },
   "file_extension": ".py",
   "mimetype": "text/x-python",
   "name": "python",
   "nbconvert_exporter": "python",
   "pygments_lexer": "ipython3",
   "version": "3.8.3"
  }
 },
 "nbformat": 4,
 "nbformat_minor": 4
}
