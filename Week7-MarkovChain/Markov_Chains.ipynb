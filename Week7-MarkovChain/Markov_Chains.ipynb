{
 "cells": [
  {
   "cell_type": "markdown",
   "id": "7442a139-0304-4431-ad3c-7ccb619940e1",
   "metadata": {},
   "source": [
    "# Markov Chains\n",
    "\n"
   ]
  },
  {
   "cell_type": "markdown",
   "id": "6bff9b43-caaa-4a94-9477-9d3392fa65db",
   "metadata": {},
   "source": [
    "<img src=\"./data/Markov_1.jpg\">"
   ]
  },
  {
   "cell_type": "markdown",
   "id": "dd9c813c-4371-4b74-b557-9b2878b35b37",
   "metadata": {},
   "source": [
    "Source: Scientific American, November 1983"
   ]
  },
  {
   "cell_type": "markdown",
   "id": "db1a0ca6-0543-4188-9312-945a1332a155",
   "metadata": {},
   "source": [
    "# Die Statistik der Sprache\n",
    "\n",
    "**ZERO ORDER: Zufallstext**\n",
    "Sir Arthur Eddington's Statement of 1927: <br>\n",
    "*\"If an army of monkeys were strumming on typewriters, they might write all the books in the British Museum.”*\n",
    "\n",
    "*„The ideal, unbiased monkey would at any moment have an equal probability of striking any key. This behavior can be simulated by a simple strategy. Each symbol in the character set is assigned a number from zero to 27. For each character to be generated a random integer is chosen in the same range and the corresponding character is printed.“*\n",
    "\n",
    "<img src=\"./data/Markov_2.jpg\">\n"
   ]
  },
  {
   "cell_type": "markdown",
   "id": "97cf0e91-4d77-4129-beb0-303fa804d34d",
   "metadata": {},
   "source": [
    "**FIRST ORDER: Adjust the probability of selecting a letter**.\n",
    "\n",
    "Important! Of course, frequencies for individual words can also be used as a basis.\n",
    "\n",
    "<img src=\"./data/Markov_3.jpg\">\n"
   ]
  },
  {
   "cell_type": "markdown",
   "id": "8c6f95d0-f06b-4e41-a34b-ec443ef30f02",
   "metadata": {},
   "source": [
    "\n",
    "FIRST ORDER text for letter frequencies in James Joyce's Ulysses.\n",
    "\n",
    "<img src=\"./data/Markov_4.jpg\">\n"
   ]
  },
  {
   "cell_type": "markdown",
   "id": "1fcc15cb-5756-4b64-a032-c651630c59f0",
   "metadata": {},
   "source": [
    "**SECOND ORDER: Adjust the probability of selecting a letter**.\n",
    "\n",
    "“The next refinement is a crucial one because it can be extended, at least in principle, to an arbitrarily high order.\n",
    "\n",
    "“The root of the idea is that a letter‘s probability of appearing at a given point in written English depends strongly on the preceding letters. After a v, for example, an e is most likely; after a q, a u is all but certain. The procedure, then, is to set up a separate frequency table for each symbol in the character set.”\n",
    "\n",
    "Statistical consideration of the context of a letter!\n",
    "\n",
    "<img src=\"./data/Markov_6.jpg\"> "
   ]
  },
  {
   "cell_type": "markdown",
   "id": "a98cbc58-1d18-4529-a7f8-55c069fce837",
   "metadata": {},
   "source": [
    "\n",
    "<img src=\"./data/Markov_5.jpg\">\n"
   ]
  },
  {
   "cell_type": "markdown",
   "id": "07146fc0-b23c-461c-a03e-75f174c71c49",
   "metadata": {},
   "source": [
    "**Important!** Of course, frequencies for individual words can also be used as a basis.\n",
    "\n",
    "<img src=\"./data/Markov_8.png\">\n"
   ]
  },
  {
   "cell_type": "markdown",
   "id": "0f7cbb14-b073-4b3d-8c65-04528d5fed48",
   "metadata": {},
   "source": [
    "**THIRD ORDER:**\n",
    "\n",
    "“The next step should be obvious. A third-order algorithm chooses each letter in the random text according to probabilities determined by the two preceding letters. This calls for a three-dimensional array with 28 planes, each plane being made up of 28 rows of 28 columns.”\n"
   ]
  },
  {
   "cell_type": "markdown",
   "id": "b1364b74-e71f-438c-9ebf-0e1f5d4c82d2",
   "metadata": {},
   "source": [
    "\n",
    "<img src=\"./data/Markov_7.jpg\">\n"
   ]
  },
  {
   "cell_type": "code",
   "execution_count": null,
   "id": "86ab4365-3399-48a3-b719-0b70076a5d33",
   "metadata": {},
   "outputs": [],
   "source": []
  },
  {
   "cell_type": "code",
   "execution_count": null,
   "id": "640b80b4-7cba-47da-a8dc-2f6fa7ee62b0",
   "metadata": {},
   "outputs": [],
   "source": []
  }
 ],
 "metadata": {
  "kernelspec": {
   "display_name": "Python 3 (ipykernel)",
   "language": "python",
   "name": "python3"
  },
  "language_info": {
   "codemirror_mode": {
    "name": "ipython",
    "version": 3
   },
   "file_extension": ".py",
   "mimetype": "text/x-python",
   "name": "python",
   "nbconvert_exporter": "python",
   "pygments_lexer": "ipython3",
   "version": "3.9.7"
  }
 },
 "nbformat": 4,
 "nbformat_minor": 5
}
