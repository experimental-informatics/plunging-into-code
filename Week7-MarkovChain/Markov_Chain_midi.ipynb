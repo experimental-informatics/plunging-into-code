{
 "cells": [
  {
   "cell_type": "code",
   "execution_count": 2,
   "metadata": {},
   "outputs": [
    {
     "name": "stdout",
     "output_type": "stream",
     "text": [
      "Collecting mido\n",
      "  Downloading mido-1.2.10-py2.py3-none-any.whl (51 kB)\n",
      "\u001b[K     |████████████████████████████████| 51 kB 3.7 MB/s  eta 0:00:01\n",
      "\u001b[?25hInstalling collected packages: mido\n",
      "Successfully installed mido-1.2.10\n",
      "\u001b[33mWARNING: You are using pip version 21.1.2; however, version 22.0.3 is available.\n",
      "You should consider upgrading via the '/Users/AprilCoffee/opt/anaconda3/bin/python -m pip install --upgrade pip' command.\u001b[0m\n"
     ]
    }
   ],
   "source": [
    "!pip install mido"
   ]
  },
  {
   "cell_type": "code",
   "execution_count": 62,
   "metadata": {},
   "outputs": [],
   "source": [
    "from mido import MidiFile\n",
    "\n",
    "mid = MidiFile('tchajkowski.mid')"
   ]
  },
  {
   "cell_type": "code",
   "execution_count": 63,
   "metadata": {},
   "outputs": [],
   "source": [
    "notes = []\n",
    "times = []\n",
    "for msg in mid.tracks[3]:\n",
    "    if( msg.type == 'note_on'):\n",
    "        if(msg.velocity!=0):\n",
    "            notes.append(str(msg.note))\n",
    "        if(msg.time!=0):\n",
    "            times.append(str(msg.note))"
   ]
  },
  {
   "cell_type": "code",
   "execution_count": 22,
   "metadata": {},
   "outputs": [
    {
     "name": "stdout",
     "output_type": "stream",
     "text": [
      "Track 0: Klaviertrio a-moll Op.50\n",
      "Track 1: Staff\n",
      "Track 2: Staff-1\n",
      "Track 3: Staff-2\n",
      "Track 4: Staff-3\n",
      "Track 5: Staff-4\n",
      "Track 6: \n"
     ]
    },
    {
     "data": {
      "text/plain": [
       "'\\nnote_on channel=0 note=81 velocity=60 time=4512\\nnote_on channel=0 note=81 velocity=0 time=96\\nnote_on channel=0 note=79 velocity=75 time=0\\nnote_on channel=0 note=79 velocity=0 time=96\\nnote_on channel=0 note=82 velocity=75 time=0\\nnote_on channel=0 note=82 velocity=0 time=94\\nnote_on channel=0 note=81 velocity=75 time=2\\nnote_on channel=0 note=81 velocity=0 time=384\\n'"
      ]
     },
     "execution_count": 22,
     "metadata": {},
     "output_type": "execute_result"
    }
   ],
   "source": [
    "notes = []\n",
    "times = []\n",
    "for i, track in enumerate(mid.tracks):\n",
    "    print('Track {}: {}'.format(i, track.name))\n",
    "    for msg in track:\n",
    "        if( msg.type == 'note_on'):\n",
    "            if(msg.velocity!=0):\n",
    "                notes.append(str(msg.note))\n",
    "            if(msg.time!=0):\n",
    "                times.append(str(msg.note))\n",
    "        \n",
    "'''\n",
    "note_on channel=0 note=81 velocity=60 time=4512\n",
    "note_on channel=0 note=81 velocity=0 time=96\n",
    "note_on channel=0 note=79 velocity=75 time=0\n",
    "note_on channel=0 note=79 velocity=0 time=96\n",
    "note_on channel=0 note=82 velocity=75 time=0\n",
    "note_on channel=0 note=82 velocity=0 time=94\n",
    "note_on channel=0 note=81 velocity=75 time=2\n",
    "note_on channel=0 note=81 velocity=0 time=384\n",
    "'''"
   ]
  },
  {
   "cell_type": "code",
   "execution_count": 64,
   "metadata": {},
   "outputs": [],
   "source": [
    "class Markov():\n",
    "    '''Generate a text with a simple one-word based markov chain.'''\n",
    "        \n",
    "    def __init__(self, txt, order):    \n",
    "        self.txt = txt # Holds the text corpora.\n",
    "        self.dictionary = {} # Holds the dictionary for probabilities.\n",
    "        self.order = order\n",
    "\n",
    "    def create_dictionary(self):\n",
    "        #self.txt = self.txt.lower().split()\n",
    "        \n",
    "        for i in range(len(self.txt) -self.order):\n",
    "            key = tuple(self.txt[i:i+self.order])\n",
    "            value = self.txt[i+self.order]\n",
    "            # Check if the key exists.\n",
    "            if key in self.dictionary.keys():\n",
    "                # If yes, append the value.\n",
    "                self.dictionary[key].append(value)\n",
    "            # Else insert a new key + value.\n",
    "            else:\n",
    "                self.dictionary[key] = [value]\n",
    "\n",
    "        ''' Calculate the probability. '''\n",
    "\n",
    "        for key, value in self.dictionary.items():\n",
    "            length = len(self.dictionary[key])\n",
    "            temporary_dic = {}\n",
    "            for char in value:\n",
    "                if(char not in temporary_dic.keys()):\n",
    "                    temporary_dic[char] = 1\n",
    "                else:\n",
    "                    temporary_dic[char] += 1   \n",
    "\n",
    "            for _keys,amount in temporary_dic.items():\n",
    "                temporary_dic[_keys] = (amount/length)\n",
    "            self.dictionary[key] = temporary_dic\n",
    "                \n",
    "    def generate_token(self, initial_key):\n",
    "        import random\n",
    "        key = tuple(initial_key[-self.order:])\n",
    "         \n",
    "        \n",
    "        # Check if key is included in the vocabulary.\n",
    "        if not key in self.dictionary.keys():\n",
    "            # If not, pick a random key from the vocabulary.\n",
    "            key = random.choice(list( self.dictionary.keys()))\n",
    "\n",
    "        # Otherwise we'll use the key given as argument.\n",
    "\n",
    "        # Return the next token for the key.\n",
    "        # The [0] in the end is because the random choice based on probability returns a list.\n",
    "        #initial_key += ' '\n",
    "        initial_key.append(random.choices(list( self.dictionary[key].keys()), weights= self.dictionary[key].values())[0])\n",
    "       \n",
    "        return initial_key\n"
   ]
  },
  {
   "cell_type": "code",
   "execution_count": 65,
   "metadata": {},
   "outputs": [],
   "source": [
    "\n",
    "m_notes = Markov(notes,3)\n",
    "m_notes.create_dictionary()\n",
    "\n",
    "m_times = Markov(times,3)\n",
    "m_times.create_dictionary()\n",
    "\n",
    "\n",
    "new_notes = ['81','79','82','82']\n",
    "new_times = ['96','96','94','90']\n",
    "\n",
    "for i in range(1000):\n",
    "    new_notes = m_notes.generate_token(new_notes)    \n",
    "    new_times = m_times.generate_token(new_times)\n",
    "    \n",
    "#print(new_notes)\n",
    "#print(new_times)\n",
    "#print(new_text)"
   ]
  },
  {
   "cell_type": "code",
   "execution_count": 66,
   "metadata": {},
   "outputs": [],
   "source": [
    "from mido import Message, MidiFile, MidiTrack\n",
    "\n",
    "mid = MidiFile()\n",
    "track = MidiTrack()\n",
    "mid.tracks.append(track)\n",
    "\n",
    "track.append(Message('program_change', program=12, time=0))\n",
    "\n",
    "#print(\"note_on channel=0 note=\"+m_notes.generate_token('')+\" velocity=70 time=0\")\n",
    "#print(\"note_on channel=0 note=\"+m_times.generate_token('')+\" velocity=70 time=0\")\n",
    "\n",
    "for i in range(len(new_notes)):\n",
    "    track.append(Message('note_on', note=int(new_notes[i]), velocity=70, time=0))\n",
    "    track.append(Message('note_on', note=int(new_notes[i]), velocity=0, time=int(new_times[i])))\n",
    "\n",
    "mid.save('new_song3.mid')"
   ]
  },
  {
   "cell_type": "code",
   "execution_count": 6,
   "metadata": {},
   "outputs": [
    {
     "data": {
      "text/plain": [
       "'\\nnote_on channel=0 note=81 velocity=60 time=4512\\nnote_on channel=0 note=81 velocity=0 time=96\\nnote_on channel=0 note=79 velocity=75 time=0\\nnote_on channel=0 note=79 velocity=0 time=96\\nnote_on channel=0 note=82 velocity=75 time=0\\nnote_on channel=0 note=82 velocity=0 time=94\\nnote_on channel=0 note=81 velocity=75 time=2\\nnote_on channel=0 note=81 velocity=0 time=384\\n'"
      ]
     },
     "execution_count": 6,
     "metadata": {},
     "output_type": "execute_result"
    }
   ],
   "source": [
    "'''\n",
    "note_on channel=0 note=81 velocity=60 time=4512\n",
    "note_on channel=0 note=81 velocity=0 time=96\n",
    "note_on channel=0 note=79 velocity=75 time=0\n",
    "note_on channel=0 note=79 velocity=0 time=96\n",
    "note_on channel=0 note=82 velocity=75 time=0\n",
    "note_on channel=0 note=82 velocity=0 time=94\n",
    "note_on channel=0 note=81 velocity=75 time=2\n",
    "note_on channel=0 note=81 velocity=0 time=384\n",
    "'''"
   ]
  },
  {
   "cell_type": "code",
   "execution_count": null,
   "metadata": {},
   "outputs": [],
   "source": []
  }
 ],
 "metadata": {
  "kernelspec": {
   "display_name": "Python 3",
   "language": "python",
   "name": "python3"
  },
  "language_info": {
   "codemirror_mode": {
    "name": "ipython",
    "version": 3
   },
   "file_extension": ".py",
   "mimetype": "text/x-python",
   "name": "python",
   "nbconvert_exporter": "python",
   "pygments_lexer": "ipython3",
   "version": "3.8.3"
  }
 },
 "nbformat": 4,
 "nbformat_minor": 4
}
