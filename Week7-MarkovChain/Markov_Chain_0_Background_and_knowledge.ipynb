{
 "cells": [
  {
   "cell_type": "markdown",
   "metadata": {},
   "source": [
    "# Markov Chains Background and Knowledge\n",
    "\n",
    "[<img src=\"images/typing_suggestion.jpeg\" width=\"250x\"/>](image.png)\n",
    "[Source](https://i.redd.it/1svbyu0mbim21.jpg)\n",
    "\n",
    "\n",
    "Markov chains are a simple way of **next value prediction**, it is a mathematical system usually defined as a collection of random variables. \n",
    "\n",
    "The closest example is the text suggestion when we type with our phone, it collects the previous word and make suggestions, based on the probablity from the dataset.\n"
   ]
  },
  {
   "cell_type": "markdown",
   "metadata": {},
   "source": [
    "[<img src=\"images/markov_chain.jpg\" width=\"600\"/>](image.png)\n",
    "[Source](https://mb-14.github.io/tech/2018/10/24/gomarkov.html)\n",
    "\n",
    "All information used to compute the next value lies in the current value. So the next value is not based on a sequence of previous values, but just on the one current value.\n",
    "\n",
    "Transition from one state to another are according to certain probabilistic rules."
   ]
  },
  {
   "cell_type": "markdown",
   "metadata": {},
   "source": [
    "## Example \n",
    "\n",
    "As we can see from the image, it's is a trained Markov-chain. if we start from the word `I`, we can see that there is a 2/3 chance the move into `am` and 1/3 chance to move to `like`. \n",
    "\n",
    "If we choose the highest probablity(which is `am`), the next possible token will be `an` or `sam`. we can then pick it randomly. \n",
    "\n",
    "In the end we could get the sentence ` I am an engineer` or `I am Sam`"
   ]
  },
  {
   "cell_type": "markdown",
   "metadata": {},
   "source": [
    "## Procedure: \n",
    "\n",
    "These are the procedure we need to go through to work with Markov-Chain\n",
    "\n",
    "- Input and clean the training text.\n",
    "\n",
    "- Create a list of all words in a given text. \n",
    "\n",
    "- Find a possible following word, and create a dictionary with it. (As the graph above).\n",
    "\n",
    "- if a word appears as input: lookup the word in the dictionary and choose one of the options.\n",
    "\n",
    "- Repeat the last procedure to generate infinite text."
   ]
  }
 ],
 "metadata": {
  "kernelspec": {
   "display_name": "Python 3",
   "language": "python",
   "name": "python3"
  },
  "language_info": {
   "codemirror_mode": {
    "name": "ipython",
    "version": 3
   },
   "file_extension": ".py",
   "mimetype": "text/x-python",
   "name": "python",
   "nbconvert_exporter": "python",
   "pygments_lexer": "ipython3",
   "version": "3.8.3"
  }
 },
 "nbformat": 4,
 "nbformat_minor": 4
}
