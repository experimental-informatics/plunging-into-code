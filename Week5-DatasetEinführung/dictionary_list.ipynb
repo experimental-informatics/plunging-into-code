{
 "cells": [
  {
   "cell_type": "markdown",
   "metadata": {},
   "source": [
    "# Dictionary & List (Data Structures)\n",
    "\n",
    "Data Structure is how we organize, manage and store data in formats that enables efficient access and modification of datas\n",
    "\n",
    "There are several types of data structures used in computer languages (`Array`, `Stack`, `Queue`, `Tree`, `Object` and so on)\n",
    "\n",
    "Some of them are interchangable, and language specific. \n"
   ]
  },
  {
   "cell_type": "markdown",
   "metadata": {},
   "source": [
    "## Dictionary\n",
    "\n",
    "`Dictionary` is a special data type used in python.\n",
    "\n",
    "<img src=\"https://imgur.com/ljqtx7F.png\" width=\"500\"> example of list\n",
    "\n",
    "<img src=\"https://imgur.com/kM3nFy0.png\" width=\"500\"> example of dictionary\n",
    "\n",
    "\n",
    "\n",
    "It works similar as `Structure` in other Low-level programming langauge or a simplier version of `Object`\n",
    "\n",
    "The core concept of dictionary is `key`, it's same as `index` in `List`, but allows you to not only use `int` as format\n",
    "\n",
    "Just need to remember, with every `key` comes a `value`\n",
    "\n",
    "To initualize a dictionary, we use **{}**. But to access it, we use **[]**"
   ]
  },
  {
   "cell_type": "code",
   "execution_count": 5,
   "metadata": {},
   "outputs": [
    {
     "name": "stdout",
     "output_type": "stream",
     "text": [
      "10\n"
     ]
    }
   ],
   "source": [
    "dic = {'apple':10,'milk':20,'egg':100}\n",
    "print(dic['apple'])"
   ]
  },
  {
   "cell_type": "markdown",
   "metadata": {},
   "source": [
    "not only can the index(key) be `string`, so does the value inside."
   ]
  },
  {
   "cell_type": "code",
   "execution_count": 6,
   "metadata": {},
   "outputs": [
    {
     "name": "stdout",
     "output_type": "stream",
     "text": [
      "ten\n"
     ]
    }
   ],
   "source": [
    "dic = {'apple':'ten','milk':20,'egg':'unknown'}\n",
    "print(dic['apple'])"
   ]
  },
  {
   "cell_type": "markdown",
   "metadata": {},
   "source": [
    "it is also possible to store `list` in a `dictionary`"
   ]
  },
  {
   "cell_type": "code",
   "execution_count": 7,
   "metadata": {},
   "outputs": [
    {
     "name": "stdout",
     "output_type": "stream",
     "text": [
      "['red', 'green', 'blue']\n",
      "['red', 'green', 'blue']\n"
     ]
    }
   ],
   "source": [
    "import random\n",
    "\n",
    "dic = {'apple':'ten','milk':20,'egg':'unknown', 'color':['red','green','blue']}\n",
    "print(dic['color'])\n",
    "\n",
    "random.shuffle(dic['color'])\n",
    "print(dic['color'])"
   ]
  },
  {
   "cell_type": "markdown",
   "metadata": {},
   "source": [
    "### Loops in Dictionary\n",
    "\n",
    "we could also run loops in dictionary."
   ]
  },
  {
   "cell_type": "code",
   "execution_count": 8,
   "metadata": {},
   "outputs": [
    {
     "name": "stdout",
     "output_type": "stream",
     "text": [
      "a 100\n",
      "b 30\n",
      "c unknown\n"
     ]
    }
   ],
   "source": [
    "dic = {'a':100,'b':30,'c':'unknown'}\n",
    "for index,value in dic.items():\n",
    "    print (index,value)"
   ]
  },
  {
   "cell_type": "markdown",
   "metadata": {},
   "source": [
    "### Keys \n",
    "\n",
    "to access keys in dictionary, we use the function `keys()`\n",
    "\n",
    "**Keep in mind that directly loop with dictionary will only show it's `key`**"
   ]
  },
  {
   "cell_type": "code",
   "execution_count": 9,
   "metadata": {},
   "outputs": [
    {
     "name": "stdout",
     "output_type": "stream",
     "text": [
      "dict_keys(['a', 'b', 'c'])\n",
      "a\n",
      "b\n",
      "c\n"
     ]
    }
   ],
   "source": [
    "dic = {'a':100,'b':30,'c':'unknown'}\n",
    "print(dic.keys())\n",
    "\n",
    "for c in dic:\n",
    "    print(c)\n"
   ]
  },
  {
   "cell_type": "markdown",
   "metadata": {},
   "source": [
    "Since we know how to use `keys()` now, it's also possible to loop with `keys()`\n",
    "\n",
    "This will allow us to go through the dictionary and access the values inside"
   ]
  },
  {
   "cell_type": "code",
   "execution_count": 10,
   "metadata": {},
   "outputs": [
    {
     "name": "stdout",
     "output_type": "stream",
     "text": [
      "100\n",
      "30\n",
      "unknown\n",
      "apple\n"
     ]
    }
   ],
   "source": [
    "dic = {'a':100,'b':30,'c':'unknown', 'd':'apple'}\n",
    "\n",
    "for key in dic.keys():\n",
    "    print(dic[key])"
   ]
  },
  {
   "cell_type": "markdown",
   "metadata": {},
   "source": [
    "We can also check whether a `key` is inside our dictionary"
   ]
  },
  {
   "cell_type": "code",
   "execution_count": 11,
   "metadata": {},
   "outputs": [
    {
     "name": "stdout",
     "output_type": "stream",
     "text": [
      "there is no e\n"
     ]
    }
   ],
   "source": [
    "dic = {'a':100,'b':30,'c':'unknown', 'd':'apple'}\n",
    "\n",
    "if 'e' not in dic:\n",
    "    print('there is no e')"
   ]
  },
  {
   "cell_type": "markdown",
   "metadata": {},
   "source": [
    "### (Additional information) Nest-List and Nest-Dictionary\n",
    "\n",
    "We know previously that a `dictionary` can store `list` inside\n",
    "\n",
    "in addition, you can also store a `list` in a `list`, a `dictionary` in a `dictionary`.\n",
    "\n",
    "which we call `nested dictionary` or `nested list`, then we can `traverse` (go through all of it) it"
   ]
  },
  {
   "cell_type": "code",
   "execution_count": 12,
   "metadata": {},
   "outputs": [
    {
     "name": "stdout",
     "output_type": "stream",
     "text": [
      "O\n",
      "\n",
      "XXXO\n",
      "OOXX\n",
      "OOOX\n",
      "OOOX"
     ]
    }
   ],
   "source": [
    "#This is a nested list\n",
    "l = [\n",
    "    ['X','X','X','O'],\n",
    "    ['O','O','X','X'],\n",
    "    ['O','O','O','X'],\n",
    "    ['O','O','O','X']\n",
    "]\n",
    "print(l[2][2])\n",
    "\n",
    "#Now traverse it\n",
    "for y in l:\n",
    "    print()\n",
    "    for x in y: \n",
    "        print(x,end='')"
   ]
  },
  {
   "cell_type": "code",
   "execution_count": 13,
   "metadata": {},
   "outputs": [
    {
     "name": "stdout",
     "output_type": "stream",
     "text": [
      "0.4\n",
      "a\n",
      "a: 0.3\n",
      "b: 0.4\n",
      "c: 0.3\n",
      "b\n",
      "a: 0.5\n",
      "b: 0.1\n",
      "c: 0.2\n",
      "c\n",
      "a: 0.0\n",
      "b: 0.2\n",
      "c: 0.8\n"
     ]
    }
   ],
   "source": [
    "#this is a dictionary\n",
    "d = {\n",
    "    'a':{'a':0.3,'b':0.4,'c':0.3},\n",
    "    'b':{'a':0.5,'b':0.1,'c':0.2},\n",
    "    'c':{'a':0.0,'b':0.2,'c':0.8}\n",
    "}\n",
    "print(d['a']['b'])\n",
    "\n",
    "#Now traverse it\n",
    "for key, value in d.items():\n",
    "    print(key)\n",
    "    \n",
    "    for nest_key in value:\n",
    "        print(nest_key + ':', value[nest_key])"
   ]
  },
  {
   "cell_type": "markdown",
   "metadata": {},
   "source": [
    "### Calculating the probability of a character"
   ]
  },
  {
   "cell_type": "code",
   "execution_count": 14,
   "metadata": {},
   "outputs": [
    {
     "name": "stdout",
     "output_type": "stream",
     "text": [
      "R 1 0.029411764705882353\n",
      "o 4 0.11764705882352941\n",
      "s 7 0.20588235294117646\n",
      "e 4 0.11764705882352941\n",
      "  9 0.2647058823529412\n",
      "i 3 0.08823529411764706\n",
      "a 3 0.08823529411764706\n",
      "r 3 0.08823529411764706\n",
      "\n",
      "0.10%\n",
      "\n",
      "R 1 2.94%\n",
      "o 4 11.76%\n",
      "s 7 20.59%\n",
      "e 4 11.76%\n",
      "  9 26.47%\n",
      "i 3 8.82%\n",
      "a 3 8.82%\n",
      "r 3 8.82%\n"
     ]
    }
   ],
   "source": [
    "text = '''Rose is a rose is a rose is a rose'''\n",
    "\n",
    "dic = {}\n",
    "for c in text:\n",
    "    if c not in dic.keys():\n",
    "        dic[c] =1\n",
    "    else:\n",
    "        dic[c] +=1\n",
    "        \n",
    "for index,value in dic.items():\n",
    "    print (index,value,value/len(text))\n",
    "    \n",
    "print()\n",
    "    \n",
    "#we could format the number as percentage with the following line\n",
    "print(\"{:.2%}\".format(0.001))\n",
    "\n",
    "#so the correct way will be\n",
    "\n",
    "print()\n",
    "for index,value in dic.items():\n",
    "    print (index,value,\"{:.2%}\".format(value/len(text)))\n",
    "    "
   ]
  },
  {
   "cell_type": "markdown",
   "metadata": {},
   "source": [
    "### Calculating the probability of a words"
   ]
  },
  {
   "cell_type": "code",
   "execution_count": 15,
   "metadata": {},
   "outputs": [
    {
     "name": "stdout",
     "output_type": "stream",
     "text": [
      "R 1 2.94%\n",
      "o 4 11.76%\n",
      "s 7 20.59%\n",
      "e 4 11.76%\n",
      "  9 26.47%\n",
      "i 3 8.82%\n",
      "a 3 8.82%\n",
      "r 3 8.82%\n"
     ]
    }
   ],
   "source": [
    "text = '''Rose is a rose is a rose is a rose'''\n",
    "\n",
    "\n",
    "#add one line here to caculate words instead of characters. \n",
    "\n",
    "#\n",
    "\n",
    "dic = {}\n",
    "for c in text:\n",
    "    if c not in dic.keys():\n",
    "        dic[c] =1\n",
    "    else:\n",
    "        dic[c] +=1\n",
    "        \n",
    "for index,value in dic.items():\n",
    "    print (index,value,\"{:.2%}\".format(value/len(text)))\n",
    "    "
   ]
  }
 ],
 "metadata": {
  "kernelspec": {
   "display_name": "Python 3",
   "language": "python",
   "name": "python3"
  },
  "language_info": {
   "codemirror_mode": {
    "name": "ipython",
    "version": 3
   },
   "file_extension": ".py",
   "mimetype": "text/x-python",
   "name": "python",
   "nbconvert_exporter": "python",
   "pygments_lexer": "ipython3",
   "version": "3.8.3"
  }
 },
 "nbformat": 4,
 "nbformat_minor": 4
}
