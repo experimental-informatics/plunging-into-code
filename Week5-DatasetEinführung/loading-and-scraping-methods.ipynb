{
 "cells": [
  {
   "cell_type": "markdown",
   "id": "99706c3b-94bf-4975-8022-c3cec1e46cf2",
   "metadata": {},
   "source": [
    "# Loading / Scraping / Walking through Textcorpora as Datasets"
   ]
  },
  {
   "cell_type": "markdown",
   "id": "f4eb5f6a-2396-47d1-af24-33714aa191a0",
   "metadata": {},
   "source": [
    "---"
   ]
  },
  {
   "cell_type": "markdown",
   "id": "a2b6a0e0-a467-4118-9a68-b6867b0d075a",
   "metadata": {},
   "source": [
    "## Ways to get data...\n",
    "\n",
    "- [Read file from your local system](#1)\n",
    "- [Download Textfiles f.ex. from gutenberg.org](#2)\n",
    "- [Scraping (static) Textcorpora from the Web](#5)\n",
    "- [Processing RSS Feeds](#7)\n",
    "- [al-Ready Datasets from HuggingFace](#8)\n",
    "- [Extract text from wikipedia](#9)\n",
    "\n",
    "---\n",
    "---"
   ]
  },
  {
   "cell_type": "markdown",
   "id": "7f99c153-e98f-4ead-b8e3-746d04bac923",
   "metadata": {},
   "source": [
    "<a class=\"anchor\" id=\"1\"></a>"
   ]
  },
  {
   "cell_type": "markdown",
   "id": "518d5b50-be75-4ff7-8472-8d15078384b9",
   "metadata": {
    "tags": []
   },
   "source": [
    "# Read file from local system"
   ]
  },
  {
   "cell_type": "code",
   "execution_count": 5,
   "id": "7a1c00c4-6cd9-44b8-a34b-b0124097618e",
   "metadata": {},
   "outputs": [
    {
     "name": "stdout",
     "output_type": "stream",
     "text": [
      "Die Geschichtenerzähler machen weiter. die Autoindustrie macht weiter. die Arbeiter machen weiter. die Regierungen machen weiter. die Rock’n’Roll-Sänger machen weiter. die Preise machen weiter.\n"
     ]
    }
   ],
   "source": [
    "#set variable\n",
    "filename = './data/alles-macht-weiter.txt'\n",
    "# open file\n",
    "file = open(filename, 'rt')\n",
    "#read it in\n",
    "amw1 = file.read()\n",
    "#close it\n",
    "file.close()\n",
    "#print the first 101 items\n",
    "print(amw1[0:193])"
   ]
  },
  {
   "cell_type": "markdown",
   "id": "8a848e46-47cd-4a6e-abd7-b78fe8508994",
   "metadata": {},
   "source": [
    "<a class=\"anchor\" id=\"2\"></a>"
   ]
  },
  {
   "cell_type": "markdown",
   "id": "ad3ca97e-e0e6-4db6-aa2f-3e8970ff17b1",
   "metadata": {},
   "source": [
    "---\n",
    "# Download Textfiles f.ex. from gutenberg.org (Kafka's »Die Verwandlung«)"
   ]
  },
  {
   "cell_type": "code",
   "execution_count": 7,
   "id": "3c1d33bd-9199-49ca-a346-8727fdf4700d",
   "metadata": {},
   "outputs": [
    {
     "name": "stdout",
     "output_type": "stream",
     "text": [
      "﻿The Project Gutenberg EBook of Die Verwandlung, by Franz Kafka\n",
      "\n",
      "This eBook is for the use of anyone anywhere at no cost and with\n",
      "almost no restrictions whatsoever.  You may copy it, give it away or\n",
      "re-use it under the terms of the Project Gutenberg License included\n",
      "with this eBook or online at www.gutenberg.org\n",
      "\n",
      "\n",
      "Title: Die Verwandlung\n",
      "\n",
      "Author: Franz Kafka\n",
      "\n",
      "Release Date: August 21, 2007 [EBook #22367]\n",
      "\n",
      "Language: German\n",
      "\n",
      "\n",
      "*** START OF THIS PROJECT GUTENBERG EBOOK DIE VERWANDLUNG ***\n",
      "\n",
      "\n",
      "\n",
      "\n",
      "Produced by J\n"
     ]
    }
   ],
   "source": [
    "#import library\n",
    "import requests\n",
    "\n",
    "url = \"https://gutenberg.org/cache/epub/22367/pg22367.txt\"\n",
    "\n",
    "#request the text\n",
    "r = requests.get(url)\n",
    "\n",
    "#print the first 527 characters\n",
    "print(r.text[0:527])"
   ]
  },
  {
   "cell_type": "markdown",
   "id": "0caa9d4c-2b0f-432f-a7f8-2800e1f5a957",
   "metadata": {},
   "source": [
    "<a class=\"anchor\" id=\"3\"></a>"
   ]
  },
  {
   "cell_type": "markdown",
   "id": "ed119644-84f0-45b9-879b-da161c9616fa",
   "metadata": {},
   "source": [
    "<a class=\"anchor\" id=\"5\"></a>"
   ]
  },
  {
   "cell_type": "markdown",
   "id": "fbd0ad9d-8d19-4001-9d04-05f186c86322",
   "metadata": {},
   "source": [
    "---\n",
    "# Download (static) Textcorpora as (HTML) from the Web"
   ]
  },
  {
   "cell_type": "code",
   "execution_count": 8,
   "id": "2d9efadc-6bae-4ba4-8c25-42d337d9703f",
   "metadata": {},
   "outputs": [
    {
     "data": {
      "text/plain": [
       "'<!DOCTYPE html>\\n<html xmlns=\"http://www.w3.org/1999/xhtml\" xmlns:my=\"mynames\" lang=\"de\"><!-- DEBUG start 17:32:42+01:00 page_id=4627 :: Netzökonomie--><!--\\n\\t\\tCo'"
      ]
     },
     "execution_count": 8,
     "metadata": {},
     "output_type": "execute_result"
    }
   ],
   "source": [
    "from urllib import request\n",
    "url = \"https://taz.de/Vorwuerfe-von-schwarzer-KI-Forscherin/!5730475/\"\n",
    "html = request.urlopen(url).read().decode('utf8')\n",
    "html[:160]"
   ]
  },
  {
   "cell_type": "code",
   "execution_count": 12,
   "id": "1ef7ac34-d561-4736-8eda-67968026c9f8",
   "metadata": {},
   "outputs": [
    {
     "name": "stdout",
     "output_type": "stream",
     "text": [
      "<class 'str'>\n",
      "portBerlinNordWahrheit\n",
      "\n",
      "5730475\n",
      "\n",
      "\n",
      "Vorwürfe von schwarzer KI-Forscherin: Proteste bei Google\n",
      "\n",
      "Die bekannte KI-Forscherin Timnit Gebru verlässt Google im Streit. Grund ist eine Studie zu Sprachverarbeitung, die dem Konzern nicht passt.\n",
      "Forscherin Timnit Gebru wirft ihrem Ex-Arbeitgeber Zensur vor  Foto: Kristin Callahan/ZUMA Press/imago\n",
      "Google liebt sein Image als uneigennütziger Tech-Konzern. Da passt es nicht gut ins Bild, wenn Tausende Mitarbeiter:innen pro\n"
     ]
    }
   ],
   "source": [
    "from bs4 import BeautifulSoup\n",
    "import nltk\n",
    "raw = BeautifulSoup(html, 'html.parser').get_text()\n",
    "print(type(raw))\n",
    "print(raw[438:900])"
   ]
  },
  {
   "cell_type": "markdown",
   "id": "877fda96-a567-438c-859b-9baa5fb7283f",
   "metadata": {},
   "source": [
    "<a class=\"anchor\" id=\"6\"></a>"
   ]
  },
  {
   "cell_type": "markdown",
   "id": "de85bdfa-8f75-4903-b844-375b25c174bc",
   "metadata": {},
   "source": [
    "<a class=\"anchor\" id=\"7\"></a>"
   ]
  },
  {
   "cell_type": "markdown",
   "id": "a1599ddf-4bb3-44e7-ae5e-ab65d7349584",
   "metadata": {},
   "source": [
    "---\n",
    "# Processing RSS Feeds"
   ]
  },
  {
   "cell_type": "code",
   "execution_count": 14,
   "id": "47e3e5f2-4d44-463b-8e1f-6ee3c5b48b78",
   "metadata": {},
   "outputs": [
    {
     "data": {
      "text/plain": [
       "'Language Log'"
      ]
     },
     "execution_count": 14,
     "metadata": {},
     "output_type": "execute_result"
    }
   ],
   "source": [
    "#!pip install feedparser\n",
    "import feedparser\n",
    "from bs4 import BeautifulSoup\n",
    "from nltk import word_tokenize\n",
    "\n",
    "#define the page to parse\n",
    "llog = feedparser.parse(\"http://languagelog.ldc.upenn.edu/nll/?feed=atom\")\n",
    "#define what you want to see (the title of the feed-page):\n",
    "llog['feed']['title']"
   ]
  },
  {
   "cell_type": "code",
   "execution_count": 15,
   "id": "ecad3f13-ba50-4a54-8d8f-a5665e1ffd9e",
   "metadata": {},
   "outputs": [
    {
     "data": {
      "text/plain": [
       "13"
      ]
     },
     "execution_count": 15,
     "metadata": {},
     "output_type": "execute_result"
    }
   ],
   "source": [
    "#how much posts the page have?\n",
    "len(llog.entries)"
   ]
  },
  {
   "cell_type": "code",
   "execution_count": 16,
   "id": "d2b8958a-c102-47e2-b511-56a1a464fd66",
   "metadata": {},
   "outputs": [
    {
     "data": {
      "text/plain": [
       "'How Many Languages Are There in China?'"
      ]
     },
     "execution_count": 16,
     "metadata": {},
     "output_type": "execute_result"
    }
   ],
   "source": [
    "#set a variable for the 3 post\n",
    "post = llog.entries[2]\n",
    "#print the title from it\n",
    "post.title"
   ]
  },
  {
   "cell_type": "code",
   "execution_count": 17,
   "id": "a88d5860-7b0c-49fc-93b2-22164fc7a3b2",
   "metadata": {},
   "outputs": [
    {
     "data": {
      "text/plain": [
       "'<p>At least three hundred.</p>\\n<p>I like the title, not the one on the'"
      ]
     },
     "execution_count": 17,
     "metadata": {},
     "output_type": "execute_result"
    }
   ],
   "source": [
    "#set variable for its content\n",
    "content = post.content[0].value\n",
    "#print the first 71 items\n",
    "content[:70]"
   ]
  },
  {
   "cell_type": "code",
   "execution_count": 18,
   "id": "efdb61f6-ced2-4211-859e-5d72fd3b3ae2",
   "metadata": {},
   "outputs": [
    {
     "name": "stdout",
     "output_type": "stream",
     "text": [
      "At least three hundred.\n",
      "I like the title, not the one on the first panel, but the one at the top of each frame, which I have also given as the title of this post.\n",
      "You probably don't have time to watch\n"
     ]
    }
   ],
   "source": [
    "#parse the html content with beautifulsoup as text\n",
    "raw = BeautifulSoup(content, 'html.parser').get_text()\n",
    "#print it\n",
    "print(raw[:200])"
   ]
  },
  {
   "cell_type": "markdown",
   "id": "1094b38b-cb6f-487c-90b4-2ce6d1275684",
   "metadata": {},
   "source": [
    "---\n",
    "# al-Ready Datasets from HuggingFace\n",
    "\n",
    "import the `datasets` library from [huggingface](https://huggingface.co/)"
   ]
  },
  {
   "cell_type": "code",
   "execution_count": 18,
   "id": "93223437-e435-4655-8cd3-38bc172e593c",
   "metadata": {},
   "outputs": [],
   "source": [
    "import datasets"
   ]
  },
  {
   "cell_type": "markdown",
   "id": "fd5eec81-7288-4838-bb65-c683b5b1739b",
   "metadata": {},
   "source": [
    "all information you'll need about that library, you will find here: https://pypi.org/project/datasets/"
   ]
  },
  {
   "cell_type": "markdown",
   "id": "a0656536-6990-438c-80b3-1fe14c9de7b2",
   "metadata": {},
   "source": [
    "### Example:\n",
    "1. Download the [Stanford Question Answering Dataset (SQuAD)](https://rajpurkar.github.io/SQuAD-explorer/)\n",
    "2. load the training split\n",
    "3. print the second training example"
   ]
  },
  {
   "cell_type": "code",
   "execution_count": 20,
   "id": "7b41cc9c-ddfb-4a74-866f-ac703881322f",
   "metadata": {},
   "outputs": [
    {
     "name": "stderr",
     "output_type": "stream",
     "text": [
      "Reusing dataset squad (/home/whoami/.cache/huggingface/datasets/squad/plain_text/1.0.0/4c81550d83a2ac7c7ce23783bd8ff36642800e6633c1f18417fb58c3ff50cdd7)\n"
     ]
    },
    {
     "name": "stdout",
     "output_type": "stream",
     "text": [
      "{'answers': {'answer_start': [188], 'text': ['a copper statue of Christ']}, 'context': 'Architecturally, the school has a Catholic character. Atop the Main Building\\'s gold dome is a golden statue of the Virgin Mary. Immediately in front of the Main Building and facing it, is a copper statue of Christ with arms upraised with the legend \"Venite Ad Me Omnes\". Next to the Main Building is the Basilica of the Sacred Heart. Immediately behind the basilica is the Grotto, a Marian place of prayer and reflection. It is a replica of the grotto at Lourdes, France where the Virgin Mary reputedly appeared to Saint Bernadette Soubirous in 1858. At the end of the main drive (and in a direct line that connects through 3 statues and the Gold Dome), is a simple, modern stone statue of Mary.', 'id': '5733be284776f4190066117f', 'question': 'What is in front of the Notre Dame Main Building?', 'title': 'University_of_Notre_Dame'}\n"
     ]
    }
   ],
   "source": [
    "from datasets import load_dataset\n",
    "print(load_dataset('squad', split='train')[1])"
   ]
  },
  {
   "cell_type": "markdown",
   "id": "a1cabbcd-0a1a-441f-b735-5bec33907331",
   "metadata": {},
   "source": [
    "<a class=\"anchor\" id=\"8\"></a>"
   ]
  },
  {
   "cell_type": "markdown",
   "id": "57ff40c7-a326-4964-b176-631f93769b2a",
   "metadata": {},
   "source": [
    "---\n",
    "\n",
    "# Extract text from wikipedia\n",
    "\n",
    "Wikipedia provides an [API](https://en.wikipedia.org/wiki/API), which makes it easy to access the data.<br>\n",
    "We will use the library [wikipedia-api](https://pypi.org/project/Wikipedia-API/) which makes use of this API."
   ]
  },
  {
   "cell_type": "code",
   "execution_count": 19,
   "id": "22feb13c-fbe4-4ac9-a646-94ff2ba5e316",
   "metadata": {},
   "outputs": [],
   "source": [
    "import wikipediaapi\n",
    "import re\n",
    "from tqdm.notebook import tqdm"
   ]
  },
  {
   "cell_type": "markdown",
   "id": "175ec40b-32a5-4cf2-98c0-8ce062726236",
   "metadata": {},
   "source": [
    "## Load a wikipedia page into a page object"
   ]
  },
  {
   "cell_type": "code",
   "execution_count": 20,
   "id": "67fad8c1-5be0-4611-ab72-ed7538db7582",
   "metadata": {},
   "outputs": [],
   "source": [
    "# create a wikipediaapi object and define the language version\n",
    "wiki = wikipediaapi.Wikipedia(\n",
    "        language='en',\n",
    "        extract_format=wikipediaapi.ExtractFormat.WIKI\n",
    ")"
   ]
  },
  {
   "cell_type": "code",
   "execution_count": 21,
   "id": "d15fe3e3-cf94-4253-862e-e3397bd262b9",
   "metadata": {},
   "outputs": [],
   "source": [
    "page = wiki.page('Aesthetics')"
   ]
  },
  {
   "cell_type": "markdown",
   "id": "54470140-e94e-4939-9b4a-7d13f1a8d72f",
   "metadata": {},
   "source": [
    "We can get a summary of the text with `.summary`."
   ]
  },
  {
   "cell_type": "code",
   "execution_count": 22,
   "id": "12bf282a-0e7f-4229-ac00-abc1434a2759",
   "metadata": {},
   "outputs": [
    {
     "name": "stdout",
     "output_type": "stream",
     "text": [
      "Aesthetics, or esthetics, is a branch of philosophy that deals with the nature of beauty and taste, as well as the philosophy of art (its own area of philosophy that comes out of aesthetics). It examines aesthetic values, often expressed through judgments of taste.Aesthetics covers both natural and artificial sources of experiences and how we form a judgment about those sources. It considers what happens in our minds when we engage with objects or environments such as viewing visual art, listening to music, reading poetry, experiencing a play, watching a fashion show, movie, sports or even exploring various aspects of nature. The philosophy of art specifically studies how artists imagine, create, and perform works of art, as well as how people use, enjoy, and criticize art. Aesthetics considers why people like some works of art and not others, as well as how art can affect moods or even our beliefs. Both aesthetics and the philosophy of art try to find answers for what exactly is art, artwork, or what makes a good art.\n",
      "Scholars in the field have defined aesthetics as \"critical reflection on art, culture and nature\". In modern English, the term \"aesthetic\" can also refer to a set of principles underlying the works of a particular art movement or theory (one speaks, for example, of a Renaissance aesthetic).\n"
     ]
    }
   ],
   "source": [
    "print(page.summary)"
   ]
  },
  {
   "cell_type": "markdown",
   "id": "1d112159-55c3-4b18-85d6-89661e93f162",
   "metadata": {},
   "source": [
    "Or we can get the full text with `.text`."
   ]
  },
  {
   "cell_type": "code",
   "execution_count": 23,
   "id": "c9265d70-b716-44f4-862a-bae05ede3aa4",
   "metadata": {},
   "outputs": [
    {
     "name": "stdout",
     "output_type": "stream",
     "text": [
      "Aesthetics, or esthetics, is a branch of philosophy that deals with the nature of beauty and taste, as well as the philosophy of art (its own area of philosophy that comes out of aesthetics). It examines aesthetic values, often expressed through judgments of taste.Aesthetics covers both natural and artificial sources of experiences and how we form a judgment about those sources. It considers what happens in our minds when we engage with objects or environments such as viewing visual art, listening to music, reading poetry, experiencing a play, watching a fashion show, movie, sports or even exploring various aspects of nature. The philosophy of art specifically studies how artists imagine, create, and perform works of art, as well as how people use, enjoy, and criticize art. Aesthetics considers why people like some works of art and not others, as well as how art can affect moods or even our beliefs. Both aesthetics and the philosophy of art try to find answers for what exactly is art, artwork, or what makes a good art.\n",
      "Scholars in the field have defined aesthetics as \"critical reflection on art, culture and nature\". In modern English, the term \"aesthetic\" can also refer to a set of principles underlying the works of a particular art movement or theory (one speaks, for example, of a Renaissance aesthetic).\n",
      "\n",
      "Etymology\n",
      "The word aesthetic is derived from the Ancient Greek αἰσθητικός (aisthētikós, \"perceptive, sensitive, pertaining to sensory perception\"), which in turn comes from αἰσθάνομαι (aisthánomai, \"I perceive, sense, learn\") and is related to αἴσθησις (aísthēsis, \"perception, sensation\"). Aesthetics in this central sense has been said to start with the series of articles on \"The Pleasures of the Imagination\", which the journalist Joseph Addison wrote in the early issues of the magazine The Spectator in 1712.The term aesthetics was appropriated and coined with new meaning by the German philosopher Alexander Baumgarten in his dissertation Meditationes philosophicae de nonnullis ad poema pertinentibus (English: \"Philosophical considerations of some matters pertaining the poem\") in 1735; Baumgarten chose \"aesthetics\" because he wished to emphasize the experience of art as a means of knowing. Baumgarten's definition of aesthetics in the fragment Aesthetica (1750) is occasionally considered the first definition of modern aesthetics.\n",
      "\n",
      "Aesthetics and the philosophy of art\n",
      "Aesthetics is for the artist as ornithology is for the birds.\n",
      "Some separate aesthetics and the philosophy of art, claiming that the former is the study of beauty and taste while the latter is the study of works of art. But aesthetics typically considers questions of beauty as well as of art. It examines topics such as art works, aesthetic experience, and aesthetic judgments. Some consider aesthetics to be a synonym for the philosophy of art since Hegel, while others insist that there is a significant distinction between these closely related fields. In practice, aesthetic judgement refers to the sensory contemplation or appreciation of an object (not necessarily a work of art), while artistic judgement refers to the recognition, appreciation or criticism of art or an art work.\n",
      "Philosophical aesthetics must not only speak about and judge art and art works but also define art. A common point of disagreement concerns whether art is independent of any moral or political purpose.\n",
      "Aestheticians weigh a culturally contingent conception of art versus one that is purely theoretical. They study the varieties of art in relation to their physical, social, and cultural environments. Aestheticians also use psychology to understand how people see, hear, imagine, think, learn, and act in relation to the materials and problems of art. Aesthetic psychology studies the creative process and the aesthetic experience.\n",
      "\n",
      "Aesthetic judgment, universals and ethics\n",
      "Aesthetic judgment\n",
      "Aesthetics examines affective domain response to an object or phenomenon. Judgments of aesthetic value rely on the ability to discriminate at a sensory level. However, aesthetic judgments usually go beyond sensory discrimination.\n",
      "For David Hume, delicacy of taste is not merely \"the ability to detect all the ingredients in a composition\", but also the sensitivity \"to pains as well as pleasures, which escape the rest of mankind.\" Thus, sensory discrimination is linked to capacity for pleasure.\n",
      "For Immanuel Kant (Critique of Judgment, 1790), \"enjoyment\" is the result when pleasure arises from sensation, but judging something to be \"beautiful\" has a third requirement: sensation must give rise to pleasure by engaging reflective contemplation. Judgments of beauty are sensory, emotional and intellectual all at once. Kant (1790) observed of a man \"If he says that canary wine is agreeable he is quite content if someone else corrects his terms and reminds him to say instead: It is agreeable to me,\" because \"Everyone has his own (sense of) taste\". The case of \"beauty\" is different from mere \"agreeableness\" because, \"If he proclaims something to be beautiful, then he requires the same liking from others; he then judges not just for himself but for everyone, and speaks of beauty as if it were a property of things.\"\n",
      "Viewer interpretations of beauty may on occasion be observed to possess two concepts of value: aesthetics and taste. Aesthetics is the philosophical notion of beauty. Taste is a result of an education process and awareness of elite cultural values learned through exposure to mass culture. Bourdieu examined how the elite in society define the aesthetic values like taste and how varying levels of exposure to these values can result in variations by class, cultural background, and education. According to Kant, beauty is subjective and universal; thus certain things are beautiful to everyone. In the opinion of Władysław Tatarkiewicz, there are six conditions for the presentation of art: beauty, form, representation, reproduction of reality, artistic expression and innovation. However, one may not be able to pin down these qualities in a work of art.The question of whether there are facts about aesthetic judgments belongs to the branch of metaphilosophy known as meta-aesthetics.\n",
      "\n",
      "Factors involved in aesthetic judgment\n",
      "Aesthetic judgement is closely tied to disgust. Responses like disgust show that sensory detection is linked in instinctual ways to facial expressions including physiological responses like the gag reflex. Disgust is triggered largely by dissonance; as Darwin pointed out, seeing a stripe of soup in a man's beard is disgusting even though neither soup nor beards are themselves disgusting. Aesthetic judgments may be linked to emotions or, like emotions, partially embodied in physical reactions. For example, the awe inspired by a sublime landscape might physically manifest with an increased heart-rate or pupil dilation.\n",
      "As seen, emotions are conformed to 'cultural' reactions, therefore aesthetics is always characterized by 'regional responses', as Francis Grose was the first to affirm in his 'Rules for Drawing Caricaturas: With an Essay on Comic Painting' (1788), published in W. Hogarth, The Analysis of Beauty, Bagster, London s.d. (1791? [1753]), pp. 1–24. Francis Grose can therefore be claimed to be the first critical 'aesthetic regionalist' in proclaiming the anti-universality of aesthetics in contrast to the perilous and always resurgent dictatorship of beauty. 'Aesthetic Regionalism' can thus be seen as a political statement and stance which vies against any universal notion of beauty to safeguard the counter-tradition of aesthetics related to what has been considered and dubbed un-beautiful just because one's culture does not contemplate it, e.g. E. Burke's sublime, what is usually defined as 'primitive' art, or un-harmonious, non-cathartic art, camp art, which 'beauty' posits and creates, dichotomously, as its opposite, without even the need of formal statements, but which will be 'perceived' as ugly.Likewise, aesthetic judgments may be culturally conditioned to some extent. Victorians in Britain often saw African sculpture as ugly, but just a few decades later, Edwardian audiences saw the same sculptures as beautiful. Evaluations of beauty may well be linked to desirability, perhaps even to sexual desirability. Thus, judgments of aesthetic value can become linked to judgments of economic, political, or moral value. In a current context, a Lamborghini might be judged to be beautiful partly because it is desirable as a status symbol, or it may be judged to be repulsive partly because it signifies over-consumption and offends political or moral values.The context of its presentation also affects the perception of artwork; artworks presented in a classical museum context are liked more and rated more interesting than when presented in a sterile laboratory context. While specific results depend heavily on the style of the presented artwork, overall, the effect of context proved to be more important for the perception of artwork than the effect of genuineness (whether the artwork was being presented as original or as a facsimile/copy).Aesthetic judgments can often be very fine-grained and internally contradictory. Likewise aesthetic judgments seem often to be at least partly intellectual and interpretative. What a thing means or symbolizes is often what is being judged. Modern aestheticians have asserted that will and desire were almost dormant in aesthetic experience, yet preference and choice have seemed important aesthetics to some 20th-century thinkers. The point is already made by Hume, but see Mary Mothersill, \"Beauty and the Critic's Judgment\", in The Blackwell Guide to Aesthetics, 2004. Thus aesthetic judgments might be seen to be based on the senses, emotions, intellectual opinions, will, desires, culture, preferences, values, subconscious behaviour, conscious decision, training, instinct, sociological institutions, or some complex combination of these, depending on exactly which theory is employed.\n",
      "A third major topic in the study of aesthetic judgments is how they are unified across art forms. For instance, the source of a painting's beauty has a different character to that of beautiful music, suggesting their aesthetics differ in kind. The distinct inability of language to express aesthetic judgment and the role of Social construction further cloud this issue.\n",
      "\n",
      "Aesthetic universals\n",
      "The philosopher Denis Dutton identified six universal signatures in human aesthetics:\n",
      "Expertise or virtuosity. Humans cultivate, recognize, and admire technical artistic skills.\n",
      "Nonutilitarian pleasure. People enjoy art for art's sake, and do not demand that it keep them warm or put food on the table.\n",
      "Style. Artistic objects and performances satisfy rules of composition that place them in a recognizable style.\n",
      "Criticism. People make a point of judging, appreciating, and interpreting works of art.\n",
      "Imitation. With a few important exceptions like abstract painting, works of art simulate experiences of the world.\n",
      "Special focus. Art is set aside from ordinary life and made a dramatic focus of experience.Artists such as Thomas Hirschhorn have indicated that there are too many exceptions to Dutton's categories. For example, Hirschhorn's installations deliberately eschew technical virtuosity. People can appreciate a Renaissance Madonna for aesthetic reasons, but such objects often had (and sometimes still have) specific devotional functions. \"Rules of composition\" that might be read into Duchamp's Fountain or John Cage's 4′33″ do not locate the works in a recognizable style (or certainly not a style recognizable at the time of the works' realization). Moreover, some of Dutton's categories seem too broad: a physicist might entertain hypothetical worlds in his/her imagination in the course of formulating a theory. Another problem is that Dutton's categories seek to universalize traditional European notions of aesthetics and art forgetting that, as André Malraux and others have pointed out, there have been large numbers of cultures in which such ideas (including the idea \"art\" itself) were non-existent.\n",
      "\n",
      "Aesthetic ethics\n",
      "Aesthetic ethics refers to the idea that human conduct and behaviour ought to be governed by that which is beautiful and attractive. John Dewey has pointed out that the unity of aesthetics and ethics is in fact reflected in our understanding of behaviour being \"fair\"—the word having a double meaning of attractive and morally acceptable. More recently, James Page has suggested that aesthetic ethics might be taken to form a philosophical rationale for peace education.\n",
      "\n",
      "Beauty\n",
      "Beauty is one of the main subjects of aesthetics, together with art and taste. Many of its definitions include the idea that an object is beautiful if perceiving it is accompanied by aesthetic pleasure. Among the examples of beautiful objects are landscapes, sunsets, humans and works of art. Beauty is a positive aesthetic value that contrasts with ugliness as its negative counterpart.Different intuitions commonly associated with beauty and its nature are in conflict with each other, which poses certain difficulties for understanding it. On the one hand, beauty is ascribed to things as an objective, public feature. On the other hand, it seems to depend on the subjective, emotional response of the observer. It is said, for example, that \"beauty is in the eye of the beholder\". It may be possible to reconcile these intuitions by affirming that it depends both on the objective features of the beautiful thing and the subjective response of the observer. One way to achieve this is to hold that an object is beautiful if it has the power to bring about certain aesthetic experiences in the perceiving subject. This is often combined with the view that the subject needs to have the ability to correctly perceive and judge beauty, sometimes referred to as \"sense of taste\". Various conceptions of how to define and understand beauty have been suggested. Classical conceptions emphasize the objective side of beauty by defining it in terms of the relation between the beautiful object as a whole and its parts: the parts should stand in the right proportion to each other and thus compose an integrated harmonious whole. Hedonist conceptions, on the other hand, focus more on the subjective side by drawing a necessary connection between pleasure and beauty, e.g. that for an object to be beautiful is for it to cause disinterested pleasure. Other conceptions include defining beautiful objects in terms of their value, of a loving attitude towards them or of their function.\n",
      "\n",
      "New Criticism and \"The Intentional Fallacy\"\n",
      "During the first half of the twentieth century, a significant shift to general aesthetic theory took place which attempted to apply aesthetic theory between various forms of art, including the literary arts and the visual arts, to each other. This resulted in the rise of the New Criticism school and debate concerning the intentional fallacy. At issue was the question of whether the aesthetic intentions of the artist in creating the work of art, whatever its specific form, should be associated with the criticism and evaluation of the final product of the work of art, or, if the work of art should be evaluated on its own merits independent of the intentions of the artist.\n",
      "In 1946, William K. Wimsatt and Monroe Beardsley published a classic and controversial New Critical essay entitled \"The Intentional Fallacy\", in which they argued strongly against the relevance of an author's intention, or \"intended meaning\" in the analysis of a literary work. For Wimsatt and Beardsley, the words on the page were all that mattered; importation of meanings from outside the text was considered irrelevant, and potentially distracting.\n",
      "In another essay, \"The Affective Fallacy,\" which served as a kind of sister essay to \"The Intentional Fallacy\" Wimsatt and Beardsley also discounted the reader's personal/emotional reaction to a literary work as a valid means of analyzing a text. This fallacy would later be repudiated by theorists from the reader-response school of literary theory. One of the leading theorists from this school, Stanley Fish, was himself trained by New Critics. Fish criticizes Wimsatt and Beardsley in his essay \"Literature in the Reader\" (1970).As summarized by Berys Gaut and Livingston in their essay \"The Creation of Art\": \"Structuralist and post-structuralists theorists and critics were sharply critical of many aspects of New Criticism, beginning with the emphasis on aesthetic appreciation and the so-called autonomy of art, but they reiterated the attack on biographical criticisms' assumption that the artist's activities and experience were a privileged critical topic.\" These authors contend that: \"Anti-intentionalists, such as formalists, hold that the intentions involved in the making of art are irrelevant or peripheral to correctly interpreting art. So details of the act of creating a work, though possibly of interest in themselves, have no bearing on the correct interpretation of the work.\"Gaut and Livingston define the intentionalists as distinct from formalists stating that: \"Intentionalists, unlike formalists, hold that reference to intentions is essential in fixing the correct interpretation of works.\" They quote Richard Wollheim as stating that, \"The task of criticism is the reconstruction of the creative process, where the creative process must in turn be thought of as something not stopping short of, but terminating on, the work of art itself.\"\n",
      "\n",
      "Derivative forms of aesthetics\n",
      "A large number of derivative forms of aesthetics have developed as contemporary and transitory forms of inquiry associated with the field of aesthetics which include the post-modern, psychoanalytic, scientific, and mathematical among others.\n",
      "\n",
      "Post-modern aesthetics and psychoanalysis\n",
      "Early-twentieth-century artists, poets and composers challenged existing notions of beauty, broadening the scope of art and aesthetics. In 1941, Eli Siegel, American philosopher and poet, founded Aesthetic Realism, the philosophy that reality itself is aesthetic, and that \"The world, art, and self explain each other: each is the aesthetic oneness of opposites.\"Various attempts have been made to define Post-Modern Aesthetics. The challenge to the assumption that beauty was central to art and aesthetics, thought to be original, is actually continuous with older aesthetic theory; Aristotle was the first in the Western tradition to classify \"beauty\" into types as in his theory of drama, and Kant made a distinction between beauty and the sublime. What was new was a refusal to credit the higher status of certain types, where the taxonomy implied a preference for tragedy and the sublime to comedy and the Rococo.\n",
      "Croce suggested that \"expression\" is central in the way that beauty was once thought to be central. George Dickie suggested that the sociological institutions of the art world were the glue binding art and sensibility into unities. Marshall McLuhan suggested that art always functions as a \"counter-environment\" designed to make visible what is usually invisible about a society. Theodor Adorno felt that aesthetics could not proceed without confronting the role of the culture industry in the commodification of art and aesthetic experience. Hal Foster attempted to portray the reaction against beauty and Modernist art in The Anti-Aesthetic: Essays on Postmodern Culture. Arthur Danto has described this reaction as \"kalliphobia\" (after the Greek word for beauty, κάλλος kallos). André Malraux explains that the notion of beauty was connected to a particular conception of art that arose with the Renaissance and was still dominant in the eighteenth century (but was supplanted later). The discipline of aesthetics, which originated in the eighteenth century, mistook this transient state of affairs for a revelation of the permanent nature of art. Brian Massumi suggests to reconsider beauty following the aesthetical thought in the philosophy of Deleuze and Guattari. Walter Benjamin echoed Malraux in believing aesthetics was a comparatively recent invention, a view proven wrong in the late 1970s, when Abraham Moles and Frieder Nake analyzed links between beauty, information processing, and information theory. Denis Dutton in \"The Art Instinct\" also proposed that an aesthetic sense was a vital evolutionary factor.\n",
      "Jean-François Lyotard re-invokes the Kantian distinction between taste and the sublime. Sublime painting, unlike kitsch realism, \"... will enable us to see only by making it impossible to see; it will please only by causing pain.\"Sigmund Freud inaugurated aesthetical thinking in Psychoanalysis mainly via the \"Uncanny\" as aesthetical affect. Following Freud and Merleau-Ponty, Jacques Lacan theorized aesthetics in terms of sublimation and the Thing.The relation of Marxist aesthetics to post-modern aesthetics is still a contentious area of debate.\n",
      "\n",
      "Aesthetics and science\n",
      "The field of experimental aesthetics was founded by Gustav Theodor Fechner in the 19th century. Experimental aesthetics in these times had been characterized by a subject-based, inductive approach. The analysis of individual experience and behaviour based on experimental methods is a central part of experimental aesthetics. In particular, the perception of works of art, music, or modern items such as websites or other IT products is studied. Experimental aesthetics is strongly oriented towards the natural sciences. Modern approaches mostly come from the fields of cognitive psychology (aesthetic cognitivism) or neuroscience (neuroaesthetics).\n",
      "In the 1970s, Abraham Moles and Frieder Nake were among the first to analyze links between aesthetics, information processing, and information theory.In the 1990s, Jürgen Schmidhuber described an algorithmic theory of beauty which takes the subjectivity of the observer into account and postulates that among several observations classified as comparable by a given subjective observer, the most aesthetically pleasing is the one that is encoded by the shortest description. He uses the differences between these lengths to account for subjective differences between the aesthetic tastes of different observers, as one's ability to efficiently describe an observation is based on their particular mental method of encoding data and the proximity of the observation to the subject's prior knowledge. The theory is inspired by principles of algorithmic information theory, especially minimum description length, which prefers mathematical models that use the least information to describe data. As an example, Schmidhuber notes that mathematicians tend to aesthetically prefer simple proofs with a short description in their formal language. Another concrete example describes an aesthetically pleasing human face whose proportions can be described by very few bits of information, drawing inspiration from less detailed 15th century proportion studies by Leonardo da Vinci and Albrecht Dürer. Schmidhuber's theory explicitly distinguishes between that which is beautiful and that which is interesting, stating that interestingness corresponds to the first derivative of subjectively perceived beauty. He supposes that every observer continually tries to improve the predictability and compressibility of their observations by identifying regularities like repetition, symmetry, and fractal self-similarity. Whenever the observer's learning process (which may be a predictive artificial neural network) leads to improved data compression such that the observation sequence can be described by fewer bits than before, the temporary interestingness of the data corresponds to the number of saved bits. This compression progress is proportional to the observer's internal reward, also called curiosity reward. A reinforcement learning algorithm is used to maximize future expected reward by learning to execute action sequences that cause additional interesting input data with yet unknown but learnable predictability or regularity. The principles can be implemented on artificial agents which then exhibit a form of artificial curiosity.\n",
      "\n",
      "Truth in beauty and mathematics\n",
      "Mathematical considerations, such as symmetry and complexity, are used for analysis in theoretical aesthetics. This is different from the aesthetic considerations of applied aesthetics used in the study of mathematical beauty. Aesthetic considerations such as symmetry and simplicity are used in areas of philosophy, such as ethics and theoretical physics and cosmology to define truth, outside of empirical considerations. Beauty and Truth have been argued to be nearly synonymous, as reflected in the statement \"Beauty is truth, truth beauty\" in the poem \"Ode on a Grecian Urn\" by John Keats, or by the Hindu motto \"Satyam Shivam Sundaram\" (Satya (Truth) is Shiva (God), and Shiva is Sundaram (Beautiful)). The fact that judgments of beauty and judgments of truth both are influenced by processing fluency, which is the ease with which information can be processed, has been presented as an explanation for why beauty is sometimes equated with truth. Recent research found that people use beauty as an indication for truth in mathematical pattern tasks. However, scientists including the mathematician David Orrell and physicist Marcelo Gleiser have argued that the emphasis on aesthetic criteria such as symmetry is equally capable of leading scientists astray.\n",
      "\n",
      "Computational approaches\n",
      "Computational approaches to aesthetics emerged amid efforts to use computer science methods \"to predict, convey, and evoke emotional response to a piece of art. It this field, aesthetics is not considered to be dependent on taste but is a matter of cognition, and, consequently, learning. In 1928, the mathematician George David Birkhoff created an aesthetic measure M = O/C as the ratio of order to complexity.Since about 2005, computer scientists have attempted to develop automated methods to infer aesthetic quality of images. Typically, these approaches follow a machine learning approach, where large numbers of manually rated photographs are used to \"teach\" a computer about what visual properties are of relevance to aesthetic quality. A study by Y. Li and C.J. Hu employed Birkhoff's measurement in their statistical learning approach where order and complexity of an image determined aesthetic value. The image complexity was computed using information theory while the order was determined using fractal compression. There is also the case of the Acquine engine, developed at Penn State University, that rates natural photographs uploaded by users.There have also been relatively successful attempts with regard to chess and music. Computational approaches have also been attempted in film making as demonstrated by a software model developed by Chitra Dorai and a group of researchers at the IBM T.J. Watson Research Center. The tool predicted aesthetics based on the values of narrative elements. A relation between Max Bense's mathematical formulation of aesthetics in terms of \"redundancy\" and \"complexity\" and theories of musical anticipation was offered using the notion of Information Rate.\n",
      "\n",
      "Evolutionary aesthetics\n",
      "Evolutionary aesthetics refers to evolutionary psychology theories in which the basic aesthetic preferences of Homo sapiens are argued to have evolved in order to enhance survival and reproductive success. One example being that humans are argued to find beautiful and prefer landscapes which were good habitats in the ancestral environment. Another example is that body symmetry and proportion are important aspects of physical attractiveness which may be due to this indicating good health during body growth. Evolutionary explanations for aesthetical preferences are important parts of evolutionary musicology, Darwinian literary studies, and the study of the evolution of emotion.\n",
      "\n",
      "Applied aesthetics\n",
      "As well as being applied to art, aesthetics can also be applied to cultural objects, such as crosses or tools. For example, aesthetic coupling between art-objects and medical topics was made by speakers working for the US Information Agency. Art slides were linked to slides of pharmacological data, which improved attention and retention by simultaneous activation of intuitive right brain with rational left. It can also be used in topics as diverse as cartography, mathematics, gastronomy, fashion and website design.\n",
      "\n",
      "Other approaches\n",
      "Guy Sircello has pioneered efforts in analytic philosophy to develop a rigorous theory of aesthetics, focusing on the concepts of beauty, love and sublimity. In contrast to romantic theorists, Sircello argued for the objectivity of beauty and formulated a theory of love on that basis.\n",
      "British philosopher and theorist of conceptual art aesthetics, Peter Osborne, makes the point that \"'post-conceptual art' aesthetic does not concern a particular type of contemporary art so much as the historical-ontological condition for the production of contemporary art in general ...\". Osborne noted that contemporary art is 'post-conceptual' in a public lecture delivered in 2010.\n",
      "Gary Tedman has put forward a theory of a subjectless aesthetics derived from Karl Marx's concept of alienation, and Louis Althusser's antihumanism, using elements of Freud's group psychology, defining a concept of the 'aesthetic level of practice'.Gregory Loewen has suggested that the subject is key in the interaction with the aesthetic object. The work of art serves as a vehicle for the projection of the individual's identity into the world of objects, as well as being the irruptive source of much of what is uncanny in modern life. As well, art is used to memorialize individuated biographies in a manner that allows persons to imagine that they are part of something greater than themselves.\n",
      "\n",
      "Criticism\n",
      "The philosophy of aesthetics as a practice has been criticized by some sociologists and writers of art and society. Raymond Williams, for example, argues that there is no unique and or individual aesthetic object which can be extrapolated from the art world, but rather that there is a continuum of cultural forms and experience of which ordinary speech and experiences may signal as art. By \"art\" we may frame several artistic \"works\" or \"creations\" as so though this reference remains within the institution or special event which creates it and this leaves some works or other possible \"art\" outside of the frame work, or other interpretations such as other phenomenon which may not be considered as \"art\".Pierre Bourdieu disagrees with Kant's idea of the \"aesthetic\". He argues that Kant's \"aesthetic\" merely represents an experience that is the product of an elevated class habitus and scholarly leisure as opposed to other possible and equally valid \"aesthetic\" experiences which lay outside Kant's narrow definition.Timothy Laurie argues that theories of musical aesthetics \"framed entirely in terms of appreciation, contemplation or reflection risk idealizing an implausibly unmotivated listener defined solely through musical objects, rather than seeing them as a person for whom complex intentions and motivations produce variable attractions to cultural objects and practices\".\n",
      "\n",
      "See also\n",
      "Philosophy portal\n",
      "Aesthetics of science\n",
      "Art and Theosophy\n",
      "Art periods\n",
      "History of aesthetics before the 20th century\n",
      "Medieval aesthetics\n",
      "Esthesic and poietic\n",
      "Mise en scène\n",
      "Theological aesthetics\n",
      "Theory of art\n",
      "\n",
      "References\n",
      "Further reading\n",
      "\n",
      "\n",
      "== External links ==\n"
     ]
    }
   ],
   "source": [
    "print(page.text)"
   ]
  }
 ],
 "metadata": {
  "kernelspec": {
   "display_name": "Python 3",
   "language": "python",
   "name": "python3"
  },
  "language_info": {
   "codemirror_mode": {
    "name": "ipython",
    "version": 3
   },
   "file_extension": ".py",
   "mimetype": "text/x-python",
   "name": "python",
   "nbconvert_exporter": "python",
   "pygments_lexer": "ipython3",
   "version": "3.8.8"
  }
 },
 "nbformat": 4,
 "nbformat_minor": 5
}
