{
  {
   "cell_type": "markdown",
   "id": "6f184db8-ed28-4b22-9c15-c15931fb279c",
   "metadata": {},
   "source": [
    "# import & inspect csv Files with `pandas`"
   ]
  },
  {
   "cell_type": "markdown",
   "id": "8e5f9686-898f-46ea-b010-495883171fa7",
   "metadata": {},
   "source": [
    "some pandas examples & HowTos: \n",
    "- https://pandas.pydata.org/docs/getting_started/index.html\n",
    "- https://www.w3schools.com/python/pandas/pandas_csv.asp\n",
    "- https://towardsdatascience.com/a-quick-introduction-to-the-pandas-python-library-f1b678f34673\n",
    "\n"
   ]
  },
  {
   "cell_type": "markdown",
   "id": "447ede39-2c1b-47c4-87ed-30f159ebf05c",
   "metadata": {},
   "source": [
    "---\n",
    "## extracting rows from Trump Tweets Dataset"
   ]
  },
  {
   "cell_type": "code",
   "execution_count": 21,
   "id": "71e0b2e8-157a-48ed-9722-776ba81fc261",
   "metadata": {},
   "outputs": [
    {
     "data": {
      "text/html": [
       "<div>\n",
       "<style scoped>\n",
       "    .dataframe tbody tr th:only-of-type {\n",
       "        vertical-align: middle;\n",
       "    }\n",
       "\n",
       "    .dataframe tbody tr th {\n",
       "        vertical-align: top;\n",
       "    }\n",
       "\n",
       "    .dataframe thead th {\n",
       "        text-align: right;\n",
       "    }\n",
       "</style>\n",
       "<table border=\"1\" class=\"dataframe\">\n",
       "  <thead>\n",
       "    <tr style=\"text-align: right;\">\n",
       "      <th></th>\n",
       "      <th>id</th>\n",
       "      <th>text</th>\n",
       "      <th>isRetweet</th>\n",
       "      <th>isDeleted</th>\n",
       "      <th>device</th>\n",
       "      <th>favorites</th>\n",
       "      <th>retweets</th>\n",
       "      <th>date</th>\n",
       "      <th>isFlagged</th>\n",
       "    </tr>\n",
       "  </thead>\n",
       "  <tbody>\n",
       "    <tr>\n",
       "      <th>0</th>\n",
       "      <td>98454970654916608</td>\n",
       "      <td>Republicans and Democrats have both created ou...</td>\n",
       "      <td>f</td>\n",
       "      <td>f</td>\n",
       "      <td>TweetDeck</td>\n",
       "      <td>49</td>\n",
       "      <td>255</td>\n",
       "      <td>2011-08-02 18:07:48</td>\n",
       "      <td>f</td>\n",
       "    </tr>\n",
       "    <tr>\n",
       "      <th>1</th>\n",
       "      <td>1234653427789070336</td>\n",
       "      <td>I was thrilled to be back in the Great city of...</td>\n",
       "      <td>f</td>\n",
       "      <td>f</td>\n",
       "      <td>Twitter for iPhone</td>\n",
       "      <td>73748</td>\n",
       "      <td>17404</td>\n",
       "      <td>2020-03-03 01:34:50</td>\n",
       "      <td>f</td>\n",
       "    </tr>\n",
       "    <tr>\n",
       "      <th>2</th>\n",
       "      <td>1218010753434820614</td>\n",
       "      <td>RT @CBS_Herridge: READ: Letter to surveillance...</td>\n",
       "      <td>t</td>\n",
       "      <td>f</td>\n",
       "      <td>Twitter for iPhone</td>\n",
       "      <td>0</td>\n",
       "      <td>7396</td>\n",
       "      <td>2020-01-17 03:22:47</td>\n",
       "      <td>f</td>\n",
       "    </tr>\n",
       "    <tr>\n",
       "      <th>3</th>\n",
       "      <td>1304875170860015617</td>\n",
       "      <td>The Unsolicited Mail In Ballot Scam is a major...</td>\n",
       "      <td>f</td>\n",
       "      <td>f</td>\n",
       "      <td>Twitter for iPhone</td>\n",
       "      <td>80527</td>\n",
       "      <td>23502</td>\n",
       "      <td>2020-09-12 20:10:58</td>\n",
       "      <td>f</td>\n",
       "    </tr>\n",
       "    <tr>\n",
       "      <th>4</th>\n",
       "      <td>1218159531554897920</td>\n",
       "      <td>RT @MZHemingway: Very friendly telling of even...</td>\n",
       "      <td>t</td>\n",
       "      <td>f</td>\n",
       "      <td>Twitter for iPhone</td>\n",
       "      <td>0</td>\n",
       "      <td>9081</td>\n",
       "      <td>2020-01-17 13:13:59</td>\n",
       "      <td>f</td>\n",
       "    </tr>\n",
       "  </tbody>\n",
       "</table>\n",
       "</div>"
      ],
      "text/plain": [
       "                    id                                               text  \\\n",
       "0    98454970654916608  Republicans and Democrats have both created ou...   \n",
       "1  1234653427789070336  I was thrilled to be back in the Great city of...   \n",
       "2  1218010753434820614  RT @CBS_Herridge: READ: Letter to surveillance...   \n",
       "3  1304875170860015617  The Unsolicited Mail In Ballot Scam is a major...   \n",
       "4  1218159531554897920  RT @MZHemingway: Very friendly telling of even...   \n",
       "\n",
       "  isRetweet isDeleted              device  favorites  retweets  \\\n",
       "0         f         f           TweetDeck         49       255   \n",
       "1         f         f  Twitter for iPhone      73748     17404   \n",
       "2         t         f  Twitter for iPhone          0      7396   \n",
       "3         f         f  Twitter for iPhone      80527     23502   \n",
       "4         t         f  Twitter for iPhone          0      9081   \n",
       "\n",
       "                  date isFlagged  \n",
       "0  2011-08-02 18:07:48         f  \n",
       "1  2020-03-03 01:34:50         f  \n",
       "2  2020-01-17 03:22:47         f  \n",
       "3  2020-09-12 20:10:58         f  \n",
       "4  2020-01-17 13:13:59         f  "
      ]
     },
     "execution_count": 21,
     "metadata": {},
     "output_type": "execute_result"
    }
   ],
   "source": [
    "import pandas as pd\n",
    "# Read the csv file\n",
    "df = pd.read_csv(\"./data/tweets_01-08-2021.csv\")\n",
    "#print(df.shape)\n",
    "#print(df.columns)\n",
    "#print(df.info())\n",
    "# First 5 rows\n",
    "df.head()"
   ]
  },
  {
   "cell_type": "markdown",
   "id": "16f6701e-0866-4aee-a61d-d44b25fc0371",
   "metadata": {},
   "source": [
    "## extract a specific row"
   ]
  },
  {
   "cell_type": "code",
   "execution_count": 22,
   "id": "6dfd3dd3-b2ca-455f-ac29-55a1fc70b612",
   "metadata": {},
   "outputs": [],
   "source": [
    "tweets=df[\"text\"] "
   ]
  },
  {
   "cell_type": "markdown",
   "id": "b2b742d2-fa6d-4326-9c71-7bd661533350",
   "metadata": {},
   "source": [
    "### print the first 10 lines of that row"
   ]
  },
  {
   "cell_type": "code",
   "execution_count": 23,
   "id": "f1392c7c-8ba2-4863-8194-df100314107f",
   "metadata": {},
   "outputs": [
    {
     "data": {
      "text/plain": [
       "0    Republicans and Democrats have both created ou...\n",
       "1    I was thrilled to be back in the Great city of...\n",
       "2    RT @CBS_Herridge: READ: Letter to surveillance...\n",
       "3    The Unsolicited Mail In Ballot Scam is a major...\n",
       "4    RT @MZHemingway: Very friendly telling of even...\n",
       "5    RT @WhiteHouse: President @realDonaldTrump ann...\n",
       "6    Getting a little exercise this morning! https:...\n",
       "7                              https://t.co/4qwCKQOiOw\n",
       "8                              https://t.co/VlEu8yyovv\n",
       "9                              https://t.co/z5CRqHO8vg\n",
       "Name: text, dtype: object"
      ]
     },
     "execution_count": 23,
     "metadata": {},
     "output_type": "execute_result"
    }
   ],
   "source": [
    "df[\"text\"].head(10)"
   ]
  },
  {
   "cell_type": "markdown",
   "id": "39ec35d0-e887-4d34-bd16-1aad4b87d085",
   "metadata": {},
   "source": [
    "### save it as file"
   ]
  },
  {
   "cell_type": "code",
   "execution_count": 25,
   "id": "7ef9da78-063a-4f2b-bf77-3de4c6b326a3",
   "metadata": {},
   "outputs": [],
   "source": [
    "df[\"text\"].to_csv(r\"./data/trump-tweets-puretxt.txt\", header=None, index=None)"
   ]
  },
  {
   "cell_type": "markdown",
   "id": "cdaabbc4-9ac5-4ce5-bd7c-989c0d08b9e8",
   "metadata": {},
   "source": [
    "### reopen it for finetuning"
   ]
  },
  {
   "cell_type": "code",
   "execution_count": 30,
   "id": "ca272422-3cec-420e-96e1-32073fc6cf3f",
   "metadata": {},
   "outputs": [
    {
     "name": "stdout",
     "output_type": "stream",
     "text": [
      "Republicans and Democrats have both created our economic problems.\n",
      "\"I was thrilled to be back in the Great city of Charlotte, North Carolina with thousands of hardworking American Patriots who love our Country, cherish our values, respect our laws, and always put AMERICA FIRST! Thank you for a wonderful evening!! #KAG2020 https://t.co/dNJZfRsl9y\"\n",
      "RT @CBS_Herridge: READ: Letter to surveillance court obtained by CBS News questions where there will be further disciplinary action and cho…\n",
      "\"The Unsol\n"
     ]
    }
   ],
   "source": [
    "f = open(\"./data/trump-tweets-puretxt.txt\")\n",
    "text = f.read()\n",
    "f.close()\n",
    "print(text[:500])"
   ]
  },
  {
   "cell_type": "markdown",
   "id": "47a2ef38-a3b3-426a-9158-7e413b4ea1d9",
   "metadata": {},
   "source": [
    "---"
   ]
  },
  {
   "cell_type": "markdown",
   "id": "33da00f0-31fb-44e4-9107-45cb617f16e6",
   "metadata": {},
   "source": [
    "## extracting rows + lines from Propaganda Techniques Corpus (PTC)"
   ]
  },
  {
   "cell_type": "markdown",
   "id": "e4b9a66f-c0b8-4316-bbba-29655431954d",
   "metadata": {},
   "source": [
    "### what is The Propaganda Techniques Corpus (PTC)?\n",
    "*\"Propagandistic news articles use specific techniques to convey their message, such as whataboutism, red Herring, and name calling, among many others. The Propaganda Techniques Corpus (PTC) allows to study automatic algorithms to detect them. We provide a permanent leaderboard to allow researchers both to advertise their progress and to be up-to-speed with the state of the art on the tasks offered (see below for a definition).\"* < see: https://propaganda.qcri.org/ptc/"
   ]
  },
  {
   "cell_type": "markdown",
   "id": "0d7e076d-2946-4f46-afdb-cf8eab556ad1",
   "metadata": {},
   "source": [
    "---\n",
    "#### Here you can find som Web Interface Demos: https://www.tanbih.org/prta\n",
    "1. Propaganda technique analysis on a topic: https://www.tanbih.org/propaganda/\n",
    "2. Highlighting of the propaganda techniques in a text: https://www.tanbih.org/propagandasubmit"
   ]
  },
  {
   "cell_type": "markdown",
   "id": "2abf3b27-15c8-432f-bfb6-0be7a65e2e4f",
   "metadata": {},
   "source": [
    "### 1. Inspecting the Corpus\n",
    "...using the pickle file from: https://github.com/marcogdepinto/PropagandaDetection"
   ]
  },
  {
   "cell_type": "code",
   "execution_count": 38,
   "id": "ed121845-5e8a-49b7-ad32-58c824eae80b",
   "metadata": {},
   "outputs": [],
   "source": [
    "import pandas as pd\n",
    "df = pd.read_pickle('./data/train_set_FLC.pkl')"
   ]
  },
  {
   "cell_type": "code",
   "execution_count": 39,
   "id": "020e1dcd-f14f-43f8-9853-3ee756ceaa11",
   "metadata": {},
   "outputs": [
    {
     "data": {
      "text/html": [
       "<div>\n",
       "<style scoped>\n",
       "    .dataframe tbody tr th:only-of-type {\n",
       "        vertical-align: middle;\n",
       "    }\n",
       "\n",
       "    .dataframe tbody tr th {\n",
       "        vertical-align: top;\n",
       "    }\n",
       "\n",
       "    .dataframe thead th {\n",
       "        text-align: right;\n",
       "    }\n",
       "</style>\n",
       "<table border=\"1\" class=\"dataframe\">\n",
       "  <thead>\n",
       "    <tr style=\"text-align: right;\">\n",
       "      <th></th>\n",
       "      <th>article_id</th>\n",
       "      <th>start_index</th>\n",
       "      <th>end_index</th>\n",
       "      <th>full_sentence</th>\n",
       "      <th>target_sentence</th>\n",
       "      <th>technique</th>\n",
       "    </tr>\n",
       "  </thead>\n",
       "  <tbody>\n",
       "    <tr>\n",
       "      <th>0</th>\n",
       "      <td>780619695</td>\n",
       "      <td>1538</td>\n",
       "      <td>1554</td>\n",
       "      <td>Francis and Farrell’s 'Sinod' on the Youth, #S...</td>\n",
       "      <td>Supremacists Who</td>\n",
       "      <td>Repetition</td>\n",
       "    </tr>\n",
       "    <tr>\n",
       "      <th>1</th>\n",
       "      <td>780619695</td>\n",
       "      <td>1728</td>\n",
       "      <td>1744</td>\n",
       "      <td>Francis and Farrell’s 'Sinod' on the Youth, #S...</td>\n",
       "      <td>uke video, within</td>\n",
       "      <td>Repetition</td>\n",
       "    </tr>\n",
       "    <tr>\n",
       "      <th>2</th>\n",
       "      <td>780619695</td>\n",
       "      <td>2018</td>\n",
       "      <td>2034</td>\n",
       "      <td>Francis and Farrell’s 'Sinod' on the Youth, #S...</td>\n",
       "      <td>tion League (ADL)</td>\n",
       "      <td>Repetition</td>\n",
       "    </tr>\n",
       "    <tr>\n",
       "      <th>3</th>\n",
       "      <td>780619695</td>\n",
       "      <td>2245</td>\n",
       "      <td>2261</td>\n",
       "      <td>Francis and Farrell’s 'Sinod' on the Youth, #S...</td>\n",
       "      <td>ideo.\\nDavid Duke’</td>\n",
       "      <td>Repetition</td>\n",
       "    </tr>\n",
       "    <tr>\n",
       "      <th>4</th>\n",
       "      <td>780619695</td>\n",
       "      <td>2838</td>\n",
       "      <td>2854</td>\n",
       "      <td>Francis and Farrell’s 'Sinod' on the Youth, #S...</td>\n",
       "      <td>enemy of the rig</td>\n",
       "      <td>Repetition</td>\n",
       "    </tr>\n",
       "    <tr>\n",
       "      <th>...</th>\n",
       "      <td>...</td>\n",
       "      <td>...</td>\n",
       "      <td>...</td>\n",
       "      <td>...</td>\n",
       "      <td>...</td>\n",
       "      <td>...</td>\n",
       "    </tr>\n",
       "    <tr>\n",
       "      <th>95</th>\n",
       "      <td>759478604</td>\n",
       "      <td>9832</td>\n",
       "      <td>9859</td>\n",
       "      <td>A Sister Speaks: ‘Cor Orans is the Death-Knell...</td>\n",
       "      <td>that a notice about the pen</td>\n",
       "      <td>Loaded_Language</td>\n",
       "    </tr>\n",
       "    <tr>\n",
       "      <th>96</th>\n",
       "      <td>759478604</td>\n",
       "      <td>10856</td>\n",
       "      <td>10866</td>\n",
       "      <td>A Sister Speaks: ‘Cor Orans is the Death-Knell...</td>\n",
       "      <td>n this trag</td>\n",
       "      <td>Loaded_Language</td>\n",
       "    </tr>\n",
       "    <tr>\n",
       "      <th>97</th>\n",
       "      <td>759478604</td>\n",
       "      <td>10752</td>\n",
       "      <td>10759</td>\n",
       "      <td>A Sister Speaks: ‘Cor Orans is the Death-Knell...</td>\n",
       "      <td>Apostol</td>\n",
       "      <td>Loaded_Language</td>\n",
       "    </tr>\n",
       "    <tr>\n",
       "      <th>98</th>\n",
       "      <td>759478604</td>\n",
       "      <td>12559</td>\n",
       "      <td>12579</td>\n",
       "      <td>A Sister Speaks: ‘Cor Orans is the Death-Knell...</td>\n",
       "      <td>to elevate far-Left b</td>\n",
       "      <td>Loaded_Language</td>\n",
       "    </tr>\n",
       "    <tr>\n",
       "      <th>99</th>\n",
       "      <td>759478604</td>\n",
       "      <td>13700</td>\n",
       "      <td>13717</td>\n",
       "      <td>A Sister Speaks: ‘Cor Orans is the Death-Knell...</td>\n",
       "      <td>shops and priests</td>\n",
       "      <td>Loaded_Language</td>\n",
       "    </tr>\n",
       "  </tbody>\n",
       "</table>\n",
       "<p>100 rows × 6 columns</p>\n",
       "</div>"
      ],
      "text/plain": [
       "   article_id  start_index  end_index  \\\n",
       "0   780619695         1538       1554   \n",
       "1   780619695         1728       1744   \n",
       "2   780619695         2018       2034   \n",
       "3   780619695         2245       2261   \n",
       "4   780619695         2838       2854   \n",
       "..        ...          ...        ...   \n",
       "95  759478604         9832       9859   \n",
       "96  759478604        10856      10866   \n",
       "97  759478604        10752      10759   \n",
       "98  759478604        12559      12579   \n",
       "99  759478604        13700      13717   \n",
       "\n",
       "                                        full_sentence  \\\n",
       "0   Francis and Farrell’s 'Sinod' on the Youth, #S...   \n",
       "1   Francis and Farrell’s 'Sinod' on the Youth, #S...   \n",
       "2   Francis and Farrell’s 'Sinod' on the Youth, #S...   \n",
       "3   Francis and Farrell’s 'Sinod' on the Youth, #S...   \n",
       "4   Francis and Farrell’s 'Sinod' on the Youth, #S...   \n",
       "..                                                ...   \n",
       "95  A Sister Speaks: ‘Cor Orans is the Death-Knell...   \n",
       "96  A Sister Speaks: ‘Cor Orans is the Death-Knell...   \n",
       "97  A Sister Speaks: ‘Cor Orans is the Death-Knell...   \n",
       "98  A Sister Speaks: ‘Cor Orans is the Death-Knell...   \n",
       "99  A Sister Speaks: ‘Cor Orans is the Death-Knell...   \n",
       "\n",
       "                 target_sentence        technique  \n",
       "0               Supremacists Who       Repetition  \n",
       "1              uke video, within       Repetition  \n",
       "2              tion League (ADL)       Repetition  \n",
       "3             ideo.\\nDavid Duke’       Repetition  \n",
       "4               enemy of the rig       Repetition  \n",
       "..                           ...              ...  \n",
       "95   that a notice about the pen  Loaded_Language  \n",
       "96                   n this trag  Loaded_Language  \n",
       "97                       Apostol  Loaded_Language  \n",
       "98         to elevate far-Left b  Loaded_Language  \n",
       "99            shops and priests   Loaded_Language  \n",
       "\n",
       "[100 rows x 6 columns]"
      ]
     },
     "execution_count": 39,
     "metadata": {},
     "output_type": "execute_result"
    }
   ],
   "source": [
    "df.head(100)\n",
    "#print(df[450:500])"
   ]
  },
  {
   "cell_type": "markdown",
   "id": "9f371943-6b67-47be-a15c-066341035168",
   "metadata": {},
   "source": [
    "***here you can find the descriptions of the different techniques: https://www.tanbih.org/persuasion-techniques***"
   ]
  },
  {
   "cell_type": "code",
   "execution_count": 40,
   "id": "9317ef7f-3594-48c1-b976-cefad15d2ee8",
   "metadata": {},
   "outputs": [],
   "source": [
    "# Set 'Name' column as index \n",
    "# on a Dataframe\n",
    "##here we set the technique-index first\n",
    "df.set_index(\"technique\", inplace = True)"
   ]
  },
  {
   "cell_type": "code",
   "execution_count": 47,
   "id": "51948163-6f13-4b85-967a-82fbeca62ad5",
   "metadata": {},
   "outputs": [
    {
     "name": "stdout",
     "output_type": "stream",
     "text": [
      "                         article_id  start_index  end_index  \\\n",
      "technique                                                     \n",
      "Loaded_Language           729578579        18932      18958   \n",
      "Loaded_Language           729578579        19546      19578   \n",
      "Loaded_Language           729578579        21375      21389   \n",
      "Loaded_Language           729578579        21538      21553   \n",
      "Name_Calling,Labeling     729578579        21766      21786   \n",
      "Name_Calling,Labeling     729578579        21886      21905   \n",
      "Name_Calling,Labeling     729578579        22024      22037   \n",
      "Loaded_Language           729578579        22774      22811   \n",
      "Appeal_to_fear-prejudice  729578579        23321      23415   \n",
      "Loaded_Language           729578579        23700      23715   \n",
      "\n",
      "                                                              full_sentence  \\\n",
      "technique                                                                     \n",
      "Loaded_Language           SPECIAL REPORT: Papal Cover-up Alleged, Pope A...   \n",
      "Loaded_Language           SPECIAL REPORT: Papal Cover-up Alleged, Pope A...   \n",
      "Loaded_Language           SPECIAL REPORT: Papal Cover-up Alleged, Pope A...   \n",
      "Loaded_Language           SPECIAL REPORT: Papal Cover-up Alleged, Pope A...   \n",
      "Name_Calling,Labeling     SPECIAL REPORT: Papal Cover-up Alleged, Pope A...   \n",
      "Name_Calling,Labeling     SPECIAL REPORT: Papal Cover-up Alleged, Pope A...   \n",
      "Name_Calling,Labeling     SPECIAL REPORT: Papal Cover-up Alleged, Pope A...   \n",
      "Loaded_Language           SPECIAL REPORT: Papal Cover-up Alleged, Pope A...   \n",
      "Appeal_to_fear-prejudice  SPECIAL REPORT: Papal Cover-up Alleged, Pope A...   \n",
      "Loaded_Language           SPECIAL REPORT: Papal Cover-up Alleged, Pope A...   \n",
      "\n",
      "                                                            target_sentence  \n",
      "technique                                                                    \n",
      "Loaded_Language                                 dicinal function, to preven  \n",
      "Loaded_Language                           hom the Church had already taken   \n",
      "Loaded_Language                                             r the inconceiv  \n",
      "Loaded_Language                                             finally I learn  \n",
      "Name_Calling,Labeling                                 ed on Cardinal McCarr  \n",
      "Name_Calling,Labeling                                  minary where he was   \n",
      "Name_Calling,Labeling                                        , with the obl  \n",
      "Loaded_Language                      xuals into positions of responsibility  \n",
      "Appeal_to_fear-prejudice  and he is ready to testify to it— about a stor...  \n",
      "Loaded_Language                                            n for Bishops, C  \n"
     ]
    }
   ],
   "source": [
    "print(df[490:500])"
   ]
  },
  {
   "cell_type": "markdown",
   "id": "dfe186ae-c2b7-4192-baf7-1d274db5a01c",
   "metadata": {},
   "source": [
    "### looking for all rows with loaded language\n",
    "howto see: https://www.geeksforgeeks.org/select-rows-columns-by-name-or-index-in-pandas-dataframe-using-loc-iloc/"
   ]
  },
  {
   "cell_type": "code",
   "execution_count": 62,
   "id": "310ad6ba-968a-46f3-85b9-10f87ec0fa2c",
   "metadata": {},
   "outputs": [],
   "source": [
    "# Using the operator .loc[]\n",
    "# to select single row\n",
    "result_LL = df.loc[\"Loaded_Language\"]\n",
    "  \n",
    "# Show the dataframe\n",
    "result_LL[\"full_sentence\"].head()"
   ]
  },
  {
   "cell_type": "code",
   "execution_count": 64,
   "id": "3f102f2d-094c-41ee-853c-927c10f2ba74",
   "metadata": {},
   "outputs": [],
   "source": [
    "# save it\n",
    "result_LL[\"full_sentence\"].to_csv(r\"./data/loaded-language.txt\", header=None, index=None)"
   ]
  },
  {
   "cell_type": "markdown",
   "id": "8471c800-2bb1-42f7-a500-03bae5fd121d",
   "metadata": {},
   "source": [
    "### looking for all rows with Appeal to Authority"
   ]
  },
  {
   "cell_type": "code",
   "execution_count": 63,
   "id": "5aafb8a0-adc8-46e3-9364-cc650a89c8bf",
   "metadata": {},
   "outputs": [
    {
     "data": {
      "text/plain": [
       "technique\n",
       "Appeal_to_Authority    Hundreds of Priests Accused in Pennsylvania, C...\n",
       "Appeal_to_Authority    I'll Say What Kavanaugh Wouldn't: Christine Fo...\n",
       "Appeal_to_Authority    “It’s gotta be a set-up”: Neighbor of Las Vega...\n",
       "Appeal_to_Authority    Can the Church Defend Herself Against Bergogli...\n",
       "Appeal_to_Authority    Can the Church Defend Herself Against Bergogli...\n",
       "Name: full_sentence, dtype: object"
      ]
     },
     "execution_count": 63,
     "metadata": {},
     "output_type": "execute_result"
    }
   ],
   "source": [
    "\n",
    "# again select single row\n",
    "result_AA = df.loc[\"Appeal_to_Authority\"]\n",
    "  \n",
    "# Show the dataframe\n",
    "result_AA[\"full_sentence\"].head(5)"
   ]
  },
  {
   "cell_type": "code",
   "execution_count": 46,
   "id": "298cf548-47ed-4cee-a155-20fdedeb9e47",
   "metadata": {},
   "outputs": [],
   "source": [
    "# save it\n",
    "result_AA[\"full_sentence\"].to_csv(r\"./data/appeal-auth.txt\", header=None, index=None)"
   ]
  }
 ],
 "metadata": {
  "kernelspec": {
   "display_name": "Python 3",
   "language": "python",
   "name": "python3"
  },
  "language_info": {
   "codemirror_mode": {
    "name": "ipython",
    "version": 3
   },
   "file_extension": ".py",
   "mimetype": "text/x-python",
   "name": "python",
   "nbconvert_exporter": "python",
   "pygments_lexer": "ipython3",
   "version": "3.8.8"
  }
 },
 "nbformat": 4,
 "nbformat_minor": 5
}
