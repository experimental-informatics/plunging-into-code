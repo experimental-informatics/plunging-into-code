{
 "cells": [
  {
   "cell_type": "markdown",
   "metadata": {},
   "source": [
    "# Json\n",
    "\n",
    "JSON is plain text, but has the format of an object. JSON stands for \"JavaScript Object Notation\". It is based on a subset of JavaScript object literals. You can find complete description of JSON structures in http://www.json.org. \n",
    "\n",
    "Json is the most commonly used structure to describe data. Which functions simular to the python data structure `Dictionary`. A value can be a string in double quotes, or a number, true, false, null, an object or an array.\n",
    "\n",
    "The following is its JSON representation:\n",
    "```\n",
    "json = '{\"name\": \"Justin\", \"age\": 35, \"childs\": [{\"name\": \"hamimi\", \"age\": 3}]}';\n",
    "```\n",
    "\n",
    "Format the above for readability:\n",
    "```\n",
    "{\n",
    "    \"name\":\"Justin\",\n",
    "    \"age\":35,\n",
    "    \"childs\":[\n",
    "        {\n",
    "            \"name\":\"hamimi\",\n",
    "            \"age\":3\n",
    "        }\n",
    "    ]\n",
    "}\n",
    "```"
   ]
  },
  {
   "cell_type": "markdown",
   "metadata": {},
   "source": [
    "Below is the value and object comparison:\n",
    "\n",
    "<table><thead><tr><th>JSON OBJECT</th><th>PYTHON OBJECT</th></tr></thead><tbody><tr><td>object</td><td>dict</td></tr><tr><td>array</td><td>list</td></tr><tr><td>string</td><td>str</td></tr><tr><td>null</td><td>None</td></tr><tr><td>number (int)</td><td>int</td></tr><tr><td>number (real)</td><td>float</td></tr><tr><td>true</td><td>True</td></tr><tr><td>false</td><td>False</td></tr></tbody></table>"
   ]
  },
  {
   "cell_type": "code",
   "execution_count": 11,
   "metadata": {},
   "outputs": [
    {
     "name": "stdout",
     "output_type": "stream",
     "text": [
      "{'name': 'Shyam', 'email': 'shyamjaiswal@gmail.com'}\n",
      "{'name': 'Bob', 'email': 'bob32@gmail.com'}\n",
      "{'name': 'Jai', 'email': 'jai87@gmail.com'}\n"
     ]
    }
   ],
   "source": [
    "# Reading Json with python library json\n",
    "\n",
    "import json\n",
    "  \n",
    "# JSON file\n",
    "f = open ('data/mail.json', \"r\")\n",
    "  \n",
    "# Reading from file into dictionary\n",
    "data = json.loads(f.read())\n",
    "  \n",
    "# Iterating through the json\n",
    "# list\n",
    "for i in data['employees']:\n",
    "    print(i)\n",
    "# Closing file\n",
    "f.close()"
   ]
  },
  {
   "cell_type": "code",
   "execution_count": 12,
   "metadata": {},
   "outputs": [
    {
     "name": "stdout",
     "output_type": "stream",
     "text": [
      "                                              employees\n",
      "0  {'name': 'Shyam', 'email': 'shyamjaiswal@gmail.com'}\n",
      "1           {'name': 'Bob', 'email': 'bob32@gmail.com'}\n",
      "2           {'name': 'Jai', 'email': 'jai87@gmail.com'}\n"
     ]
    }
   ],
   "source": [
    "# Reading Json with python library pandas\n",
    "\n",
    "import pandas as pd\n",
    "\n",
    "df = pd.read_json('data/mail.json')\n",
    "\n",
    "print(df.to_string()) "
   ]
  },
  {
   "cell_type": "code",
   "execution_count": null,
   "metadata": {},
   "outputs": [],
   "source": []
  }
 ],
 "metadata": {
  "kernelspec": {
   "display_name": "Python 3",
   "language": "python",
   "name": "python3"
  },
  "language_info": {
   "codemirror_mode": {
    "name": "ipython",
    "version": 3
   },
   "file_extension": ".py",
   "mimetype": "text/x-python",
   "name": "python",
   "nbconvert_exporter": "python",
   "pygments_lexer": "ipython3",
   "version": "3.8.3"
  }
 },
 "nbformat": 4,
 "nbformat_minor": 4
}
